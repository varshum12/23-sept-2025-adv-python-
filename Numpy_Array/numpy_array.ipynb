{
 "cells": [
  {
   "attachments": {
    "image.png": {
     "image/png": "[encoded data removed]"
    }
   },
   "cell_type": "markdown",
   "id": "bb3d511f",
   "metadata": {},
   "source": [
    "![image.png](attachment:image.png)"
   ]
  },
  {
   "cell_type": "code",
   "execution_count": 1,
   "id": "98af336b",
   "metadata": {},
   "outputs": [],
   "source": [
    "import  numpy as  np"
   ]
  },
  {
   "cell_type": "code",
   "execution_count": 35,
   "id": "286c733b",
   "metadata": {},
   "outputs": [],
   "source": [
    "l =   [10.0  , 20  ,30  ,40 ,50]\n",
    "ar1  =  np.array(l )"
   ]
  },
  {
   "cell_type": "code",
   "execution_count": null,
   "id": "963ef753",
   "metadata": {},
   "outputs": [],
   "source": [
    "###  basic  attributes  on  array\n",
    "size \n",
    "shape \n",
    "ndim"
   ]
  },
  {
   "cell_type": "code",
   "execution_count": 3,
   "id": "75c21b83",
   "metadata": {},
   "outputs": [
    {
     "data": {
      "text/plain": [
       "numpy.ndarray"
      ]
     },
     "execution_count": 3,
     "metadata": {},
     "output_type": "execute_result"
    }
   ],
   "source": [
    "type(ar1)"
   ]
  },
  {
   "cell_type": "code",
   "execution_count": 4,
   "id": "62cc7f08",
   "metadata": {},
   "outputs": [
    {
     "data": {
      "text/plain": [
       "(5,)"
      ]
     },
     "execution_count": 4,
     "metadata": {},
     "output_type": "execute_result"
    }
   ],
   "source": [
    "ar1.shape"
   ]
  },
  {
   "cell_type": "code",
   "execution_count": 5,
   "id": "b230d802",
   "metadata": {},
   "outputs": [
    {
     "data": {
      "text/plain": [
       "5"
      ]
     },
     "execution_count": 5,
     "metadata": {},
     "output_type": "execute_result"
    }
   ],
   "source": [
    "ar1.size"
   ]
  },
  {
   "cell_type": "code",
   "execution_count": 6,
   "id": "ae6177f0",
   "metadata": {},
   "outputs": [
    {
     "data": {
      "text/plain": [
       "1"
      ]
     },
     "execution_count": 6,
     "metadata": {},
     "output_type": "execute_result"
    }
   ],
   "source": [
    "ar1.ndim"
   ]
  },
  {
   "cell_type": "code",
   "execution_count": 9,
   "id": "ec5003ff",
   "metadata": {},
   "outputs": [
    {
     "data": {
      "text/plain": [
       "list"
      ]
     },
     "execution_count": 9,
     "metadata": {},
     "output_type": "execute_result"
    }
   ],
   "source": [
    "type(l)"
   ]
  },
  {
   "cell_type": "code",
   "execution_count": 13,
   "id": "dee96975",
   "metadata": {},
   "outputs": [
    {
     "data": {
      "text/plain": [
       "dtype('float64')"
      ]
     },
     "execution_count": 13,
     "metadata": {},
     "output_type": "execute_result"
    }
   ],
   "source": [
    "ar1.dtype  #  array  contain homogenous data  only"
   ]
  },
  {
   "cell_type": "code",
   "execution_count": 36,
   "id": "9c5d1061",
   "metadata": {},
   "outputs": [
    {
     "data": {
      "text/plain": [
       "array([10., 20., 30., 40., 50.])"
      ]
     },
     "execution_count": 36,
     "metadata": {},
     "output_type": "execute_result"
    }
   ],
   "source": [
    "ar1"
   ]
  },
  {
   "cell_type": "code",
   "execution_count": 39,
   "id": "cf939222",
   "metadata": {},
   "outputs": [
    {
     "name": "stdout",
     "output_type": "stream",
     "text": [
      "50.0\n",
      "30.0\n"
     ]
    }
   ],
   "source": [
    "ar1[0]\n",
    "print(ar1[-1])\n",
    "print(ar1[-3])"
   ]
  },
  {
   "cell_type": "code",
   "execution_count": 40,
   "id": "683ecf77",
   "metadata": {},
   "outputs": [
    {
     "data": {
      "text/plain": [
       "array([10., 20., 30.])"
      ]
     },
     "execution_count": 40,
     "metadata": {},
     "output_type": "execute_result"
    }
   ],
   "source": [
    "ar1[0:3]"
   ]
  },
  {
   "cell_type": "code",
   "execution_count": 41,
   "id": "b66e1644",
   "metadata": {},
   "outputs": [
    {
     "data": {
      "text/plain": [
       "array([], dtype=float64)"
      ]
     },
     "execution_count": 41,
     "metadata": {},
     "output_type": "execute_result"
    }
   ],
   "source": [
    "ar1[-1:-3]"
   ]
  },
  {
   "cell_type": "code",
   "execution_count": 42,
   "id": "bcc946bd",
   "metadata": {},
   "outputs": [
    {
     "data": {
      "text/plain": [
       "array([10., 20., 30., 40., 50.])"
      ]
     },
     "execution_count": 42,
     "metadata": {},
     "output_type": "execute_result"
    }
   ],
   "source": [
    "ar1"
   ]
  },
  {
   "cell_type": "code",
   "execution_count": 43,
   "id": "f9aaf642",
   "metadata": {},
   "outputs": [
    {
     "data": {
      "text/plain": [
       "array([50., 30., 10.])"
      ]
     },
     "execution_count": 43,
     "metadata": {},
     "output_type": "execute_result"
    }
   ],
   "source": [
    "ar1[::-2]"
   ]
  },
  {
   "cell_type": "code",
   "execution_count": 44,
   "id": "6b10dcca",
   "metadata": {},
   "outputs": [],
   "source": [
    "#  create  2  array\n",
    "l1  =  [[11  ,12 ,  13] ,  [14 ,15,16]]\n",
    "ar2  =  np.array(l1)"
   ]
  },
  {
   "cell_type": "code",
   "execution_count": 19,
   "id": "13f1e189",
   "metadata": {},
   "outputs": [
    {
     "data": {
      "text/plain": [
       "array([[11, 12, 13],\n",
       "       [14, 15, 16]])"
      ]
     },
     "execution_count": 19,
     "metadata": {},
     "output_type": "execute_result"
    }
   ],
   "source": [
    "ar2"
   ]
  },
  {
   "cell_type": "code",
   "execution_count": 16,
   "id": "22934a13",
   "metadata": {},
   "outputs": [
    {
     "data": {
      "text/plain": [
       "(2, 3)"
      ]
     },
     "execution_count": 16,
     "metadata": {},
     "output_type": "execute_result"
    }
   ],
   "source": [
    "ar2.shape"
   ]
  },
  {
   "cell_type": "code",
   "execution_count": 20,
   "id": "685409b9",
   "metadata": {},
   "outputs": [
    {
     "data": {
      "text/plain": [
       "6"
      ]
     },
     "execution_count": 20,
     "metadata": {},
     "output_type": "execute_result"
    }
   ],
   "source": [
    "ar2.size"
   ]
  },
  {
   "cell_type": "code",
   "execution_count": 21,
   "id": "487f4fff",
   "metadata": {},
   "outputs": [
    {
     "data": {
      "text/plain": [
       "dtype('int64')"
      ]
     },
     "execution_count": 21,
     "metadata": {},
     "output_type": "execute_result"
    }
   ],
   "source": [
    "ar2.dtype"
   ]
  },
  {
   "cell_type": "code",
   "execution_count": 45,
   "id": "c13e7d0c",
   "metadata": {},
   "outputs": [
    {
     "data": {
      "text/plain": [
       "array([[11, 12, 13],\n",
       "       [14, 15, 16]])"
      ]
     },
     "execution_count": 45,
     "metadata": {},
     "output_type": "execute_result"
    }
   ],
   "source": [
    "ar2"
   ]
  },
  {
   "cell_type": "code",
   "execution_count": 46,
   "id": "7b504350",
   "metadata": {},
   "outputs": [
    {
     "data": {
      "text/plain": [
       "array([11, 12, 13])"
      ]
     },
     "execution_count": 46,
     "metadata": {},
     "output_type": "execute_result"
    }
   ],
   "source": [
    "ar2[0]"
   ]
  },
  {
   "cell_type": "code",
   "execution_count": 47,
   "id": "d50e0a2e",
   "metadata": {},
   "outputs": [
    {
     "data": {
      "text/plain": [
       "array([14, 15, 16])"
      ]
     },
     "execution_count": 47,
     "metadata": {},
     "output_type": "execute_result"
    }
   ],
   "source": [
    "ar2[1]"
   ]
  },
  {
   "cell_type": "code",
   "execution_count": 48,
   "id": "fa1a82de",
   "metadata": {},
   "outputs": [
    {
     "data": {
      "text/plain": [
       "np.int64(11)"
      ]
     },
     "execution_count": 48,
     "metadata": {},
     "output_type": "execute_result"
    }
   ],
   "source": [
    "ar2[0 ,0]"
   ]
  },
  {
   "cell_type": "code",
   "execution_count": 53,
   "id": "cfb3a526",
   "metadata": {},
   "outputs": [
    {
     "data": {
      "text/plain": [
       "array([11, 14])"
      ]
     },
     "execution_count": 53,
     "metadata": {},
     "output_type": "execute_result"
    }
   ],
   "source": [
    "ar2[:, 0]"
   ]
  },
  {
   "cell_type": "code",
   "execution_count": 54,
   "id": "82ca465f",
   "metadata": {},
   "outputs": [],
   "source": [
    "#  3d array\n",
    "l3  =  [[[10 , 12 ,13] ,  [10  , 14 ,15] ,  [10 ,16  , 17]]]\n",
    "ar3  =  np.array(l3)"
   ]
  },
  {
   "cell_type": "code",
   "execution_count": 55,
   "id": "1f339e4e",
   "metadata": {},
   "outputs": [
    {
     "data": {
      "text/plain": [
       "array([[[10, 12, 13],\n",
       "        [10, 14, 15],\n",
       "        [10, 16, 17]]])"
      ]
     },
     "execution_count": 55,
     "metadata": {},
     "output_type": "execute_result"
    }
   ],
   "source": [
    "ar3"
   ]
  },
  {
   "cell_type": "code",
   "execution_count": 56,
   "id": "8731dbcd",
   "metadata": {},
   "outputs": [
    {
     "data": {
      "text/plain": [
       "(1, 3, 3)"
      ]
     },
     "execution_count": 56,
     "metadata": {},
     "output_type": "execute_result"
    }
   ],
   "source": [
    "ar3.shape"
   ]
  },
  {
   "cell_type": "code",
   "execution_count": 25,
   "id": "37497ee2",
   "metadata": {},
   "outputs": [
    {
     "data": {
      "text/plain": [
       "6"
      ]
     },
     "execution_count": 25,
     "metadata": {},
     "output_type": "execute_result"
    }
   ],
   "source": [
    "ar3.size"
   ]
  },
  {
   "cell_type": "code",
   "execution_count": 58,
   "id": "0e858d4c",
   "metadata": {},
   "outputs": [
    {
     "data": {
      "text/plain": [
       "np.int64(10)"
      ]
     },
     "execution_count": 58,
     "metadata": {},
     "output_type": "execute_result"
    }
   ],
   "source": [
    "ar3[0 , 0,0]"
   ]
  },
  {
   "cell_type": "code",
   "execution_count": 59,
   "id": "35d3d33e",
   "metadata": {},
   "outputs": [
    {
     "data": {
      "text/plain": [
       "array([10])"
      ]
     },
     "execution_count": 59,
     "metadata": {},
     "output_type": "execute_result"
    }
   ],
   "source": [
    "ar3[:, 0  ,0]"
   ]
  },
  {
   "cell_type": "code",
   "execution_count": 60,
   "id": "752b43c0",
   "metadata": {},
   "outputs": [],
   "source": [
    "l3  =  [[10 , 12 ,13] ,  [10  , 14 ,15] ,  [10 ,16  , 17]]\n",
    "ar3  =  np.array(l3)"
   ]
  },
  {
   "cell_type": "code",
   "execution_count": 61,
   "id": "6746213c",
   "metadata": {},
   "outputs": [
    {
     "data": {
      "text/plain": [
       "array([[10, 12, 13],\n",
       "       [10, 14, 15],\n",
       "       [10, 16, 17]])"
      ]
     },
     "execution_count": 61,
     "metadata": {},
     "output_type": "execute_result"
    }
   ],
   "source": [
    "ar3"
   ]
  },
  {
   "cell_type": "code",
   "execution_count": 62,
   "id": "43982d79",
   "metadata": {},
   "outputs": [
    {
     "data": {
      "text/plain": [
       "(3, 3)"
      ]
     },
     "execution_count": 62,
     "metadata": {},
     "output_type": "execute_result"
    }
   ],
   "source": [
    "ar3.shape"
   ]
  },
  {
   "cell_type": "code",
   "execution_count": 63,
   "id": "edab03be",
   "metadata": {},
   "outputs": [],
   "source": [
    "#  create 3d array  with  shape  2 ,2,2\n",
    "l4 =  [[[1 ,2] ,  [3 ,4]] ,  [[5 ,6] ,  [7 ,8]]]\n",
    "ar4  =  np.array(l4)"
   ]
  },
  {
   "cell_type": "code",
   "execution_count": 64,
   "id": "933dd0e1",
   "metadata": {},
   "outputs": [
    {
     "data": {
      "text/plain": [
       "(2, 2, 2)"
      ]
     },
     "execution_count": 64,
     "metadata": {},
     "output_type": "execute_result"
    }
   ],
   "source": [
    "ar4.shape"
   ]
  },
  {
   "cell_type": "code",
   "execution_count": 65,
   "id": "b390c7bd",
   "metadata": {},
   "outputs": [
    {
     "data": {
      "text/plain": [
       "array([[[1, 2],\n",
       "        [3, 4]],\n",
       "\n",
       "       [[5, 6],\n",
       "        [7, 8]]])"
      ]
     },
     "execution_count": 65,
     "metadata": {},
     "output_type": "execute_result"
    }
   ],
   "source": [
    "ar4"
   ]
  },
  {
   "cell_type": "code",
   "execution_count": 67,
   "id": "b743eb67",
   "metadata": {},
   "outputs": [
    {
     "data": {
      "text/plain": [
       "array([[[1, 2],\n",
       "        [3, 4]],\n",
       "\n",
       "       [[5, 6],\n",
       "        [7, 8]]])"
      ]
     },
     "execution_count": 67,
     "metadata": {},
     "output_type": "execute_result"
    }
   ],
   "source": [
    "ar4[:]"
   ]
  },
  {
   "cell_type": "code",
   "execution_count": 75,
   "id": "dccfe192",
   "metadata": {},
   "outputs": [
    {
     "data": {
      "text/plain": [
       "array([7, 8])"
      ]
     },
     "execution_count": 75,
     "metadata": {},
     "output_type": "execute_result"
    }
   ],
   "source": [
    "ar4[ 1 , 1   ]"
   ]
  },
  {
   "cell_type": "code",
   "execution_count": 76,
   "id": "625275b2",
   "metadata": {},
   "outputs": [
    {
     "data": {
      "text/plain": [
       "np.int64(8)"
      ]
     },
     "execution_count": 76,
     "metadata": {},
     "output_type": "execute_result"
    }
   ],
   "source": [
    "ar4[1 ,1,1]"
   ]
  },
  {
   "cell_type": "code",
   "execution_count": 77,
   "id": "dd14b773",
   "metadata": {},
   "outputs": [
    {
     "data": {
      "text/plain": [
       "array([3, 4])"
      ]
     },
     "execution_count": 77,
     "metadata": {},
     "output_type": "execute_result"
    }
   ],
   "source": [
    "ar4[0 ,  1]"
   ]
  },
  {
   "cell_type": "markdown",
   "id": "16f7badb",
   "metadata": {},
   "source": [
    "####  difference  in 1d array  and list"
   ]
  },
  {
   "cell_type": "code",
   "execution_count": 78,
   "id": "7df9144d",
   "metadata": {},
   "outputs": [],
   "source": [
    "l1  =  [1 ,2,3]\n",
    "l2  =  [4 ,5,6]\n",
    "\n"
   ]
  },
  {
   "cell_type": "code",
   "execution_count": 79,
   "id": "9d38bf46",
   "metadata": {},
   "outputs": [
    {
     "data": {
      "text/plain": [
       "[1, 2, 3, 4, 5, 6]"
      ]
     },
     "execution_count": 79,
     "metadata": {},
     "output_type": "execute_result"
    }
   ],
   "source": [
    "l1+l2"
   ]
  },
  {
   "cell_type": "code",
   "execution_count": 80,
   "id": "518d6361",
   "metadata": {},
   "outputs": [
    {
     "ename": "TypeError",
     "evalue": "can only concatenate list (not \"int\") to list",
     "output_type": "error",
     "traceback": [
      "\u001b[31m---------------------------------------------------------------------------\u001b[39m",
      "\u001b[31mTypeError\u001b[39m                                 Traceback (most recent call last)",
      "\u001b[36mCell\u001b[39m\u001b[36m \u001b[39m\u001b[32mIn[80]\u001b[39m\u001b[32m, line 1\u001b[39m\n\u001b[32m----> \u001b[39m\u001b[32m1\u001b[39m \u001b[43ml1\u001b[49m\u001b[43m+\u001b[49m\u001b[32;43m2\u001b[39;49m\n",
      "\u001b[31mTypeError\u001b[39m: can only concatenate list (not \"int\") to list"
     ]
    }
   ],
   "source": [
    "l1+2"
   ]
  },
  {
   "cell_type": "code",
   "execution_count": 81,
   "id": "647507b5",
   "metadata": {},
   "outputs": [
    {
     "data": {
      "text/plain": [
       "[1, 2, 3, 1, 2, 3]"
      ]
     },
     "execution_count": 81,
     "metadata": {},
     "output_type": "execute_result"
    }
   ],
   "source": [
    "l1*2"
   ]
  },
  {
   "cell_type": "code",
   "execution_count": 82,
   "id": "0aa9e3fa",
   "metadata": {},
   "outputs": [
    {
     "ename": "TypeError",
     "evalue": "unsupported operand type(s) for /: 'list' and 'int'",
     "output_type": "error",
     "traceback": [
      "\u001b[31m---------------------------------------------------------------------------\u001b[39m",
      "\u001b[31mTypeError\u001b[39m                                 Traceback (most recent call last)",
      "\u001b[36mCell\u001b[39m\u001b[36m \u001b[39m\u001b[32mIn[82]\u001b[39m\u001b[32m, line 1\u001b[39m\n\u001b[32m----> \u001b[39m\u001b[32m1\u001b[39m \u001b[43ml1\u001b[49m\u001b[43m/\u001b[49m\u001b[32;43m2\u001b[39;49m\n",
      "\u001b[31mTypeError\u001b[39m: unsupported operand type(s) for /: 'list' and 'int'"
     ]
    }
   ],
   "source": [
    "l1/2"
   ]
  },
  {
   "cell_type": "code",
   "execution_count": 85,
   "id": "607aa7f4",
   "metadata": {},
   "outputs": [],
   "source": [
    "ar5  =  np.array(l1)\n",
    "ar6  =  np.array(l2)"
   ]
  },
  {
   "cell_type": "code",
   "execution_count": 88,
   "id": "c314d141",
   "metadata": {},
   "outputs": [
    {
     "name": "stdout",
     "output_type": "stream",
     "text": [
      "[1 2 3]\n"
     ]
    },
    {
     "data": {
      "text/plain": [
       "array([4, 5, 6])"
      ]
     },
     "execution_count": 88,
     "metadata": {},
     "output_type": "execute_result"
    }
   ],
   "source": [
    "print(ar5)\n",
    "ar6"
   ]
  },
  {
   "cell_type": "code",
   "execution_count": 87,
   "id": "5f286da0",
   "metadata": {},
   "outputs": [
    {
     "data": {
      "text/plain": [
       "array([5, 7, 9])"
      ]
     },
     "execution_count": 87,
     "metadata": {},
     "output_type": "execute_result"
    }
   ],
   "source": [
    "ar5+ar6"
   ]
  },
  {
   "cell_type": "code",
   "execution_count": 89,
   "id": "067a390a",
   "metadata": {},
   "outputs": [
    {
     "data": {
      "text/plain": [
       "array([3, 4, 5])"
      ]
     },
     "execution_count": 89,
     "metadata": {},
     "output_type": "execute_result"
    }
   ],
   "source": [
    "ar5 +  2"
   ]
  },
  {
   "cell_type": "code",
   "execution_count": 90,
   "id": "ca9cf326",
   "metadata": {},
   "outputs": [
    {
     "data": {
      "text/plain": [
       "array([2, 4, 6])"
      ]
     },
     "execution_count": 90,
     "metadata": {},
     "output_type": "execute_result"
    }
   ],
   "source": [
    "ar5*2"
   ]
  },
  {
   "cell_type": "code",
   "execution_count": 91,
   "id": "4519d76d",
   "metadata": {},
   "outputs": [
    {
     "data": {
      "text/plain": [
       "array([0.5, 1. , 1.5])"
      ]
     },
     "execution_count": 91,
     "metadata": {},
     "output_type": "execute_result"
    }
   ],
   "source": [
    "ar5/2"
   ]
  },
  {
   "cell_type": "code",
   "execution_count": 92,
   "id": "9208cb45",
   "metadata": {},
   "outputs": [
    {
     "data": {
      "text/plain": [
       "array([0, 1, 1])"
      ]
     },
     "execution_count": 92,
     "metadata": {},
     "output_type": "execute_result"
    }
   ],
   "source": [
    "ar5//2"
   ]
  },
  {
   "cell_type": "code",
   "execution_count": 93,
   "id": "43e906ec",
   "metadata": {},
   "outputs": [
    {
     "data": {
      "text/plain": [
       "array([1, 4, 9])"
      ]
     },
     "execution_count": 93,
     "metadata": {},
     "output_type": "execute_result"
    }
   ],
   "source": [
    "ar5**2"
   ]
  },
  {
   "cell_type": "code",
   "execution_count": 94,
   "id": "d97cc583",
   "metadata": {},
   "outputs": [
    {
     "data": {
      "text/plain": [
       "array([1, 0, 1])"
      ]
     },
     "execution_count": 94,
     "metadata": {},
     "output_type": "execute_result"
    }
   ],
   "source": [
    "ar5%2"
   ]
  },
  {
   "cell_type": "code",
   "execution_count": 95,
   "id": "9fc8e990",
   "metadata": {},
   "outputs": [
    {
     "data": {
      "text/plain": [
       "array([ 4, 10, 18])"
      ]
     },
     "execution_count": 95,
     "metadata": {},
     "output_type": "execute_result"
    }
   ],
   "source": [
    "ar5*ar6"
   ]
  },
  {
   "cell_type": "code",
   "execution_count": 96,
   "id": "96ac5126",
   "metadata": {},
   "outputs": [
    {
     "data": {
      "text/plain": [
       "array([0.25, 0.4 , 0.5 ])"
      ]
     },
     "execution_count": 96,
     "metadata": {},
     "output_type": "execute_result"
    }
   ],
   "source": [
    "ar5/ar6"
   ]
  },
  {
   "cell_type": "code",
   "execution_count": 97,
   "id": "a72cede5",
   "metadata": {},
   "outputs": [
    {
     "data": {
      "text/plain": [
       "array([0, 0, 0])"
      ]
     },
     "execution_count": 97,
     "metadata": {},
     "output_type": "execute_result"
    }
   ],
   "source": [
    "ar5//ar6"
   ]
  },
  {
   "cell_type": "markdown",
   "id": "0f8c387a",
   "metadata": {},
   "source": [
    "#### some  functions by  numpy / array\n",
    "- sum\n",
    "- max\n",
    "- min\n",
    "- mean\n",
    "- square\n",
    "- sqrt\n",
    "- cbrt\n",
    "-  std  \n",
    "-  log\n",
    "-  exp \n",
    "- argmax\n",
    "- argmin\n"
   ]
  },
  {
   "cell_type": "code",
   "execution_count": 98,
   "id": "415efacf",
   "metadata": {},
   "outputs": [
    {
     "data": {
      "text/plain": [
       "array([1, 2, 3])"
      ]
     },
     "execution_count": 98,
     "metadata": {},
     "output_type": "execute_result"
    }
   ],
   "source": [
    "ar5"
   ]
  },
  {
   "cell_type": "code",
   "execution_count": 101,
   "id": "903604e5",
   "metadata": {},
   "outputs": [
    {
     "name": "stdout",
     "output_type": "stream",
     "text": [
      "6\n",
      "3\n",
      "1\n"
     ]
    }
   ],
   "source": [
    "print(np.sum(ar5))\n",
    "print(np.max(ar5))\n",
    "print(np.min(ar5))\n"
   ]
  },
  {
   "cell_type": "code",
   "execution_count": null,
   "id": "4fed8ec7",
   "metadata": {},
   "outputs": [
    {
     "name": "stdout",
     "output_type": "stream",
     "text": [
      "6\n",
      "3\n",
      "1\n"
     ]
    }
   ],
   "source": [
    "print(np.sum(l1))\n",
    "print(np.max(l1))\n",
    "print(np.min(l1))\n"
   ]
  },
  {
   "cell_type": "code",
   "execution_count": 103,
   "id": "55b6af25",
   "metadata": {},
   "outputs": [
    {
     "name": "stdout",
     "output_type": "stream",
     "text": [
      "2.0\n",
      "2.0\n"
     ]
    }
   ],
   "source": [
    "print(np.mean(l1))\n",
    "print(np.mean(ar5))"
   ]
  },
  {
   "cell_type": "code",
   "execution_count": 104,
   "id": "533c5d8e",
   "metadata": {},
   "outputs": [
    {
     "name": "stdout",
     "output_type": "stream",
     "text": [
      "0.816496580927726\n",
      "0.816496580927726\n"
     ]
    }
   ],
   "source": [
    "print(np.std(l1))\n",
    "print(np.std(ar5))"
   ]
  },
  {
   "cell_type": "code",
   "execution_count": 105,
   "id": "c985d55a",
   "metadata": {},
   "outputs": [
    {
     "name": "stdout",
     "output_type": "stream",
     "text": [
      "0.6666666666666666\n",
      "0.6666666666666666\n"
     ]
    }
   ],
   "source": [
    "print(np.var(l1))\n",
    "print(np.var(ar5))"
   ]
  },
  {
   "cell_type": "code",
   "execution_count": 120,
   "id": "ef661ba9",
   "metadata": {},
   "outputs": [],
   "source": [
    "l2 = [6, 4, 6]\n"
   ]
  },
  {
   "cell_type": "code",
   "execution_count": 121,
   "id": "6803180c",
   "metadata": {},
   "outputs": [
    {
     "data": {
      "text/plain": [
       "np.int64(0)"
      ]
     },
     "execution_count": 121,
     "metadata": {},
     "output_type": "execute_result"
    }
   ],
   "source": [
    "np.argmax(l2)"
   ]
  },
  {
   "cell_type": "code",
   "execution_count": 122,
   "id": "92588dda",
   "metadata": {},
   "outputs": [
    {
     "data": {
      "text/plain": [
       "np.int64(1)"
      ]
     },
     "execution_count": 122,
     "metadata": {},
     "output_type": "execute_result"
    }
   ],
   "source": [
    "np.argmin(l2)"
   ]
  },
  {
   "cell_type": "code",
   "execution_count": 123,
   "id": "c99a3f99",
   "metadata": {},
   "outputs": [
    {
     "data": {
      "text/plain": [
       "array([36, 16, 36])"
      ]
     },
     "execution_count": 123,
     "metadata": {},
     "output_type": "execute_result"
    }
   ],
   "source": [
    "np.square(l2)"
   ]
  },
  {
   "cell_type": "code",
   "execution_count": 124,
   "id": "97cd2bc1",
   "metadata": {},
   "outputs": [
    {
     "data": {
      "text/plain": [
       "array([2.44948974, 2.        , 2.44948974])"
      ]
     },
     "execution_count": 124,
     "metadata": {},
     "output_type": "execute_result"
    }
   ],
   "source": [
    "np.sqrt(l2)"
   ]
  },
  {
   "cell_type": "code",
   "execution_count": 125,
   "id": "49eb97fd",
   "metadata": {},
   "outputs": [
    {
     "data": {
      "text/plain": [
       "array([1.81712059, 1.58740105, 1.81712059])"
      ]
     },
     "execution_count": 125,
     "metadata": {},
     "output_type": "execute_result"
    }
   ],
   "source": [
    "np.cbrt(l2)"
   ]
  },
  {
   "cell_type": "code",
   "execution_count": 127,
   "id": "9cb6508d",
   "metadata": {},
   "outputs": [
    {
     "data": {
      "text/plain": [
       "array([0.        , 0.69314718, 1.09861229])"
      ]
     },
     "execution_count": 127,
     "metadata": {},
     "output_type": "execute_result"
    }
   ],
   "source": [
    "np.log(l1 )"
   ]
  },
  {
   "cell_type": "code",
   "execution_count": 128,
   "id": "28f645ef",
   "metadata": {},
   "outputs": [
    {
     "data": {
      "text/plain": [
       "[1, 2, 3]"
      ]
     },
     "execution_count": 128,
     "metadata": {},
     "output_type": "execute_result"
    }
   ],
   "source": [
    "l1"
   ]
  },
  {
   "cell_type": "code",
   "execution_count": 130,
   "id": "470340d0",
   "metadata": {},
   "outputs": [
    {
     "data": {
      "text/plain": [
       "array([0.        , 0.30103   , 0.47712125])"
      ]
     },
     "execution_count": 130,
     "metadata": {},
     "output_type": "execute_result"
    }
   ],
   "source": [
    "np.log10(l1)"
   ]
  },
  {
   "cell_type": "code",
   "execution_count": 132,
   "id": "83223f76",
   "metadata": {},
   "outputs": [
    {
     "data": {
      "text/plain": [
       "array([0.        , 0.69314718, 1.09861229])"
      ]
     },
     "execution_count": 132,
     "metadata": {},
     "output_type": "execute_result"
    }
   ],
   "source": [
    "#  exp  \n",
    "np.exp([0.        , 0.69314718, 1.09861229])\n",
    "np.log([1,2,3])"
   ]
  },
  {
   "cell_type": "code",
   "execution_count": 134,
   "id": "cd1e54cd",
   "metadata": {},
   "outputs": [
    {
     "data": {
      "text/plain": [
       "array([0.52359878, 0.78539816, 1.04719755, 1.57079633])"
      ]
     },
     "execution_count": 134,
     "metadata": {},
     "output_type": "execute_result"
    }
   ],
   "source": [
    "angle  =  [30  ,  45  , 60  , 90]\n",
    "np.radians(angle)"
   ]
  },
  {
   "cell_type": "code",
   "execution_count": 136,
   "id": "38832333",
   "metadata": {},
   "outputs": [
    {
     "data": {
      "text/plain": [
       "[10.0, 20, 30, 40, 50]"
      ]
     },
     "execution_count": 136,
     "metadata": {},
     "output_type": "execute_result"
    }
   ],
   "source": [
    "l"
   ]
  },
  {
   "cell_type": "code",
   "execution_count": 140,
   "id": "154b45d2",
   "metadata": {},
   "outputs": [],
   "source": [
    "ar  = np.array([1,2,3,4,5,6])"
   ]
  },
  {
   "cell_type": "code",
   "execution_count": 141,
   "id": "c8246ee6",
   "metadata": {},
   "outputs": [
    {
     "data": {
      "text/plain": [
       "(6,)"
      ]
     },
     "execution_count": 141,
     "metadata": {},
     "output_type": "execute_result"
    }
   ],
   "source": [
    "ar.shape"
   ]
  },
  {
   "cell_type": "code",
   "execution_count": 142,
   "id": "67bab53a",
   "metadata": {},
   "outputs": [
    {
     "data": {
      "text/plain": [
       "array([[1, 2, 3],\n",
       "       [4, 5, 6]])"
      ]
     },
     "execution_count": 142,
     "metadata": {},
     "output_type": "execute_result"
    }
   ],
   "source": [
    "ar.reshape(2 ,3)"
   ]
  },
  {
   "cell_type": "code",
   "execution_count": 145,
   "id": "b7b9e53f",
   "metadata": {},
   "outputs": [
    {
     "data": {
      "text/plain": [
       "array([[1., 0.],\n",
       "       [0., 1.]])"
      ]
     },
     "execution_count": 145,
     "metadata": {},
     "output_type": "execute_result"
    }
   ],
   "source": [
    "# matrix  functions\n",
    "np.eye(2)"
   ]
  },
  {
   "cell_type": "code",
   "execution_count": 146,
   "id": "f76a14f0",
   "metadata": {},
   "outputs": [
    {
     "data": {
      "text/plain": [
       "array([[1., 0., 0.],\n",
       "       [0., 1., 0.],\n",
       "       [0., 0., 1.]])"
      ]
     },
     "execution_count": 146,
     "metadata": {},
     "output_type": "execute_result"
    }
   ],
   "source": [
    "np.eye(3)"
   ]
  },
  {
   "cell_type": "code",
   "execution_count": 157,
   "id": "c60e5294",
   "metadata": {},
   "outputs": [
    {
     "data": {
      "text/plain": [
       "array([[1., 1., 1.],\n",
       "       [1., 1., 1.]])"
      ]
     },
     "execution_count": 157,
     "metadata": {},
     "output_type": "execute_result"
    }
   ],
   "source": [
    "np.ones([2,3])"
   ]
  },
  {
   "cell_type": "code",
   "execution_count": 159,
   "id": "1b0123ca",
   "metadata": {},
   "outputs": [],
   "source": [
    "k  =  np.zeros([3,3])\n",
    "o  =  np.ones([3 ,3])"
   ]
  },
  {
   "cell_type": "code",
   "execution_count": 160,
   "id": "d9496baa",
   "metadata": {},
   "outputs": [
    {
     "data": {
      "text/plain": [
       "array([[1., 1., 1.],\n",
       "       [1., 1., 1.],\n",
       "       [1., 1., 1.]])"
      ]
     },
     "execution_count": 160,
     "metadata": {},
     "output_type": "execute_result"
    }
   ],
   "source": [
    "k+o"
   ]
  },
  {
   "cell_type": "code",
   "execution_count": 161,
   "id": "48bd741d",
   "metadata": {},
   "outputs": [
    {
     "data": {
      "text/plain": [
       "[1, 2, 3, 4, 5, 6, 7, 8, 9, 10]"
      ]
     },
     "execution_count": 161,
     "metadata": {},
     "output_type": "execute_result"
    }
   ],
   "source": [
    "#  how  to generate  integers\n",
    "list(range(1 ,11))"
   ]
  },
  {
   "cell_type": "code",
   "execution_count": 162,
   "id": "8ce1b93a",
   "metadata": {},
   "outputs": [
    {
     "ename": "TypeError",
     "evalue": "'float' object cannot be interpreted as an integer",
     "output_type": "error",
     "traceback": [
      "\u001b[31m---------------------------------------------------------------------------\u001b[39m",
      "\u001b[31mTypeError\u001b[39m                                 Traceback (most recent call last)",
      "\u001b[36mCell\u001b[39m\u001b[36m \u001b[39m\u001b[32mIn[162]\u001b[39m\u001b[32m, line 1\u001b[39m\n\u001b[32m----> \u001b[39m\u001b[32m1\u001b[39m \u001b[38;5;28mlist\u001b[39m(\u001b[38;5;28;43mrange\u001b[39;49m\u001b[43m(\u001b[49m\u001b[32;43m1\u001b[39;49m\u001b[43m \u001b[49m\u001b[43m,\u001b[49m\u001b[32;43m11\u001b[39;49m\u001b[43m  \u001b[49m\u001b[43m,\u001b[49m\u001b[32;43m0.5\u001b[39;49m\u001b[43m)\u001b[49m)\n",
      "\u001b[31mTypeError\u001b[39m: 'float' object cannot be interpreted as an integer"
     ]
    }
   ],
   "source": [
    "list(range(1 ,11  ,0.5))"
   ]
  },
  {
   "cell_type": "markdown",
   "id": "0d056e4a",
   "metadata": {},
   "source": [
    "###  use  arange"
   ]
  },
  {
   "cell_type": "code",
   "execution_count": 163,
   "id": "8117c924",
   "metadata": {},
   "outputs": [],
   "source": [
    "l =  np.arange(1  , 10 ,3)"
   ]
  },
  {
   "cell_type": "code",
   "execution_count": 164,
   "id": "7ee64370",
   "metadata": {},
   "outputs": [
    {
     "data": {
      "text/plain": [
       "array([1, 4, 7])"
      ]
     },
     "execution_count": 164,
     "metadata": {},
     "output_type": "execute_result"
    }
   ],
   "source": [
    "l"
   ]
  },
  {
   "cell_type": "code",
   "execution_count": 165,
   "id": "60c55cb4",
   "metadata": {},
   "outputs": [],
   "source": [
    "m  =  np.arange(1 ,11)"
   ]
  },
  {
   "cell_type": "code",
   "execution_count": 166,
   "id": "78b6cb48",
   "metadata": {},
   "outputs": [
    {
     "data": {
      "text/plain": [
       "array([ 1,  2,  3,  4,  5,  6,  7,  8,  9, 10])"
      ]
     },
     "execution_count": 166,
     "metadata": {},
     "output_type": "execute_result"
    }
   ],
   "source": [
    "m"
   ]
  },
  {
   "cell_type": "code",
   "execution_count": 167,
   "id": "8fcb1445",
   "metadata": {},
   "outputs": [
    {
     "data": {
      "text/plain": [
       "array([ 1. ,  1.5,  2. ,  2.5,  3. ,  3.5,  4. ,  4.5,  5. ,  5.5,  6. ,\n",
       "        6.5,  7. ,  7.5,  8. ,  8.5,  9. ,  9.5, 10. , 10.5, 11. , 11.5,\n",
       "       12. , 12.5, 13. , 13.5, 14. , 14.5, 15. , 15.5, 16. , 16.5, 17. ,\n",
       "       17.5, 18. , 18.5, 19. , 19.5])"
      ]
     },
     "execution_count": 167,
     "metadata": {},
     "output_type": "execute_result"
    }
   ],
   "source": [
    "np.arange( 1 ,20  ,  0.5)"
   ]
  },
  {
   "cell_type": "code",
   "execution_count": 168,
   "id": "4d370c3b",
   "metadata": {},
   "outputs": [
    {
     "data": {
      "text/plain": [
       "array([ 1. ,  4.3,  7.6, 10.9, 14.2, 17.5, 20.8, 24.1, 27.4, 30.7, 34. ,\n",
       "       37.3, 40.6, 43.9, 47.2])"
      ]
     },
     "execution_count": 168,
     "metadata": {},
     "output_type": "execute_result"
    }
   ],
   "source": [
    "np.arange(1 ,50  , 3.3)"
   ]
  },
  {
   "cell_type": "markdown",
   "id": "e8cde4db",
   "metadata": {},
   "source": [
    "#### linspace - linear  spacing \n",
    "start  , stop  ,  number  of  obsn\n",
    " "
   ]
  },
  {
   "cell_type": "code",
   "execution_count": 169,
   "id": "f05cd51d",
   "metadata": {},
   "outputs": [
    {
     "data": {
      "text/plain": [
       "array([ 1.        ,  1.09090909,  1.18181818,  1.27272727,  1.36363636,\n",
       "        1.45454545,  1.54545455,  1.63636364,  1.72727273,  1.81818182,\n",
       "        1.90909091,  2.        ,  2.09090909,  2.18181818,  2.27272727,\n",
       "        2.36363636,  2.45454545,  2.54545455,  2.63636364,  2.72727273,\n",
       "        2.81818182,  2.90909091,  3.        ,  3.09090909,  3.18181818,\n",
       "        3.27272727,  3.36363636,  3.45454545,  3.54545455,  3.63636364,\n",
       "        3.72727273,  3.81818182,  3.90909091,  4.        ,  4.09090909,\n",
       "        4.18181818,  4.27272727,  4.36363636,  4.45454545,  4.54545455,\n",
       "        4.63636364,  4.72727273,  4.81818182,  4.90909091,  5.        ,\n",
       "        5.09090909,  5.18181818,  5.27272727,  5.36363636,  5.45454545,\n",
       "        5.54545455,  5.63636364,  5.72727273,  5.81818182,  5.90909091,\n",
       "        6.        ,  6.09090909,  6.18181818,  6.27272727,  6.36363636,\n",
       "        6.45454545,  6.54545455,  6.63636364,  6.72727273,  6.81818182,\n",
       "        6.90909091,  7.        ,  7.09090909,  7.18181818,  7.27272727,\n",
       "        7.36363636,  7.45454545,  7.54545455,  7.63636364,  7.72727273,\n",
       "        7.81818182,  7.90909091,  8.        ,  8.09090909,  8.18181818,\n",
       "        8.27272727,  8.36363636,  8.45454545,  8.54545455,  8.63636364,\n",
       "        8.72727273,  8.81818182,  8.90909091,  9.        ,  9.09090909,\n",
       "        9.18181818,  9.27272727,  9.36363636,  9.45454545,  9.54545455,\n",
       "        9.63636364,  9.72727273,  9.81818182,  9.90909091, 10.        ])"
      ]
     },
     "execution_count": 169,
     "metadata": {},
     "output_type": "execute_result"
    }
   ],
   "source": [
    "#   1 to 10  generate 100 \n",
    "np.linspace(1 ,10 , 100)"
   ]
  },
  {
   "cell_type": "code",
   "execution_count": 170,
   "id": "bc6d2ca0",
   "metadata": {},
   "outputs": [
    {
     "data": {
      "text/plain": [
       "(array([ 1.        ,  1.09090909,  1.18181818,  1.27272727,  1.36363636,\n",
       "         1.45454545,  1.54545455,  1.63636364,  1.72727273,  1.81818182,\n",
       "         1.90909091,  2.        ,  2.09090909,  2.18181818,  2.27272727,\n",
       "         2.36363636,  2.45454545,  2.54545455,  2.63636364,  2.72727273,\n",
       "         2.81818182,  2.90909091,  3.        ,  3.09090909,  3.18181818,\n",
       "         3.27272727,  3.36363636,  3.45454545,  3.54545455,  3.63636364,\n",
       "         3.72727273,  3.81818182,  3.90909091,  4.        ,  4.09090909,\n",
       "         4.18181818,  4.27272727,  4.36363636,  4.45454545,  4.54545455,\n",
       "         4.63636364,  4.72727273,  4.81818182,  4.90909091,  5.        ,\n",
       "         5.09090909,  5.18181818,  5.27272727,  5.36363636,  5.45454545,\n",
       "         5.54545455,  5.63636364,  5.72727273,  5.81818182,  5.90909091,\n",
       "         6.        ,  6.09090909,  6.18181818,  6.27272727,  6.36363636,\n",
       "         6.45454545,  6.54545455,  6.63636364,  6.72727273,  6.81818182,\n",
       "         6.90909091,  7.        ,  7.09090909,  7.18181818,  7.27272727,\n",
       "         7.36363636,  7.45454545,  7.54545455,  7.63636364,  7.72727273,\n",
       "         7.81818182,  7.90909091,  8.        ,  8.09090909,  8.18181818,\n",
       "         8.27272727,  8.36363636,  8.45454545,  8.54545455,  8.63636364,\n",
       "         8.72727273,  8.81818182,  8.90909091,  9.        ,  9.09090909,\n",
       "         9.18181818,  9.27272727,  9.36363636,  9.45454545,  9.54545455,\n",
       "         9.63636364,  9.72727273,  9.81818182,  9.90909091, 10.        ]),\n",
       " np.float64(0.09090909090909091))"
      ]
     },
     "execution_count": 170,
     "metadata": {},
     "output_type": "execute_result"
    }
   ],
   "source": [
    "np.linspace(1 ,10 , 100 ,  retstep = True) "
   ]
  },
  {
   "cell_type": "code",
   "execution_count": 172,
   "id": "998a39fb",
   "metadata": {},
   "outputs": [],
   "source": [
    "#  generate  data randomly\n"
   ]
  },
  {
   "cell_type": "code",
   "execution_count": 174,
   "id": "786801da",
   "metadata": {},
   "outputs": [
    {
     "data": {
      "text/plain": [
       "0.10352239744583502"
      ]
     },
     "execution_count": 174,
     "metadata": {},
     "output_type": "execute_result"
    }
   ],
   "source": [
    "##  generate  values from range  0 to  1\n",
    "np.random.random()"
   ]
  },
  {
   "cell_type": "code",
   "execution_count": 175,
   "id": "f6bf7d1b",
   "metadata": {},
   "outputs": [
    {
     "data": {
      "text/plain": [
       "0.331418413071498"
      ]
     },
     "execution_count": 175,
     "metadata": {},
     "output_type": "execute_result"
    }
   ],
   "source": [
    "np.random.rand()"
   ]
  },
  {
   "cell_type": "code",
   "execution_count": 176,
   "id": "3a9c8daf",
   "metadata": {},
   "outputs": [
    {
     "data": {
      "text/plain": [
       "array([0.70260867, 0.61040837, 0.57906567, 0.16693759, 0.14539005,\n",
       "       0.10267819, 0.09897469, 0.02613915, 0.23941289, 0.05974761])"
      ]
     },
     "execution_count": 176,
     "metadata": {},
     "output_type": "execute_result"
    }
   ],
   "source": [
    "np.random.random(10)"
   ]
  },
  {
   "cell_type": "code",
   "execution_count": 177,
   "id": "f6ee2657",
   "metadata": {},
   "outputs": [
    {
     "data": {
      "text/plain": [
       "array([0.10106895, 0.42986734, 0.33468347, 0.62439219, 0.83300511,\n",
       "       0.03177761, 0.13924767, 0.13375504, 0.86945388, 0.33722327])"
      ]
     },
     "execution_count": 177,
     "metadata": {},
     "output_type": "execute_result"
    }
   ],
   "source": [
    "np.random.rand(10)"
   ]
  },
  {
   "cell_type": "code",
   "execution_count": 179,
   "id": "ce6bd8ae",
   "metadata": {},
   "outputs": [
    {
     "data": {
      "text/plain": [
       "0"
      ]
     },
     "execution_count": 179,
     "metadata": {},
     "output_type": "execute_result"
    }
   ],
   "source": [
    "#  generate random  integers\n",
    "np.random.randint(1)"
   ]
  },
  {
   "cell_type": "code",
   "execution_count": 182,
   "id": "91e42a04",
   "metadata": {},
   "outputs": [
    {
     "data": {
      "text/plain": [
       "1"
      ]
     },
     "execution_count": 182,
     "metadata": {},
     "output_type": "execute_result"
    }
   ],
   "source": [
    "np.random.randint(4)"
   ]
  },
  {
   "cell_type": "code",
   "execution_count": 190,
   "id": "542d17c3",
   "metadata": {},
   "outputs": [
    {
     "data": {
      "text/plain": [
       "array([1, 3], dtype=int32)"
      ]
     },
     "execution_count": 190,
     "metadata": {},
     "output_type": "execute_result"
    }
   ],
   "source": [
    "np.random.randint( 1, 4 , 2 )"
   ]
  },
  {
   "cell_type": "code",
   "execution_count": 191,
   "id": "2c0d6daf",
   "metadata": {},
   "outputs": [
    {
     "data": {
      "text/plain": [
       "array([3, 3, 1, 3, 1, 3, 2, 3, 3, 2], dtype=int32)"
      ]
     },
     "execution_count": 191,
     "metadata": {},
     "output_type": "execute_result"
    }
   ],
   "source": [
    "np.random.randint( 1, 4 , 10 )"
   ]
  },
  {
   "cell_type": "code",
   "execution_count": 192,
   "id": "6f76fb19",
   "metadata": {},
   "outputs": [
    {
     "data": {
      "text/plain": [
       "array([3, 2, 3, 1, 3, 3, 1, 2, 3, 1, 2, 1, 2, 3, 1, 2, 2, 2, 2, 2, 2, 2,\n",
       "       3, 2, 2, 3, 2, 1, 2, 2, 3, 3, 3, 2, 2, 1, 3, 2, 1, 3, 1, 3, 1, 3,\n",
       "       1, 3, 1, 1, 1, 1, 1, 1, 2, 2, 1, 1, 2, 3, 1, 3, 2, 3, 2, 1, 1, 2,\n",
       "       2, 2, 2, 1, 3, 1, 2, 2, 1, 2, 1, 2, 2, 2, 2, 2, 2, 2, 2, 2, 3, 2,\n",
       "       1, 1, 1, 3, 2, 1, 1, 3, 3, 3, 3, 2], dtype=int32)"
      ]
     },
     "execution_count": 192,
     "metadata": {},
     "output_type": "execute_result"
    }
   ],
   "source": [
    "np.random.randint( 1, 4 , 100 )"
   ]
  },
  {
   "cell_type": "code",
   "execution_count": 194,
   "id": "6b91c700",
   "metadata": {},
   "outputs": [
    {
     "data": {
      "text/plain": [
       "[10, 9, 8, 7, 6, 5, 4, 3, 2]"
      ]
     },
     "execution_count": 194,
     "metadata": {},
     "output_type": "execute_result"
    }
   ],
   "source": [
    "#  generate  int  values  from 10  , 1  \n",
    "list(range(10  ,    1,  -1))"
   ]
  },
  {
   "cell_type": "code",
   "execution_count": 196,
   "id": "8aa608ed",
   "metadata": {},
   "outputs": [
    {
     "data": {
      "text/plain": [
       "array([10. ,  9.5,  9. ,  8.5,  8. ,  7.5,  7. ,  6.5,  6. ,  5.5,  5. ,\n",
       "        4.5,  4. ,  3.5,  3. ,  2.5,  2. ,  1.5])"
      ]
     },
     "execution_count": 196,
     "metadata": {},
     "output_type": "execute_result"
    }
   ],
   "source": [
    "np.arange(10 , 1 ,  -0.5)"
   ]
  },
  {
   "cell_type": "code",
   "execution_count": 197,
   "id": "811c6203",
   "metadata": {},
   "outputs": [
    {
     "data": {
      "text/plain": [
       "array([10,  9,  8,  7,  6,  5,  4,  3,  2])"
      ]
     },
     "execution_count": 197,
     "metadata": {},
     "output_type": "execute_result"
    }
   ],
   "source": [
    "np.arange(10 , 1 ,  -1)"
   ]
  },
  {
   "cell_type": "code",
   "execution_count": 204,
   "id": "e0aeaeff",
   "metadata": {},
   "outputs": [
    {
     "data": {
      "text/plain": [
       "array([ 0.0302295 ,  0.25483383,  0.64670617, -1.0273822 , -0.82512788,\n",
       "        0.02995687, -1.53492931,  0.29351335,  0.74842762, -0.81015357,\n",
       "       -0.33555848, -0.83084647,  0.78058316,  0.0469675 ,  0.14939233,\n",
       "        1.70885706, -0.26066894, -0.00468882,  0.29376874, -1.95786181,\n",
       "        1.42032282, -1.40965026,  3.16399147,  0.32225634,  0.11208018,\n",
       "        0.42385381, -1.91047847, -0.2151698 , -0.59015673,  1.13214856,\n",
       "        2.01265266,  0.98860865,  1.17853286,  0.84560124,  1.23023587,\n",
       "        0.23477769,  1.81020304,  0.39138885, -0.40284832,  0.93454554,\n",
       "        0.48516114,  1.07569598,  0.75901518,  1.91583302, -0.55633104,\n",
       "       -1.38947277,  0.05293799, -0.88863225,  0.59809542,  0.15186941,\n",
       "        0.26978251, -1.85267545, -0.21200444, -0.2175104 , -1.51263556,\n",
       "       -0.41917117, -0.12975148, -2.15663304, -1.78266506,  0.91262489,\n",
       "        0.88657725, -0.76082377,  0.38870628,  0.81325769, -1.45829296,\n",
       "       -0.64430637, -0.96296756,  0.39090406, -0.79059774, -1.3444901 ,\n",
       "       -0.26772508, -0.46784641,  0.52212938,  0.06882762,  0.60482524,\n",
       "       -0.19827242, -0.99886734,  0.70212918,  0.9212941 ,  0.92695345,\n",
       "        0.05291522, -0.64226149, -0.08502426,  2.32640116, -0.56357111,\n",
       "       -0.21461959,  0.00436905,  0.35112666, -0.03222762, -0.30864406,\n",
       "        1.06309756, -0.43714236, -0.20142133,  0.33593201,  0.67768135,\n",
       "        2.09726876,  0.59071429, -0.16994626, -0.69534756,  0.97199669])"
      ]
     },
     "execution_count": 204,
     "metadata": {},
     "output_type": "execute_result"
    }
   ],
   "source": [
    "#  generate random numbers  from normal  distribution\n",
    "#  generating random  numbers from standard  normal  variate \n",
    "# mean =  0  , std =  1\n",
    "h  = np.random.randn(100)\n",
    "h"
   ]
  },
  {
   "cell_type": "code",
   "execution_count": 201,
   "id": "8e850601",
   "metadata": {},
   "outputs": [],
   "source": [
    "import seaborn as  sns"
   ]
  },
  {
   "cell_type": "code",
   "execution_count": 202,
   "id": "42e64a36",
   "metadata": {},
   "outputs": [],
   "source": [
    "import matplotlib.pyplot as  plt"
   ]
  },
  {
   "cell_type": "code",
   "execution_count": 205,
   "id": "045659e8",
   "metadata": {},
   "outputs": [
    {
     "data": {
      "text/plain": [
       "[<matplotlib.lines.Line2D at 0x198eb96e5d0>]"
      ]
     },
     "execution_count": 205,
     "metadata": {},
     "output_type": "execute_result"
    },
    {
     "data": {
      "image/png": "[encoded data removed]",
      "text/plain": [
       "<Figure size 640x480 with 1 Axes>"
      ]
     },
     "metadata": {},
     "output_type": "display_data"
    }
   ],
   "source": [
    "plt.plot(h)"
   ]
  },
  {
   "cell_type": "code",
   "execution_count": 206,
   "id": "6225bc77",
   "metadata": {},
   "outputs": [
    {
     "data": {
      "text/plain": [
       "<Axes: ylabel='Density'>"
      ]
     },
     "execution_count": 206,
     "metadata": {},
     "output_type": "execute_result"
    },
    {
     "data": {
      "image/png": "[encoded data removed]",
      "text/plain": [
       "<Figure size 640x480 with 1 Axes>"
      ]
     },
     "metadata": {},
     "output_type": "display_data"
    }
   ],
   "source": [
    "sns.kdeplot(h)"
   ]
  },
  {
   "cell_type": "code",
   "execution_count": 207,
   "id": "5083a238",
   "metadata": {},
   "outputs": [],
   "source": [
    "h  =  np.random.randn(1000)"
   ]
  },
  {
   "cell_type": "code",
   "execution_count": 208,
   "id": "2ce94f0f",
   "metadata": {},
   "outputs": [
    {
     "data": {
      "text/plain": [
       "<Axes: ylabel='Density'>"
      ]
     },
     "execution_count": 208,
     "metadata": {},
     "output_type": "execute_result"
    },
    {
     "data": {
      "image/png": "[encoded data removed]",
      "text/plain": [
       "<Figure size 640x480 with 1 Axes>"
      ]
     },
     "metadata": {},
     "output_type": "display_data"
    }
   ],
   "source": [
    "sns.kdeplot(h)"
   ]
  },
  {
   "cell_type": "code",
   "execution_count": 213,
   "id": "938f705d",
   "metadata": {},
   "outputs": [],
   "source": [
    "#  generate  data from normal\n",
    "#  distribution with mean =  10   , std  =4\n",
    "g  = np.random.normal(loc =  10  , scale =  4  , size =100)\n"
   ]
  },
  {
   "cell_type": "code",
   "execution_count": 214,
   "id": "de9328ca",
   "metadata": {},
   "outputs": [
    {
     "data": {
      "text/plain": [
       "array([11.01909836, 15.49949672, 12.34846411,  6.504877  ,  9.671216  ,\n",
       "        5.97874311,  6.54324315, 16.26381514, 15.4999437 , 12.71387856,\n",
       "       10.00792086, 15.184164  ,  8.49264273, 15.23827066,  8.40545993,\n",
       "        6.49425442, 14.83506411,  8.471136  ,  9.09517219,  3.63549101,\n",
       "        5.25200626, 13.90282507,  5.83626943, 10.41503979, 12.10476009,\n",
       "       11.35276706, 13.78670595,  5.21154062,  8.42020633, 11.49974984,\n",
       "        8.1131329 ,  7.73208606,  8.57293343, 12.25359408, 12.53768901,\n",
       "       15.22334232, 12.2495256 ,  9.33689023,  6.05375112,  9.31108207,\n",
       "        7.98155556, 13.95461229,  0.49329301, 10.62178801,  0.90146279,\n",
       "        9.09264795, 12.92586186, 11.46819595, 14.21956739,  7.25228921,\n",
       "        8.1006837 , 15.09506847, 12.33684779, 11.10819617,  8.9147809 ,\n",
       "       -0.09512556, 16.51143734,  4.94233975,  7.93542781, 14.21981776,\n",
       "       15.77945346,  9.3536712 ,  8.02217414, 11.31651919,  9.58963289,\n",
       "        9.16875089, 14.61704911,  9.48878092,  9.25430322, 15.41349514,\n",
       "       11.44634865,  2.47410123, 17.24878945,  6.14056946,  8.61824702,\n",
       "        9.31034296, 14.24354046, 10.96378895,  4.12791292,  2.75387643,\n",
       "       10.66431294,  7.43909535,  9.33688962, 12.46081305, 11.46325014,\n",
       "        1.23505009, 14.4339128 , 14.1970873 ,  7.72226735, 11.16544257,\n",
       "       14.11519617,  3.82506646,  5.15456734,  9.62177357, 14.14588563,\n",
       "       13.19918872, 11.25361734, 12.04539557, 14.10361869,  8.49576296])"
      ]
     },
     "execution_count": 214,
     "metadata": {},
     "output_type": "execute_result"
    }
   ],
   "source": [
    "g"
   ]
  },
  {
   "cell_type": "code",
   "execution_count": 215,
   "id": "d25c114a",
   "metadata": {},
   "outputs": [
    {
     "data": {
      "text/plain": [
       "<Axes: ylabel='Density'>"
      ]
     },
     "execution_count": 215,
     "metadata": {},
     "output_type": "execute_result"
    },
    {
     "data": {
      "image/png": "[encoded data removed]",
      "text/plain": [
       "<Figure size 640x480 with 1 Axes>"
      ]
     },
     "metadata": {},
     "output_type": "display_data"
    }
   ],
   "source": [
    "sns.kdeplot(g)"
   ]
  },
  {
   "cell_type": "markdown",
   "id": "7b107cd5",
   "metadata": {},
   "source": [
    "#####  generate random  obsn from uniform \n"
   ]
  },
  {
   "cell_type": "code",
   "execution_count": 217,
   "id": "adb97de2",
   "metadata": {},
   "outputs": [
    {
     "data": {
      "text/plain": [
       "array([7.52137111, 6.36614181, 2.84004685, 6.46068304, 3.73014452,\n",
       "       9.38291573, 5.18899832, 2.7917992 , 3.87378481, 2.60339338,\n",
       "       2.31843568, 7.86564471, 8.05249181, 9.04918655, 5.89199302,\n",
       "       7.34289013, 4.31771458, 8.65635757, 2.33523696, 3.57634773,\n",
       "       2.85760067, 7.56610166, 3.57637537, 3.20867596, 6.90867322,\n",
       "       2.88586251, 5.61042774, 2.72573134, 4.06811344, 5.09988407,\n",
       "       6.97016094, 9.99115261, 7.96425586, 9.76270274, 9.43680284,\n",
       "       7.15403049, 3.80323863, 6.04983747, 9.39366916, 2.37823559,\n",
       "       6.21549918, 9.24224832, 5.10889142, 2.4337396 , 8.239579  ,\n",
       "       4.51124165, 6.81554737, 5.16357418, 7.85507136, 7.91942292,\n",
       "       2.23704265, 7.37220241, 5.28791796, 5.55906263, 2.48763884,\n",
       "       2.35326869, 7.51196392, 8.68805227, 4.516851  , 9.19405936,\n",
       "       5.98277197, 2.88172511, 9.45779982, 2.58028116, 2.70776989,\n",
       "       9.92368554, 4.0514349 , 7.61358795, 7.02391909, 9.88684991,\n",
       "       6.35594063, 5.33365022, 2.971159  , 9.31951959, 4.77669455,\n",
       "       3.71815535, 2.78892674, 3.67932218, 9.98557405, 6.14548246,\n",
       "       9.61279245, 8.51265647, 5.43186757, 5.1451981 , 8.82911061,\n",
       "       8.33421385, 8.05592002, 8.06269184, 6.5852449 , 9.71090745,\n",
       "       4.73667443, 3.62419232, 2.52903813, 6.17783892, 6.18706741,\n",
       "       2.95372537, 3.17855574, 3.57203719, 4.41911055, 9.57565669,\n",
       "       9.90304976, 7.09186498, 6.69629784, 7.70834775, 6.96734518,\n",
       "       9.70871069, 9.37064591, 3.80579372, 2.42059904, 7.52607638,\n",
       "       6.92724417, 7.99989223, 5.19582438, 6.25603219, 5.14562497,\n",
       "       6.8264107 , 4.2739581 , 3.79575379, 6.68160552, 5.62559665,\n",
       "       4.64971812, 8.53843945, 2.65179619, 8.46660415, 6.94100817,\n",
       "       2.02688669, 9.0082384 , 5.56066991, 2.54140457, 2.36574061,\n",
       "       7.68552107, 4.39796598, 3.01838702, 2.01023124, 6.4480479 ,\n",
       "       3.61688358, 7.97818471, 8.23624348, 2.55764156, 3.08792416,\n",
       "       7.47194951, 4.21605137, 2.30667927, 5.33363911, 6.11892572,\n",
       "       6.09846527, 5.96155987, 7.08907718, 5.06394258, 8.46829328,\n",
       "       3.23486205, 9.42373625, 7.20209407, 7.90645692, 8.80879977,\n",
       "       6.92563857, 5.59227454, 3.45040489, 7.25852005, 9.54411639,\n",
       "       4.63029553, 9.50486404, 3.804355  , 4.18453279, 3.62786057,\n",
       "       7.58750483, 8.77074316, 2.16164293, 6.94290569, 7.89897803,\n",
       "       5.70438375, 6.93405895, 3.92443394, 3.6065439 , 7.89509105,\n",
       "       5.49861493, 3.77285082, 4.38932209, 5.21836619, 2.2025625 ,\n",
       "       6.17220234, 5.8732663 , 3.7880755 , 3.53135444, 3.40928078,\n",
       "       2.13710708, 5.64784906, 3.84014093, 5.0041611 , 6.63144971,\n",
       "       2.81158133, 3.93399473, 4.55021251, 4.48011791, 2.79944287,\n",
       "       6.62034357, 9.75373669, 2.51986413, 3.45029123, 5.72903121,\n",
       "       2.88878409, 8.89069247, 7.23763935, 4.782719  , 9.34408408,\n",
       "       3.07099727, 3.90242329, 2.7284172 , 7.01638055, 6.29906837,\n",
       "       4.57013559, 2.2054272 , 3.26991606, 5.45675324, 9.12321035,\n",
       "       6.12846145, 4.28742773, 2.82901531, 5.61782389, 8.68494009,\n",
       "       8.79800704, 5.63505094, 7.08934676, 8.30112102, 6.93387406,\n",
       "       2.11190208, 3.45068894, 5.28650304, 7.43173223, 4.80881177,\n",
       "       2.45685251, 6.98738736, 4.36349931, 7.92537387, 2.59724843,\n",
       "       8.81226306, 8.67708539, 3.05970032, 9.73763986, 5.24834093,\n",
       "       6.25823122, 5.29518572, 3.18262309, 9.20099688, 3.13807893,\n",
       "       4.14841654, 7.09164207, 7.20246648, 9.76005886, 7.25810375,\n",
       "       3.68376918, 6.526654  , 8.9326848 , 5.47759512, 8.75888204,\n",
       "       7.26619178, 8.14793594, 7.44980049, 2.20573604, 7.03705892,\n",
       "       4.43694513, 4.08197152, 3.72661125, 4.20859033, 5.56263296,\n",
       "       6.36336626, 7.92754504, 8.44814653, 6.57148303, 2.6000818 ,\n",
       "       4.56375527, 4.73741195, 6.37208026, 3.76433061, 7.65513757,\n",
       "       7.10402522, 9.29729941, 9.44986289, 8.84714669, 3.8670543 ,\n",
       "       6.14430528, 8.78484928, 4.4671854 , 5.10674157, 3.43269531,\n",
       "       8.46207197, 4.64817319, 2.99057755, 6.00822986, 2.83014107,\n",
       "       7.35198607, 9.96688997, 9.72474097, 4.68025306, 3.0448411 ,\n",
       "       7.66847795, 4.44677049, 8.63085967, 2.42756576, 7.91669325,\n",
       "       7.35914543, 7.25775072, 9.7000408 , 6.42038444, 8.07600305,\n",
       "       8.97905914, 8.04992701, 3.77662968, 4.53765635, 6.6122417 ,\n",
       "       8.58796328, 7.19926887, 6.18855288, 9.73559129, 5.39843759,\n",
       "       5.54851622, 3.53288482, 9.29699759, 8.18780546, 6.71233069,\n",
       "       3.20833519, 6.25929756, 2.88385612, 9.10051003, 9.04181423,\n",
       "       5.2881925 , 9.34509462, 9.74741199, 6.27133145, 9.53198237,\n",
       "       7.12207317, 4.07281817, 5.90797298, 8.9131828 , 9.98555652,\n",
       "       3.87482818, 3.51012222, 4.76573935, 5.61468712, 8.01156086,\n",
       "       4.48400003, 4.15061103, 3.76078267, 9.13325249, 9.24812033,\n",
       "       8.60036262, 6.55458524, 3.70434298, 6.69757151, 2.67773543,\n",
       "       9.69306307, 2.89607469, 2.40911756, 4.36588202, 3.40758098,\n",
       "       9.85109179, 4.03466803, 4.20475012, 7.13789402, 5.68769735,\n",
       "       5.30141679, 3.66279776, 8.07696425, 4.43522129, 6.8836502 ,\n",
       "       2.39532567, 3.69397001, 7.24245248, 3.89043608, 9.09685827,\n",
       "       3.7373422 , 8.7664122 , 3.80876779, 2.71363518, 7.09698828,\n",
       "       2.72082138, 8.22509625, 8.91211129, 9.17460791, 9.30627597,\n",
       "       8.1017164 , 9.48924408, 8.49322394, 8.04413105, 2.46947803,\n",
       "       9.07176936, 4.26090232, 5.93859896, 7.08789981, 6.18398588,\n",
       "       7.50431563, 8.38314483, 9.6010627 , 2.4745696 , 5.42893525,\n",
       "       9.23354847, 9.91578858, 7.26469129, 4.42814536, 2.16366697,\n",
       "       7.38497543, 6.04683538, 9.97017502, 9.84344844, 7.4378509 ,\n",
       "       5.79764839, 6.28424419, 2.19100581, 6.16136029, 6.30723446,\n",
       "       8.24750578, 6.87252488, 3.77694104, 7.53491351, 9.87219213,\n",
       "       4.71571043, 4.81643233, 8.05626865, 4.61204409, 5.33958764,\n",
       "       2.22428359, 9.17408388, 8.57869667, 6.56037466, 9.11245388,\n",
       "       8.2173743 , 3.33476141, 4.22687829, 7.76615557, 7.35898673,\n",
       "       5.26407543, 8.10537912, 5.01463315, 7.76228823, 9.73449985,\n",
       "       6.4343227 , 3.27171473, 5.7649019 , 8.2457722 , 2.28454529,\n",
       "       5.70872117, 3.48285283, 9.15931868, 6.18572437, 4.93500574,\n",
       "       7.12525151, 3.4004746 , 9.73376394, 3.49524439, 3.18980799,\n",
       "       3.53519326, 9.2050012 , 3.42665728, 9.78443429, 5.29369761,\n",
       "       3.3405812 , 7.1705449 , 3.62590723, 2.46480652, 4.74429232,\n",
       "       6.72790813, 4.8080316 , 6.53109805, 4.76466629, 7.78832983,\n",
       "       8.22700001, 9.20135495, 7.89164045, 4.65422961, 2.86290034,\n",
       "       4.93257884, 5.5837062 , 2.51672034, 2.95608197, 6.20935586,\n",
       "       7.62257897, 4.58813516, 6.24694992, 6.36698398, 7.03081167,\n",
       "       2.20969637, 3.53470694, 4.55081747, 5.60286358, 2.08806877,\n",
       "       7.60511236, 7.40353529, 3.63232048, 9.37907887, 6.87372447,\n",
       "       5.87404878, 6.45429446, 5.79038397, 4.17253752, 8.78368921,\n",
       "       5.98751769, 8.76913932, 8.27625191, 9.53406481, 8.1102595 ,\n",
       "       8.21939156, 9.47322276, 5.03321085, 7.42189171, 4.44160995,\n",
       "       7.27167993, 6.13578372, 6.71047785, 4.06951783, 9.74038723,\n",
       "       2.35790161, 3.44287446, 9.88672626, 5.29935527, 4.10174609,\n",
       "       2.06753479, 9.46713236, 4.73154479, 6.35843965, 3.98081947,\n",
       "       2.63538767, 6.02260389, 2.86932064, 5.44300459, 9.83431254,\n",
       "       3.54059432, 7.86041112, 6.69847114, 3.79670814, 7.75146248,\n",
       "       6.99608141, 4.8114184 , 7.97192231, 3.60111103, 8.62990069,\n",
       "       8.9466258 , 8.14828323, 4.74775079, 6.15887098, 4.75269982,\n",
       "       6.02546938, 4.95798785, 7.01403992, 4.67199574, 2.58713382,\n",
       "       6.46770879, 9.83156533, 3.01231747, 2.40651844, 8.64848802,\n",
       "       9.65174923, 5.21090591, 7.40975067, 2.87874175, 4.23111931,\n",
       "       7.39711874, 8.56413149, 8.68787134, 9.82820254, 5.89132286,\n",
       "       7.86398758, 9.68756146, 2.56047672, 8.83344897, 3.61126537,\n",
       "       9.7750997 , 4.65162244, 6.26648206, 6.66711401, 9.77692048,\n",
       "       4.34436215, 8.50455456, 5.49930209, 4.28484419, 3.99001587,\n",
       "       6.66320231, 8.87876285, 6.69550233, 8.92587573, 5.703603  ,\n",
       "       6.90771878, 6.94260567, 4.68948794, 8.66777563, 7.11987899,\n",
       "       2.85124395, 4.85924707, 3.48118026, 3.47887149, 9.22449958,\n",
       "       3.97125209, 2.19342532, 4.14193288, 7.40726299, 9.76659904,\n",
       "       5.84893398, 4.13356562, 3.05632019, 4.17519734, 3.11186184,\n",
       "       6.36413577, 9.26796309, 2.56622319, 7.71245936, 2.70342447,\n",
       "       6.06700404, 3.94847246, 8.21235895, 9.10989799, 8.485442  ,\n",
       "       9.76900768, 2.27454643, 8.20802831, 4.7108395 , 5.60420045,\n",
       "       4.6180472 , 5.26579244, 2.91424197, 6.00467113, 8.94300728,\n",
       "       6.44008694, 7.8499413 , 9.58036372, 6.02895059, 9.98712588,\n",
       "       4.29252782, 9.2030967 , 4.57313448, 8.3812918 , 7.85045316,\n",
       "       6.19148026, 7.64597593, 3.66749661, 9.36602545, 3.05085889,\n",
       "       7.32352714, 2.46634798, 7.48883737, 2.98769324, 4.64573116,\n",
       "       9.10509739, 7.50743963, 7.47268269, 3.26640434, 5.79324112,\n",
       "       3.01308164, 5.17116767, 3.98394711, 5.42593699, 8.8139706 ,\n",
       "       6.88950188, 7.46127818, 2.48288388, 9.28367557, 9.05771212,\n",
       "       5.00176081, 8.81745053, 2.86435059, 3.90979947, 3.62141024,\n",
       "       7.79308918, 9.94203835, 8.64347443, 6.95508103, 6.75924356,\n",
       "       5.0091457 , 8.82795673, 5.22750492, 7.82351119, 5.34410173,\n",
       "       4.20768962, 3.62130537, 2.95746775, 6.41363277, 3.89789983,\n",
       "       5.04894524, 8.06362639, 8.9443726 , 8.54482235, 4.72698432,\n",
       "       6.86952881, 2.81004443, 4.99984542, 4.22398232, 2.08223746,\n",
       "       3.82158626, 2.02699015, 4.49944491, 6.98479291, 6.8016146 ,\n",
       "       4.26965841, 7.18201399, 7.55732438, 5.29790882, 6.64646562,\n",
       "       7.21499244, 7.54125272, 2.37784541, 9.6515281 , 3.37097221,\n",
       "       4.40407818, 3.72809233, 8.47089215, 5.59072342, 6.23506407,\n",
       "       5.43491115, 5.10200071, 6.94305018, 4.91155981, 5.55194861,\n",
       "       3.05567606, 4.96642484, 2.9094976 , 3.80078222, 7.52036611,\n",
       "       6.68745031, 7.77566313, 2.22349936, 6.95338687, 2.48260204,\n",
       "       5.05821917, 8.15780281, 3.67170683, 9.74966249, 4.6706041 ,\n",
       "       8.02213219, 9.00288157, 2.14623419, 9.65665158, 4.03631718,\n",
       "       8.88911834, 2.75892018, 6.36337107, 7.35942593, 4.09109817,\n",
       "       3.13750921, 2.5800981 , 7.86369505, 7.43437045, 6.36845251,\n",
       "       7.45364452, 2.94780514, 9.43763821, 5.3506299 , 7.05920488,\n",
       "       7.56402019, 6.36436998, 2.57750759, 9.64757678, 3.85185328,\n",
       "       3.25595184, 7.72709994, 3.32623958, 4.71669357, 3.27894061,\n",
       "       2.38675448, 9.91199121, 3.21665748, 9.74123122, 6.8451824 ,\n",
       "       8.54609911, 5.97999258, 6.12599177, 3.60266671, 9.95630131,\n",
       "       2.58401826, 6.24536016, 6.03330996, 7.48965903, 3.63817607,\n",
       "       9.17570509, 6.88044001, 6.01204775, 2.84050809, 9.64697499,\n",
       "       7.01608142, 4.08488933, 3.33666564, 4.1388392 , 9.31756727,\n",
       "       5.35621108, 5.59301284, 2.65866552, 6.67657698, 2.30198073,\n",
       "       6.4607489 , 7.18639382, 8.48685959, 6.25090666, 6.86288103,\n",
       "       5.40398301, 8.0394902 , 9.75384707, 2.20028741, 9.68346615,\n",
       "       4.56793083, 3.70221272, 8.72839639, 7.3920582 , 6.51400325,\n",
       "       8.79923976, 4.8146402 , 8.77892034, 5.6961729 , 4.55708175,\n",
       "       2.83900104, 6.18178414, 3.5317151 , 5.8058996 , 2.46353361,\n",
       "       7.99056337, 8.81577427, 8.10281343, 4.70036942, 2.17996811,\n",
       "       5.79521899, 4.2386472 , 3.9880239 , 6.59967416, 7.61659817,\n",
       "       2.5918405 , 9.79887344, 6.95221837, 7.79140436, 2.73840277,\n",
       "       4.315159  , 5.09259376, 5.9986314 , 3.45361299, 9.39780389,\n",
       "       9.00509322, 2.10912529, 6.1607507 , 4.24647009, 8.77213232,\n",
       "       3.4497366 , 4.19570102, 6.98479686, 4.43854981, 2.17327025,\n",
       "       6.2378855 , 9.73171207, 8.96777193, 5.66238918, 5.01748337,\n",
       "       4.59189992, 7.8142311 , 7.91775474, 7.30432914, 9.92087406,\n",
       "       6.00301749, 5.32428665, 2.90161868, 6.54225852, 7.99253751,\n",
       "       6.08626538, 2.03783087, 4.55987929, 4.72420708, 9.87612411,\n",
       "       7.7130663 , 9.36839784, 7.89087595, 9.85262093, 5.68508613,\n",
       "       7.07010476, 8.10123433, 9.85124382, 8.60806388, 5.73228671,\n",
       "       8.68057124, 6.05640209, 9.55314399, 4.92836049, 9.55521135,\n",
       "       8.19846712, 6.73502384, 3.85133092, 4.2968231 , 5.42877191,\n",
       "       3.91827744, 9.28632462, 9.11150237, 8.90002494, 7.73043854,\n",
       "       8.96963454, 6.07147925, 5.04401442, 8.36490415, 3.59557734,\n",
       "       2.51210922, 8.96598076, 2.28320766, 4.08266355, 3.00129222,\n",
       "       9.13305225, 8.96719974, 4.00733007, 8.52601284, 2.50098804,\n",
       "       6.45115869, 9.14185331, 5.69285568, 3.14542796, 8.52386887,\n",
       "       3.31155679, 3.02967946, 6.29334635, 3.0192864 , 8.17714661,\n",
       "       6.11003017, 5.06017122, 5.41028468, 5.55543332, 2.57377411,\n",
       "       9.12997113, 7.3414797 , 9.987964  , 7.40070194, 6.86500968,\n",
       "       5.93045036, 5.76395589, 6.74075838, 6.66136829, 5.94556196,\n",
       "       5.50834078, 7.09112586, 7.6399202 , 8.3591598 , 4.82805381,\n",
       "       2.202787  , 6.81944981, 6.67571566, 5.4396897 , 8.567684  ,\n",
       "       4.36881106, 6.23724748, 7.72079151, 3.64851688, 3.51773889,\n",
       "       7.78347471, 6.1607581 , 4.58105165, 9.8727488 , 4.40493577,\n",
       "       3.91951658, 8.63974187, 5.55588652, 6.79013438, 8.13018519,\n",
       "       4.42564408, 8.89872606, 7.5601044 , 2.02400613, 2.62893991,\n",
       "       6.36423481, 9.02778099, 6.23800847, 2.38136744, 9.14192026,\n",
       "       3.00225319, 2.4311818 , 5.88221494, 6.13903634, 6.68686118,\n",
       "       8.81547224, 8.73959009, 9.00495964, 4.21996514, 6.15043682,\n",
       "       3.83724481, 7.26097464, 4.54004526, 5.6059861 , 8.43102592,\n",
       "       2.75525506, 2.61674742, 3.73336652, 9.47283144, 4.89802041,\n",
       "       6.36953795, 2.93960081, 2.12645529, 5.02843651, 6.52662636,\n",
       "       8.07304521, 3.54132214, 8.70971833, 8.72796891, 3.03462247,\n",
       "       6.11659488, 9.39633996, 6.57197612, 7.59853362, 7.32142642,\n",
       "       4.62560554, 4.89015372, 2.24257467, 8.35619776, 2.51991722])"
      ]
     },
     "execution_count": 217,
     "metadata": {},
     "output_type": "execute_result"
    }
   ],
   "source": [
    "np.random.uniform(low  =  2  , high  =  10 ,  size  =  1000)"
   ]
  },
  {
   "cell_type": "markdown",
   "id": "5a1460a4",
   "metadata": {},
   "source": [
    "#  trignometric  functions\n",
    "-  sin \n",
    "- cos\n",
    "- tan "
   ]
  },
  {
   "cell_type": "code",
   "execution_count": 219,
   "id": "826c9ab1",
   "metadata": {},
   "outputs": [
    {
     "data": {
      "text/plain": [
       "[30, 45, 60, 90]"
      ]
     },
     "execution_count": 219,
     "metadata": {},
     "output_type": "execute_result"
    }
   ],
   "source": [
    "angle  "
   ]
  },
  {
   "cell_type": "code",
   "execution_count": 220,
   "id": "020c4c7c",
   "metadata": {},
   "outputs": [
    {
     "data": {
      "text/plain": [
       "array([-0.98803162,  0.85090352, -0.30481062,  0.89399666])"
      ]
     },
     "execution_count": 220,
     "metadata": {},
     "output_type": "execute_result"
    }
   ],
   "source": [
    "np.sin(angle)"
   ]
  },
  {
   "cell_type": "code",
   "execution_count": 221,
   "id": "0b73090a",
   "metadata": {},
   "outputs": [
    {
     "data": {
      "text/plain": [
       "array([ 0.15425145,  0.52532199, -0.95241298, -0.44807362])"
      ]
     },
     "execution_count": 221,
     "metadata": {},
     "output_type": "execute_result"
    }
   ],
   "source": [
    "np.cos(angle)"
   ]
  },
  {
   "cell_type": "code",
   "execution_count": 222,
   "id": "c02ebc39",
   "metadata": {},
   "outputs": [
    {
     "data": {
      "text/plain": [
       "array([-6.4053312 ,  1.61977519,  0.32004039, -1.99520041])"
      ]
     },
     "execution_count": 222,
     "metadata": {},
     "output_type": "execute_result"
    }
   ],
   "source": [
    "np.tan(angle)"
   ]
  },
  {
   "cell_type": "code",
   "execution_count": 223,
   "id": "617f1b87",
   "metadata": {},
   "outputs": [],
   "source": [
    "sec  =  1/np.cos(angle)"
   ]
  },
  {
   "cell_type": "code",
   "execution_count": 224,
   "id": "f1dd73e0",
   "metadata": {},
   "outputs": [
    {
     "data": {
      "text/plain": [
       "array([ 6.48292123,  1.90359441, -1.04996469, -2.23177613])"
      ]
     },
     "execution_count": 224,
     "metadata": {},
     "output_type": "execute_result"
    }
   ],
   "source": [
    "sec"
   ]
  },
  {
   "cell_type": "code",
   "execution_count": 225,
   "id": "806d15c4",
   "metadata": {},
   "outputs": [
    {
     "data": {
      "text/plain": [
       "array([1, 2, 3, 4, 5, 6])"
      ]
     },
     "execution_count": 225,
     "metadata": {},
     "output_type": "execute_result"
    }
   ],
   "source": [
    "ar "
   ]
  },
  {
   "cell_type": "code",
   "execution_count": 226,
   "id": "67c88064",
   "metadata": {},
   "outputs": [
    {
     "name": "stdout",
     "output_type": "stream",
     "text": [
      "1\n",
      "2\n",
      "3\n",
      "4\n",
      "5\n",
      "6\n"
     ]
    }
   ],
   "source": [
    "for i  in ar:\n",
    "    print(i)"
   ]
  },
  {
   "cell_type": "code",
   "execution_count": null,
   "id": "47ab3e51",
   "metadata": {},
   "outputs": [],
   "source": []
  }
 ],
 "metadata": {
  "kernelspec": {
   "display_name": "venv",
   "language": "python",
   "name": "python3"
  },
  "language_info": {
   "codemirror_mode": {
    "name": "ipython",
    "version": 3
   },
   "file_extension": ".py",
   "mimetype": "text/x-python",
   "name": "python",
   "nbconvert_exporter": "python",
   "pygments_lexer": "ipython3",
   "version": "3.13.8"
  }
 },
 "nbformat": 4,
 "nbformat_minor": 5
}
