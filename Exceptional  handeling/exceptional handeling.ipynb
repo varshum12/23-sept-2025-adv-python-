{
 "cells": [
  {
   "cell_type": "code",
   "execution_count": 1,
   "id": "18b745c7",
   "metadata": {},
   "outputs": [
    {
     "ename": "ZeroDivisionError",
     "evalue": "division by zero",
     "output_type": "error",
     "traceback": [
      "\u001b[31m---------------------------------------------------------------------------\u001b[39m",
      "\u001b[31mZeroDivisionError\u001b[39m                         Traceback (most recent call last)",
      "\u001b[36mCell\u001b[39m\u001b[36m \u001b[39m\u001b[32mIn[1]\u001b[39m\u001b[32m, line 1\u001b[39m\n\u001b[32m----> \u001b[39m\u001b[32m1\u001b[39m \u001b[32;43m4\u001b[39;49m\u001b[43m/\u001b[49m\u001b[32;43m0\u001b[39;49m\n",
      "\u001b[31mZeroDivisionError\u001b[39m: division by zero"
     ]
    }
   ],
   "source": [
    "4/0"
   ]
  },
  {
   "cell_type": "code",
   "execution_count": 2,
   "id": "c0017dfb",
   "metadata": {},
   "outputs": [
    {
     "ename": "ValueError",
     "evalue": "invalid literal for int() with base 10: 'swara'",
     "output_type": "error",
     "traceback": [
      "\u001b[31m---------------------------------------------------------------------------\u001b[39m",
      "\u001b[31mValueError\u001b[39m                                Traceback (most recent call last)",
      "\u001b[36mCell\u001b[39m\u001b[36m \u001b[39m\u001b[32mIn[2]\u001b[39m\u001b[32m, line 2\u001b[39m\n\u001b[32m      1\u001b[39m s  =  \u001b[33m'\u001b[39m\u001b[33mswara\u001b[39m\u001b[33m'\u001b[39m\n\u001b[32m----> \u001b[39m\u001b[32m2\u001b[39m \u001b[38;5;28;43mint\u001b[39;49m\u001b[43m(\u001b[49m\u001b[43ms\u001b[49m\u001b[43m)\u001b[49m\n",
      "\u001b[31mValueError\u001b[39m: invalid literal for int() with base 10: 'swara'"
     ]
    }
   ],
   "source": [
    "s  =  'swara'\n",
    "int(s)"
   ]
  },
  {
   "cell_type": "code",
   "execution_count": 3,
   "id": "5386e3db",
   "metadata": {},
   "outputs": [
    {
     "ename": "TypeError",
     "evalue": "unsupported operand type(s) for /: 'str' and 'int'",
     "output_type": "error",
     "traceback": [
      "\u001b[31m---------------------------------------------------------------------------\u001b[39m",
      "\u001b[31mTypeError\u001b[39m                                 Traceback (most recent call last)",
      "\u001b[36mCell\u001b[39m\u001b[36m \u001b[39m\u001b[32mIn[3]\u001b[39m\u001b[32m, line 1\u001b[39m\n\u001b[32m----> \u001b[39m\u001b[32m1\u001b[39m \u001b[33;43m'\u001b[39;49m\u001b[33;43m123\u001b[39;49m\u001b[33;43m'\u001b[39;49m\u001b[43m/\u001b[49m\u001b[32;43m12\u001b[39;49m\n",
      "\u001b[31mTypeError\u001b[39m: unsupported operand type(s) for /: 'str' and 'int'"
     ]
    }
   ],
   "source": [
    "'123'/12"
   ]
  },
  {
   "cell_type": "markdown",
   "id": "7096c000",
   "metadata": {},
   "source": [
    "#### Create  function  for  number division"
   ]
  },
  {
   "cell_type": "code",
   "execution_count": 6,
   "id": "d94f5dc4",
   "metadata": {},
   "outputs": [],
   "source": [
    "def  div():\n",
    "    num =  float(input('Enter number here'))\n",
    "    den =  float(input('enter number here'))\n",
    "    div  =  num/den\n",
    "    print(f'division of {num} and  {den} -- >  {num}/{den}')\n",
    "\n",
    "    return div"
   ]
  },
  {
   "cell_type": "code",
   "execution_count": 7,
   "id": "b14bd84e",
   "metadata": {},
   "outputs": [
    {
     "name": "stdout",
     "output_type": "stream",
     "text": [
      "division of 120.0 and  10.0 -- >  120.0/10.0\n"
     ]
    },
    {
     "data": {
      "text/plain": [
       "12.0"
      ]
     },
     "execution_count": 7,
     "metadata": {},
     "output_type": "execute_result"
    }
   ],
   "source": [
    "# take  num  =  120 , den =  10\n",
    "div()"
   ]
  },
  {
   "cell_type": "code",
   "execution_count": 8,
   "id": "af939f2e",
   "metadata": {},
   "outputs": [
    {
     "ename": "ValueError",
     "evalue": "could not convert string to float: ''",
     "output_type": "error",
     "traceback": [
      "\u001b[31m---------------------------------------------------------------------------\u001b[39m",
      "\u001b[31mValueError\u001b[39m                                Traceback (most recent call last)",
      "\u001b[36mCell\u001b[39m\u001b[36m \u001b[39m\u001b[32mIn[8]\u001b[39m\u001b[32m, line 2\u001b[39m\n\u001b[32m      1\u001b[39m \u001b[38;5;66;03m#  num =  100  den  = ''\u001b[39;00m\n\u001b[32m----> \u001b[39m\u001b[32m2\u001b[39m \u001b[43mdiv\u001b[49m\u001b[43m(\u001b[49m\u001b[43m)\u001b[49m\n",
      "\u001b[36mCell\u001b[39m\u001b[36m \u001b[39m\u001b[32mIn[6]\u001b[39m\u001b[32m, line 3\u001b[39m, in \u001b[36mdiv\u001b[39m\u001b[34m()\u001b[39m\n\u001b[32m      1\u001b[39m \u001b[38;5;28;01mdef\u001b[39;00m\u001b[38;5;250m  \u001b[39m\u001b[34mdiv\u001b[39m():\n\u001b[32m      2\u001b[39m     num =  \u001b[38;5;28mfloat\u001b[39m(\u001b[38;5;28minput\u001b[39m(\u001b[33m'\u001b[39m\u001b[33mEnter number here\u001b[39m\u001b[33m'\u001b[39m))\n\u001b[32m----> \u001b[39m\u001b[32m3\u001b[39m     den =  \u001b[38;5;28;43mfloat\u001b[39;49m\u001b[43m(\u001b[49m\u001b[38;5;28;43minput\u001b[39;49m\u001b[43m(\u001b[49m\u001b[33;43m'\u001b[39;49m\u001b[33;43menter number here\u001b[39;49m\u001b[33;43m'\u001b[39;49m\u001b[43m)\u001b[49m\u001b[43m)\u001b[49m\n\u001b[32m      4\u001b[39m     div  =  num/den\n\u001b[32m      5\u001b[39m     \u001b[38;5;28mprint\u001b[39m(\u001b[33mf\u001b[39m\u001b[33m'\u001b[39m\u001b[33mdivision of \u001b[39m\u001b[38;5;132;01m{\u001b[39;00mnum\u001b[38;5;132;01m}\u001b[39;00m\u001b[33m and  \u001b[39m\u001b[38;5;132;01m{\u001b[39;00mden\u001b[38;5;132;01m}\u001b[39;00m\u001b[33m -- >  \u001b[39m\u001b[38;5;132;01m{\u001b[39;00mnum\u001b[38;5;132;01m}\u001b[39;00m\u001b[33m/\u001b[39m\u001b[38;5;132;01m{\u001b[39;00mden\u001b[38;5;132;01m}\u001b[39;00m\u001b[33m'\u001b[39m)\n",
      "\u001b[31mValueError\u001b[39m: could not convert string to float: ''"
     ]
    }
   ],
   "source": [
    "#  num =  100  den  = ''\n",
    "div()"
   ]
  },
  {
   "cell_type": "code",
   "execution_count": 9,
   "id": "17515ba4",
   "metadata": {},
   "outputs": [
    {
     "ename": "ValueError",
     "evalue": "could not convert string to float: \"'123'\"",
     "output_type": "error",
     "traceback": [
      "\u001b[31m---------------------------------------------------------------------------\u001b[39m",
      "\u001b[31mValueError\u001b[39m                                Traceback (most recent call last)",
      "\u001b[36mCell\u001b[39m\u001b[36m \u001b[39m\u001b[32mIn[9]\u001b[39m\u001b[32m, line 2\u001b[39m\n\u001b[32m      1\u001b[39m \u001b[38;5;66;03m# take num  = '123' ,  den   =  10\u001b[39;00m\n\u001b[32m----> \u001b[39m\u001b[32m2\u001b[39m \u001b[43mdiv\u001b[49m\u001b[43m(\u001b[49m\u001b[43m)\u001b[49m\n",
      "\u001b[36mCell\u001b[39m\u001b[36m \u001b[39m\u001b[32mIn[6]\u001b[39m\u001b[32m, line 2\u001b[39m, in \u001b[36mdiv\u001b[39m\u001b[34m()\u001b[39m\n\u001b[32m      1\u001b[39m \u001b[38;5;28;01mdef\u001b[39;00m\u001b[38;5;250m  \u001b[39m\u001b[34mdiv\u001b[39m():\n\u001b[32m----> \u001b[39m\u001b[32m2\u001b[39m     num =  \u001b[38;5;28;43mfloat\u001b[39;49m\u001b[43m(\u001b[49m\u001b[38;5;28;43minput\u001b[39;49m\u001b[43m(\u001b[49m\u001b[33;43m'\u001b[39;49m\u001b[33;43mEnter number here\u001b[39;49m\u001b[33;43m'\u001b[39;49m\u001b[43m)\u001b[49m\u001b[43m)\u001b[49m\n\u001b[32m      3\u001b[39m     den =  \u001b[38;5;28mfloat\u001b[39m(\u001b[38;5;28minput\u001b[39m(\u001b[33m'\u001b[39m\u001b[33menter number here\u001b[39m\u001b[33m'\u001b[39m))\n\u001b[32m      4\u001b[39m     div  =  num/den\n",
      "\u001b[31mValueError\u001b[39m: could not convert string to float: \"'123'\""
     ]
    }
   ],
   "source": [
    "# take num  = '123' ,  den   =  10\n",
    "div()"
   ]
  },
  {
   "cell_type": "code",
   "execution_count": 11,
   "id": "416cfc6e",
   "metadata": {},
   "outputs": [
    {
     "ename": "ZeroDivisionError",
     "evalue": "float division by zero",
     "output_type": "error",
     "traceback": [
      "\u001b[31m---------------------------------------------------------------------------\u001b[39m",
      "\u001b[31mZeroDivisionError\u001b[39m                         Traceback (most recent call last)",
      "\u001b[36mCell\u001b[39m\u001b[36m \u001b[39m\u001b[32mIn[11]\u001b[39m\u001b[32m, line 2\u001b[39m\n\u001b[32m      1\u001b[39m \u001b[38;5;66;03m#  input num  = 123 ,  den  =  0\u001b[39;00m\n\u001b[32m----> \u001b[39m\u001b[32m2\u001b[39m \u001b[43mdiv\u001b[49m\u001b[43m(\u001b[49m\u001b[43m)\u001b[49m\n\u001b[32m      3\u001b[39m \u001b[38;5;28mprint\u001b[39m(\u001b[33m'\u001b[39m\u001b[33mHello\u001b[39m\u001b[33m'\u001b[39m)\n",
      "\u001b[36mCell\u001b[39m\u001b[36m \u001b[39m\u001b[32mIn[6]\u001b[39m\u001b[32m, line 4\u001b[39m, in \u001b[36mdiv\u001b[39m\u001b[34m()\u001b[39m\n\u001b[32m      2\u001b[39m num =  \u001b[38;5;28mfloat\u001b[39m(\u001b[38;5;28minput\u001b[39m(\u001b[33m'\u001b[39m\u001b[33mEnter number here\u001b[39m\u001b[33m'\u001b[39m))\n\u001b[32m      3\u001b[39m den =  \u001b[38;5;28mfloat\u001b[39m(\u001b[38;5;28minput\u001b[39m(\u001b[33m'\u001b[39m\u001b[33menter number here\u001b[39m\u001b[33m'\u001b[39m))\n\u001b[32m----> \u001b[39m\u001b[32m4\u001b[39m div  =  \u001b[43mnum\u001b[49m\u001b[43m/\u001b[49m\u001b[43mden\u001b[49m\n\u001b[32m      5\u001b[39m \u001b[38;5;28mprint\u001b[39m(\u001b[33mf\u001b[39m\u001b[33m'\u001b[39m\u001b[33mdivision of \u001b[39m\u001b[38;5;132;01m{\u001b[39;00mnum\u001b[38;5;132;01m}\u001b[39;00m\u001b[33m and  \u001b[39m\u001b[38;5;132;01m{\u001b[39;00mden\u001b[38;5;132;01m}\u001b[39;00m\u001b[33m -- >  \u001b[39m\u001b[38;5;132;01m{\u001b[39;00mnum\u001b[38;5;132;01m}\u001b[39;00m\u001b[33m/\u001b[39m\u001b[38;5;132;01m{\u001b[39;00mden\u001b[38;5;132;01m}\u001b[39;00m\u001b[33m'\u001b[39m)\n\u001b[32m      7\u001b[39m \u001b[38;5;28;01mreturn\u001b[39;00m div\n",
      "\u001b[31mZeroDivisionError\u001b[39m: float division by zero"
     ]
    }
   ],
   "source": [
    "#  input num  = 123 ,  den  =  0\n",
    "div()\n",
    "print('Hello')"
   ]
  },
  {
   "cell_type": "code",
   "execution_count": null,
   "id": "f69937d2",
   "metadata": {},
   "outputs": [
    {
     "name": "stdout",
     "output_type": "stream",
     "text": [
      "division of 12.0 and  2.0 -- >  12.0/2.0\n",
      "Hello\n"
     ]
    }
   ],
   "source": [
    "div()\n",
    "print('Hello')\n"
   ]
  },
  {
   "cell_type": "markdown",
   "id": "b5915c13",
   "metadata": {},
   "source": [
    "#### use  trye and  except  block  to handel  div\n",
    "######  create  function"
   ]
  },
  {
   "cell_type": "code",
   "execution_count": 26,
   "id": "ec06d423",
   "metadata": {},
   "outputs": [],
   "source": [
    "def  div1():\n",
    "    try:\n",
    "        num =  float(input('Enter number here'))\n",
    "        den =  float(input('enter number here'))\n",
    "        div  =  num/den\n",
    "        print(f'division of {num} and  {den} -- >  {num}/{den}')\n",
    "        return  div\n",
    "\n",
    "    except Exception  as e:\n",
    "        print(f'Exception occured at  {e}')"
   ]
  },
  {
   "cell_type": "code",
   "execution_count": 27,
   "id": "b98a1d09",
   "metadata": {},
   "outputs": [
    {
     "name": "stdout",
     "output_type": "stream",
     "text": [
      "division of 200.0 and  20.0 -- >  200.0/20.0\n"
     ]
    },
    {
     "data": {
      "text/plain": [
       "10.0"
      ]
     },
     "execution_count": 27,
     "metadata": {},
     "output_type": "execute_result"
    }
   ],
   "source": [
    "#  take  num =  200  , den  =  20\n",
    "a =  div1()\n",
    "a"
   ]
  },
  {
   "cell_type": "code",
   "execution_count": 21,
   "id": "1429c893",
   "metadata": {},
   "outputs": [
    {
     "name": "stdout",
     "output_type": "stream",
     "text": [
      "Exception occured at  float division by zero\n",
      "hello\n"
     ]
    }
   ],
   "source": [
    "#  take  num  =  20  ,  den =  0\n",
    "div1()\n",
    "print('hello')"
   ]
  },
  {
   "cell_type": "code",
   "execution_count": 29,
   "id": "b2ad47a9",
   "metadata": {},
   "outputs": [
    {
     "name": "stdout",
     "output_type": "stream",
     "text": [
      "Exception occured at  could not convert string to float: \"'12'\"\n",
      "1\n",
      "2\n",
      "3\n",
      "4\n",
      "5\n",
      "6\n",
      "7\n",
      "8\n",
      "9\n",
      "10\n"
     ]
    }
   ],
   "source": [
    "# take  num  =  230  ,  den =  '12'\n",
    "div1()\n",
    "for i  in range(1, 11):\n",
    "    print(i)"
   ]
  },
  {
   "cell_type": "code",
   "execution_count": 31,
   "id": "b56f8030",
   "metadata": {},
   "outputs": [
    {
     "name": "stdout",
     "output_type": "stream",
     "text": [
      "Exception occured at  could not convert string to float: ''\n",
      "odd number\n"
     ]
    }
   ],
   "source": [
    "#  keep  den  blank\n",
    "div1()\n",
    "# number  is  even or odd\n",
    "num  =  int(input())\n",
    "if  num%2==0:\n",
    "    print('even  number')\n",
    "else:\n",
    "    print('odd number')"
   ]
  },
  {
   "cell_type": "markdown",
   "id": "dca15da0",
   "metadata": {},
   "source": [
    "### use customize message  for  division handeling"
   ]
  },
  {
   "cell_type": "code",
   "execution_count": 42,
   "id": "dd8ecc99",
   "metadata": {},
   "outputs": [],
   "source": [
    "def div2():\n",
    "    try:\n",
    "        num =  float(input('Enter number here'))\n",
    "        den =  float(input('enter number here'))\n",
    "        div  =  num/den\n",
    "        print(f'division of {num} and  {den} -- >  {num}/{den}')\n",
    "        return  div\n",
    "    except ZeroDivisionError:\n",
    "        print('denominator  should  not  be 0')\n",
    "\n",
    "    except ValueError :\n",
    "        print('Input  should  not be  string or  blank')\n",
    "    except Exception as  e:\n",
    "        print('Exception  occured at  {e}')"
   ]
  },
  {
   "cell_type": "code",
   "execution_count": 43,
   "id": "a887003f",
   "metadata": {},
   "outputs": [
    {
     "name": "stdout",
     "output_type": "stream",
     "text": [
      "division of 12.0 and  6.0 -- >  12.0/6.0\n"
     ]
    },
    {
     "data": {
      "text/plain": [
       "2.0"
      ]
     },
     "execution_count": 43,
     "metadata": {},
     "output_type": "execute_result"
    }
   ],
   "source": [
    "#  take input num  =  12  , den  =  6\n",
    "div2()"
   ]
  },
  {
   "cell_type": "code",
   "execution_count": 44,
   "id": "444590bc",
   "metadata": {},
   "outputs": [
    {
     "name": "stdout",
     "output_type": "stream",
     "text": [
      "denominator  should  not  be 0\n"
     ]
    }
   ],
   "source": [
    "# take  den  = 0\n",
    "div2()"
   ]
  },
  {
   "cell_type": "code",
   "execution_count": 45,
   "id": "15432710",
   "metadata": {},
   "outputs": [
    {
     "name": "stdout",
     "output_type": "stream",
     "text": [
      "Input  should  not be  string or  blank\n"
     ]
    }
   ],
   "source": [
    "#  take  num = '123'\n",
    "div2()"
   ]
  },
  {
   "cell_type": "code",
   "execution_count": 46,
   "id": "68a89b29",
   "metadata": {},
   "outputs": [
    {
     "name": "stdout",
     "output_type": "stream",
     "text": [
      "Input  should  not be  string or  blank\n"
     ]
    }
   ],
   "source": [
    "#  keep den  blank\n",
    "div2()"
   ]
  },
  {
   "cell_type": "code",
   "execution_count": 32,
   "id": "344c7e38",
   "metadata": {},
   "outputs": [],
   "source": [
    "path  =  r\"C:\\Users\\admin\\Desktop\\Power Query Data\\2020 Order Data.xlsx\""
   ]
  },
  {
   "cell_type": "code",
   "execution_count": null,
   "id": "4131a39a",
   "metadata": {},
   "outputs": [],
   "source": []
  },
  {
   "cell_type": "code",
   "execution_count": 34,
   "id": "92b069f3",
   "metadata": {},
   "outputs": [],
   "source": [
    "import  pandas as  pd"
   ]
  },
  {
   "cell_type": "code",
   "execution_count": 35,
   "id": "5383223c",
   "metadata": {},
   "outputs": [],
   "source": [
    "df  =  pd.read_excel(path)"
   ]
  },
  {
   "cell_type": "code",
   "execution_count": 36,
   "id": "f0ddcdf8",
   "metadata": {},
   "outputs": [
    {
     "data": {
      "text/html": [
       "<div>\n",
       "<style scoped>\n",
       "    .dataframe tbody tr th:only-of-type {\n",
       "        vertical-align: middle;\n",
       "    }\n",
       "\n",
       "    .dataframe tbody tr th {\n",
       "        vertical-align: top;\n",
       "    }\n",
       "\n",
       "    .dataframe thead th {\n",
       "        text-align: right;\n",
       "    }\n",
       "</style>\n",
       "<table border=\"1\" class=\"dataframe\">\n",
       "  <thead>\n",
       "    <tr style=\"text-align: right;\">\n",
       "      <th></th>\n",
       "      <th>Order ID</th>\n",
       "      <th>Customer ID</th>\n",
       "      <th>Cookies Shipped</th>\n",
       "      <th>Revenue</th>\n",
       "      <th>Cost</th>\n",
       "      <th>Order Date</th>\n",
       "      <th>Ship Date</th>\n",
       "      <th>Order Status</th>\n",
       "    </tr>\n",
       "  </thead>\n",
       "  <tbody>\n",
       "    <tr>\n",
       "      <th>0</th>\n",
       "      <td>577597</td>\n",
       "      <td>152689 - YT Restaurants</td>\n",
       "      <td>329</td>\n",
       "      <td>1645</td>\n",
       "      <td>822.5</td>\n",
       "      <td>2020-11-23</td>\n",
       "      <td>NaT</td>\n",
       "      <td>Open</td>\n",
       "    </tr>\n",
       "    <tr>\n",
       "      <th>1</th>\n",
       "      <td>503658</td>\n",
       "      <td>985245 - Quick Bite Convenience Stores</td>\n",
       "      <td>350</td>\n",
       "      <td>1750</td>\n",
       "      <td>875.0</td>\n",
       "      <td>2020-11-23</td>\n",
       "      <td>NaT</td>\n",
       "      <td>Open</td>\n",
       "    </tr>\n",
       "    <tr>\n",
       "      <th>2</th>\n",
       "      <td>797851</td>\n",
       "      <td>785432 - Park &amp; Eat LLC</td>\n",
       "      <td>981</td>\n",
       "      <td>4905</td>\n",
       "      <td>2452.5</td>\n",
       "      <td>2020-11-21</td>\n",
       "      <td>NaT</td>\n",
       "      <td>Open</td>\n",
       "    </tr>\n",
       "    <tr>\n",
       "      <th>3</th>\n",
       "      <td>552860</td>\n",
       "      <td>152689 - YT Restaurants</td>\n",
       "      <td>843</td>\n",
       "      <td>4215</td>\n",
       "      <td>2107.5</td>\n",
       "      <td>2020-11-21</td>\n",
       "      <td>NaT</td>\n",
       "      <td>Open</td>\n",
       "    </tr>\n",
       "    <tr>\n",
       "      <th>4</th>\n",
       "      <td>466725</td>\n",
       "      <td>985245 - Quick Bite Convenience Stores</td>\n",
       "      <td>154</td>\n",
       "      <td>770</td>\n",
       "      <td>385.0</td>\n",
       "      <td>2020-11-22</td>\n",
       "      <td>NaT</td>\n",
       "      <td>Open</td>\n",
       "    </tr>\n",
       "  </tbody>\n",
       "</table>\n",
       "</div>"
      ],
      "text/plain": [
       "  Order ID                             Customer ID  Cookies Shipped  Revenue  \\\n",
       "0   577597                 152689 - YT Restaurants              329     1645   \n",
       "1   503658  985245 - Quick Bite Convenience Stores              350     1750   \n",
       "2   797851                 785432 - Park & Eat LLC              981     4905   \n",
       "3   552860                 152689 - YT Restaurants              843     4215   \n",
       "4   466725  985245 - Quick Bite Convenience Stores              154      770   \n",
       "\n",
       "     Cost Order Date Ship Date Order Status  \n",
       "0   822.5 2020-11-23       NaT         Open  \n",
       "1   875.0 2020-11-23       NaT         Open  \n",
       "2  2452.5 2020-11-21       NaT         Open  \n",
       "3  2107.5 2020-11-21       NaT         Open  \n",
       "4   385.0 2020-11-22       NaT         Open  "
      ]
     },
     "execution_count": 36,
     "metadata": {},
     "output_type": "execute_result"
    }
   ],
   "source": [
    "df.head()"
   ]
  },
  {
   "cell_type": "code",
   "execution_count": 37,
   "id": "42e05769",
   "metadata": {},
   "outputs": [],
   "source": [
    "path  =  r\"C:\\Users\\admin\\Desktop\\Power Query \\2020 Order Data.xlsx\""
   ]
  },
  {
   "cell_type": "code",
   "execution_count": 38,
   "id": "160ebb10",
   "metadata": {},
   "outputs": [
    {
     "ename": "FileNotFoundError",
     "evalue": "[Errno 2] No such file or directory: 'C:\\\\Users\\\\admin\\\\Desktop\\\\Power Query \\\\2020 Order Data.xlsx'",
     "output_type": "error",
     "traceback": [
      "\u001b[31m---------------------------------------------------------------------------\u001b[39m",
      "\u001b[31mFileNotFoundError\u001b[39m                         Traceback (most recent call last)",
      "\u001b[36mCell\u001b[39m\u001b[36m \u001b[39m\u001b[32mIn[38]\u001b[39m\u001b[32m, line 1\u001b[39m\n\u001b[32m----> \u001b[39m\u001b[32m1\u001b[39m \u001b[43mpd\u001b[49m\u001b[43m.\u001b[49m\u001b[43mread_excel\u001b[49m\u001b[43m(\u001b[49m\u001b[43mpath\u001b[49m\u001b[43m)\u001b[49m\n",
      "\u001b[36mFile \u001b[39m\u001b[32md:\\23 sept ADV PYTHON Weekdays\\repository\\venv\\Lib\\site-packages\\pandas\\io\\excel\\_base.py:495\u001b[39m, in \u001b[36mread_excel\u001b[39m\u001b[34m(io, sheet_name, header, names, index_col, usecols, dtype, engine, converters, true_values, false_values, skiprows, nrows, na_values, keep_default_na, na_filter, verbose, parse_dates, date_parser, date_format, thousands, decimal, comment, skipfooter, storage_options, dtype_backend, engine_kwargs)\u001b[39m\n\u001b[32m    493\u001b[39m \u001b[38;5;28;01mif\u001b[39;00m \u001b[38;5;129;01mnot\u001b[39;00m \u001b[38;5;28misinstance\u001b[39m(io, ExcelFile):\n\u001b[32m    494\u001b[39m     should_close = \u001b[38;5;28;01mTrue\u001b[39;00m\n\u001b[32m--> \u001b[39m\u001b[32m495\u001b[39m     io = \u001b[43mExcelFile\u001b[49m\u001b[43m(\u001b[49m\n\u001b[32m    496\u001b[39m \u001b[43m        \u001b[49m\u001b[43mio\u001b[49m\u001b[43m,\u001b[49m\n\u001b[32m    497\u001b[39m \u001b[43m        \u001b[49m\u001b[43mstorage_options\u001b[49m\u001b[43m=\u001b[49m\u001b[43mstorage_options\u001b[49m\u001b[43m,\u001b[49m\n\u001b[32m    498\u001b[39m \u001b[43m        \u001b[49m\u001b[43mengine\u001b[49m\u001b[43m=\u001b[49m\u001b[43mengine\u001b[49m\u001b[43m,\u001b[49m\n\u001b[32m    499\u001b[39m \u001b[43m        \u001b[49m\u001b[43mengine_kwargs\u001b[49m\u001b[43m=\u001b[49m\u001b[43mengine_kwargs\u001b[49m\u001b[43m,\u001b[49m\n\u001b[32m    500\u001b[39m \u001b[43m    \u001b[49m\u001b[43m)\u001b[49m\n\u001b[32m    501\u001b[39m \u001b[38;5;28;01melif\u001b[39;00m engine \u001b[38;5;129;01mand\u001b[39;00m engine != io.engine:\n\u001b[32m    502\u001b[39m     \u001b[38;5;28;01mraise\u001b[39;00m \u001b[38;5;167;01mValueError\u001b[39;00m(\n\u001b[32m    503\u001b[39m         \u001b[33m\"\u001b[39m\u001b[33mEngine should not be specified when passing \u001b[39m\u001b[33m\"\u001b[39m\n\u001b[32m    504\u001b[39m         \u001b[33m\"\u001b[39m\u001b[33man ExcelFile - ExcelFile already has the engine set\u001b[39m\u001b[33m\"\u001b[39m\n\u001b[32m    505\u001b[39m     )\n",
      "\u001b[36mFile \u001b[39m\u001b[32md:\\23 sept ADV PYTHON Weekdays\\repository\\venv\\Lib\\site-packages\\pandas\\io\\excel\\_base.py:1550\u001b[39m, in \u001b[36mExcelFile.__init__\u001b[39m\u001b[34m(self, path_or_buffer, engine, storage_options, engine_kwargs)\u001b[39m\n\u001b[32m   1548\u001b[39m     ext = \u001b[33m\"\u001b[39m\u001b[33mxls\u001b[39m\u001b[33m\"\u001b[39m\n\u001b[32m   1549\u001b[39m \u001b[38;5;28;01melse\u001b[39;00m:\n\u001b[32m-> \u001b[39m\u001b[32m1550\u001b[39m     ext = \u001b[43minspect_excel_format\u001b[49m\u001b[43m(\u001b[49m\n\u001b[32m   1551\u001b[39m \u001b[43m        \u001b[49m\u001b[43mcontent_or_path\u001b[49m\u001b[43m=\u001b[49m\u001b[43mpath_or_buffer\u001b[49m\u001b[43m,\u001b[49m\u001b[43m \u001b[49m\u001b[43mstorage_options\u001b[49m\u001b[43m=\u001b[49m\u001b[43mstorage_options\u001b[49m\n\u001b[32m   1552\u001b[39m \u001b[43m    \u001b[49m\u001b[43m)\u001b[49m\n\u001b[32m   1553\u001b[39m     \u001b[38;5;28;01mif\u001b[39;00m ext \u001b[38;5;129;01mis\u001b[39;00m \u001b[38;5;28;01mNone\u001b[39;00m:\n\u001b[32m   1554\u001b[39m         \u001b[38;5;28;01mraise\u001b[39;00m \u001b[38;5;167;01mValueError\u001b[39;00m(\n\u001b[32m   1555\u001b[39m             \u001b[33m\"\u001b[39m\u001b[33mExcel file format cannot be determined, you must specify \u001b[39m\u001b[33m\"\u001b[39m\n\u001b[32m   1556\u001b[39m             \u001b[33m\"\u001b[39m\u001b[33man engine manually.\u001b[39m\u001b[33m\"\u001b[39m\n\u001b[32m   1557\u001b[39m         )\n",
      "\u001b[36mFile \u001b[39m\u001b[32md:\\23 sept ADV PYTHON Weekdays\\repository\\venv\\Lib\\site-packages\\pandas\\io\\excel\\_base.py:1402\u001b[39m, in \u001b[36minspect_excel_format\u001b[39m\u001b[34m(content_or_path, storage_options)\u001b[39m\n\u001b[32m   1399\u001b[39m \u001b[38;5;28;01mif\u001b[39;00m \u001b[38;5;28misinstance\u001b[39m(content_or_path, \u001b[38;5;28mbytes\u001b[39m):\n\u001b[32m   1400\u001b[39m     content_or_path = BytesIO(content_or_path)\n\u001b[32m-> \u001b[39m\u001b[32m1402\u001b[39m \u001b[38;5;28;01mwith\u001b[39;00m \u001b[43mget_handle\u001b[49m\u001b[43m(\u001b[49m\n\u001b[32m   1403\u001b[39m \u001b[43m    \u001b[49m\u001b[43mcontent_or_path\u001b[49m\u001b[43m,\u001b[49m\u001b[43m \u001b[49m\u001b[33;43m\"\u001b[39;49m\u001b[33;43mrb\u001b[39;49m\u001b[33;43m\"\u001b[39;49m\u001b[43m,\u001b[49m\u001b[43m \u001b[49m\u001b[43mstorage_options\u001b[49m\u001b[43m=\u001b[49m\u001b[43mstorage_options\u001b[49m\u001b[43m,\u001b[49m\u001b[43m \u001b[49m\u001b[43mis_text\u001b[49m\u001b[43m=\u001b[49m\u001b[38;5;28;43;01mFalse\u001b[39;49;00m\n\u001b[32m   1404\u001b[39m \u001b[43m\u001b[49m\u001b[43m)\u001b[49m \u001b[38;5;28;01mas\u001b[39;00m handle:\n\u001b[32m   1405\u001b[39m     stream = handle.handle\n\u001b[32m   1406\u001b[39m     stream.seek(\u001b[32m0\u001b[39m)\n",
      "\u001b[36mFile \u001b[39m\u001b[32md:\\23 sept ADV PYTHON Weekdays\\repository\\venv\\Lib\\site-packages\\pandas\\io\\common.py:882\u001b[39m, in \u001b[36mget_handle\u001b[39m\u001b[34m(path_or_buf, mode, encoding, compression, memory_map, is_text, errors, storage_options)\u001b[39m\n\u001b[32m    873\u001b[39m         handle = \u001b[38;5;28mopen\u001b[39m(\n\u001b[32m    874\u001b[39m             handle,\n\u001b[32m    875\u001b[39m             ioargs.mode,\n\u001b[32m   (...)\u001b[39m\u001b[32m    878\u001b[39m             newline=\u001b[33m\"\u001b[39m\u001b[33m\"\u001b[39m,\n\u001b[32m    879\u001b[39m         )\n\u001b[32m    880\u001b[39m     \u001b[38;5;28;01melse\u001b[39;00m:\n\u001b[32m    881\u001b[39m         \u001b[38;5;66;03m# Binary mode\u001b[39;00m\n\u001b[32m--> \u001b[39m\u001b[32m882\u001b[39m         handle = \u001b[38;5;28;43mopen\u001b[39;49m\u001b[43m(\u001b[49m\u001b[43mhandle\u001b[49m\u001b[43m,\u001b[49m\u001b[43m \u001b[49m\u001b[43mioargs\u001b[49m\u001b[43m.\u001b[49m\u001b[43mmode\u001b[49m\u001b[43m)\u001b[49m\n\u001b[32m    883\u001b[39m     handles.append(handle)\n\u001b[32m    885\u001b[39m \u001b[38;5;66;03m# Convert BytesIO or file objects passed with an encoding\u001b[39;00m\n",
      "\u001b[31mFileNotFoundError\u001b[39m: [Errno 2] No such file or directory: 'C:\\\\Users\\\\admin\\\\Desktop\\\\Power Query \\\\2020 Order Data.xlsx'"
     ]
    }
   ],
   "source": [
    "pd.read_excel(path)"
   ]
  },
  {
   "cell_type": "code",
   "execution_count": 39,
   "id": "d73035c7",
   "metadata": {},
   "outputs": [],
   "source": [
    "def  file_read(path):\n",
    "    import pandas as pd\n",
    "    df =  pd.read_excel(path)\n",
    "    return  df"
   ]
  },
  {
   "cell_type": "code",
   "execution_count": 48,
   "id": "a407b7df",
   "metadata": {},
   "outputs": [
    {
     "data": {
      "text/html": [
       "<div>\n",
       "<style scoped>\n",
       "    .dataframe tbody tr th:only-of-type {\n",
       "        vertical-align: middle;\n",
       "    }\n",
       "\n",
       "    .dataframe tbody tr th {\n",
       "        vertical-align: top;\n",
       "    }\n",
       "\n",
       "    .dataframe thead th {\n",
       "        text-align: right;\n",
       "    }\n",
       "</style>\n",
       "<table border=\"1\" class=\"dataframe\">\n",
       "  <thead>\n",
       "    <tr style=\"text-align: right;\">\n",
       "      <th></th>\n",
       "      <th>Order ID</th>\n",
       "      <th>Customer ID</th>\n",
       "      <th>Cookies Shipped</th>\n",
       "      <th>Revenue</th>\n",
       "      <th>Cost</th>\n",
       "      <th>Order Date</th>\n",
       "      <th>Ship Date</th>\n",
       "      <th>Order Status</th>\n",
       "    </tr>\n",
       "  </thead>\n",
       "  <tbody>\n",
       "    <tr>\n",
       "      <th>0</th>\n",
       "      <td>577597</td>\n",
       "      <td>152689 - YT Restaurants</td>\n",
       "      <td>329</td>\n",
       "      <td>1645</td>\n",
       "      <td>822.5</td>\n",
       "      <td>2020-11-23</td>\n",
       "      <td>NaT</td>\n",
       "      <td>Open</td>\n",
       "    </tr>\n",
       "    <tr>\n",
       "      <th>1</th>\n",
       "      <td>503658</td>\n",
       "      <td>985245 - Quick Bite Convenience Stores</td>\n",
       "      <td>350</td>\n",
       "      <td>1750</td>\n",
       "      <td>875.0</td>\n",
       "      <td>2020-11-23</td>\n",
       "      <td>NaT</td>\n",
       "      <td>Open</td>\n",
       "    </tr>\n",
       "    <tr>\n",
       "      <th>2</th>\n",
       "      <td>797851</td>\n",
       "      <td>785432 - Park &amp; Eat LLC</td>\n",
       "      <td>981</td>\n",
       "      <td>4905</td>\n",
       "      <td>2452.5</td>\n",
       "      <td>2020-11-21</td>\n",
       "      <td>NaT</td>\n",
       "      <td>Open</td>\n",
       "    </tr>\n",
       "    <tr>\n",
       "      <th>3</th>\n",
       "      <td>552860</td>\n",
       "      <td>152689 - YT Restaurants</td>\n",
       "      <td>843</td>\n",
       "      <td>4215</td>\n",
       "      <td>2107.5</td>\n",
       "      <td>2020-11-21</td>\n",
       "      <td>NaT</td>\n",
       "      <td>Open</td>\n",
       "    </tr>\n",
       "    <tr>\n",
       "      <th>4</th>\n",
       "      <td>466725</td>\n",
       "      <td>985245 - Quick Bite Convenience Stores</td>\n",
       "      <td>154</td>\n",
       "      <td>770</td>\n",
       "      <td>385.0</td>\n",
       "      <td>2020-11-22</td>\n",
       "      <td>NaT</td>\n",
       "      <td>Open</td>\n",
       "    </tr>\n",
       "    <tr>\n",
       "      <th>...</th>\n",
       "      <td>...</td>\n",
       "      <td>...</td>\n",
       "      <td>...</td>\n",
       "      <td>...</td>\n",
       "      <td>...</td>\n",
       "      <td>...</td>\n",
       "      <td>...</td>\n",
       "      <td>...</td>\n",
       "    </tr>\n",
       "    <tr>\n",
       "      <th>711</th>\n",
       "      <td>822640</td>\n",
       "      <td>152689 - YT Restaurants</td>\n",
       "      <td>451</td>\n",
       "      <td>2255</td>\n",
       "      <td>1127.5</td>\n",
       "      <td>2020-01-02</td>\n",
       "      <td>2020-01-07</td>\n",
       "      <td>Shipped</td>\n",
       "    </tr>\n",
       "    <tr>\n",
       "      <th>712</th>\n",
       "      <td>XXXXXX</td>\n",
       "      <td>XXXXXX - Promo</td>\n",
       "      <td>947</td>\n",
       "      <td>4735</td>\n",
       "      <td>2367.5</td>\n",
       "      <td>2020-01-04</td>\n",
       "      <td>2020-01-06</td>\n",
       "      <td>Shipped</td>\n",
       "    </tr>\n",
       "    <tr>\n",
       "      <th>713</th>\n",
       "      <td>157876</td>\n",
       "      <td>325698 - Cascade Grovers</td>\n",
       "      <td>191</td>\n",
       "      <td>955</td>\n",
       "      <td>477.5</td>\n",
       "      <td>2020-01-04</td>\n",
       "      <td>2020-01-06</td>\n",
       "      <td>Shipped</td>\n",
       "    </tr>\n",
       "    <tr>\n",
       "      <th>714</th>\n",
       "      <td>569763</td>\n",
       "      <td>985245 - Quick Bite Convenience Stores</td>\n",
       "      <td>743</td>\n",
       "      <td>3715</td>\n",
       "      <td>1857.5</td>\n",
       "      <td>2020-01-01</td>\n",
       "      <td>2020-01-04</td>\n",
       "      <td>Shipped</td>\n",
       "    </tr>\n",
       "    <tr>\n",
       "      <th>715</th>\n",
       "      <td>138128</td>\n",
       "      <td>452584 - Acme Grocery Stores</td>\n",
       "      <td>717</td>\n",
       "      <td>3585</td>\n",
       "      <td>1792.5</td>\n",
       "      <td>2020-01-01</td>\n",
       "      <td>2020-01-03</td>\n",
       "      <td>Shipped</td>\n",
       "    </tr>\n",
       "  </tbody>\n",
       "</table>\n",
       "<p>716 rows × 8 columns</p>\n",
       "</div>"
      ],
      "text/plain": [
       "    Order ID                             Customer ID  Cookies Shipped  \\\n",
       "0     577597                 152689 - YT Restaurants              329   \n",
       "1     503658  985245 - Quick Bite Convenience Stores              350   \n",
       "2     797851                 785432 - Park & Eat LLC              981   \n",
       "3     552860                 152689 - YT Restaurants              843   \n",
       "4     466725  985245 - Quick Bite Convenience Stores              154   \n",
       "..       ...                                     ...              ...   \n",
       "711   822640                 152689 - YT Restaurants              451   \n",
       "712   XXXXXX                          XXXXXX - Promo              947   \n",
       "713   157876                325698 - Cascade Grovers              191   \n",
       "714   569763  985245 - Quick Bite Convenience Stores              743   \n",
       "715   138128            452584 - Acme Grocery Stores              717   \n",
       "\n",
       "     Revenue    Cost Order Date  Ship Date Order Status  \n",
       "0       1645   822.5 2020-11-23        NaT         Open  \n",
       "1       1750   875.0 2020-11-23        NaT         Open  \n",
       "2       4905  2452.5 2020-11-21        NaT         Open  \n",
       "3       4215  2107.5 2020-11-21        NaT         Open  \n",
       "4        770   385.0 2020-11-22        NaT         Open  \n",
       "..       ...     ...        ...        ...          ...  \n",
       "711     2255  1127.5 2020-01-02 2020-01-07      Shipped  \n",
       "712     4735  2367.5 2020-01-04 2020-01-06      Shipped  \n",
       "713      955   477.5 2020-01-04 2020-01-06      Shipped  \n",
       "714     3715  1857.5 2020-01-01 2020-01-04      Shipped  \n",
       "715     3585  1792.5 2020-01-01 2020-01-03      Shipped  \n",
       "\n",
       "[716 rows x 8 columns]"
      ]
     },
     "execution_count": 48,
     "metadata": {},
     "output_type": "execute_result"
    }
   ],
   "source": [
    "file_read(path  =  r\"C:\\Users\\admin\\Desktop\\Power Query Data\\2020 Order Data.xlsx\")"
   ]
  },
  {
   "cell_type": "code",
   "execution_count": 41,
   "id": "286e6240",
   "metadata": {},
   "outputs": [
    {
     "ename": "FileNotFoundError",
     "evalue": "[Errno 2] No such file or directory: 'C:\\\\Users\\\\admin\\\\Power Query Data\\\\2020 Order Data.xlsx'",
     "output_type": "error",
     "traceback": [
      "\u001b[31m---------------------------------------------------------------------------\u001b[39m",
      "\u001b[31mFileNotFoundError\u001b[39m                         Traceback (most recent call last)",
      "\u001b[36mCell\u001b[39m\u001b[36m \u001b[39m\u001b[32mIn[41]\u001b[39m\u001b[32m, line 1\u001b[39m\n\u001b[32m----> \u001b[39m\u001b[32m1\u001b[39m \u001b[43mfile_read\u001b[49m\u001b[43m(\u001b[49m\u001b[43mpath\u001b[49m\u001b[43m  \u001b[49m\u001b[43m=\u001b[49m\u001b[43m  \u001b[49m\u001b[33;43mr\u001b[39;49m\u001b[33;43m\"\u001b[39;49m\u001b[33;43mC:\u001b[39;49m\u001b[33;43m\\\u001b[39;49m\u001b[33;43mUsers\u001b[39;49m\u001b[33;43m\\\u001b[39;49m\u001b[33;43madmin\u001b[39;49m\u001b[33;43m\\\u001b[39;49m\u001b[33;43mPower Query Data\u001b[39;49m\u001b[33;43m\\\u001b[39;49m\u001b[33;43m2020 Order Data.xlsx\u001b[39;49m\u001b[33;43m\"\u001b[39;49m\u001b[43m)\u001b[49m\n",
      "\u001b[36mCell\u001b[39m\u001b[36m \u001b[39m\u001b[32mIn[39]\u001b[39m\u001b[32m, line 3\u001b[39m, in \u001b[36mfile_read\u001b[39m\u001b[34m(path)\u001b[39m\n\u001b[32m      1\u001b[39m \u001b[38;5;28;01mdef\u001b[39;00m\u001b[38;5;250m  \u001b[39m\u001b[34mfile_read\u001b[39m(path):\n\u001b[32m      2\u001b[39m     \u001b[38;5;28;01mimport\u001b[39;00m\u001b[38;5;250m \u001b[39m\u001b[34;01mpandas\u001b[39;00m\u001b[38;5;250m \u001b[39m\u001b[38;5;28;01mas\u001b[39;00m\u001b[38;5;250m \u001b[39m\u001b[34;01mpd\u001b[39;00m\n\u001b[32m----> \u001b[39m\u001b[32m3\u001b[39m     df =  \u001b[43mpd\u001b[49m\u001b[43m.\u001b[49m\u001b[43mread_excel\u001b[49m\u001b[43m(\u001b[49m\u001b[43mpath\u001b[49m\u001b[43m)\u001b[49m\n\u001b[32m      4\u001b[39m     \u001b[38;5;28;01mreturn\u001b[39;00m  df\n",
      "\u001b[36mFile \u001b[39m\u001b[32md:\\23 sept ADV PYTHON Weekdays\\repository\\venv\\Lib\\site-packages\\pandas\\io\\excel\\_base.py:495\u001b[39m, in \u001b[36mread_excel\u001b[39m\u001b[34m(io, sheet_name, header, names, index_col, usecols, dtype, engine, converters, true_values, false_values, skiprows, nrows, na_values, keep_default_na, na_filter, verbose, parse_dates, date_parser, date_format, thousands, decimal, comment, skipfooter, storage_options, dtype_backend, engine_kwargs)\u001b[39m\n\u001b[32m    493\u001b[39m \u001b[38;5;28;01mif\u001b[39;00m \u001b[38;5;129;01mnot\u001b[39;00m \u001b[38;5;28misinstance\u001b[39m(io, ExcelFile):\n\u001b[32m    494\u001b[39m     should_close = \u001b[38;5;28;01mTrue\u001b[39;00m\n\u001b[32m--> \u001b[39m\u001b[32m495\u001b[39m     io = \u001b[43mExcelFile\u001b[49m\u001b[43m(\u001b[49m\n\u001b[32m    496\u001b[39m \u001b[43m        \u001b[49m\u001b[43mio\u001b[49m\u001b[43m,\u001b[49m\n\u001b[32m    497\u001b[39m \u001b[43m        \u001b[49m\u001b[43mstorage_options\u001b[49m\u001b[43m=\u001b[49m\u001b[43mstorage_options\u001b[49m\u001b[43m,\u001b[49m\n\u001b[32m    498\u001b[39m \u001b[43m        \u001b[49m\u001b[43mengine\u001b[49m\u001b[43m=\u001b[49m\u001b[43mengine\u001b[49m\u001b[43m,\u001b[49m\n\u001b[32m    499\u001b[39m \u001b[43m        \u001b[49m\u001b[43mengine_kwargs\u001b[49m\u001b[43m=\u001b[49m\u001b[43mengine_kwargs\u001b[49m\u001b[43m,\u001b[49m\n\u001b[32m    500\u001b[39m \u001b[43m    \u001b[49m\u001b[43m)\u001b[49m\n\u001b[32m    501\u001b[39m \u001b[38;5;28;01melif\u001b[39;00m engine \u001b[38;5;129;01mand\u001b[39;00m engine != io.engine:\n\u001b[32m    502\u001b[39m     \u001b[38;5;28;01mraise\u001b[39;00m \u001b[38;5;167;01mValueError\u001b[39;00m(\n\u001b[32m    503\u001b[39m         \u001b[33m\"\u001b[39m\u001b[33mEngine should not be specified when passing \u001b[39m\u001b[33m\"\u001b[39m\n\u001b[32m    504\u001b[39m         \u001b[33m\"\u001b[39m\u001b[33man ExcelFile - ExcelFile already has the engine set\u001b[39m\u001b[33m\"\u001b[39m\n\u001b[32m    505\u001b[39m     )\n",
      "\u001b[36mFile \u001b[39m\u001b[32md:\\23 sept ADV PYTHON Weekdays\\repository\\venv\\Lib\\site-packages\\pandas\\io\\excel\\_base.py:1550\u001b[39m, in \u001b[36mExcelFile.__init__\u001b[39m\u001b[34m(self, path_or_buffer, engine, storage_options, engine_kwargs)\u001b[39m\n\u001b[32m   1548\u001b[39m     ext = \u001b[33m\"\u001b[39m\u001b[33mxls\u001b[39m\u001b[33m\"\u001b[39m\n\u001b[32m   1549\u001b[39m \u001b[38;5;28;01melse\u001b[39;00m:\n\u001b[32m-> \u001b[39m\u001b[32m1550\u001b[39m     ext = \u001b[43minspect_excel_format\u001b[49m\u001b[43m(\u001b[49m\n\u001b[32m   1551\u001b[39m \u001b[43m        \u001b[49m\u001b[43mcontent_or_path\u001b[49m\u001b[43m=\u001b[49m\u001b[43mpath_or_buffer\u001b[49m\u001b[43m,\u001b[49m\u001b[43m \u001b[49m\u001b[43mstorage_options\u001b[49m\u001b[43m=\u001b[49m\u001b[43mstorage_options\u001b[49m\n\u001b[32m   1552\u001b[39m \u001b[43m    \u001b[49m\u001b[43m)\u001b[49m\n\u001b[32m   1553\u001b[39m     \u001b[38;5;28;01mif\u001b[39;00m ext \u001b[38;5;129;01mis\u001b[39;00m \u001b[38;5;28;01mNone\u001b[39;00m:\n\u001b[32m   1554\u001b[39m         \u001b[38;5;28;01mraise\u001b[39;00m \u001b[38;5;167;01mValueError\u001b[39;00m(\n\u001b[32m   1555\u001b[39m             \u001b[33m\"\u001b[39m\u001b[33mExcel file format cannot be determined, you must specify \u001b[39m\u001b[33m\"\u001b[39m\n\u001b[32m   1556\u001b[39m             \u001b[33m\"\u001b[39m\u001b[33man engine manually.\u001b[39m\u001b[33m\"\u001b[39m\n\u001b[32m   1557\u001b[39m         )\n",
      "\u001b[36mFile \u001b[39m\u001b[32md:\\23 sept ADV PYTHON Weekdays\\repository\\venv\\Lib\\site-packages\\pandas\\io\\excel\\_base.py:1402\u001b[39m, in \u001b[36minspect_excel_format\u001b[39m\u001b[34m(content_or_path, storage_options)\u001b[39m\n\u001b[32m   1399\u001b[39m \u001b[38;5;28;01mif\u001b[39;00m \u001b[38;5;28misinstance\u001b[39m(content_or_path, \u001b[38;5;28mbytes\u001b[39m):\n\u001b[32m   1400\u001b[39m     content_or_path = BytesIO(content_or_path)\n\u001b[32m-> \u001b[39m\u001b[32m1402\u001b[39m \u001b[38;5;28;01mwith\u001b[39;00m \u001b[43mget_handle\u001b[49m\u001b[43m(\u001b[49m\n\u001b[32m   1403\u001b[39m \u001b[43m    \u001b[49m\u001b[43mcontent_or_path\u001b[49m\u001b[43m,\u001b[49m\u001b[43m \u001b[49m\u001b[33;43m\"\u001b[39;49m\u001b[33;43mrb\u001b[39;49m\u001b[33;43m\"\u001b[39;49m\u001b[43m,\u001b[49m\u001b[43m \u001b[49m\u001b[43mstorage_options\u001b[49m\u001b[43m=\u001b[49m\u001b[43mstorage_options\u001b[49m\u001b[43m,\u001b[49m\u001b[43m \u001b[49m\u001b[43mis_text\u001b[49m\u001b[43m=\u001b[49m\u001b[38;5;28;43;01mFalse\u001b[39;49;00m\n\u001b[32m   1404\u001b[39m \u001b[43m\u001b[49m\u001b[43m)\u001b[49m \u001b[38;5;28;01mas\u001b[39;00m handle:\n\u001b[32m   1405\u001b[39m     stream = handle.handle\n\u001b[32m   1406\u001b[39m     stream.seek(\u001b[32m0\u001b[39m)\n",
      "\u001b[36mFile \u001b[39m\u001b[32md:\\23 sept ADV PYTHON Weekdays\\repository\\venv\\Lib\\site-packages\\pandas\\io\\common.py:882\u001b[39m, in \u001b[36mget_handle\u001b[39m\u001b[34m(path_or_buf, mode, encoding, compression, memory_map, is_text, errors, storage_options)\u001b[39m\n\u001b[32m    873\u001b[39m         handle = \u001b[38;5;28mopen\u001b[39m(\n\u001b[32m    874\u001b[39m             handle,\n\u001b[32m    875\u001b[39m             ioargs.mode,\n\u001b[32m   (...)\u001b[39m\u001b[32m    878\u001b[39m             newline=\u001b[33m\"\u001b[39m\u001b[33m\"\u001b[39m,\n\u001b[32m    879\u001b[39m         )\n\u001b[32m    880\u001b[39m     \u001b[38;5;28;01melse\u001b[39;00m:\n\u001b[32m    881\u001b[39m         \u001b[38;5;66;03m# Binary mode\u001b[39;00m\n\u001b[32m--> \u001b[39m\u001b[32m882\u001b[39m         handle = \u001b[38;5;28;43mopen\u001b[39;49m\u001b[43m(\u001b[49m\u001b[43mhandle\u001b[49m\u001b[43m,\u001b[49m\u001b[43m \u001b[49m\u001b[43mioargs\u001b[49m\u001b[43m.\u001b[49m\u001b[43mmode\u001b[49m\u001b[43m)\u001b[49m\n\u001b[32m    883\u001b[39m     handles.append(handle)\n\u001b[32m    885\u001b[39m \u001b[38;5;66;03m# Convert BytesIO or file objects passed with an encoding\u001b[39;00m\n",
      "\u001b[31mFileNotFoundError\u001b[39m: [Errno 2] No such file or directory: 'C:\\\\Users\\\\admin\\\\Power Query Data\\\\2020 Order Data.xlsx'"
     ]
    }
   ],
   "source": [
    "file_read(path  =  r\"C:\\Users\\admin\\Power Query Data\\2020 Order Data.xlsx\")"
   ]
  },
  {
   "cell_type": "code",
   "execution_count": 47,
   "id": "89028397",
   "metadata": {},
   "outputs": [],
   "source": [
    "#  handel  file reading  exceptional cases\n",
    "def  file_read(path):\n",
    "    import pandas as pd\n",
    "    try:\n",
    "        df =  pd.read_excel(path)\n",
    "        return  df\n",
    "    except FileNotFoundError:\n",
    "        print('Please check path or  file  ')"
   ]
  },
  {
   "cell_type": "code",
   "execution_count": 49,
   "id": "41a2c451",
   "metadata": {},
   "outputs": [
    {
     "data": {
      "text/html": [
       "<div>\n",
       "<style scoped>\n",
       "    .dataframe tbody tr th:only-of-type {\n",
       "        vertical-align: middle;\n",
       "    }\n",
       "\n",
       "    .dataframe tbody tr th {\n",
       "        vertical-align: top;\n",
       "    }\n",
       "\n",
       "    .dataframe thead th {\n",
       "        text-align: right;\n",
       "    }\n",
       "</style>\n",
       "<table border=\"1\" class=\"dataframe\">\n",
       "  <thead>\n",
       "    <tr style=\"text-align: right;\">\n",
       "      <th></th>\n",
       "      <th>Order ID</th>\n",
       "      <th>Customer ID</th>\n",
       "      <th>Cookies Shipped</th>\n",
       "      <th>Revenue</th>\n",
       "      <th>Cost</th>\n",
       "      <th>Order Date</th>\n",
       "      <th>Ship Date</th>\n",
       "      <th>Order Status</th>\n",
       "    </tr>\n",
       "  </thead>\n",
       "  <tbody>\n",
       "    <tr>\n",
       "      <th>0</th>\n",
       "      <td>577597</td>\n",
       "      <td>152689 - YT Restaurants</td>\n",
       "      <td>329</td>\n",
       "      <td>1645</td>\n",
       "      <td>822.5</td>\n",
       "      <td>2020-11-23</td>\n",
       "      <td>NaT</td>\n",
       "      <td>Open</td>\n",
       "    </tr>\n",
       "    <tr>\n",
       "      <th>1</th>\n",
       "      <td>503658</td>\n",
       "      <td>985245 - Quick Bite Convenience Stores</td>\n",
       "      <td>350</td>\n",
       "      <td>1750</td>\n",
       "      <td>875.0</td>\n",
       "      <td>2020-11-23</td>\n",
       "      <td>NaT</td>\n",
       "      <td>Open</td>\n",
       "    </tr>\n",
       "    <tr>\n",
       "      <th>2</th>\n",
       "      <td>797851</td>\n",
       "      <td>785432 - Park &amp; Eat LLC</td>\n",
       "      <td>981</td>\n",
       "      <td>4905</td>\n",
       "      <td>2452.5</td>\n",
       "      <td>2020-11-21</td>\n",
       "      <td>NaT</td>\n",
       "      <td>Open</td>\n",
       "    </tr>\n",
       "    <tr>\n",
       "      <th>3</th>\n",
       "      <td>552860</td>\n",
       "      <td>152689 - YT Restaurants</td>\n",
       "      <td>843</td>\n",
       "      <td>4215</td>\n",
       "      <td>2107.5</td>\n",
       "      <td>2020-11-21</td>\n",
       "      <td>NaT</td>\n",
       "      <td>Open</td>\n",
       "    </tr>\n",
       "    <tr>\n",
       "      <th>4</th>\n",
       "      <td>466725</td>\n",
       "      <td>985245 - Quick Bite Convenience Stores</td>\n",
       "      <td>154</td>\n",
       "      <td>770</td>\n",
       "      <td>385.0</td>\n",
       "      <td>2020-11-22</td>\n",
       "      <td>NaT</td>\n",
       "      <td>Open</td>\n",
       "    </tr>\n",
       "    <tr>\n",
       "      <th>...</th>\n",
       "      <td>...</td>\n",
       "      <td>...</td>\n",
       "      <td>...</td>\n",
       "      <td>...</td>\n",
       "      <td>...</td>\n",
       "      <td>...</td>\n",
       "      <td>...</td>\n",
       "      <td>...</td>\n",
       "    </tr>\n",
       "    <tr>\n",
       "      <th>711</th>\n",
       "      <td>822640</td>\n",
       "      <td>152689 - YT Restaurants</td>\n",
       "      <td>451</td>\n",
       "      <td>2255</td>\n",
       "      <td>1127.5</td>\n",
       "      <td>2020-01-02</td>\n",
       "      <td>2020-01-07</td>\n",
       "      <td>Shipped</td>\n",
       "    </tr>\n",
       "    <tr>\n",
       "      <th>712</th>\n",
       "      <td>XXXXXX</td>\n",
       "      <td>XXXXXX - Promo</td>\n",
       "      <td>947</td>\n",
       "      <td>4735</td>\n",
       "      <td>2367.5</td>\n",
       "      <td>2020-01-04</td>\n",
       "      <td>2020-01-06</td>\n",
       "      <td>Shipped</td>\n",
       "    </tr>\n",
       "    <tr>\n",
       "      <th>713</th>\n",
       "      <td>157876</td>\n",
       "      <td>325698 - Cascade Grovers</td>\n",
       "      <td>191</td>\n",
       "      <td>955</td>\n",
       "      <td>477.5</td>\n",
       "      <td>2020-01-04</td>\n",
       "      <td>2020-01-06</td>\n",
       "      <td>Shipped</td>\n",
       "    </tr>\n",
       "    <tr>\n",
       "      <th>714</th>\n",
       "      <td>569763</td>\n",
       "      <td>985245 - Quick Bite Convenience Stores</td>\n",
       "      <td>743</td>\n",
       "      <td>3715</td>\n",
       "      <td>1857.5</td>\n",
       "      <td>2020-01-01</td>\n",
       "      <td>2020-01-04</td>\n",
       "      <td>Shipped</td>\n",
       "    </tr>\n",
       "    <tr>\n",
       "      <th>715</th>\n",
       "      <td>138128</td>\n",
       "      <td>452584 - Acme Grocery Stores</td>\n",
       "      <td>717</td>\n",
       "      <td>3585</td>\n",
       "      <td>1792.5</td>\n",
       "      <td>2020-01-01</td>\n",
       "      <td>2020-01-03</td>\n",
       "      <td>Shipped</td>\n",
       "    </tr>\n",
       "  </tbody>\n",
       "</table>\n",
       "<p>716 rows × 8 columns</p>\n",
       "</div>"
      ],
      "text/plain": [
       "    Order ID                             Customer ID  Cookies Shipped  \\\n",
       "0     577597                 152689 - YT Restaurants              329   \n",
       "1     503658  985245 - Quick Bite Convenience Stores              350   \n",
       "2     797851                 785432 - Park & Eat LLC              981   \n",
       "3     552860                 152689 - YT Restaurants              843   \n",
       "4     466725  985245 - Quick Bite Convenience Stores              154   \n",
       "..       ...                                     ...              ...   \n",
       "711   822640                 152689 - YT Restaurants              451   \n",
       "712   XXXXXX                          XXXXXX - Promo              947   \n",
       "713   157876                325698 - Cascade Grovers              191   \n",
       "714   569763  985245 - Quick Bite Convenience Stores              743   \n",
       "715   138128            452584 - Acme Grocery Stores              717   \n",
       "\n",
       "     Revenue    Cost Order Date  Ship Date Order Status  \n",
       "0       1645   822.5 2020-11-23        NaT         Open  \n",
       "1       1750   875.0 2020-11-23        NaT         Open  \n",
       "2       4905  2452.5 2020-11-21        NaT         Open  \n",
       "3       4215  2107.5 2020-11-21        NaT         Open  \n",
       "4        770   385.0 2020-11-22        NaT         Open  \n",
       "..       ...     ...        ...        ...          ...  \n",
       "711     2255  1127.5 2020-01-02 2020-01-07      Shipped  \n",
       "712     4735  2367.5 2020-01-04 2020-01-06      Shipped  \n",
       "713      955   477.5 2020-01-04 2020-01-06      Shipped  \n",
       "714     3715  1857.5 2020-01-01 2020-01-04      Shipped  \n",
       "715     3585  1792.5 2020-01-01 2020-01-03      Shipped  \n",
       "\n",
       "[716 rows x 8 columns]"
      ]
     },
     "execution_count": 49,
     "metadata": {},
     "output_type": "execute_result"
    }
   ],
   "source": [
    "file_read(path  =  r\"C:\\Users\\admin\\Desktop\\Power Query Data\\2020 Order Data.xlsx\")"
   ]
  },
  {
   "cell_type": "code",
   "execution_count": 50,
   "id": "c1e1659d",
   "metadata": {},
   "outputs": [],
   "source": [
    "path  =  r\"C:\\Users\\Desktop\\Power Query Data\\2020 Order Data.xlsx\""
   ]
  },
  {
   "cell_type": "code",
   "execution_count": 51,
   "id": "f72cee95",
   "metadata": {},
   "outputs": [
    {
     "name": "stdout",
     "output_type": "stream",
     "text": [
      "Please check path or  file  \n"
     ]
    }
   ],
   "source": [
    "file_read(path)"
   ]
  },
  {
   "cell_type": "markdown",
   "id": "e625f8d1",
   "metadata": {},
   "source": [
    "####  exceptional  hadeling  with  conditional  statements"
   ]
  },
  {
   "cell_type": "code",
   "execution_count": 55,
   "id": "bd6c9825",
   "metadata": {},
   "outputs": [
    {
     "data": {
      "text/plain": [
       "150"
      ]
     },
     "execution_count": 55,
     "metadata": {},
     "output_type": "execute_result"
    }
   ],
   "source": [
    "valid_age =  int(input())\n",
    "valid_age"
   ]
  },
  {
   "cell_type": "code",
   "execution_count": null,
   "id": "6a44353b",
   "metadata": {},
   "outputs": [],
   "source": [
    "def  valid_age():\n",
    "    age  =  int(input())\n",
    "    if  age >=0 and  age <=  120:\n",
    "        print('valid_age-->',age)\n",
    "    else:\n",
    "        print('Invalid  age ')\n"
   ]
  },
  {
   "cell_type": "code",
   "execution_count": 57,
   "id": "27c2fb22",
   "metadata": {},
   "outputs": [
    {
     "name": "stdout",
     "output_type": "stream",
     "text": [
      "valid_age--> 20\n"
     ]
    }
   ],
   "source": [
    "# take  age  =  20\n",
    "valid_age()"
   ]
  },
  {
   "cell_type": "code",
   "execution_count": 58,
   "id": "3caa50cc",
   "metadata": {},
   "outputs": [
    {
     "name": "stdout",
     "output_type": "stream",
     "text": [
      "Invalid  age \n"
     ]
    }
   ],
   "source": [
    "valid_age()"
   ]
  },
  {
   "cell_type": "code",
   "execution_count": 60,
   "id": "d2129ba7",
   "metadata": {},
   "outputs": [],
   "source": [
    "def  valid_age():\n",
    "    try:\n",
    "        age  =  int(input())\n",
    "        if  age >=0 and  age <=  120:\n",
    "            print('valid_age-->',age)\n",
    "        else:\n",
    "            print('Invalid  age ')\n",
    "    except Exception as e:\n",
    "        print(e)"
   ]
  },
  {
   "cell_type": "code",
   "execution_count": 61,
   "id": "76445492",
   "metadata": {},
   "outputs": [
    {
     "name": "stdout",
     "output_type": "stream",
     "text": [
      "valid_age--> 120\n"
     ]
    }
   ],
   "source": [
    "valid_age()"
   ]
  },
  {
   "cell_type": "code",
   "execution_count": 62,
   "id": "ea244985",
   "metadata": {},
   "outputs": [
    {
     "name": "stdout",
     "output_type": "stream",
     "text": [
      "Invalid  age \n"
     ]
    }
   ],
   "source": [
    "valid_age()"
   ]
  },
  {
   "cell_type": "code",
   "execution_count": 63,
   "id": "5f127fd7",
   "metadata": {},
   "outputs": [
    {
     "name": "stdout",
     "output_type": "stream",
     "text": [
      "Invalid  age \n"
     ]
    }
   ],
   "source": [
    "valid_age()"
   ]
  },
  {
   "cell_type": "code",
   "execution_count": 64,
   "id": "5b7ed559",
   "metadata": {},
   "outputs": [
    {
     "name": "stdout",
     "output_type": "stream",
     "text": [
      "invalid literal for int() with base 10: \"'12'\"\n"
     ]
    }
   ],
   "source": [
    "valid_age()"
   ]
  },
  {
   "cell_type": "markdown",
   "id": "ff7c67a4",
   "metadata": {},
   "source": [
    "#####  four blocks\n",
    "- try :  checking  conditions \n",
    "- except  :  when  try is  false\n",
    "- else :  it will excutes  if  try is  true\n",
    "-  finally :  it wil always  excuts"
   ]
  },
  {
   "cell_type": "code",
   "execution_count": 65,
   "id": "8c36c5a7",
   "metadata": {},
   "outputs": [],
   "source": [
    "# create  function  to find square of  number\n",
    "def square():\n",
    "    num  = float(input())\n",
    "    return  num*num"
   ]
  },
  {
   "cell_type": "code",
   "execution_count": 67,
   "id": "63634620",
   "metadata": {},
   "outputs": [
    {
     "data": {
      "text/plain": [
       "4.0"
      ]
     },
     "execution_count": 67,
     "metadata": {},
     "output_type": "execute_result"
    }
   ],
   "source": [
    "square()"
   ]
  },
  {
   "cell_type": "code",
   "execution_count": 70,
   "id": "12158ed6",
   "metadata": {},
   "outputs": [],
   "source": [
    "def  square():\n",
    "    try :\n",
    "        num  =  float(input())\n",
    "        s  =  num*num\n",
    "\n",
    "    except Exception as  e:\n",
    "        print(e)\n",
    "    else :\n",
    "        print(f'square of  {num}is  {num}*{num}')\n",
    "        return  s\n",
    "    finally:\n",
    "        print('i will  always  executes')\n"
   ]
  },
  {
   "cell_type": "code",
   "execution_count": 71,
   "id": "64a4a08d",
   "metadata": {},
   "outputs": [
    {
     "name": "stdout",
     "output_type": "stream",
     "text": [
      "square of  3.0is  3.0*3.0\n",
      "i will  always  executes\n"
     ]
    },
    {
     "data": {
      "text/plain": [
       "9.0"
      ]
     },
     "execution_count": 71,
     "metadata": {},
     "output_type": "execute_result"
    }
   ],
   "source": [
    "#  num  =  3\n",
    "square()"
   ]
  },
  {
   "cell_type": "code",
   "execution_count": 72,
   "id": "68a18ff8",
   "metadata": {},
   "outputs": [
    {
     "name": "stdout",
     "output_type": "stream",
     "text": [
      "could not convert string to float: \"'1'\"\n",
      "i will  always  executes\n"
     ]
    }
   ],
   "source": [
    "# take num =  '1'\n",
    "square()"
   ]
  },
  {
   "cell_type": "code",
   "execution_count": null,
   "id": "d8f60c5e",
   "metadata": {},
   "outputs": [],
   "source": []
  }
 ],
 "metadata": {
  "kernelspec": {
   "display_name": "venv",
   "language": "python",
   "name": "python3"
  },
  "language_info": {
   "codemirror_mode": {
    "name": "ipython",
    "version": 3
   },
   "file_extension": ".py",
   "mimetype": "text/x-python",
   "name": "python",
   "nbconvert_exporter": "python",
   "pygments_lexer": "ipython3",
   "version": "3.13.7"
  }
 },
 "nbformat": 4,
 "nbformat_minor": 5
}
