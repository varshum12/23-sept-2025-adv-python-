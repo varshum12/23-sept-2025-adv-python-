{
 "cells": [
  {
   "cell_type": "markdown",
   "id": "900cd95c",
   "metadata": {},
   "source": [
    "#### POLYMORPHISM  IN OPERATORS"
   ]
  },
  {
   "cell_type": "code",
   "execution_count": 1,
   "id": "e4b751c2",
   "metadata": {},
   "outputs": [
    {
     "data": {
      "text/plain": [
       "46"
      ]
     },
     "execution_count": 1,
     "metadata": {},
     "output_type": "execute_result"
    }
   ],
   "source": [
    "a  =  12  \n",
    "b  =  34\n",
    "a+b"
   ]
  },
  {
   "cell_type": "code",
   "execution_count": 2,
   "id": "2a0f3d4c",
   "metadata": {},
   "outputs": [
    {
     "data": {
      "text/plain": [
       "'datascience'"
      ]
     },
     "execution_count": 2,
     "metadata": {},
     "output_type": "execute_result"
    }
   ],
   "source": [
    "s1  =  'data'\n",
    "s2  =  'science'\n",
    "s1+s2"
   ]
  },
  {
   "cell_type": "code",
   "execution_count": 3,
   "id": "b65ba2f6",
   "metadata": {},
   "outputs": [
    {
     "data": {
      "text/plain": [
       "[12, 34, 45, 67, 'Python', True]"
      ]
     },
     "execution_count": 3,
     "metadata": {},
     "output_type": "execute_result"
    }
   ],
   "source": [
    "l1  =  [12 ,34]\n",
    "l2  =  [45 ,67 , 'Python' , True]\n",
    "l1+l2"
   ]
  },
  {
   "cell_type": "code",
   "execution_count": 4,
   "id": "f2df959c",
   "metadata": {},
   "outputs": [
    {
     "data": {
      "text/plain": [
       "(12, 34, 45, 67, 'Python', True)"
      ]
     },
     "execution_count": 4,
     "metadata": {},
     "output_type": "execute_result"
    }
   ],
   "source": [
    "l1  =  (12 ,34)\n",
    "l2  =  (45 ,67 , 'Python' , True)\n",
    "l1+l2"
   ]
  },
  {
   "cell_type": "code",
   "execution_count": 5,
   "id": "bdcde18c",
   "metadata": {},
   "outputs": [
    {
     "data": {
      "text/plain": [
       "144"
      ]
     },
     "execution_count": 5,
     "metadata": {},
     "output_type": "execute_result"
    }
   ],
   "source": [
    "## '*'\n",
    "12*12"
   ]
  },
  {
   "cell_type": "code",
   "execution_count": 7,
   "id": "c03ae8d5",
   "metadata": {},
   "outputs": [
    {
     "data": {
      "text/plain": [
       "'datadatadatadatadata'"
      ]
     },
     "execution_count": 7,
     "metadata": {},
     "output_type": "execute_result"
    }
   ],
   "source": [
    "'data'*5"
   ]
  },
  {
   "cell_type": "code",
   "execution_count": 9,
   "id": "bdc3f7c4",
   "metadata": {},
   "outputs": [
    {
     "data": {
      "text/plain": [
       "(12, 34, 12, 34)"
      ]
     },
     "execution_count": 9,
     "metadata": {},
     "output_type": "execute_result"
    }
   ],
   "source": [
    "l1*2"
   ]
  },
  {
   "cell_type": "code",
   "execution_count": 11,
   "id": "41fadbd4",
   "metadata": {},
   "outputs": [
    {
     "data": {
      "text/plain": [
       "[12, 34, 12, 34, 12, 34, 12, 34]"
      ]
     },
     "execution_count": 11,
     "metadata": {},
     "output_type": "execute_result"
    }
   ],
   "source": [
    "[12 ,34]*4\n"
   ]
  },
  {
   "cell_type": "markdown",
   "id": "5626f289",
   "metadata": {},
   "source": [
    "#### Polymorphism  function\n",
    "- len ,  sum  , max  , min "
   ]
  },
  {
   "cell_type": "code",
   "execution_count": 12,
   "id": "5f4dbd90",
   "metadata": {},
   "outputs": [
    {
     "data": {
      "text/plain": [
       "5"
      ]
     },
     "execution_count": 12,
     "metadata": {},
     "output_type": "execute_result"
    }
   ],
   "source": [
    "s  =  'swara'\n",
    "len(s)"
   ]
  },
  {
   "cell_type": "code",
   "execution_count": 13,
   "id": "8cb2cc8f",
   "metadata": {},
   "outputs": [
    {
     "data": {
      "text/plain": [
       "3"
      ]
     },
     "execution_count": 13,
     "metadata": {},
     "output_type": "execute_result"
    }
   ],
   "source": [
    "l  =  [12 ,45,68]\n",
    "len(l)"
   ]
  },
  {
   "cell_type": "code",
   "execution_count": 14,
   "id": "e961b288",
   "metadata": {},
   "outputs": [
    {
     "data": {
      "text/plain": [
       "3"
      ]
     },
     "execution_count": 14,
     "metadata": {},
     "output_type": "execute_result"
    }
   ],
   "source": [
    "t  =  (45 ,57.5,78)\n",
    "len(t)"
   ]
  },
  {
   "cell_type": "code",
   "execution_count": 16,
   "id": "5cf70a16",
   "metadata": {},
   "outputs": [
    {
     "data": {
      "text/plain": [
       "6"
      ]
     },
     "execution_count": 16,
     "metadata": {},
     "output_type": "execute_result"
    }
   ],
   "source": [
    "s  =  {34 ,65,62,2,8,89}\n",
    "len(s)"
   ]
  },
  {
   "cell_type": "code",
   "execution_count": 2,
   "id": "f1c85a1d",
   "metadata": {},
   "outputs": [],
   "source": [
    "d =  {'name'  :  ['sunita' ] ,  'age' :  23 ,  'adress' :  'pune'}"
   ]
  },
  {
   "cell_type": "code",
   "execution_count": 3,
   "id": "33a65029",
   "metadata": {},
   "outputs": [
    {
     "data": {
      "text/plain": [
       "3"
      ]
     },
     "execution_count": 3,
     "metadata": {},
     "output_type": "execute_result"
    }
   ],
   "source": [
    "len(d)"
   ]
  },
  {
   "cell_type": "code",
   "execution_count": 4,
   "id": "c74dcac3",
   "metadata": {},
   "outputs": [],
   "source": [
    "import pandas as pd"
   ]
  },
  {
   "cell_type": "code",
   "execution_count": 20,
   "id": "cde17b04",
   "metadata": {},
   "outputs": [],
   "source": [
    "df  =  pd.DataFrame(d)"
   ]
  },
  {
   "cell_type": "code",
   "execution_count": 21,
   "id": "0324117b",
   "metadata": {},
   "outputs": [
    {
     "data": {
      "text/html": [
       "<div>\n",
       "<style scoped>\n",
       "    .dataframe tbody tr th:only-of-type {\n",
       "        vertical-align: middle;\n",
       "    }\n",
       "\n",
       "    .dataframe tbody tr th {\n",
       "        vertical-align: top;\n",
       "    }\n",
       "\n",
       "    .dataframe thead th {\n",
       "        text-align: right;\n",
       "    }\n",
       "</style>\n",
       "<table border=\"1\" class=\"dataframe\">\n",
       "  <thead>\n",
       "    <tr style=\"text-align: right;\">\n",
       "      <th></th>\n",
       "      <th>name</th>\n",
       "      <th>age</th>\n",
       "      <th>adress</th>\n",
       "    </tr>\n",
       "  </thead>\n",
       "  <tbody>\n",
       "    <tr>\n",
       "      <th>0</th>\n",
       "      <td>sunita</td>\n",
       "      <td>23</td>\n",
       "      <td>pune</td>\n",
       "    </tr>\n",
       "  </tbody>\n",
       "</table>\n",
       "</div>"
      ],
      "text/plain": [
       "     name  age adress\n",
       "0  sunita   23   pune"
      ]
     },
     "execution_count": 21,
     "metadata": {},
     "output_type": "execute_result"
    }
   ],
   "source": [
    "df"
   ]
  },
  {
   "cell_type": "code",
   "execution_count": 22,
   "id": "a1d7af36",
   "metadata": {},
   "outputs": [
    {
     "data": {
      "text/plain": [
       "1"
      ]
     },
     "execution_count": 22,
     "metadata": {},
     "output_type": "execute_result"
    }
   ],
   "source": [
    "len(df)"
   ]
  },
  {
   "cell_type": "code",
   "execution_count": 5,
   "id": "643125b6",
   "metadata": {},
   "outputs": [],
   "source": [
    "s1  =  pd.Series(d)"
   ]
  },
  {
   "cell_type": "code",
   "execution_count": 6,
   "id": "59b98ad2",
   "metadata": {},
   "outputs": [
    {
     "data": {
      "text/plain": [
       "name      [sunita]\n",
       "age             23\n",
       "adress        pune\n",
       "dtype: object"
      ]
     },
     "execution_count": 6,
     "metadata": {},
     "output_type": "execute_result"
    }
   ],
   "source": [
    "s1"
   ]
  },
  {
   "cell_type": "code",
   "execution_count": 7,
   "id": "e8faed77",
   "metadata": {},
   "outputs": [
    {
     "data": {
      "text/plain": [
       "3"
      ]
     },
     "execution_count": 7,
     "metadata": {},
     "output_type": "execute_result"
    }
   ],
   "source": [
    "len(s1)"
   ]
  },
  {
   "cell_type": "markdown",
   "id": "8cdd282a",
   "metadata": {},
   "source": [
    "###### CREATE  CLASS COUNTRY AND METHODS  LANGUAGE  ,  CAPITAL"
   ]
  },
  {
   "cell_type": "code",
   "execution_count": 31,
   "id": "3d7df178",
   "metadata": {},
   "outputs": [],
   "source": [
    "class  India :\n",
    "    def Capital(self):\n",
    "        print('Capital  of  India  is New Delhi')\n",
    "    \n",
    "    # create  method  for  language\n",
    "    def  Language(self):\n",
    "        print('Hindi  is  widely spoken  language  of india')\n",
    "\n",
    "\n",
    "# create  class  USA\n",
    "\n",
    "class  USA :\n",
    "    def  Capital(self):\n",
    "        print('Capital  of  USA  is Washington  D.C')\n",
    "\n",
    "    def  Language(self):\n",
    "        print('English is  widely  spoken language  in  USA')\n",
    "\n",
    "\n",
    "## class  France\n",
    "class France:\n",
    "    def Capital(self):\n",
    "        print('capital  of france  is  Paris')\n",
    "\n",
    "    def  Language(self):\n",
    "        print('French  is  widely  spoken  language  in france')\n",
    "\n",
    "\n",
    "\n",
    "\n",
    "\n"
   ]
  },
  {
   "cell_type": "code",
   "execution_count": 32,
   "id": "ea5c79af",
   "metadata": {},
   "outputs": [],
   "source": [
    "I1  =  India()\n"
   ]
  },
  {
   "cell_type": "code",
   "execution_count": 33,
   "id": "759a11cc",
   "metadata": {},
   "outputs": [
    {
     "name": "stdout",
     "output_type": "stream",
     "text": [
      "Capital  of  India  is New Delhi\n"
     ]
    }
   ],
   "source": [
    "I1.Capital()"
   ]
  },
  {
   "cell_type": "code",
   "execution_count": 34,
   "id": "d6ae5ac4",
   "metadata": {},
   "outputs": [
    {
     "name": "stdout",
     "output_type": "stream",
     "text": [
      "Hindi  is  widely spoken  language  of india\n"
     ]
    }
   ],
   "source": [
    "I1.Language()"
   ]
  },
  {
   "cell_type": "code",
   "execution_count": 35,
   "id": "f6ee97c6",
   "metadata": {},
   "outputs": [],
   "source": [
    "U1  =  USA()"
   ]
  },
  {
   "cell_type": "code",
   "execution_count": 36,
   "id": "d43fa3b5",
   "metadata": {},
   "outputs": [
    {
     "name": "stdout",
     "output_type": "stream",
     "text": [
      "Capital  of  USA  is Washington  D.C\n"
     ]
    }
   ],
   "source": [
    "U1.Capital()"
   ]
  },
  {
   "cell_type": "code",
   "execution_count": 37,
   "id": "b103814b",
   "metadata": {},
   "outputs": [
    {
     "name": "stdout",
     "output_type": "stream",
     "text": [
      "English is  widely  spoken language  in  USA\n"
     ]
    }
   ],
   "source": [
    "U1.Language()"
   ]
  },
  {
   "cell_type": "code",
   "execution_count": 38,
   "id": "79f87b17",
   "metadata": {},
   "outputs": [],
   "source": [
    "F1  =  France()"
   ]
  },
  {
   "cell_type": "code",
   "execution_count": 40,
   "id": "77ce29fc",
   "metadata": {},
   "outputs": [
    {
     "name": "stdout",
     "output_type": "stream",
     "text": [
      "capital  of france  is  Paris\n"
     ]
    }
   ],
   "source": [
    "F1.Capital()"
   ]
  },
  {
   "cell_type": "code",
   "execution_count": 41,
   "id": "dfb56dbd",
   "metadata": {},
   "outputs": [
    {
     "name": "stdout",
     "output_type": "stream",
     "text": [
      "French  is  widely  spoken  language  in france\n"
     ]
    }
   ],
   "source": [
    "F1.Language()"
   ]
  },
  {
   "cell_type": "code",
   "execution_count": 49,
   "id": "104cba3d",
   "metadata": {},
   "outputs": [],
   "source": [
    "#### create class Rectangle  , circle  --> perimeter ,  Area\n",
    "from dataclasses import dataclass\n",
    "@dataclass\n",
    "class  Rectangle:\n",
    "    s1 : int|float\n",
    "    s2 :  int|float\n",
    "\n",
    "    #  Perimeter\n",
    "    def  Perimeter(self):\n",
    "        return  2*(self.s1+self.s2)\n",
    "\n",
    "# area\n",
    "    def Area(self):\n",
    "        return  self.s1*self.s2\n",
    "\n",
    "\n",
    "\n",
    "#  create  class  Circle\n",
    "@dataclass\n",
    "class  Circle:\n",
    "    r  : int|float\n",
    "\n",
    "    #  perimeter\n",
    "    def Perimeter(self):\n",
    "        return  2*3.14*self.r\n",
    "\n",
    "    # Area\n",
    "    def Area(self):\n",
    "        return  3.14*self.r**2\n"
   ]
  },
  {
   "cell_type": "code",
   "execution_count": 50,
   "id": "f8d21223",
   "metadata": {},
   "outputs": [],
   "source": [
    "R1 =  Rectangle(12  , 32)"
   ]
  },
  {
   "cell_type": "code",
   "execution_count": 51,
   "id": "1305dcdf",
   "metadata": {},
   "outputs": [
    {
     "data": {
      "text/plain": [
       "88"
      ]
     },
     "execution_count": 51,
     "metadata": {},
     "output_type": "execute_result"
    }
   ],
   "source": [
    "R1.Perimeter()"
   ]
  },
  {
   "cell_type": "code",
   "execution_count": 52,
   "id": "e9274f8b",
   "metadata": {},
   "outputs": [
    {
     "data": {
      "text/plain": [
       "384"
      ]
     },
     "execution_count": 52,
     "metadata": {},
     "output_type": "execute_result"
    }
   ],
   "source": [
    "R1.Area()"
   ]
  },
  {
   "cell_type": "code",
   "execution_count": 53,
   "id": "f1cdb3a0",
   "metadata": {},
   "outputs": [],
   "source": [
    "C1  =  Circle(r  =  2)"
   ]
  },
  {
   "cell_type": "code",
   "execution_count": 54,
   "id": "58c4c746",
   "metadata": {},
   "outputs": [
    {
     "data": {
      "text/plain": [
       "12.56"
      ]
     },
     "execution_count": 54,
     "metadata": {},
     "output_type": "execute_result"
    }
   ],
   "source": [
    "C1.Area()"
   ]
  },
  {
   "cell_type": "code",
   "execution_count": 55,
   "id": "13b0fb64",
   "metadata": {},
   "outputs": [
    {
     "data": {
      "text/plain": [
       "12.56"
      ]
     },
     "execution_count": 55,
     "metadata": {},
     "output_type": "execute_result"
    }
   ],
   "source": [
    "C1.Perimeter()"
   ]
  },
  {
   "cell_type": "code",
   "execution_count": 56,
   "id": "9964f2d2",
   "metadata": {},
   "outputs": [
    {
     "data": {
      "text/plain": [
       "18.84"
      ]
     },
     "execution_count": 56,
     "metadata": {},
     "output_type": "execute_result"
    }
   ],
   "source": [
    "C2  =  Circle(3)\n",
    "C2.Perimeter()"
   ]
  },
  {
   "cell_type": "code",
   "execution_count": 57,
   "id": "dd3348e5",
   "metadata": {},
   "outputs": [
    {
     "data": {
      "text/plain": [
       "28.26"
      ]
     },
     "execution_count": 57,
     "metadata": {},
     "output_type": "execute_result"
    }
   ],
   "source": [
    "C2.Area()"
   ]
  },
  {
   "cell_type": "code",
   "execution_count": 58,
   "id": "4ec0a6bb",
   "metadata": {},
   "outputs": [],
   "source": [
    "@dataclass\n",
    "class  Triangle:\n",
    "    s1 :  int|float\n",
    "    s2  :  int|float\n",
    "    s3 :  int|float\n",
    "\n",
    "#  perimeter\n",
    "    def  Perimeter(self):\n",
    "        if  (self.s1 + self.s2 >  self.s3) and \\\n",
    "        (self.s2 + self.s3> self.s1)  and  \\\n",
    "        (self.s1 + self.s3  >  self.s2) : \n",
    "            P  =  self.s1+self.s2+self.s3\n",
    "            return P\n",
    "    \n",
    "\n",
    "    # #  find area  of  triangle\n",
    "    def  Area(self):\n",
    "        if  self.Perimeter() is  not None:\n",
    "            s  =  self.Perimeter()/2\n",
    "            return  (s*((s-self.s1)*(s-self.s2)*(s-self.s3)))**(1/2)\n",
    "        else:\n",
    "            print('Sides  do  not  form  Triangle')\n",
    "    \n",
    "\n"
   ]
  },
  {
   "cell_type": "code",
   "execution_count": 59,
   "id": "78764b50",
   "metadata": {},
   "outputs": [],
   "source": [
    "t1  =  Triangle(s1  =  12 , s2  =  13 , s3  =  23)"
   ]
  },
  {
   "cell_type": "code",
   "execution_count": 60,
   "id": "cc22c59e",
   "metadata": {},
   "outputs": [
    {
     "data": {
      "text/plain": [
       "48"
      ]
     },
     "execution_count": 60,
     "metadata": {},
     "output_type": "execute_result"
    }
   ],
   "source": [
    "t1.Perimeter()"
   ]
  },
  {
   "cell_type": "code",
   "execution_count": 61,
   "id": "68dab2f3",
   "metadata": {},
   "outputs": [
    {
     "data": {
      "text/plain": [
       "56.28498911788115"
      ]
     },
     "execution_count": 61,
     "metadata": {},
     "output_type": "execute_result"
    }
   ],
   "source": [
    "t1.Area()"
   ]
  },
  {
   "cell_type": "code",
   "execution_count": 62,
   "id": "faf11d71",
   "metadata": {},
   "outputs": [
    {
     "name": "stdout",
     "output_type": "stream",
     "text": [
      "Circle(r=2)\n",
      "Perimeter -->  12.56\n",
      "Area -->  12.56\n",
      "\n",
      "-----------------\n",
      "Triangle(s1=12, s2=13, s3=23)\n",
      "Perimeter -->  48\n",
      "Area -->  56.28498911788115\n",
      "\n",
      "-----------------\n",
      "Rectangle(s1=12, s2=32)\n",
      "Perimeter -->  88\n",
      "Area -->  384\n",
      "\n",
      "-----------------\n"
     ]
    }
   ],
   "source": [
    "for  i  in  [C1  ,  t1 ,R1 ]:\n",
    "    print(i)\n",
    "    print(f'Perimeter -->  {i.Perimeter()}')\n",
    "    print(f'Area -->  {i.Area()}')\n",
    "    print()\n",
    "    print('-----------------')\n",
    "    "
   ]
  },
  {
   "cell_type": "code",
   "execution_count": 63,
   "id": "ea3ab8b6",
   "metadata": {},
   "outputs": [
    {
     "data": {
      "text/plain": [
       "2"
      ]
     },
     "execution_count": 63,
     "metadata": {},
     "output_type": "execute_result"
    }
   ],
   "source": [
    "C1.r"
   ]
  },
  {
   "cell_type": "code",
   "execution_count": null,
   "id": "5ad378cd",
   "metadata": {},
   "outputs": [],
   "source": [
    "## Encapsulation \n",
    "-  public  variables -  access  publically \n",
    "-  protected  variables -  _\n",
    "-  private variables -__\n"
   ]
  },
  {
   "cell_type": "code",
   "execution_count": null,
   "id": "0e7d2ad4",
   "metadata": {},
   "outputs": [],
   "source": [
    "class  Acount:\n",
    "    def  __init__(self ,  bal):\n",
    "        self.bal  =  bal\n",
    "\n",
    "        #  protected  variable\n"
   ]
  },
  {
   "cell_type": "code",
   "execution_count": 65,
   "id": "dab56b17",
   "metadata": {},
   "outputs": [
    {
     "data": {
      "text/plain": [
       "20000"
      ]
     },
     "execution_count": 65,
     "metadata": {},
     "output_type": "execute_result"
    }
   ],
   "source": [
    "a =  Acount(20000)\n",
    "a.bal"
   ]
  },
  {
   "cell_type": "code",
   "execution_count": 97,
   "id": "8859e980",
   "metadata": {},
   "outputs": [],
   "source": [
    "\n",
    "class  Acount1:\n",
    "    def  __init__(self ,  bal):\n",
    "        self._bal  =  bal\n",
    "\n",
    "\n",
    "    #  check balance\n",
    "    def check_balance(self):\n",
    "        print(self._bal)\n",
    "        "
   ]
  },
  {
   "cell_type": "code",
   "execution_count": 98,
   "id": "9d2114c8",
   "metadata": {},
   "outputs": [],
   "source": [
    "a1  =  Acount1(20000)"
   ]
  },
  {
   "cell_type": "code",
   "execution_count": 99,
   "id": "7d95c950",
   "metadata": {},
   "outputs": [
    {
     "ename": "AttributeError",
     "evalue": "'Acount1' object has no attribute 'bal'",
     "output_type": "error",
     "traceback": [
      "\u001b[31m---------------------------------------------------------------------------\u001b[39m",
      "\u001b[31mAttributeError\u001b[39m                            Traceback (most recent call last)",
      "\u001b[36mCell\u001b[39m\u001b[36m \u001b[39m\u001b[32mIn[99]\u001b[39m\u001b[32m, line 1\u001b[39m\n\u001b[32m----> \u001b[39m\u001b[32m1\u001b[39m \u001b[43ma1\u001b[49m\u001b[43m.\u001b[49m\u001b[43mbal\u001b[49m\n",
      "\u001b[31mAttributeError\u001b[39m: 'Acount1' object has no attribute 'bal'"
     ]
    }
   ],
   "source": [
    "a1.bal"
   ]
  },
  {
   "cell_type": "code",
   "execution_count": null,
   "id": "9b6a764f",
   "metadata": {},
   "outputs": [
    {
     "data": {
      "text/plain": [
       "20000"
      ]
     },
     "execution_count": 95,
     "metadata": {},
     "output_type": "execute_result"
    }
   ],
   "source": [
    "a1._bal"
   ]
  },
  {
   "cell_type": "code",
   "execution_count": 100,
   "id": "97926124",
   "metadata": {},
   "outputs": [
    {
     "name": "stdout",
     "output_type": "stream",
     "text": [
      "20000\n"
     ]
    }
   ],
   "source": [
    "a1.check_balance()"
   ]
  },
  {
   "cell_type": "code",
   "execution_count": 101,
   "id": "94a96456",
   "metadata": {},
   "outputs": [],
   "source": [
    "##  private  variables\n",
    "class  Acount2:\n",
    "    def __init__(self,  bal):\n",
    "        self.__bal  =  bal"
   ]
  },
  {
   "cell_type": "code",
   "execution_count": 104,
   "id": "b0cb57f1",
   "metadata": {},
   "outputs": [],
   "source": [
    "a2  =  Acount2(20000)"
   ]
  },
  {
   "cell_type": "code",
   "execution_count": 105,
   "id": "65199721",
   "metadata": {},
   "outputs": [
    {
     "ename": "AttributeError",
     "evalue": "'Acount2' object has no attribute 'bal'",
     "output_type": "error",
     "traceback": [
      "\u001b[31m---------------------------------------------------------------------------\u001b[39m",
      "\u001b[31mAttributeError\u001b[39m                            Traceback (most recent call last)",
      "\u001b[36mCell\u001b[39m\u001b[36m \u001b[39m\u001b[32mIn[105]\u001b[39m\u001b[32m, line 1\u001b[39m\n\u001b[32m----> \u001b[39m\u001b[32m1\u001b[39m \u001b[43ma2\u001b[49m\u001b[43m.\u001b[49m\u001b[43mbal\u001b[49m\n",
      "\u001b[31mAttributeError\u001b[39m: 'Acount2' object has no attribute 'bal'"
     ]
    }
   ],
   "source": [
    "a2.bal"
   ]
  },
  {
   "cell_type": "code",
   "execution_count": 106,
   "id": "62ddd692",
   "metadata": {},
   "outputs": [
    {
     "ename": "AttributeError",
     "evalue": "'Acount2' object has no attribute '__bal'",
     "output_type": "error",
     "traceback": [
      "\u001b[31m---------------------------------------------------------------------------\u001b[39m",
      "\u001b[31mAttributeError\u001b[39m                            Traceback (most recent call last)",
      "\u001b[36mCell\u001b[39m\u001b[36m \u001b[39m\u001b[32mIn[106]\u001b[39m\u001b[32m, line 1\u001b[39m\n\u001b[32m----> \u001b[39m\u001b[32m1\u001b[39m \u001b[43ma2\u001b[49m\u001b[43m.\u001b[49m\u001b[43m__bal\u001b[49m\n",
      "\u001b[31mAttributeError\u001b[39m: 'Acount2' object has no attribute '__bal'"
     ]
    }
   ],
   "source": [
    "a2.__bal"
   ]
  },
  {
   "cell_type": "code",
   "execution_count": 109,
   "id": "d4cab97a",
   "metadata": {},
   "outputs": [
    {
     "data": {
      "text/plain": [
       "20000"
      ]
     },
     "execution_count": 109,
     "metadata": {},
     "output_type": "execute_result"
    }
   ],
   "source": [
    "a2._Acount2__bal"
   ]
  },
  {
   "cell_type": "markdown",
   "id": "afe87dab",
   "metadata": {},
   "source": [
    "#### class method\n",
    "- used to  change value  of class  attribute"
   ]
  },
  {
   "cell_type": "code",
   "execution_count": 155,
   "id": "bedd982c",
   "metadata": {},
   "outputs": [],
   "source": [
    "class Student:\n",
    "    school_name  =  'abc'\n",
    "    def  __init__(self  , name  , age):\n",
    "        self.name  =  name\n",
    "        self.age  = age \n",
    "\n",
    "    @classmethod\n",
    "    def  change_school(cls ,  new_name) :\n",
    "        cls.school_name  =  new_name \n",
    "\n",
    "    # \n",
    "    @classmethod\n",
    "    def school(cls):\n",
    "        print(f'name  of school is  {cls.school_name}')\n",
    "\n",
    "\n"
   ]
  },
  {
   "cell_type": "code",
   "execution_count": 156,
   "id": "9f34c0d6",
   "metadata": {},
   "outputs": [],
   "source": [
    "a  =  Student(name= 'xyz' , age  =12)"
   ]
  },
  {
   "cell_type": "code",
   "execution_count": 157,
   "id": "3a1b7793",
   "metadata": {},
   "outputs": [
    {
     "data": {
      "text/plain": [
       "'abc'"
      ]
     },
     "execution_count": 157,
     "metadata": {},
     "output_type": "execute_result"
    }
   ],
   "source": [
    "a.name\n",
    "a.age\n",
    "a.school_name"
   ]
  },
  {
   "cell_type": "code",
   "execution_count": 159,
   "id": "2e921a0c",
   "metadata": {},
   "outputs": [
    {
     "name": "stdout",
     "output_type": "stream",
     "text": [
      "name  of school is  abc\n"
     ]
    }
   ],
   "source": [
    "a.school()"
   ]
  },
  {
   "cell_type": "code",
   "execution_count": 150,
   "id": "b87825f5",
   "metadata": {},
   "outputs": [],
   "source": [
    "b  =  Student(name  = 'pqr' , age  = 21)"
   ]
  },
  {
   "cell_type": "code",
   "execution_count": 144,
   "id": "74242083",
   "metadata": {},
   "outputs": [],
   "source": [
    "a.school_name =  'a1b1c1'"
   ]
  },
  {
   "cell_type": "code",
   "execution_count": 145,
   "id": "16bf9d58",
   "metadata": {},
   "outputs": [
    {
     "data": {
      "text/plain": [
       "'a1b1c1'"
      ]
     },
     "execution_count": 145,
     "metadata": {},
     "output_type": "execute_result"
    }
   ],
   "source": [
    "a.school_name"
   ]
  },
  {
   "cell_type": "code",
   "execution_count": 151,
   "id": "e64f8da7",
   "metadata": {},
   "outputs": [],
   "source": [
    "a.change_school('x1y1z1')"
   ]
  },
  {
   "cell_type": "code",
   "execution_count": 152,
   "id": "f750fd49",
   "metadata": {},
   "outputs": [
    {
     "data": {
      "text/plain": [
       "'x1y1z1'"
      ]
     },
     "execution_count": 152,
     "metadata": {},
     "output_type": "execute_result"
    }
   ],
   "source": [
    "a.school_name"
   ]
  },
  {
   "cell_type": "code",
   "execution_count": 153,
   "id": "0256164d",
   "metadata": {},
   "outputs": [
    {
     "data": {
      "text/plain": [
       "'x1y1z1'"
      ]
     },
     "execution_count": 153,
     "metadata": {},
     "output_type": "execute_result"
    }
   ],
   "source": [
    "b  =  Student(name  = 'pqr' , age  = 21)\n",
    "b.school_name"
   ]
  },
  {
   "cell_type": "code",
   "execution_count": 154,
   "id": "08ce9546",
   "metadata": {},
   "outputs": [
    {
     "name": "stdout",
     "output_type": "stream",
     "text": [
      "name  of school is  x1y1z1\n"
     ]
    }
   ],
   "source": [
    "a.school()"
   ]
  },
  {
   "cell_type": "code",
   "execution_count": null,
   "id": "16665cfd",
   "metadata": {},
   "outputs": [],
   "source": []
  }
 ],
 "metadata": {
  "kernelspec": {
   "display_name": "venv",
   "language": "python",
   "name": "python3"
  },
  "language_info": {
   "codemirror_mode": {
    "name": "ipython",
    "version": 3
   },
   "file_extension": ".py",
   "mimetype": "text/x-python",
   "name": "python",
   "nbconvert_exporter": "python",
   "pygments_lexer": "ipython3",
   "version": "3.13.7"
  }
 },
 "nbformat": 4,
 "nbformat_minor": 5
}
