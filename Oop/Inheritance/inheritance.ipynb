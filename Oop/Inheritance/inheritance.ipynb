{
 "cells": [
  {
   "cell_type": "markdown",
   "id": "ba297d3e",
   "metadata": {},
   "source": [
    "### single  Inheritance"
   ]
  },
  {
   "cell_type": "markdown",
   "id": "3f5b41d2",
   "metadata": {},
   "source": [
    "- create  class  person and employee\n"
   ]
  },
  {
   "cell_type": "code",
   "execution_count": 4,
   "id": "50a7b91f",
   "metadata": {},
   "outputs": [],
   "source": [
    "class Person:\n",
    "    def __init__(self , name  , age):\n",
    "        self.name  = name\n",
    "        self.age  =  age\n",
    "    def introduce(self):\n",
    "        return f\"My name  is  {self.name} and i am {self.age} years  old\""
   ]
  },
  {
   "cell_type": "code",
   "execution_count": 5,
   "id": "38c5243e",
   "metadata": {},
   "outputs": [],
   "source": [
    "p1  =  Person(name = 'seeta' ,  age  =  23)"
   ]
  },
  {
   "cell_type": "code",
   "execution_count": null,
   "id": "258847b1",
   "metadata": {},
   "outputs": [
    {
     "data": {
      "text/plain": [
       "'My name  is  seeta and i am 23 years  old'"
      ]
     },
     "execution_count": 7,
     "metadata": {},
     "output_type": "execute_result"
    }
   ],
   "source": [
    "p1.introduce()"
   ]
  },
  {
   "cell_type": "code",
   "execution_count": null,
   "id": "c4625dfe",
   "metadata": {},
   "outputs": [],
   "source": [
    "class Person:\n",
    "    def __init__(self , name  , age):\n",
    "        self.name  = name\n",
    "        self.age  =  age\n",
    "    def introduce(self):\n",
    "        return f\"My name  is  {self.name} and i am {self.age} years  old\"\n",
    "\n",
    "#  employee\n",
    "\n",
    "class Employee(Person):\n",
    "    def __init__(self,  name  , age  ,  company):\n",
    "        super().__init__(name  , age)\n",
    "        self.company  =  company\n",
    "\n",
    "    #  method\n",
    "    def info(self):\n",
    "        print(super().introduce())\n",
    "        return  f'I work for {self.company } '"
   ]
  },
  {
   "cell_type": "code",
   "execution_count": 27,
   "id": "057047de",
   "metadata": {},
   "outputs": [],
   "source": [
    "E1  =  Employee(name  = 'sarthak' , age =  34  ,  company  =  'Infosys') "
   ]
  },
  {
   "cell_type": "code",
   "execution_count": 28,
   "id": "4f8bcfa1",
   "metadata": {},
   "outputs": [
    {
     "data": {
      "text/plain": [
       "'My name  is  sarthak and i am 34 years  old'"
      ]
     },
     "execution_count": 28,
     "metadata": {},
     "output_type": "execute_result"
    }
   ],
   "source": [
    "E1.introduce()"
   ]
  },
  {
   "cell_type": "code",
   "execution_count": 29,
   "id": "d5bc25bd",
   "metadata": {},
   "outputs": [
    {
     "name": "stdout",
     "output_type": "stream",
     "text": [
      "\n"
     ]
    },
    {
     "data": {
      "text/plain": [
       "'My name  is  sarthak and i am 34 years  old . I work for Infosys '"
      ]
     },
     "execution_count": 29,
     "metadata": {},
     "output_type": "execute_result"
    }
   ],
   "source": [
    "E1.info()"
   ]
  },
  {
   "cell_type": "code",
   "execution_count": 30,
   "id": "38729533",
   "metadata": {},
   "outputs": [],
   "source": [
    "class Person:\n",
    "    def __init__(self , name  , age):\n",
    "        self.name  = name\n",
    "        self.age  =  age\n",
    "    def introduce(self):\n",
    "        return f\"My name  is  {self.name} and i am {self.age} years  old\"\n",
    "\n",
    "#  employee\n",
    "\n",
    "class Employee(Person):\n",
    "    def __init__(self,  name  , age  ,  company):\n",
    "        super().__init__(name  , age)\n",
    "        self.company  =  company\n",
    "\n",
    "    #  method\n",
    "    def info(self):\n",
    "        return  f' {super().introduce()} I work for {self.company } '"
   ]
  },
  {
   "cell_type": "code",
   "execution_count": 31,
   "id": "192d23d8",
   "metadata": {},
   "outputs": [],
   "source": [
    "E2  =  Employee(name  = 'sarthak' , age =  34  ,  company  =  'Infosys') "
   ]
  },
  {
   "cell_type": "code",
   "execution_count": 32,
   "id": "3f08d0d2",
   "metadata": {},
   "outputs": [
    {
     "data": {
      "text/plain": [
       "' My name  is  sarthak and i am 34 years  old I work for Infosys '"
      ]
     },
     "execution_count": 32,
     "metadata": {},
     "output_type": "execute_result"
    }
   ],
   "source": [
    "E2.info()"
   ]
  },
  {
   "cell_type": "code",
   "execution_count": 33,
   "id": "c2248d62",
   "metadata": {},
   "outputs": [],
   "source": [
    "class Person:\n",
    "    def __init__(self , name  , age):\n",
    "        self.name  = name\n",
    "        self.age  =  age\n",
    "    def introduce(self):\n",
    "        return f\"My name  is  {self.name} and i am {self.age} years  old\"\n",
    "\n",
    "#  employee\n",
    "\n",
    "class Employee(Person):\n",
    "    def __init__(self,  name  , age  ,  company):\n",
    "        super().__init__(name  , age)\n",
    "        self.company  =  company\n",
    "\n",
    "    #  method\n",
    "    def info(self):\n",
    "        return  f' {self.introduce()} I work for {self.company } '"
   ]
  },
  {
   "cell_type": "code",
   "execution_count": 34,
   "id": "0e28674c",
   "metadata": {},
   "outputs": [],
   "source": [
    "E3  = E2  =  Employee(name  = 'sarthak' , age =  34  ,  company  =  'Infosys') "
   ]
  },
  {
   "cell_type": "code",
   "execution_count": 35,
   "id": "2a5fe150",
   "metadata": {},
   "outputs": [
    {
     "data": {
      "text/plain": [
       "' My name  is  sarthak and i am 34 years  old I work for Infosys '"
      ]
     },
     "execution_count": 35,
     "metadata": {},
     "output_type": "execute_result"
    }
   ],
   "source": [
    "E3.info()"
   ]
  },
  {
   "cell_type": "code",
   "execution_count": 40,
   "id": "a3631b69",
   "metadata": {},
   "outputs": [],
   "source": [
    "class Person:\n",
    "    def __init__(self , name  , age):\n",
    "        self.name  = name\n",
    "        self.age  =  age\n",
    "    def introduce(self):\n",
    "        return f\"My name  is  {self.name} and i am {self.age} years  old\"\n",
    "\n",
    "#  employee\n",
    "\n",
    "class Employee(Person):\n",
    "    def __init__(self,  name  , age  ,  company):\n",
    "        super().__init__(name  , age)\n",
    "        self.company  =  company\n",
    "\n",
    "    #  method\n",
    "    def info(self):\n",
    "        super().introduce()\n",
    "        return  f'  I work for {self.company } '"
   ]
  },
  {
   "cell_type": "code",
   "execution_count": 41,
   "id": "1490961e",
   "metadata": {},
   "outputs": [],
   "source": [
    "E4  =  Employee(name  = 'sarthak' , age =  34  ,  company  =  'Infosys') "
   ]
  },
  {
   "cell_type": "code",
   "execution_count": 42,
   "id": "025a83a7",
   "metadata": {},
   "outputs": [
    {
     "data": {
      "text/plain": [
       "'  I work for Infosys '"
      ]
     },
     "execution_count": 42,
     "metadata": {},
     "output_type": "execute_result"
    }
   ],
   "source": [
    "E4.info()"
   ]
  },
  {
   "cell_type": "code",
   "execution_count": 43,
   "id": "d1f4612f",
   "metadata": {},
   "outputs": [],
   "source": [
    "class Person:\n",
    "    def __init__(self , name  , age):\n",
    "        self.name  = name\n",
    "        self.age  =  age\n",
    "    def introduce(self):\n",
    "        print(f\"My name  is  {self.name} and i am {self.age} years  old\")\n",
    "\n",
    "#  employee\n",
    "\n",
    "class Employee(Person):\n",
    "    def __init__(self,  name  , age  ,  company):\n",
    "        super().__init__(name  , age)\n",
    "        self.company  =  company\n",
    "\n",
    "    #  method\n",
    "    def info(self):\n",
    "        super().introduce()\n",
    "        return  f'  I work for {self.company } '"
   ]
  },
  {
   "cell_type": "code",
   "execution_count": 44,
   "id": "ea6fa371",
   "metadata": {},
   "outputs": [],
   "source": [
    "E4  =  Employee(name  = 'sarthak' , age =  34  ,  company  =  'Infosys') "
   ]
  },
  {
   "cell_type": "code",
   "execution_count": 45,
   "id": "bc0405ea",
   "metadata": {},
   "outputs": [
    {
     "name": "stdout",
     "output_type": "stream",
     "text": [
      "My name  is  sarthak and i am 34 years  old\n"
     ]
    },
    {
     "data": {
      "text/plain": [
       "'  I work for Infosys '"
      ]
     },
     "execution_count": 45,
     "metadata": {},
     "output_type": "execute_result"
    }
   ],
   "source": [
    "E4.info()"
   ]
  },
  {
   "cell_type": "markdown",
   "id": "abaa171d",
   "metadata": {},
   "source": [
    "### Multilevel  Inheritance"
   ]
  },
  {
   "cell_type": "code",
   "execution_count": 1,
   "id": "425e11d9",
   "metadata": {},
   "outputs": [],
   "source": [
    "## create  classes  employee ,  manager  ,  project manager\n",
    "class Employee:\n",
    "    def __init__(self  , name  , emp_id):\n",
    "        self.name =name\n",
    "        self.emp_id  =  emp_id\n",
    "\n",
    "    # get info\n",
    "    def  get_employee_info(self):\n",
    "        return f' Name : {self.name}  ,  Id  : {self.emp_id} '\n",
    "\n",
    "# Create  class manager\n",
    "class Manager(Employee):\n",
    "    def __init__(self  , name , emp_id  ,  department):\n",
    "        super().__init__(name  , emp_id)\n",
    "        self.department  =  department\n",
    "\n",
    "# get_manager_info\n",
    "    def get_manager_info(self):\n",
    "        return  f\"{self.get_employee_info()} . Department : {self.department}\"\n",
    "    \n",
    "\n",
    "    # class project manager class\n",
    "class Project_Manager(Manager):\n",
    "    def __init__(self  ,  name  , emp_id , department  ,  Project):\n",
    "        super().__init__(name  , emp_id  ,  department)\n",
    "        self.Project  = Project\n",
    "\n",
    "    # def  get_project manager info\n",
    "\n",
    "    def get_project_manager_info(self):\n",
    "        return  f\"{self.get_manager_info()}   Project :  {self.Project}\"\n",
    "    \n",
    "\n",
    "\n"
   ]
  },
  {
   "cell_type": "code",
   "execution_count": 7,
   "id": "edd0df00",
   "metadata": {},
   "outputs": [],
   "source": [
    "E1  =  Employee(name  =  'Umesh' ,  emp_id  =  12)"
   ]
  },
  {
   "cell_type": "code",
   "execution_count": 8,
   "id": "30835884",
   "metadata": {},
   "outputs": [
    {
     "data": {
      "text/plain": [
       "' Name : Umesh  ,  Id  : 12 '"
      ]
     },
     "execution_count": 8,
     "metadata": {},
     "output_type": "execute_result"
    }
   ],
   "source": [
    "E1.get_employee_info()"
   ]
  },
  {
   "cell_type": "code",
   "execution_count": 9,
   "id": "885fd4f8",
   "metadata": {},
   "outputs": [
    {
     "ename": "AttributeError",
     "evalue": "'Employee' object has no attribute 'get_project_manager_info'",
     "output_type": "error",
     "traceback": [
      "\u001b[31m---------------------------------------------------------------------------\u001b[39m",
      "\u001b[31mAttributeError\u001b[39m                            Traceback (most recent call last)",
      "\u001b[36mCell\u001b[39m\u001b[36m \u001b[39m\u001b[32mIn[9]\u001b[39m\u001b[32m, line 1\u001b[39m\n\u001b[32m----> \u001b[39m\u001b[32m1\u001b[39m \u001b[43mE1\u001b[49m\u001b[43m.\u001b[49m\u001b[43mget_project_manager_info\u001b[49m()\n",
      "\u001b[31mAttributeError\u001b[39m: 'Employee' object has no attribute 'get_project_manager_info'"
     ]
    }
   ],
   "source": [
    "E1.get_project_manager_info()"
   ]
  },
  {
   "cell_type": "code",
   "execution_count": 10,
   "id": "6ffe146e",
   "metadata": {},
   "outputs": [
    {
     "ename": "AttributeError",
     "evalue": "'Employee' object has no attribute 'get_manager_info'",
     "output_type": "error",
     "traceback": [
      "\u001b[31m---------------------------------------------------------------------------\u001b[39m",
      "\u001b[31mAttributeError\u001b[39m                            Traceback (most recent call last)",
      "\u001b[36mCell\u001b[39m\u001b[36m \u001b[39m\u001b[32mIn[10]\u001b[39m\u001b[32m, line 1\u001b[39m\n\u001b[32m----> \u001b[39m\u001b[32m1\u001b[39m \u001b[43mE1\u001b[49m\u001b[43m.\u001b[49m\u001b[43mget_manager_info\u001b[49m()\n",
      "\u001b[31mAttributeError\u001b[39m: 'Employee' object has no attribute 'get_manager_info'"
     ]
    }
   ],
   "source": [
    "E1.get_manager_info()"
   ]
  },
  {
   "cell_type": "code",
   "execution_count": 11,
   "id": "915452a3",
   "metadata": {},
   "outputs": [],
   "source": [
    "M1 =  Manager(name  =  'Umesh'  , emp_id  = 12  ,  department='DS')"
   ]
  },
  {
   "cell_type": "code",
   "execution_count": 12,
   "id": "be4f9d9b",
   "metadata": {},
   "outputs": [
    {
     "data": {
      "text/plain": [
       "' Name : Umesh  ,  Id  : 12 '"
      ]
     },
     "execution_count": 12,
     "metadata": {},
     "output_type": "execute_result"
    }
   ],
   "source": [
    "M1.get_employee_info()"
   ]
  },
  {
   "cell_type": "code",
   "execution_count": 13,
   "id": "58462d46",
   "metadata": {},
   "outputs": [
    {
     "data": {
      "text/plain": [
       "' Name : Umesh  ,  Id  : 12  . Department : DS'"
      ]
     },
     "execution_count": 13,
     "metadata": {},
     "output_type": "execute_result"
    }
   ],
   "source": [
    "M1.get_manager_info()"
   ]
  },
  {
   "cell_type": "code",
   "execution_count": 26,
   "id": "9a1e9c36",
   "metadata": {},
   "outputs": [],
   "source": [
    "def add(x ,  y):\n",
    "    z   =  x+y\n",
    "    return z"
   ]
  },
  {
   "cell_type": "code",
   "execution_count": 27,
   "id": "8e4f3320",
   "metadata": {},
   "outputs": [],
   "source": [
    "a =  add(21 ,2)"
   ]
  },
  {
   "cell_type": "code",
   "execution_count": 28,
   "id": "161982f9",
   "metadata": {},
   "outputs": [
    {
     "name": "stdout",
     "output_type": "stream",
     "text": [
      "23\n"
     ]
    }
   ],
   "source": [
    "print(a)"
   ]
  },
  {
   "cell_type": "code",
   "execution_count": 3,
   "id": "ddca544e",
   "metadata": {},
   "outputs": [],
   "source": [
    "PR =  Project_Manager(name  =  'Suyash' , emp_id= 1 ,department='DS' , Project  =  'House  price prediction')"
   ]
  },
  {
   "cell_type": "code",
   "execution_count": 4,
   "id": "11f9f9b3",
   "metadata": {},
   "outputs": [
    {
     "data": {
      "text/plain": [
       "' Name : Suyash  ,  Id  : 1 '"
      ]
     },
     "execution_count": 4,
     "metadata": {},
     "output_type": "execute_result"
    }
   ],
   "source": [
    "PR.get_employee_info()"
   ]
  },
  {
   "cell_type": "code",
   "execution_count": 5,
   "id": "934ca6ce",
   "metadata": {},
   "outputs": [
    {
     "data": {
      "text/plain": [
       "' Name : Suyash  ,  Id  : 1  . Department : DS   Project :  House  price prediction'"
      ]
     },
     "execution_count": 5,
     "metadata": {},
     "output_type": "execute_result"
    }
   ],
   "source": [
    "PR.get_project_manager_info()"
   ]
  },
  {
   "cell_type": "code",
   "execution_count": 6,
   "id": "38f00e20",
   "metadata": {},
   "outputs": [
    {
     "data": {
      "text/plain": [
       "' Name : Suyash  ,  Id  : 1  . Department : DS'"
      ]
     },
     "execution_count": 6,
     "metadata": {},
     "output_type": "execute_result"
    }
   ],
   "source": [
    "PR.get_manager_info()"
   ]
  },
  {
   "cell_type": "code",
   "execution_count": null,
   "id": "e7252461",
   "metadata": {},
   "outputs": [],
   "source": []
  },
  {
   "attachments": {
    "image.png": {
     "image/png": "[encoded data removed]"
    }
   },
   "cell_type": "markdown",
   "id": "36e5455b",
   "metadata": {},
   "source": [
    "![image.png](attachment:image.png)"
   ]
  },
  {
   "cell_type": "markdown",
   "id": "75f145e7",
   "metadata": {},
   "source": [
    "### Hierarchical Inheritance\n"
   ]
  },
  {
   "cell_type": "markdown",
   "id": "4e3a6658",
   "metadata": {},
   "source": [
    "#### create class  user as  parent and Admin and RegularUser as  child classes"
   ]
  },
  {
   "cell_type": "code",
   "execution_count": 25,
   "id": "5c2030b8",
   "metadata": {},
   "outputs": [],
   "source": [
    "class  User:\n",
    "    def __init__(self  ,  username  ,  password):\n",
    "        self.username   =  username\n",
    "        self.password  =  password\n",
    "\n",
    "    # def  get_user_info\n",
    "    def  get_user_info(self):\n",
    "        return f\"username  : {self.username} ,  password :  {self.password}\"\n",
    "    \n",
    "\n",
    "    # create  class  ADmin\n",
    "class  Admin(User):\n",
    "    def __init__(self,  username  ,  password  ,  Access):\n",
    "        super().__init__(username  , password  )\n",
    "        self.Access =  Access\n",
    "\n",
    "\n",
    "    # def Admin_info\n",
    "\n",
    "    def Admin_info(self):\n",
    "        print(super().get_user_info())\n",
    "        return  f\"Access : {self.Access}\"\n",
    "    \n",
    "\n",
    "    ## create class RegularUser\n",
    "\n",
    "class  RegularUser(User):\n",
    "    def __init__(self , username  , password  ,  subscription):\n",
    "        super().__init__(username  , password  )\n",
    "        self.subscription =  subscription\n",
    "\n",
    "    \n",
    "    # def  method\n",
    "\n",
    "    def  get_RegularUser_info(self):\n",
    "        print(super().get_user_info())\n",
    "        return  f\"Subscription :  {self.subscription}\"\n",
    "\n",
    "    \n",
    "\n"
   ]
  },
  {
   "cell_type": "code",
   "execution_count": 26,
   "id": "53c80c9b",
   "metadata": {},
   "outputs": [],
   "source": [
    "U1  =  User('sarthak1' , 'sarthak@123')"
   ]
  },
  {
   "cell_type": "code",
   "execution_count": 27,
   "id": "f8d7bb88",
   "metadata": {},
   "outputs": [
    {
     "data": {
      "text/plain": [
       "'username  : sarthak1 ,  password :  sarthak@123'"
      ]
     },
     "execution_count": 27,
     "metadata": {},
     "output_type": "execute_result"
    }
   ],
   "source": [
    "U1.get_user_info()"
   ]
  },
  {
   "cell_type": "code",
   "execution_count": 28,
   "id": "c788e701",
   "metadata": {},
   "outputs": [],
   "source": [
    "A1 =  Admin('sarthak1' ,  'sarthak@123' ,  'Complete')"
   ]
  },
  {
   "cell_type": "code",
   "execution_count": 29,
   "id": "8df7acc1",
   "metadata": {},
   "outputs": [
    {
     "name": "stdout",
     "output_type": "stream",
     "text": [
      "username  : sarthak1 ,  password :  sarthak@123\n"
     ]
    },
    {
     "data": {
      "text/plain": [
       "'Access : Complete'"
      ]
     },
     "execution_count": 29,
     "metadata": {},
     "output_type": "execute_result"
    }
   ],
   "source": [
    "A1.Admin_info()"
   ]
  },
  {
   "cell_type": "code",
   "execution_count": 30,
   "id": "2c89f469",
   "metadata": {},
   "outputs": [],
   "source": [
    "RU1  =  RegularUser('sarthak' , 'sarthak@123' , True)"
   ]
  },
  {
   "cell_type": "code",
   "execution_count": 31,
   "id": "03da9d40",
   "metadata": {},
   "outputs": [
    {
     "name": "stdout",
     "output_type": "stream",
     "text": [
      "username  : sarthak ,  password :  sarthak@123\n"
     ]
    },
    {
     "data": {
      "text/plain": [
       "'Subscription :  True'"
      ]
     },
     "execution_count": 31,
     "metadata": {},
     "output_type": "execute_result"
    }
   ],
   "source": [
    "RU1.get_RegularUser_info()"
   ]
  },
  {
   "cell_type": "code",
   "execution_count": 32,
   "id": "9d04a7cb",
   "metadata": {},
   "outputs": [
    {
     "name": "stdout",
     "output_type": "stream",
     "text": [
      "Collecting pydantic\n",
      "  Downloading pydantic-2.11.9-py3-none-any.whl.metadata (68 kB)\n",
      "Collecting annotated-types>=0.6.0 (from pydantic)\n",
      "  Using cached annotated_types-0.7.0-py3-none-any.whl.metadata (15 kB)\n",
      "Collecting pydantic-core==2.33.2 (from pydantic)\n",
      "  Using cached pydantic_core-2.33.2-cp313-cp313-win_amd64.whl.metadata (6.9 kB)\n",
      "Requirement already satisfied: typing-extensions>=4.12.2 in d:\\23 sept adv python weekdays\\repository\\venv\\lib\\site-packages (from pydantic) (4.15.0)\n",
      "Collecting typing-inspection>=0.4.0 (from pydantic)\n",
      "  Downloading typing_inspection-0.4.2-py3-none-any.whl.metadata (2.6 kB)\n",
      "Downloading pydantic-2.11.9-py3-none-any.whl (444 kB)\n",
      "Using cached pydantic_core-2.33.2-cp313-cp313-win_amd64.whl (2.0 MB)\n",
      "Using cached annotated_types-0.7.0-py3-none-any.whl (13 kB)\n",
      "Downloading typing_inspection-0.4.2-py3-none-any.whl (14 kB)\n",
      "Installing collected packages: typing-inspection, pydantic-core, annotated-types, pydantic\n",
      "\n",
      "   ---------------------------------------- 0/4 [typing-inspection]\n",
      "   ---------------------------------------- 0/4 [typing-inspection]\n",
      "   ---------- ----------------------------- 1/4 [pydantic-core]\n",
      "   ---------- ----------------------------- 1/4 [pydantic-core]\n",
      "   ---------- ----------------------------- 1/4 [pydantic-core]\n",
      "   ---------- ----------------------------- 1/4 [pydantic-core]\n",
      "   -------------------- ------------------- 2/4 [annotated-types]\n",
      "   ------------------------------ --------- 3/4 [pydantic]\n",
      "   ------------------------------ --------- 3/4 [pydantic]\n",
      "   ------------------------------ --------- 3/4 [pydantic]\n",
      "   ------------------------------ --------- 3/4 [pydantic]\n",
      "   ------------------------------ --------- 3/4 [pydantic]\n",
      "   ------------------------------ --------- 3/4 [pydantic]\n",
      "   ------------------------------ --------- 3/4 [pydantic]\n",
      "   ------------------------------ --------- 3/4 [pydantic]\n",
      "   ------------------------------ --------- 3/4 [pydantic]\n",
      "   ------------------------------ --------- 3/4 [pydantic]\n",
      "   ------------------------------ --------- 3/4 [pydantic]\n",
      "   ------------------------------ --------- 3/4 [pydantic]\n",
      "   ------------------------------ --------- 3/4 [pydantic]\n",
      "   ------------------------------ --------- 3/4 [pydantic]\n",
      "   ------------------------------ --------- 3/4 [pydantic]\n",
      "   ------------------------------ --------- 3/4 [pydantic]\n",
      "   ------------------------------ --------- 3/4 [pydantic]\n",
      "   ------------------------------ --------- 3/4 [pydantic]\n",
      "   ------------------------------ --------- 3/4 [pydantic]\n",
      "   ------------------------------ --------- 3/4 [pydantic]\n",
      "   ------------------------------ --------- 3/4 [pydantic]\n",
      "   ------------------------------ --------- 3/4 [pydantic]\n",
      "   ------------------------------ --------- 3/4 [pydantic]\n",
      "   ------------------------------ --------- 3/4 [pydantic]\n",
      "   ------------------------------ --------- 3/4 [pydantic]\n",
      "   ------------------------------ --------- 3/4 [pydantic]\n",
      "   ------------------------------ --------- 3/4 [pydantic]\n",
      "   ------------------------------ --------- 3/4 [pydantic]\n",
      "   ------------------------------ --------- 3/4 [pydantic]\n",
      "   ------------------------------ --------- 3/4 [pydantic]\n",
      "   ------------------------------ --------- 3/4 [pydantic]\n",
      "   ------------------------------ --------- 3/4 [pydantic]\n",
      "   ------------------------------ --------- 3/4 [pydantic]\n",
      "   ------------------------------ --------- 3/4 [pydantic]\n",
      "   ------------------------------ --------- 3/4 [pydantic]\n",
      "   ------------------------------ --------- 3/4 [pydantic]\n",
      "   ------------------------------ --------- 3/4 [pydantic]\n",
      "   ------------------------------ --------- 3/4 [pydantic]\n",
      "   ------------------------------ --------- 3/4 [pydantic]\n",
      "   ------------------------------ --------- 3/4 [pydantic]\n",
      "   ------------------------------ --------- 3/4 [pydantic]\n",
      "   ------------------------------ --------- 3/4 [pydantic]\n",
      "   ------------------------------ --------- 3/4 [pydantic]\n",
      "   ------------------------------ --------- 3/4 [pydantic]\n",
      "   ------------------------------ --------- 3/4 [pydantic]\n",
      "   ------------------------------ --------- 3/4 [pydantic]\n",
      "   ------------------------------ --------- 3/4 [pydantic]\n",
      "   ------------------------------ --------- 3/4 [pydantic]\n",
      "   ------------------------------ --------- 3/4 [pydantic]\n",
      "   ------------------------------ --------- 3/4 [pydantic]\n",
      "   ------------------------------ --------- 3/4 [pydantic]\n",
      "   ------------------------------ --------- 3/4 [pydantic]\n",
      "   ------------------------------ --------- 3/4 [pydantic]\n",
      "   ------------------------------ --------- 3/4 [pydantic]\n",
      "   ------------------------------ --------- 3/4 [pydantic]\n",
      "   ------------------------------ --------- 3/4 [pydantic]\n",
      "   ------------------------------ --------- 3/4 [pydantic]\n",
      "   ------------------------------ --------- 3/4 [pydantic]\n",
      "   ------------------------------ --------- 3/4 [pydantic]\n",
      "   ------------------------------ --------- 3/4 [pydantic]\n",
      "   ------------------------------ --------- 3/4 [pydantic]\n",
      "   ------------------------------ --------- 3/4 [pydantic]\n",
      "   ------------------------------ --------- 3/4 [pydantic]\n",
      "   ------------------------------ --------- 3/4 [pydantic]\n",
      "   ------------------------------ --------- 3/4 [pydantic]\n",
      "   ------------------------------ --------- 3/4 [pydantic]\n",
      "   ------------------------------ --------- 3/4 [pydantic]\n",
      "   ------------------------------ --------- 3/4 [pydantic]\n",
      "   ------------------------------ --------- 3/4 [pydantic]\n",
      "   ------------------------------ --------- 3/4 [pydantic]\n",
      "   ------------------------------ --------- 3/4 [pydantic]\n",
      "   ------------------------------ --------- 3/4 [pydantic]\n",
      "   ------------------------------ --------- 3/4 [pydantic]\n",
      "   ------------------------------ --------- 3/4 [pydantic]\n",
      "   ------------------------------ --------- 3/4 [pydantic]\n",
      "   ------------------------------ --------- 3/4 [pydantic]\n",
      "   ------------------------------ --------- 3/4 [pydantic]\n",
      "   ------------------------------ --------- 3/4 [pydantic]\n",
      "   ------------------------------ --------- 3/4 [pydantic]\n",
      "   ------------------------------ --------- 3/4 [pydantic]\n",
      "   ------------------------------ --------- 3/4 [pydantic]\n",
      "   ------------------------------ --------- 3/4 [pydantic]\n",
      "   ------------------------------ --------- 3/4 [pydantic]\n",
      "   ------------------------------ --------- 3/4 [pydantic]\n",
      "   ------------------------------ --------- 3/4 [pydantic]\n",
      "   ------------------------------ --------- 3/4 [pydantic]\n",
      "   ------------------------------ --------- 3/4 [pydantic]\n",
      "   ------------------------------ --------- 3/4 [pydantic]\n",
      "   ------------------------------ --------- 3/4 [pydantic]\n",
      "   ------------------------------ --------- 3/4 [pydantic]\n",
      "   ------------------------------ --------- 3/4 [pydantic]\n",
      "   ------------------------------ --------- 3/4 [pydantic]\n",
      "   ---------------------------------------- 4/4 [pydantic]\n",
      "\n",
      "Successfully installed annotated-types-0.7.0 pydantic-2.11.9 pydantic-core-2.33.2 typing-inspection-0.4.2\n"
     ]
    }
   ],
   "source": [
    "!pip  install  pydantic"
   ]
  },
  {
   "cell_type": "code",
   "execution_count": 33,
   "id": "4964b3c3",
   "metadata": {},
   "outputs": [
    {
     "name": "stdout",
     "output_type": "stream",
     "text": [
      "Requirement already satisfied: pydantic in d:\\23 sept adv python weekdays\\repository\\venv\\lib\\site-packages (2.11.9)\n",
      "Collecting email-validator\n",
      "  Using cached email_validator-2.3.0-py3-none-any.whl.metadata (26 kB)\n",
      "Requirement already satisfied: annotated-types>=0.6.0 in d:\\23 sept adv python weekdays\\repository\\venv\\lib\\site-packages (from pydantic) (0.7.0)\n",
      "Requirement already satisfied: pydantic-core==2.33.2 in d:\\23 sept adv python weekdays\\repository\\venv\\lib\\site-packages (from pydantic) (2.33.2)\n",
      "Requirement already satisfied: typing-extensions>=4.12.2 in d:\\23 sept adv python weekdays\\repository\\venv\\lib\\site-packages (from pydantic) (4.15.0)\n",
      "Requirement already satisfied: typing-inspection>=0.4.0 in d:\\23 sept adv python weekdays\\repository\\venv\\lib\\site-packages (from pydantic) (0.4.2)\n",
      "Collecting dnspython>=2.0.0 (from email-validator)\n",
      "  Using cached dnspython-2.8.0-py3-none-any.whl.metadata (5.7 kB)\n",
      "Requirement already satisfied: idna>=2.0.0 in d:\\23 sept adv python weekdays\\repository\\venv\\lib\\site-packages (from email-validator) (3.10)\n",
      "Using cached email_validator-2.3.0-py3-none-any.whl (35 kB)\n",
      "Using cached dnspython-2.8.0-py3-none-any.whl (331 kB)\n",
      "Installing collected packages: dnspython, email-validator\n",
      "\n",
      "   ---------------------------------------- 0/2 [dnspython]\n",
      "   ---------------------------------------- 0/2 [dnspython]\n",
      "   ---------------------------------------- 0/2 [dnspython]\n",
      "   ---------------------------------------- 0/2 [dnspython]\n",
      "   ---------------------------------------- 0/2 [dnspython]\n",
      "   ---------------------------------------- 0/2 [dnspython]\n",
      "   ---------------------------------------- 0/2 [dnspython]\n",
      "   ---------------------------------------- 0/2 [dnspython]\n",
      "   ---------------------------------------- 0/2 [dnspython]\n",
      "   ---------------------------------------- 0/2 [dnspython]\n",
      "   ---------------------------------------- 0/2 [dnspython]\n",
      "   ---------------------------------------- 0/2 [dnspython]\n",
      "   ---------------------------------------- 0/2 [dnspython]\n",
      "   ---------------------------------------- 0/2 [dnspython]\n",
      "   ---------------------------------------- 0/2 [dnspython]\n",
      "   ---------------------------------------- 0/2 [dnspython]\n",
      "   ---------------------------------------- 0/2 [dnspython]\n",
      "   ---------------------------------------- 0/2 [dnspython]\n",
      "   ---------------------------------------- 0/2 [dnspython]\n",
      "   ---------------------------------------- 0/2 [dnspython]\n",
      "   ---------------------------------------- 0/2 [dnspython]\n",
      "   ---------------------------------------- 0/2 [dnspython]\n",
      "   ---------------------------------------- 0/2 [dnspython]\n",
      "   ---------------------------------------- 0/2 [dnspython]\n",
      "   ---------------------------------------- 0/2 [dnspython]\n",
      "   ---------------------------------------- 0/2 [dnspython]\n",
      "   ---------------------------------------- 0/2 [dnspython]\n",
      "   ---------------------------------------- 0/2 [dnspython]\n",
      "   ---------------------------------------- 0/2 [dnspython]\n",
      "   ---------------------------------------- 0/2 [dnspython]\n",
      "   ---------------------------------------- 0/2 [dnspython]\n",
      "   ---------------------------------------- 0/2 [dnspython]\n",
      "   ---------------------------------------- 0/2 [dnspython]\n",
      "   ---------------------------------------- 0/2 [dnspython]\n",
      "   ---------------------------------------- 0/2 [dnspython]\n",
      "   ---------------------------------------- 0/2 [dnspython]\n",
      "   ---------------------------------------- 0/2 [dnspython]\n",
      "   ---------------------------------------- 0/2 [dnspython]\n",
      "   ---------------------------------------- 0/2 [dnspython]\n",
      "   ---------------------------------------- 0/2 [dnspython]\n",
      "   ---------------------------------------- 0/2 [dnspython]\n",
      "   ---------------------------------------- 0/2 [dnspython]\n",
      "   ---------------------------------------- 0/2 [dnspython]\n",
      "   ---------------------------------------- 0/2 [dnspython]\n",
      "   ---------------------------------------- 0/2 [dnspython]\n",
      "   ---------------------------------------- 0/2 [dnspython]\n",
      "   ---------------------------------------- 0/2 [dnspython]\n",
      "   ---------------------------------------- 0/2 [dnspython]\n",
      "   ---------------------------------------- 0/2 [dnspython]\n",
      "   ---------------------------------------- 0/2 [dnspython]\n",
      "   ---------------------------------------- 0/2 [dnspython]\n",
      "   ---------------------------------------- 0/2 [dnspython]\n",
      "   ---------------------------------------- 0/2 [dnspython]\n",
      "   ---------------------------------------- 0/2 [dnspython]\n",
      "   ---------------------------------------- 0/2 [dnspython]\n",
      "   ---------------------------------------- 0/2 [dnspython]\n",
      "   ---------------------------------------- 0/2 [dnspython]\n",
      "   ---------------------------------------- 0/2 [dnspython]\n",
      "   ---------------------------------------- 0/2 [dnspython]\n",
      "   ---------------------------------------- 0/2 [dnspython]\n",
      "   ---------------------------------------- 0/2 [dnspython]\n",
      "   ---------------------------------------- 0/2 [dnspython]\n",
      "   ---------------------------------------- 0/2 [dnspython]\n",
      "   ---------------------------------------- 0/2 [dnspython]\n",
      "   ---------------------------------------- 0/2 [dnspython]\n",
      "   ---------------------------------------- 0/2 [dnspython]\n",
      "   ---------------------------------------- 0/2 [dnspython]\n",
      "   ---------------------------------------- 0/2 [dnspython]\n",
      "   ---------------------------------------- 0/2 [dnspython]\n",
      "   ---------------------------------------- 0/2 [dnspython]\n",
      "   ---------------------------------------- 0/2 [dnspython]\n",
      "   ---------------------------------------- 0/2 [dnspython]\n",
      "   ---------------------------------------- 0/2 [dnspython]\n",
      "   ---------------------------------------- 0/2 [dnspython]\n",
      "   ---------------------------------------- 0/2 [dnspython]\n",
      "   ---------------------------------------- 0/2 [dnspython]\n",
      "   ---------------------------------------- 0/2 [dnspython]\n",
      "   ---------------------------------------- 0/2 [dnspython]\n",
      "   ---------------------------------------- 0/2 [dnspython]\n",
      "   ---------------------------------------- 0/2 [dnspython]\n",
      "   ---------------------------------------- 0/2 [dnspython]\n",
      "   ---------------------------------------- 0/2 [dnspython]\n",
      "   ---------------------------------------- 0/2 [dnspython]\n",
      "   ---------------------------------------- 0/2 [dnspython]\n",
      "   ---------------------------------------- 0/2 [dnspython]\n",
      "   ---------------------------------------- 0/2 [dnspython]\n",
      "   ---------------------------------------- 0/2 [dnspython]\n",
      "   ---------------------------------------- 0/2 [dnspython]\n",
      "   ---------------------------------------- 0/2 [dnspython]\n",
      "   ---------------------------------------- 0/2 [dnspython]\n",
      "   ---------------------------------------- 0/2 [dnspython]\n",
      "   ---------------------------------------- 0/2 [dnspython]\n",
      "   ---------------------------------------- 0/2 [dnspython]\n",
      "   ---------------------------------------- 0/2 [dnspython]\n",
      "   ---------------------------------------- 0/2 [dnspython]\n",
      "   ---------------------------------------- 0/2 [dnspython]\n",
      "   ---------------------------------------- 0/2 [dnspython]\n",
      "   ---------------------------------------- 0/2 [dnspython]\n",
      "   ---------------------------------------- 0/2 [dnspython]\n",
      "   ---------------------------------------- 0/2 [dnspython]\n",
      "   ---------------------------------------- 0/2 [dnspython]\n",
      "   ---------------------------------------- 0/2 [dnspython]\n",
      "   ---------------------------------------- 0/2 [dnspython]\n",
      "   ---------------------------------------- 0/2 [dnspython]\n",
      "   ---------------------------------------- 0/2 [dnspython]\n",
      "   ---------------------------------------- 0/2 [dnspython]\n",
      "   ---------------------------------------- 0/2 [dnspython]\n",
      "   ---------------------------------------- 0/2 [dnspython]\n",
      "   ---------------------------------------- 0/2 [dnspython]\n",
      "   ---------------------------------------- 0/2 [dnspython]\n",
      "   ---------------------------------------- 0/2 [dnspython]\n",
      "   ---------------------------------------- 0/2 [dnspython]\n",
      "   ---------------------------------------- 0/2 [dnspython]\n",
      "   ---------------------------------------- 0/2 [dnspython]\n",
      "   ---------------------------------------- 0/2 [dnspython]\n",
      "   ---------------------------------------- 0/2 [dnspython]\n",
      "   ---------------------------------------- 0/2 [dnspython]\n",
      "   ---------------------------------------- 0/2 [dnspython]\n",
      "   ---------------------------------------- 0/2 [dnspython]\n",
      "   ---------------------------------------- 0/2 [dnspython]\n",
      "   -------------------- ------------------- 1/2 [email-validator]\n",
      "   -------------------- ------------------- 1/2 [email-validator]\n",
      "   -------------------- ------------------- 1/2 [email-validator]\n",
      "   -------------------- ------------------- 1/2 [email-validator]\n",
      "   -------------------- ------------------- 1/2 [email-validator]\n",
      "   -------------------- ------------------- 1/2 [email-validator]\n",
      "   -------------------- ------------------- 1/2 [email-validator]\n",
      "   -------------------- ------------------- 1/2 [email-validator]\n",
      "   -------------------- ------------------- 1/2 [email-validator]\n",
      "   -------------------- ------------------- 1/2 [email-validator]\n",
      "   ---------------------------------------- 2/2 [email-validator]\n",
      "\n",
      "Successfully installed dnspython-2.8.0 email-validator-2.3.0\n"
     ]
    }
   ],
   "source": [
    "!pip install  pydantic email-validator"
   ]
  },
  {
   "cell_type": "code",
   "execution_count": 36,
   "id": "0071ff8c",
   "metadata": {},
   "outputs": [],
   "source": [
    "from pydantic  import BaseModel  , EmailStr , Field \n",
    "from typing  import  Literal , List"
   ]
  },
  {
   "cell_type": "code",
   "execution_count": null,
   "id": "ab5599fc",
   "metadata": {},
   "outputs": [],
   "source": [
    "# create  class  student by basemodel\n",
    "name  : str\n",
    "roll_no  :  int\n",
    "marks  :  float\n",
    "email  :  EmailStr\n",
    "Gender :  Literal[\"Male\" , \"Female\"]\n",
    "Hobbies  : List[str]"
   ]
  },
  {
   "cell_type": "code",
   "execution_count": 37,
   "id": "a6597c1f",
   "metadata": {},
   "outputs": [],
   "source": [
    "class Student(BaseModel):\n",
    "    name  : str = Field(description  =  'Enter name  here' )\n",
    "    roll_no  :  int =  Field(description  = 'Enter roll  number' ,  gt  =  0)\n",
    "    marks  :  float  =  Field(description  =  'Enter Marks' ,  gt  =  0 , lt  =  100)\n",
    "    email  :  EmailStr  =  Field( description  = 'Enter mail  here' ,  max_length  =  50)\n",
    "    Gender :  Literal[\"Male\" , \"Female\"] = Field( description  = 'Enter gender')\n",
    "    Hobbies  : List[str] =  Field( description  = 'Enter hobbies' ,  default_factory= list)"
   ]
  },
  {
   "cell_type": "code",
   "execution_count": 38,
   "id": "7b2ccfd8",
   "metadata": {},
   "outputs": [
    {
     "ename": "ValidationError",
     "evalue": "1 validation error for Student\nname\n  Input should be a valid string [type=string_type, input_value=123, input_type=int]\n    For further information visit https://errors.pydantic.dev/2.11/v/string_type",
     "output_type": "error",
     "traceback": [
      "\u001b[31m---------------------------------------------------------------------------\u001b[39m",
      "\u001b[31mValidationError\u001b[39m                           Traceback (most recent call last)",
      "\u001b[36mCell\u001b[39m\u001b[36m \u001b[39m\u001b[32mIn[38]\u001b[39m\u001b[32m, line 1\u001b[39m\n\u001b[32m----> \u001b[39m\u001b[32m1\u001b[39m S1  = \u001b[43mStudent\u001b[49m\u001b[43m(\u001b[49m\u001b[43mname\u001b[49m\u001b[43m  \u001b[49m\u001b[43m=\u001b[49m\u001b[43m \u001b[49m\u001b[32;43m123\u001b[39;49m\u001b[43m  \u001b[49m\u001b[43m,\u001b[49m\u001b[43mroll_no\u001b[49m\u001b[43m  \u001b[49m\u001b[43m=\u001b[49m\u001b[43m \u001b[49m\u001b[32;43m12\u001b[39;49m\u001b[43m  \u001b[49m\u001b[43m,\u001b[49m\n\u001b[32m      2\u001b[39m \u001b[43m                \u001b[49m\u001b[43mmarks\u001b[49m\u001b[43m  \u001b[49m\u001b[43m=\u001b[49m\u001b[43m  \u001b[49m\u001b[32;43m35\u001b[39;49m\u001b[43m,\u001b[49m\u001b[43memail\u001b[49m\u001b[43m  \u001b[49m\u001b[43m=\u001b[49m\u001b[43m \u001b[49m\u001b[33;43m'\u001b[39;49m\u001b[33;43mexample@gmail.com\u001b[39;49m\u001b[33;43m'\u001b[39;49m\u001b[43m \u001b[49m\n\u001b[32m      3\u001b[39m \u001b[43m                \u001b[49m\u001b[43m,\u001b[49m\u001b[43m \u001b[49m\u001b[43mGender\u001b[49m\u001b[43m  \u001b[49m\u001b[43m=\u001b[49m\u001b[43m  \u001b[49m\u001b[33;43m'\u001b[39;49m\u001b[33;43mMale\u001b[39;49m\u001b[33;43m'\u001b[39;49m\u001b[43m \u001b[49m\u001b[43m,\u001b[49m\u001b[43m  \u001b[49m\u001b[43mHobbies\u001b[49m\u001b[43m \u001b[49m\u001b[43m=\u001b[49m\u001b[43m \u001b[49m\u001b[43m[\u001b[49m\u001b[33;43m'\u001b[39;49m\u001b[33;43mswimming\u001b[39;49m\u001b[33;43m'\u001b[39;49m\u001b[43m]\u001b[49m\u001b[43m   \u001b[49m\u001b[43m)\u001b[49m\n",
      "\u001b[36mFile \u001b[39m\u001b[32md:\\23 sept ADV PYTHON Weekdays\\repository\\venv\\Lib\\site-packages\\pydantic\\main.py:253\u001b[39m, in \u001b[36mBaseModel.__init__\u001b[39m\u001b[34m(self, **data)\u001b[39m\n\u001b[32m    251\u001b[39m \u001b[38;5;66;03m# `__tracebackhide__` tells pytest and some other tools to omit this function from tracebacks\u001b[39;00m\n\u001b[32m    252\u001b[39m __tracebackhide__ = \u001b[38;5;28;01mTrue\u001b[39;00m\n\u001b[32m--> \u001b[39m\u001b[32m253\u001b[39m validated_self = \u001b[38;5;28;43mself\u001b[39;49m\u001b[43m.\u001b[49m\u001b[43m__pydantic_validator__\u001b[49m\u001b[43m.\u001b[49m\u001b[43mvalidate_python\u001b[49m\u001b[43m(\u001b[49m\u001b[43mdata\u001b[49m\u001b[43m,\u001b[49m\u001b[43m \u001b[49m\u001b[43mself_instance\u001b[49m\u001b[43m=\u001b[49m\u001b[38;5;28;43mself\u001b[39;49m\u001b[43m)\u001b[49m\n\u001b[32m    254\u001b[39m \u001b[38;5;28;01mif\u001b[39;00m \u001b[38;5;28mself\u001b[39m \u001b[38;5;129;01mis\u001b[39;00m \u001b[38;5;129;01mnot\u001b[39;00m validated_self:\n\u001b[32m    255\u001b[39m     warnings.warn(\n\u001b[32m    256\u001b[39m         \u001b[33m'\u001b[39m\u001b[33mA custom validator is returning a value other than `self`.\u001b[39m\u001b[38;5;130;01m\\n\u001b[39;00m\u001b[33m'\u001b[39m\n\u001b[32m    257\u001b[39m         \u001b[33m\"\u001b[39m\u001b[33mReturning anything other than `self` from a top level model validator isn\u001b[39m\u001b[33m'\u001b[39m\u001b[33mt supported when validating via `__init__`.\u001b[39m\u001b[38;5;130;01m\\n\u001b[39;00m\u001b[33m\"\u001b[39m\n\u001b[32m    258\u001b[39m         \u001b[33m'\u001b[39m\u001b[33mSee the `model_validator` docs (https://docs.pydantic.dev/latest/concepts/validators/#model-validators) for more details.\u001b[39m\u001b[33m'\u001b[39m,\n\u001b[32m    259\u001b[39m         stacklevel=\u001b[32m2\u001b[39m,\n\u001b[32m    260\u001b[39m     )\n",
      "\u001b[31mValidationError\u001b[39m: 1 validation error for Student\nname\n  Input should be a valid string [type=string_type, input_value=123, input_type=int]\n    For further information visit https://errors.pydantic.dev/2.11/v/string_type"
     ]
    }
   ],
   "source": [
    "S1  = Student(name  = 123  ,roll_no  = 12  ,\n",
    "                marks  =  35,email  = 'example@gmail.com' \n",
    "                , Gender  =  'Male' ,  Hobbies = ['swimming']   )"
   ]
  },
  {
   "cell_type": "code",
   "execution_count": 40,
   "id": "6d4b7902",
   "metadata": {},
   "outputs": [
    {
     "ename": "ValidationError",
     "evalue": "2 validation errors for Student\nroll_no\n  Input should be a valid integer, got a number with a fractional part [type=int_from_float, input_value=12.2, input_type=float]\n    For further information visit https://errors.pydantic.dev/2.11/v/int_from_float\nGender\n  Input should be 'Male' or 'Female' [type=literal_error, input_value='male', input_type=str]\n    For further information visit https://errors.pydantic.dev/2.11/v/literal_error",
     "output_type": "error",
     "traceback": [
      "\u001b[31m---------------------------------------------------------------------------\u001b[39m",
      "\u001b[31mValidationError\u001b[39m                           Traceback (most recent call last)",
      "\u001b[36mCell\u001b[39m\u001b[36m \u001b[39m\u001b[32mIn[40]\u001b[39m\u001b[32m, line 1\u001b[39m\n\u001b[32m----> \u001b[39m\u001b[32m1\u001b[39m S1  = \u001b[43mStudent\u001b[49m\u001b[43m(\u001b[49m\u001b[43mname\u001b[49m\u001b[43m  \u001b[49m\u001b[43m=\u001b[49m\u001b[43m \u001b[49m\u001b[33;43m'\u001b[39;49m\u001b[33;43mSunita\u001b[39;49m\u001b[33;43m'\u001b[39;49m\u001b[43m  \u001b[49m\u001b[43m,\u001b[49m\u001b[43mroll_no\u001b[49m\u001b[43m  \u001b[49m\u001b[43m=\u001b[49m\u001b[43m \u001b[49m\u001b[32;43m12.2\u001b[39;49m\u001b[43m  \u001b[49m\u001b[43m,\u001b[49m\n\u001b[32m      2\u001b[39m \u001b[43m                \u001b[49m\u001b[43mmarks\u001b[49m\u001b[43m  \u001b[49m\u001b[43m=\u001b[49m\u001b[43m  \u001b[49m\u001b[32;43m35\u001b[39;49m\u001b[43m,\u001b[49m\u001b[43memail\u001b[49m\u001b[43m  \u001b[49m\u001b[43m=\u001b[49m\u001b[43m \u001b[49m\u001b[33;43m'\u001b[39;49m\u001b[33;43mexample@gmail.com\u001b[39;49m\u001b[33;43m'\u001b[39;49m\u001b[43m \u001b[49m\n\u001b[32m      3\u001b[39m \u001b[43m                \u001b[49m\u001b[43m,\u001b[49m\u001b[43m \u001b[49m\u001b[43mGender\u001b[49m\u001b[43m  \u001b[49m\u001b[43m=\u001b[49m\u001b[43m  \u001b[49m\u001b[33;43m'\u001b[39;49m\u001b[33;43mmale\u001b[39;49m\u001b[33;43m'\u001b[39;49m\u001b[43m \u001b[49m\u001b[43m,\u001b[49m\u001b[43m  \u001b[49m\u001b[43mHobbies\u001b[49m\u001b[43m \u001b[49m\u001b[43m=\u001b[49m\u001b[43m \u001b[49m\u001b[43m[\u001b[49m\u001b[33;43m'\u001b[39;49m\u001b[33;43mswimming\u001b[39;49m\u001b[33;43m'\u001b[39;49m\u001b[43m]\u001b[49m\u001b[43m   \u001b[49m\u001b[43m)\u001b[49m\n",
      "\u001b[36mFile \u001b[39m\u001b[32md:\\23 sept ADV PYTHON Weekdays\\repository\\venv\\Lib\\site-packages\\pydantic\\main.py:253\u001b[39m, in \u001b[36mBaseModel.__init__\u001b[39m\u001b[34m(self, **data)\u001b[39m\n\u001b[32m    251\u001b[39m \u001b[38;5;66;03m# `__tracebackhide__` tells pytest and some other tools to omit this function from tracebacks\u001b[39;00m\n\u001b[32m    252\u001b[39m __tracebackhide__ = \u001b[38;5;28;01mTrue\u001b[39;00m\n\u001b[32m--> \u001b[39m\u001b[32m253\u001b[39m validated_self = \u001b[38;5;28;43mself\u001b[39;49m\u001b[43m.\u001b[49m\u001b[43m__pydantic_validator__\u001b[49m\u001b[43m.\u001b[49m\u001b[43mvalidate_python\u001b[49m\u001b[43m(\u001b[49m\u001b[43mdata\u001b[49m\u001b[43m,\u001b[49m\u001b[43m \u001b[49m\u001b[43mself_instance\u001b[49m\u001b[43m=\u001b[49m\u001b[38;5;28;43mself\u001b[39;49m\u001b[43m)\u001b[49m\n\u001b[32m    254\u001b[39m \u001b[38;5;28;01mif\u001b[39;00m \u001b[38;5;28mself\u001b[39m \u001b[38;5;129;01mis\u001b[39;00m \u001b[38;5;129;01mnot\u001b[39;00m validated_self:\n\u001b[32m    255\u001b[39m     warnings.warn(\n\u001b[32m    256\u001b[39m         \u001b[33m'\u001b[39m\u001b[33mA custom validator is returning a value other than `self`.\u001b[39m\u001b[38;5;130;01m\\n\u001b[39;00m\u001b[33m'\u001b[39m\n\u001b[32m    257\u001b[39m         \u001b[33m\"\u001b[39m\u001b[33mReturning anything other than `self` from a top level model validator isn\u001b[39m\u001b[33m'\u001b[39m\u001b[33mt supported when validating via `__init__`.\u001b[39m\u001b[38;5;130;01m\\n\u001b[39;00m\u001b[33m\"\u001b[39m\n\u001b[32m    258\u001b[39m         \u001b[33m'\u001b[39m\u001b[33mSee the `model_validator` docs (https://docs.pydantic.dev/latest/concepts/validators/#model-validators) for more details.\u001b[39m\u001b[33m'\u001b[39m,\n\u001b[32m    259\u001b[39m         stacklevel=\u001b[32m2\u001b[39m,\n\u001b[32m    260\u001b[39m     )\n",
      "\u001b[31mValidationError\u001b[39m: 2 validation errors for Student\nroll_no\n  Input should be a valid integer, got a number with a fractional part [type=int_from_float, input_value=12.2, input_type=float]\n    For further information visit https://errors.pydantic.dev/2.11/v/int_from_float\nGender\n  Input should be 'Male' or 'Female' [type=literal_error, input_value='male', input_type=str]\n    For further information visit https://errors.pydantic.dev/2.11/v/literal_error"
     ]
    }
   ],
   "source": [
    "S1  = Student(name  = 'Sunita'  ,roll_no  = 12.2  ,\n",
    "                marks  =  35,email  = 'example@gmail.com' \n",
    "                , Gender  =  'male' ,  Hobbies = ['swimming']   )"
   ]
  },
  {
   "cell_type": "code",
   "execution_count": 41,
   "id": "f2ac1794",
   "metadata": {},
   "outputs": [
    {
     "ename": "ValidationError",
     "evalue": "3 validation errors for Student\nroll_no\n  Input should be a valid integer, got a number with a fractional part [type=int_from_float, input_value=12.2, input_type=float]\n    For further information visit https://errors.pydantic.dev/2.11/v/int_from_float\nGender\n  Input should be 'Male' or 'Female' [type=literal_error, input_value='male', input_type=str]\n    For further information visit https://errors.pydantic.dev/2.11/v/literal_error\nHobbies\n  Input should be a valid list [type=list_type, input_value='swimming', input_type=str]\n    For further information visit https://errors.pydantic.dev/2.11/v/list_type",
     "output_type": "error",
     "traceback": [
      "\u001b[31m---------------------------------------------------------------------------\u001b[39m",
      "\u001b[31mValidationError\u001b[39m                           Traceback (most recent call last)",
      "\u001b[36mCell\u001b[39m\u001b[36m \u001b[39m\u001b[32mIn[41]\u001b[39m\u001b[32m, line 1\u001b[39m\n\u001b[32m----> \u001b[39m\u001b[32m1\u001b[39m S1  = \u001b[43mStudent\u001b[49m\u001b[43m(\u001b[49m\u001b[43mname\u001b[49m\u001b[43m  \u001b[49m\u001b[43m=\u001b[49m\u001b[43m \u001b[49m\u001b[33;43m'\u001b[39;49m\u001b[33;43mSunita\u001b[39;49m\u001b[33;43m'\u001b[39;49m\u001b[43m  \u001b[49m\u001b[43m,\u001b[49m\u001b[43mroll_no\u001b[49m\u001b[43m  \u001b[49m\u001b[43m=\u001b[49m\u001b[43m \u001b[49m\u001b[32;43m12.2\u001b[39;49m\u001b[43m  \u001b[49m\u001b[43m,\u001b[49m\n\u001b[32m      2\u001b[39m \u001b[43m                \u001b[49m\u001b[43mmarks\u001b[49m\u001b[43m  \u001b[49m\u001b[43m=\u001b[49m\u001b[43m  \u001b[49m\u001b[32;43m35\u001b[39;49m\u001b[43m,\u001b[49m\u001b[43memail\u001b[49m\u001b[43m  \u001b[49m\u001b[43m=\u001b[49m\u001b[43m \u001b[49m\u001b[33;43m'\u001b[39;49m\u001b[33;43mexample@gmail.com\u001b[39;49m\u001b[33;43m'\u001b[39;49m\u001b[43m \u001b[49m\n\u001b[32m      3\u001b[39m \u001b[43m                \u001b[49m\u001b[43m,\u001b[49m\u001b[43m \u001b[49m\u001b[43mGender\u001b[49m\u001b[43m  \u001b[49m\u001b[43m=\u001b[49m\u001b[43m  \u001b[49m\u001b[33;43m'\u001b[39;49m\u001b[33;43mmale\u001b[39;49m\u001b[33;43m'\u001b[39;49m\u001b[43m \u001b[49m\u001b[43m,\u001b[49m\u001b[43m  \u001b[49m\u001b[43mHobbies\u001b[49m\u001b[43m \u001b[49m\u001b[43m=\u001b[49m\u001b[43m \u001b[49m\u001b[33;43m'\u001b[39;49m\u001b[33;43mswimming\u001b[39;49m\u001b[33;43m'\u001b[39;49m\u001b[43m   \u001b[49m\u001b[43m)\u001b[49m\n",
      "\u001b[36mFile \u001b[39m\u001b[32md:\\23 sept ADV PYTHON Weekdays\\repository\\venv\\Lib\\site-packages\\pydantic\\main.py:253\u001b[39m, in \u001b[36mBaseModel.__init__\u001b[39m\u001b[34m(self, **data)\u001b[39m\n\u001b[32m    251\u001b[39m \u001b[38;5;66;03m# `__tracebackhide__` tells pytest and some other tools to omit this function from tracebacks\u001b[39;00m\n\u001b[32m    252\u001b[39m __tracebackhide__ = \u001b[38;5;28;01mTrue\u001b[39;00m\n\u001b[32m--> \u001b[39m\u001b[32m253\u001b[39m validated_self = \u001b[38;5;28;43mself\u001b[39;49m\u001b[43m.\u001b[49m\u001b[43m__pydantic_validator__\u001b[49m\u001b[43m.\u001b[49m\u001b[43mvalidate_python\u001b[49m\u001b[43m(\u001b[49m\u001b[43mdata\u001b[49m\u001b[43m,\u001b[49m\u001b[43m \u001b[49m\u001b[43mself_instance\u001b[49m\u001b[43m=\u001b[49m\u001b[38;5;28;43mself\u001b[39;49m\u001b[43m)\u001b[49m\n\u001b[32m    254\u001b[39m \u001b[38;5;28;01mif\u001b[39;00m \u001b[38;5;28mself\u001b[39m \u001b[38;5;129;01mis\u001b[39;00m \u001b[38;5;129;01mnot\u001b[39;00m validated_self:\n\u001b[32m    255\u001b[39m     warnings.warn(\n\u001b[32m    256\u001b[39m         \u001b[33m'\u001b[39m\u001b[33mA custom validator is returning a value other than `self`.\u001b[39m\u001b[38;5;130;01m\\n\u001b[39;00m\u001b[33m'\u001b[39m\n\u001b[32m    257\u001b[39m         \u001b[33m\"\u001b[39m\u001b[33mReturning anything other than `self` from a top level model validator isn\u001b[39m\u001b[33m'\u001b[39m\u001b[33mt supported when validating via `__init__`.\u001b[39m\u001b[38;5;130;01m\\n\u001b[39;00m\u001b[33m\"\u001b[39m\n\u001b[32m    258\u001b[39m         \u001b[33m'\u001b[39m\u001b[33mSee the `model_validator` docs (https://docs.pydantic.dev/latest/concepts/validators/#model-validators) for more details.\u001b[39m\u001b[33m'\u001b[39m,\n\u001b[32m    259\u001b[39m         stacklevel=\u001b[32m2\u001b[39m,\n\u001b[32m    260\u001b[39m     )\n",
      "\u001b[31mValidationError\u001b[39m: 3 validation errors for Student\nroll_no\n  Input should be a valid integer, got a number with a fractional part [type=int_from_float, input_value=12.2, input_type=float]\n    For further information visit https://errors.pydantic.dev/2.11/v/int_from_float\nGender\n  Input should be 'Male' or 'Female' [type=literal_error, input_value='male', input_type=str]\n    For further information visit https://errors.pydantic.dev/2.11/v/literal_error\nHobbies\n  Input should be a valid list [type=list_type, input_value='swimming', input_type=str]\n    For further information visit https://errors.pydantic.dev/2.11/v/list_type"
     ]
    }
   ],
   "source": [
    "S1  = Student(name  = 'Sunita'  ,roll_no  = 12.2  ,\n",
    "                marks  =  35,email  = 'example@gmail.com' \n",
    "                , Gender  =  'male' ,  Hobbies = 'swimming'   )"
   ]
  },
  {
   "cell_type": "code",
   "execution_count": 45,
   "id": "d6bcf935",
   "metadata": {},
   "outputs": [
    {
     "ename": "ValidationError",
     "evalue": "3 validation errors for Student\nroll_no\n  Input should be greater than 0 [type=greater_than, input_value=0, input_type=int]\n    For further information visit https://errors.pydantic.dev/2.11/v/greater_than\nmarks\n  Input should be greater than 0 [type=greater_than, input_value=-1, input_type=int]\n    For further information visit https://errors.pydantic.dev/2.11/v/greater_than\nemail\n  value is not a valid email address: An email address must have an @-sign. [type=value_error, input_value='example', input_type=str]",
     "output_type": "error",
     "traceback": [
      "\u001b[31m---------------------------------------------------------------------------\u001b[39m",
      "\u001b[31mValidationError\u001b[39m                           Traceback (most recent call last)",
      "\u001b[36mCell\u001b[39m\u001b[36m \u001b[39m\u001b[32mIn[45]\u001b[39m\u001b[32m, line 1\u001b[39m\n\u001b[32m----> \u001b[39m\u001b[32m1\u001b[39m S1  = \u001b[43mStudent\u001b[49m\u001b[43m(\u001b[49m\u001b[43mname\u001b[49m\u001b[43m  \u001b[49m\u001b[43m=\u001b[49m\u001b[43m \u001b[49m\u001b[33;43m'\u001b[39;49m\u001b[33;43mSunita\u001b[39;49m\u001b[33;43m'\u001b[39;49m\u001b[43m  \u001b[49m\u001b[43m,\u001b[49m\u001b[43mroll_no\u001b[49m\u001b[43m  \u001b[49m\u001b[43m=\u001b[49m\u001b[43m \u001b[49m\u001b[32;43m0\u001b[39;49m\u001b[43m  \u001b[49m\u001b[43m,\u001b[49m\n\u001b[32m      2\u001b[39m \u001b[43m                \u001b[49m\u001b[43mmarks\u001b[49m\u001b[43m  \u001b[49m\u001b[43m=\u001b[49m\u001b[43m  \u001b[49m\u001b[43m-\u001b[49m\u001b[32;43m1\u001b[39;49m\u001b[43m,\u001b[49m\u001b[43memail\u001b[49m\u001b[43m  \u001b[49m\u001b[43m=\u001b[49m\u001b[43m \u001b[49m\u001b[33;43m'\u001b[39;49m\u001b[33;43mexample\u001b[39;49m\u001b[33;43m'\u001b[39;49m\u001b[43m \u001b[49m\n\u001b[32m      3\u001b[39m \u001b[43m                \u001b[49m\u001b[43m,\u001b[49m\u001b[43m \u001b[49m\u001b[43mGender\u001b[49m\u001b[43m  \u001b[49m\u001b[43m=\u001b[49m\u001b[43m  \u001b[49m\u001b[33;43m'\u001b[39;49m\u001b[33;43mMale\u001b[39;49m\u001b[33;43m'\u001b[39;49m\u001b[43m \u001b[49m\u001b[43m,\u001b[49m\u001b[43m  \u001b[49m\u001b[43mHobbies\u001b[49m\u001b[43m \u001b[49m\u001b[43m=\u001b[49m\u001b[43m \u001b[49m\u001b[43m[\u001b[49m\u001b[33;43m'\u001b[39;49m\u001b[33;43mswimming\u001b[39;49m\u001b[33;43m'\u001b[39;49m\u001b[43m]\u001b[49m\u001b[43m   \u001b[49m\u001b[43m)\u001b[49m\n",
      "\u001b[36mFile \u001b[39m\u001b[32md:\\23 sept ADV PYTHON Weekdays\\repository\\venv\\Lib\\site-packages\\pydantic\\main.py:253\u001b[39m, in \u001b[36mBaseModel.__init__\u001b[39m\u001b[34m(self, **data)\u001b[39m\n\u001b[32m    251\u001b[39m \u001b[38;5;66;03m# `__tracebackhide__` tells pytest and some other tools to omit this function from tracebacks\u001b[39;00m\n\u001b[32m    252\u001b[39m __tracebackhide__ = \u001b[38;5;28;01mTrue\u001b[39;00m\n\u001b[32m--> \u001b[39m\u001b[32m253\u001b[39m validated_self = \u001b[38;5;28;43mself\u001b[39;49m\u001b[43m.\u001b[49m\u001b[43m__pydantic_validator__\u001b[49m\u001b[43m.\u001b[49m\u001b[43mvalidate_python\u001b[49m\u001b[43m(\u001b[49m\u001b[43mdata\u001b[49m\u001b[43m,\u001b[49m\u001b[43m \u001b[49m\u001b[43mself_instance\u001b[49m\u001b[43m=\u001b[49m\u001b[38;5;28;43mself\u001b[39;49m\u001b[43m)\u001b[49m\n\u001b[32m    254\u001b[39m \u001b[38;5;28;01mif\u001b[39;00m \u001b[38;5;28mself\u001b[39m \u001b[38;5;129;01mis\u001b[39;00m \u001b[38;5;129;01mnot\u001b[39;00m validated_self:\n\u001b[32m    255\u001b[39m     warnings.warn(\n\u001b[32m    256\u001b[39m         \u001b[33m'\u001b[39m\u001b[33mA custom validator is returning a value other than `self`.\u001b[39m\u001b[38;5;130;01m\\n\u001b[39;00m\u001b[33m'\u001b[39m\n\u001b[32m    257\u001b[39m         \u001b[33m\"\u001b[39m\u001b[33mReturning anything other than `self` from a top level model validator isn\u001b[39m\u001b[33m'\u001b[39m\u001b[33mt supported when validating via `__init__`.\u001b[39m\u001b[38;5;130;01m\\n\u001b[39;00m\u001b[33m\"\u001b[39m\n\u001b[32m    258\u001b[39m         \u001b[33m'\u001b[39m\u001b[33mSee the `model_validator` docs (https://docs.pydantic.dev/latest/concepts/validators/#model-validators) for more details.\u001b[39m\u001b[33m'\u001b[39m,\n\u001b[32m    259\u001b[39m         stacklevel=\u001b[32m2\u001b[39m,\n\u001b[32m    260\u001b[39m     )\n",
      "\u001b[31mValidationError\u001b[39m: 3 validation errors for Student\nroll_no\n  Input should be greater than 0 [type=greater_than, input_value=0, input_type=int]\n    For further information visit https://errors.pydantic.dev/2.11/v/greater_than\nmarks\n  Input should be greater than 0 [type=greater_than, input_value=-1, input_type=int]\n    For further information visit https://errors.pydantic.dev/2.11/v/greater_than\nemail\n  value is not a valid email address: An email address must have an @-sign. [type=value_error, input_value='example', input_type=str]"
     ]
    }
   ],
   "source": [
    "S1  = Student(name  = 'Sunita'  ,roll_no  = 0  ,\n",
    "                marks  =  -1,email  = 'example' \n",
    "                , Gender  =  'Male' ,  Hobbies = ['swimming']   )"
   ]
  },
  {
   "cell_type": "code",
   "execution_count": 47,
   "id": "c3e760d2",
   "metadata": {},
   "outputs": [],
   "source": [
    "class Student(BaseModel):\n",
    "    name  : str = Field(description  =  'Enter name  here' )\n",
    "    roll_no  :  int =  Field(description  = 'Enter roll  number' ,  gt  =  0)\n",
    "    marks  :  float  =  Field(description  =  'Enter Marks' ,  gt  =  0 , lt  =  100)\n",
    "    email  :  EmailStr  =  Field( description  = 'Enter mail  here' ,  max_length  =  50)\n",
    "    Gender :  Literal[\"Male\" , \"Female\"] = Field( description  = 'Enter gender')\n",
    "    Hobbies  : List[str] =  Field( description  = 'Enter hobbies' ,  default_factory= list)\n",
    "\n",
    "\n",
    "    # create method\n",
    "    def  Student_info(self):\n",
    "        print(f'I am  {self.name}')\n",
    "        print(f'Roll No  : {self.roll_no}')\n",
    "        print(f'Marks :  {self.marks}')\n",
    "        print(f'Gender : {self.Gender}')\n",
    "        print(f'Hobbies :  {self.Hobbies}')\n"
   ]
  },
  {
   "cell_type": "code",
   "execution_count": 49,
   "id": "c4ec4bf2",
   "metadata": {},
   "outputs": [],
   "source": [
    "S2  =  Student(name  =  'sumitra'  , roll_no  =  90  ,  marks  =  45  ,\n",
    "                 Gender  =  'Female' \n",
    "                 , Hobbies  = ['Music' , 'Dancing'] ,\n",
    "                 email  ='sunitra@gmail.com')"
   ]
  },
  {
   "cell_type": "code",
   "execution_count": 51,
   "id": "198fbf8b",
   "metadata": {},
   "outputs": [
    {
     "name": "stdout",
     "output_type": "stream",
     "text": [
      "I am  sumitra\n",
      "Roll No  : 90\n",
      "Marks :  45.0\n",
      "Gender : Female\n",
      "Hobbies :  ['Music', 'Dancing']\n"
     ]
    }
   ],
   "source": [
    "S2.Student_info()"
   ]
  },
  {
   "cell_type": "code",
   "execution_count": 52,
   "id": "5abcb37b",
   "metadata": {},
   "outputs": [],
   "source": [
    "class  emp :\n",
    "    def __init_(self):\n",
    "        self.name  =  input('enter name  here')"
   ]
  },
  {
   "cell_type": "code",
   "execution_count": 54,
   "id": "f42c3e2f",
   "metadata": {},
   "outputs": [
    {
     "data": {
      "text/plain": [
       "<__main__.emp at 0x1f288092990>"
      ]
     },
     "execution_count": 54,
     "metadata": {},
     "output_type": "execute_result"
    }
   ],
   "source": [
    "e1 =  emp()\n",
    "e1"
   ]
  },
  {
   "cell_type": "code",
   "execution_count": 55,
   "id": "750a5276",
   "metadata": {},
   "outputs": [
    {
     "ename": "AttributeError",
     "evalue": "'emp' object has no attribute 'name'",
     "output_type": "error",
     "traceback": [
      "\u001b[31m---------------------------------------------------------------------------\u001b[39m",
      "\u001b[31mAttributeError\u001b[39m                            Traceback (most recent call last)",
      "\u001b[36mCell\u001b[39m\u001b[36m \u001b[39m\u001b[32mIn[55]\u001b[39m\u001b[32m, line 1\u001b[39m\n\u001b[32m----> \u001b[39m\u001b[32m1\u001b[39m \u001b[43me1\u001b[49m\u001b[43m.\u001b[49m\u001b[43mname\u001b[49m\n",
      "\u001b[31mAttributeError\u001b[39m: 'emp' object has no attribute 'name'"
     ]
    }
   ],
   "source": [
    "e1.name"
   ]
  },
  {
   "cell_type": "code",
   "execution_count": null,
   "id": "3cd9921d",
   "metadata": {},
   "outputs": [],
   "source": []
  }
 ],
 "metadata": {
  "kernelspec": {
   "display_name": "venv",
   "language": "python",
   "name": "python3"
  },
  "language_info": {
   "codemirror_mode": {
    "name": "ipython",
    "version": 3
   },
   "file_extension": ".py",
   "mimetype": "text/x-python",
   "name": "python",
   "nbconvert_exporter": "python",
   "pygments_lexer": "ipython3",
   "version": "3.13.7"
  }
 },
 "nbformat": 4,
 "nbformat_minor": 5
}
