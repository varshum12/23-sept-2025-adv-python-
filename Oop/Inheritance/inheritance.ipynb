{
 "cells": [
  {
   "cell_type": "markdown",
   "id": "ba297d3e",
   "metadata": {},
   "source": [
    "### single  Inheritance"
   ]
  },
  {
   "cell_type": "markdown",
   "id": "3f5b41d2",
   "metadata": {},
   "source": [
    "- create  class  person and employee\n"
   ]
  },
  {
   "cell_type": "code",
   "execution_count": 4,
   "id": "50a7b91f",
   "metadata": {},
   "outputs": [],
   "source": [
    "class Person:\n",
    "    def __init__(self , name  , age):\n",
    "        self.name  = name\n",
    "        self.age  =  age\n",
    "    def introduce(self):\n",
    "        return f\"My name  is  {self.name} and i am {self.age} years  old\""
   ]
  },
  {
   "cell_type": "code",
   "execution_count": 5,
   "id": "38c5243e",
   "metadata": {},
   "outputs": [],
   "source": [
    "p1  =  Person(name = 'seeta' ,  age  =  23)"
   ]
  },
  {
   "cell_type": "code",
   "execution_count": null,
   "id": "258847b1",
   "metadata": {},
   "outputs": [
    {
     "data": {
      "text/plain": [
       "'My name  is  seeta and i am 23 years  old'"
      ]
     },
     "execution_count": 7,
     "metadata": {},
     "output_type": "execute_result"
    }
   ],
   "source": [
    "p1.introduce()"
   ]
  },
  {
   "cell_type": "code",
   "execution_count": null,
   "id": "c4625dfe",
   "metadata": {},
   "outputs": [],
   "source": [
    "class Person:\n",
    "    def __init__(self , name  , age):\n",
    "        self.name  = name\n",
    "        self.age  =  age\n",
    "    def introduce(self):\n",
    "        return f\"My name  is  {self.name} and i am {self.age} years  old\"\n",
    "\n",
    "#  employee\n",
    "\n",
    "class Employee(Person):\n",
    "    def __init__(self,  name  , age  ,  company):\n",
    "        super().__init__(name  , age)\n",
    "        self.company  =  company\n",
    "\n",
    "    #  method\n",
    "    def info(self):\n",
    "        print(super().introduce())\n",
    "        return  f'I work for {self.company } '"
   ]
  },
  {
   "cell_type": "code",
   "execution_count": 27,
   "id": "057047de",
   "metadata": {},
   "outputs": [],
   "source": [
    "E1  =  Employee(name  = 'sarthak' , age =  34  ,  company  =  'Infosys') "
   ]
  },
  {
   "cell_type": "code",
   "execution_count": 28,
   "id": "4f8bcfa1",
   "metadata": {},
   "outputs": [
    {
     "data": {
      "text/plain": [
       "'My name  is  sarthak and i am 34 years  old'"
      ]
     },
     "execution_count": 28,
     "metadata": {},
     "output_type": "execute_result"
    }
   ],
   "source": [
    "E1.introduce()"
   ]
  },
  {
   "cell_type": "code",
   "execution_count": 29,
   "id": "d5bc25bd",
   "metadata": {},
   "outputs": [
    {
     "name": "stdout",
     "output_type": "stream",
     "text": [
      "\n"
     ]
    },
    {
     "data": {
      "text/plain": [
       "'My name  is  sarthak and i am 34 years  old . I work for Infosys '"
      ]
     },
     "execution_count": 29,
     "metadata": {},
     "output_type": "execute_result"
    }
   ],
   "source": [
    "E1.info()"
   ]
  },
  {
   "cell_type": "code",
   "execution_count": 30,
   "id": "38729533",
   "metadata": {},
   "outputs": [],
   "source": [
    "class Person:\n",
    "    def __init__(self , name  , age):\n",
    "        self.name  = name\n",
    "        self.age  =  age\n",
    "    def introduce(self):\n",
    "        return f\"My name  is  {self.name} and i am {self.age} years  old\"\n",
    "\n",
    "#  employee\n",
    "\n",
    "class Employee(Person):\n",
    "    def __init__(self,  name  , age  ,  company):\n",
    "        super().__init__(name  , age)\n",
    "        self.company  =  company\n",
    "\n",
    "    #  method\n",
    "    def info(self):\n",
    "        return  f' {super().introduce()} I work for {self.company } '"
   ]
  },
  {
   "cell_type": "code",
   "execution_count": 31,
   "id": "192d23d8",
   "metadata": {},
   "outputs": [],
   "source": [
    "E2  =  Employee(name  = 'sarthak' , age =  34  ,  company  =  'Infosys') "
   ]
  },
  {
   "cell_type": "code",
   "execution_count": 32,
   "id": "3f08d0d2",
   "metadata": {},
   "outputs": [
    {
     "data": {
      "text/plain": [
       "' My name  is  sarthak and i am 34 years  old I work for Infosys '"
      ]
     },
     "execution_count": 32,
     "metadata": {},
     "output_type": "execute_result"
    }
   ],
   "source": [
    "E2.info()"
   ]
  },
  {
   "cell_type": "code",
   "execution_count": 33,
   "id": "c2248d62",
   "metadata": {},
   "outputs": [],
   "source": [
    "class Person:\n",
    "    def __init__(self , name  , age):\n",
    "        self.name  = name\n",
    "        self.age  =  age\n",
    "    def introduce(self):\n",
    "        return f\"My name  is  {self.name} and i am {self.age} years  old\"\n",
    "\n",
    "#  employee\n",
    "\n",
    "class Employee(Person):\n",
    "    def __init__(self,  name  , age  ,  company):\n",
    "        super().__init__(name  , age)\n",
    "        self.company  =  company\n",
    "\n",
    "    #  method\n",
    "    def info(self):\n",
    "        return  f' {self.introduce()} I work for {self.company } '"
   ]
  },
  {
   "cell_type": "code",
   "execution_count": 34,
   "id": "0e28674c",
   "metadata": {},
   "outputs": [],
   "source": [
    "E3  = E2  =  Employee(name  = 'sarthak' , age =  34  ,  company  =  'Infosys') "
   ]
  },
  {
   "cell_type": "code",
   "execution_count": 35,
   "id": "2a5fe150",
   "metadata": {},
   "outputs": [
    {
     "data": {
      "text/plain": [
       "' My name  is  sarthak and i am 34 years  old I work for Infosys '"
      ]
     },
     "execution_count": 35,
     "metadata": {},
     "output_type": "execute_result"
    }
   ],
   "source": [
    "E3.info()"
   ]
  },
  {
   "cell_type": "code",
   "execution_count": 40,
   "id": "a3631b69",
   "metadata": {},
   "outputs": [],
   "source": [
    "class Person:\n",
    "    def __init__(self , name  , age):\n",
    "        self.name  = name\n",
    "        self.age  =  age\n",
    "    def introduce(self):\n",
    "        return f\"My name  is  {self.name} and i am {self.age} years  old\"\n",
    "\n",
    "#  employee\n",
    "\n",
    "class Employee(Person):\n",
    "    def __init__(self,  name  , age  ,  company):\n",
    "        super().__init__(name  , age)\n",
    "        self.company  =  company\n",
    "\n",
    "    #  method\n",
    "    def info(self):\n",
    "        super().introduce()\n",
    "        return  f'  I work for {self.company } '"
   ]
  },
  {
   "cell_type": "code",
   "execution_count": 41,
   "id": "1490961e",
   "metadata": {},
   "outputs": [],
   "source": [
    "E4  =  Employee(name  = 'sarthak' , age =  34  ,  company  =  'Infosys') "
   ]
  },
  {
   "cell_type": "code",
   "execution_count": 42,
   "id": "025a83a7",
   "metadata": {},
   "outputs": [
    {
     "data": {
      "text/plain": [
       "'  I work for Infosys '"
      ]
     },
     "execution_count": 42,
     "metadata": {},
     "output_type": "execute_result"
    }
   ],
   "source": [
    "E4.info()"
   ]
  },
  {
   "cell_type": "code",
   "execution_count": 43,
   "id": "d1f4612f",
   "metadata": {},
   "outputs": [],
   "source": [
    "class Person:\n",
    "    def __init__(self , name  , age):\n",
    "        self.name  = name\n",
    "        self.age  =  age\n",
    "    def introduce(self):\n",
    "        print(f\"My name  is  {self.name} and i am {self.age} years  old\")\n",
    "\n",
    "#  employee\n",
    "\n",
    "class Employee(Person):\n",
    "    def __init__(self,  name  , age  ,  company):\n",
    "        super().__init__(name  , age)\n",
    "        self.company  =  company\n",
    "\n",
    "    #  method\n",
    "    def info(self):\n",
    "        super().introduce()\n",
    "        return  f'  I work for {self.company } '"
   ]
  },
  {
   "cell_type": "code",
   "execution_count": 44,
   "id": "ea6fa371",
   "metadata": {},
   "outputs": [],
   "source": [
    "E4  =  Employee(name  = 'sarthak' , age =  34  ,  company  =  'Infosys') "
   ]
  },
  {
   "cell_type": "code",
   "execution_count": 45,
   "id": "bc0405ea",
   "metadata": {},
   "outputs": [
    {
     "name": "stdout",
     "output_type": "stream",
     "text": [
      "My name  is  sarthak and i am 34 years  old\n"
     ]
    },
    {
     "data": {
      "text/plain": [
       "'  I work for Infosys '"
      ]
     },
     "execution_count": 45,
     "metadata": {},
     "output_type": "execute_result"
    }
   ],
   "source": [
    "E4.info()"
   ]
  },
  {
   "cell_type": "code",
   "execution_count": null,
   "id": "425e11d9",
   "metadata": {},
   "outputs": [],
   "source": []
  }
 ],
 "metadata": {
  "kernelspec": {
   "display_name": "venv",
   "language": "python",
   "name": "python3"
  },
  "language_info": {
   "codemirror_mode": {
    "name": "ipython",
    "version": 3
   },
   "file_extension": ".py",
   "mimetype": "text/x-python",
   "name": "python",
   "nbconvert_exporter": "python",
   "pygments_lexer": "ipython3",
   "version": "3.13.7"
  }
 },
 "nbformat": 4,
 "nbformat_minor": 5
}
