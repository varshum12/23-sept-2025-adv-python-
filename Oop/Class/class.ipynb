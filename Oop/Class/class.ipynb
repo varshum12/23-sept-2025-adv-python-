{
 "cells": [
  {
   "cell_type": "code",
   "execution_count": 1,
   "id": "520f215c",
   "metadata": {},
   "outputs": [
    {
     "name": "stdout",
     "output_type": "stream",
     "text": [
      "<class 'int'>\n"
     ]
    }
   ],
   "source": [
    "i =  23\n",
    "print(type(i))"
   ]
  },
  {
   "cell_type": "code",
   "execution_count": 2,
   "id": "f3893823",
   "metadata": {},
   "outputs": [
    {
     "name": "stdout",
     "output_type": "stream",
     "text": [
      "<class 'float'>\n"
     ]
    }
   ],
   "source": [
    "f  =  23.45\n",
    "print(type(f))"
   ]
  },
  {
   "cell_type": "code",
   "execution_count": 3,
   "id": "d0030994",
   "metadata": {},
   "outputs": [
    {
     "name": "stdout",
     "output_type": "stream",
     "text": [
      "<class 'str'>\n"
     ]
    }
   ],
   "source": [
    "s = 'data'\n",
    "print(type(s))"
   ]
  },
  {
   "cell_type": "code",
   "execution_count": 4,
   "id": "a9eb88ea",
   "metadata": {},
   "outputs": [
    {
     "name": "stdout",
     "output_type": "stream",
     "text": [
      "<class 'list'>\n"
     ]
    }
   ],
   "source": [
    "l  =  [12 ,45,'Python']\n",
    "print(type(l))"
   ]
  },
  {
   "cell_type": "code",
   "execution_count": 5,
   "id": "0a905832",
   "metadata": {},
   "outputs": [
    {
     "name": "stdout",
     "output_type": "stream",
     "text": [
      "<class 'tuple'>\n"
     ]
    }
   ],
   "source": [
    "t  =  (23 ,345,'Data')\n",
    "print(type(t))"
   ]
  },
  {
   "cell_type": "code",
   "execution_count": 6,
   "id": "31b8fb50",
   "metadata": {},
   "outputs": [
    {
     "name": "stdout",
     "output_type": "stream",
     "text": [
      "<class 'set'>\n"
     ]
    }
   ],
   "source": [
    "s  =  {12 ,34,56}\n",
    "print(type(s))"
   ]
  },
  {
   "cell_type": "code",
   "execution_count": 7,
   "id": "c51e2ee3",
   "metadata": {},
   "outputs": [],
   "source": [
    "d  =  {'name'  :  ['sunita' ,  'neeta' ,  'suyash']  ,\n",
    " 'age' : [12 ,13, 14]}"
   ]
  },
  {
   "cell_type": "code",
   "execution_count": 8,
   "id": "b70b52ce",
   "metadata": {},
   "outputs": [
    {
     "name": "stdout",
     "output_type": "stream",
     "text": [
      "<class 'dict'>\n"
     ]
    }
   ],
   "source": [
    "print(type(d))"
   ]
  },
  {
   "cell_type": "code",
   "execution_count": 9,
   "id": "f379b15f",
   "metadata": {},
   "outputs": [],
   "source": [
    "import pandas  as  pd"
   ]
  },
  {
   "cell_type": "code",
   "execution_count": 10,
   "id": "f59cbbaf",
   "metadata": {},
   "outputs": [],
   "source": [
    "data  =  pd.DataFrame(d)"
   ]
  },
  {
   "cell_type": "code",
   "execution_count": 11,
   "id": "6d9d51e8",
   "metadata": {},
   "outputs": [
    {
     "name": "stdout",
     "output_type": "stream",
     "text": [
      "<class 'pandas.core.frame.DataFrame'>\n"
     ]
    }
   ],
   "source": [
    "print(type(data))"
   ]
  },
  {
   "cell_type": "markdown",
   "id": "e73263b6",
   "metadata": {},
   "source": [
    "### Attributes\n",
    "- index\n",
    "- columns\n",
    "- values\n",
    "- shape\n",
    "- size\n",
    "- \n"
   ]
  },
  {
   "cell_type": "code",
   "execution_count": 12,
   "id": "74ee2f24",
   "metadata": {},
   "outputs": [
    {
     "data": {
      "text/plain": [
       "(3, 2)"
      ]
     },
     "execution_count": 12,
     "metadata": {},
     "output_type": "execute_result"
    }
   ],
   "source": [
    "data.shape"
   ]
  },
  {
   "cell_type": "code",
   "execution_count": 13,
   "id": "ea5f8195",
   "metadata": {},
   "outputs": [
    {
     "data": {
      "text/plain": [
       "6"
      ]
     },
     "execution_count": 13,
     "metadata": {},
     "output_type": "execute_result"
    }
   ],
   "source": [
    "data.size"
   ]
  },
  {
   "cell_type": "code",
   "execution_count": 14,
   "id": "63fd013e",
   "metadata": {},
   "outputs": [
    {
     "data": {
      "text/plain": [
       "Index(['name', 'age'], dtype='object')"
      ]
     },
     "execution_count": 14,
     "metadata": {},
     "output_type": "execute_result"
    }
   ],
   "source": [
    "data.columns"
   ]
  },
  {
   "cell_type": "code",
   "execution_count": 17,
   "id": "923e58a2",
   "metadata": {},
   "outputs": [
    {
     "data": {
      "text/plain": [
       "name    object\n",
       "age      int64\n",
       "dtype: object"
      ]
     },
     "execution_count": 17,
     "metadata": {},
     "output_type": "execute_result"
    }
   ],
   "source": [
    "data.dtypes"
   ]
  },
  {
   "cell_type": "code",
   "execution_count": 18,
   "id": "3e692503",
   "metadata": {},
   "outputs": [
    {
     "data": {
      "text/plain": [
       "array([['sunita', 12],\n",
       "       ['neeta', 13],\n",
       "       ['suyash', 14]], dtype=object)"
      ]
     },
     "execution_count": 18,
     "metadata": {},
     "output_type": "execute_result"
    }
   ],
   "source": [
    "data.values"
   ]
  },
  {
   "cell_type": "code",
   "execution_count": 19,
   "id": "2e954ba2",
   "metadata": {},
   "outputs": [
    {
     "data": {
      "text/plain": [
       "RangeIndex(start=0, stop=3, step=1)"
      ]
     },
     "execution_count": 19,
     "metadata": {},
     "output_type": "execute_result"
    }
   ],
   "source": [
    "data.index"
   ]
  },
  {
   "cell_type": "code",
   "execution_count": 20,
   "id": "94a41797",
   "metadata": {},
   "outputs": [],
   "source": [
    "# info() ,  isnull()"
   ]
  },
  {
   "cell_type": "code",
   "execution_count": 21,
   "id": "d644886c",
   "metadata": {},
   "outputs": [
    {
     "name": "stdout",
     "output_type": "stream",
     "text": [
      "<class 'pandas.core.frame.DataFrame'>\n",
      "RangeIndex: 3 entries, 0 to 2\n",
      "Data columns (total 2 columns):\n",
      " #   Column  Non-Null Count  Dtype \n",
      "---  ------  --------------  ----- \n",
      " 0   name    3 non-null      object\n",
      " 1   age     3 non-null      int64 \n",
      "dtypes: int64(1), object(1)\n",
      "memory usage: 180.0+ bytes\n"
     ]
    }
   ],
   "source": [
    "data.info()"
   ]
  },
  {
   "cell_type": "code",
   "execution_count": 23,
   "id": "e75eb2f0",
   "metadata": {},
   "outputs": [
    {
     "data": {
      "text/html": [
       "<div>\n",
       "<style scoped>\n",
       "    .dataframe tbody tr th:only-of-type {\n",
       "        vertical-align: middle;\n",
       "    }\n",
       "\n",
       "    .dataframe tbody tr th {\n",
       "        vertical-align: top;\n",
       "    }\n",
       "\n",
       "    .dataframe thead th {\n",
       "        text-align: right;\n",
       "    }\n",
       "</style>\n",
       "<table border=\"1\" class=\"dataframe\">\n",
       "  <thead>\n",
       "    <tr style=\"text-align: right;\">\n",
       "      <th></th>\n",
       "      <th>name</th>\n",
       "      <th>age</th>\n",
       "    </tr>\n",
       "  </thead>\n",
       "  <tbody>\n",
       "    <tr>\n",
       "      <th>0</th>\n",
       "      <td>False</td>\n",
       "      <td>False</td>\n",
       "    </tr>\n",
       "    <tr>\n",
       "      <th>1</th>\n",
       "      <td>False</td>\n",
       "      <td>False</td>\n",
       "    </tr>\n",
       "    <tr>\n",
       "      <th>2</th>\n",
       "      <td>False</td>\n",
       "      <td>False</td>\n",
       "    </tr>\n",
       "  </tbody>\n",
       "</table>\n",
       "</div>"
      ],
      "text/plain": [
       "    name    age\n",
       "0  False  False\n",
       "1  False  False\n",
       "2  False  False"
      ]
     },
     "execution_count": 23,
     "metadata": {},
     "output_type": "execute_result"
    }
   ],
   "source": [
    "data.isnull()"
   ]
  },
  {
   "cell_type": "code",
   "execution_count": null,
   "id": "0a06ff7e",
   "metadata": {},
   "outputs": [],
   "source": [
    "## create  class  Persom with constructor  method"
   ]
  },
  {
   "cell_type": "code",
   "execution_count": 1,
   "id": "913db100",
   "metadata": {},
   "outputs": [],
   "source": [
    "class  Person:\n",
    "    def __init__(self , name ,  age  ,  gender  , occupation):\n",
    "        self.Name =  name \n",
    "        self.Age  =  age\n",
    "        self.Gender  = gender\n",
    "        self.Occupation  =  occupation"
   ]
  },
  {
   "cell_type": "code",
   "execution_count": 3,
   "id": "462140ad",
   "metadata": {},
   "outputs": [],
   "source": [
    "p1  =  Person(name  = 'Sunita' ,  age  =  32 ,  gender  =  'female' , occupation = 'data analyst' )"
   ]
  },
  {
   "cell_type": "code",
   "execution_count": 5,
   "id": "890f4030",
   "metadata": {},
   "outputs": [
    {
     "data": {
      "text/plain": [
       "'Sunita'"
      ]
     },
     "execution_count": 5,
     "metadata": {},
     "output_type": "execute_result"
    }
   ],
   "source": [
    "p1.Name"
   ]
  },
  {
   "cell_type": "code",
   "execution_count": 6,
   "id": "cce560f1",
   "metadata": {},
   "outputs": [
    {
     "data": {
      "text/plain": [
       "32"
      ]
     },
     "execution_count": 6,
     "metadata": {},
     "output_type": "execute_result"
    }
   ],
   "source": [
    "p1.Age"
   ]
  },
  {
   "cell_type": "code",
   "execution_count": 7,
   "id": "a1b05c38",
   "metadata": {},
   "outputs": [
    {
     "data": {
      "text/plain": [
       "'female'"
      ]
     },
     "execution_count": 7,
     "metadata": {},
     "output_type": "execute_result"
    }
   ],
   "source": [
    "p1.Gender"
   ]
  },
  {
   "cell_type": "code",
   "execution_count": 8,
   "id": "c4104135",
   "metadata": {},
   "outputs": [
    {
     "data": {
      "text/plain": [
       "'data analyst'"
      ]
     },
     "execution_count": 8,
     "metadata": {},
     "output_type": "execute_result"
    }
   ],
   "source": [
    "p1.Occupation"
   ]
  },
  {
   "cell_type": "code",
   "execution_count": 9,
   "id": "a337a9de",
   "metadata": {},
   "outputs": [],
   "source": [
    "class  Person:\n",
    "    def __init__(self , name ,  age  ,  gender  , occupation):\n",
    "        self.name =  name \n",
    "        self.age  =  age\n",
    "        self.gender  = gender\n",
    "        self.occupation  =  occupation"
   ]
  },
  {
   "cell_type": "code",
   "execution_count": 10,
   "id": "8a38bd7c",
   "metadata": {},
   "outputs": [],
   "source": [
    "p2  =  Person(name  = 'Suresh' , age  = 23 ,\n",
    " gender  =  'male' , occupation  =  'manager')"
   ]
  },
  {
   "cell_type": "code",
   "execution_count": 11,
   "id": "de699973",
   "metadata": {},
   "outputs": [
    {
     "data": {
      "text/plain": [
       "'Suresh'"
      ]
     },
     "execution_count": 11,
     "metadata": {},
     "output_type": "execute_result"
    }
   ],
   "source": [
    "p2.name"
   ]
  },
  {
   "cell_type": "code",
   "execution_count": 12,
   "id": "b2ddfe05",
   "metadata": {},
   "outputs": [
    {
     "data": {
      "text/plain": [
       "23"
      ]
     },
     "execution_count": 12,
     "metadata": {},
     "output_type": "execute_result"
    }
   ],
   "source": [
    "p2.age"
   ]
  },
  {
   "cell_type": "code",
   "execution_count": 13,
   "id": "07a9e898",
   "metadata": {},
   "outputs": [
    {
     "data": {
      "text/plain": [
       "'male'"
      ]
     },
     "execution_count": 13,
     "metadata": {},
     "output_type": "execute_result"
    }
   ],
   "source": [
    "p2.gender"
   ]
  },
  {
   "cell_type": "code",
   "execution_count": 14,
   "id": "7a02478b",
   "metadata": {},
   "outputs": [
    {
     "data": {
      "text/plain": [
       "'manager'"
      ]
     },
     "execution_count": 14,
     "metadata": {},
     "output_type": "execute_result"
    }
   ],
   "source": [
    "p2.occupation"
   ]
  },
  {
   "cell_type": "code",
   "execution_count": 15,
   "id": "6f3cd672",
   "metadata": {},
   "outputs": [],
   "source": [
    "p3  =  Person(name  = 'sakshi' ,age  =  23  ,  gender  =  'Female' ,  occupation = 'data Scientist')"
   ]
  },
  {
   "cell_type": "code",
   "execution_count": 16,
   "id": "b31092d3",
   "metadata": {},
   "outputs": [
    {
     "name": "stdout",
     "output_type": "stream",
     "text": [
      "sakshi 23 Female data Scientist\n"
     ]
    }
   ],
   "source": [
    "print(p3.name ,  p3.age  , p3.gender ,  p3.occupation)"
   ]
  },
  {
   "cell_type": "code",
   "execution_count": 17,
   "id": "41d56722",
   "metadata": {},
   "outputs": [],
   "source": [
    "## add  attribute  address in  p3\n",
    "p3.adress =  'Pune'"
   ]
  },
  {
   "cell_type": "code",
   "execution_count": 18,
   "id": "93958b52",
   "metadata": {},
   "outputs": [
    {
     "data": {
      "text/plain": [
       "'Pune'"
      ]
     },
     "execution_count": 18,
     "metadata": {},
     "output_type": "execute_result"
    }
   ],
   "source": [
    "p3.adress"
   ]
  },
  {
   "cell_type": "code",
   "execution_count": 19,
   "id": "c767f6a8",
   "metadata": {},
   "outputs": [
    {
     "data": {
      "text/plain": [
       "'data Scientist'"
      ]
     },
     "execution_count": 19,
     "metadata": {},
     "output_type": "execute_result"
    }
   ],
   "source": [
    "p3.occupation"
   ]
  },
  {
   "cell_type": "code",
   "execution_count": 20,
   "id": "ae6a4ded",
   "metadata": {},
   "outputs": [],
   "source": [
    "p3.occupation  =  'ML Engineer'"
   ]
  },
  {
   "cell_type": "code",
   "execution_count": 22,
   "id": "164b8617",
   "metadata": {},
   "outputs": [
    {
     "data": {
      "text/plain": [
       "'ML Engineer'"
      ]
     },
     "execution_count": 22,
     "metadata": {},
     "output_type": "execute_result"
    }
   ],
   "source": [
    "p3.occupation"
   ]
  },
  {
   "cell_type": "code",
   "execution_count": 26,
   "id": "f14b75b6",
   "metadata": {},
   "outputs": [],
   "source": [
    "p3.__delattr__('adress')"
   ]
  },
  {
   "cell_type": "code",
   "execution_count": 27,
   "id": "25f27e3c",
   "metadata": {},
   "outputs": [
    {
     "ename": "AttributeError",
     "evalue": "'Person' object has no attribute 'adress'",
     "output_type": "error",
     "traceback": [
      "\u001b[31m---------------------------------------------------------------------------\u001b[39m",
      "\u001b[31mAttributeError\u001b[39m                            Traceback (most recent call last)",
      "\u001b[36mCell\u001b[39m\u001b[36m \u001b[39m\u001b[32mIn[27]\u001b[39m\u001b[32m, line 1\u001b[39m\n\u001b[32m----> \u001b[39m\u001b[32m1\u001b[39m \u001b[43mp3\u001b[49m\u001b[43m.\u001b[49m\u001b[43madress\u001b[49m\n",
      "\u001b[31mAttributeError\u001b[39m: 'Person' object has no attribute 'adress'"
     ]
    }
   ],
   "source": [
    "p3.adress"
   ]
  },
  {
   "cell_type": "code",
   "execution_count": 28,
   "id": "e6eb4691",
   "metadata": {},
   "outputs": [],
   "source": [
    "# create class  employee\n",
    "class employee :\n",
    "    company  = 'TCS'\n",
    "    def __init__(self  ,  emp_id  , emp_name):\n",
    "        self.emp_id  =  emp_id\n",
    "        self.emp_name  =  emp_name\n"
   ]
  },
  {
   "cell_type": "code",
   "execution_count": 29,
   "id": "20791006",
   "metadata": {},
   "outputs": [],
   "source": [
    "e1  =  employee(emp_id  = 1  ,  emp_name  = 'abc')"
   ]
  },
  {
   "cell_type": "code",
   "execution_count": 30,
   "id": "7864ab2e",
   "metadata": {},
   "outputs": [
    {
     "data": {
      "text/plain": [
       "'TCS'"
      ]
     },
     "execution_count": 30,
     "metadata": {},
     "output_type": "execute_result"
    }
   ],
   "source": [
    "e1.company"
   ]
  },
  {
   "cell_type": "code",
   "execution_count": 31,
   "id": "ffac18db",
   "metadata": {},
   "outputs": [
    {
     "data": {
      "text/plain": [
       "1"
      ]
     },
     "execution_count": 31,
     "metadata": {},
     "output_type": "execute_result"
    }
   ],
   "source": [
    "e1.emp_id  "
   ]
  },
  {
   "cell_type": "code",
   "execution_count": 32,
   "id": "5d363c64",
   "metadata": {},
   "outputs": [
    {
     "data": {
      "text/plain": [
       "'abc'"
      ]
     },
     "execution_count": 32,
     "metadata": {},
     "output_type": "execute_result"
    }
   ],
   "source": [
    "e1.emp_name"
   ]
  },
  {
   "cell_type": "code",
   "execution_count": 33,
   "id": "34d474e2",
   "metadata": {},
   "outputs": [],
   "source": [
    "e2  =  employee(emp_id  = 2 , emp_name  = 'pqr')"
   ]
  },
  {
   "cell_type": "code",
   "execution_count": 34,
   "id": "88863648",
   "metadata": {},
   "outputs": [
    {
     "data": {
      "text/plain": [
       "'TCS'"
      ]
     },
     "execution_count": 34,
     "metadata": {},
     "output_type": "execute_result"
    }
   ],
   "source": [
    "e2.company"
   ]
  },
  {
   "cell_type": "code",
   "execution_count": 35,
   "id": "49d65e19",
   "metadata": {},
   "outputs": [],
   "source": [
    "e2.company  = 'Tata'"
   ]
  },
  {
   "cell_type": "code",
   "execution_count": 36,
   "id": "58d68488",
   "metadata": {},
   "outputs": [
    {
     "data": {
      "text/plain": [
       "'Tata'"
      ]
     },
     "execution_count": 36,
     "metadata": {},
     "output_type": "execute_result"
    }
   ],
   "source": [
    "e2.company"
   ]
  },
  {
   "cell_type": "code",
   "execution_count": 40,
   "id": "fcb3f027",
   "metadata": {},
   "outputs": [
    {
     "data": {
      "text/plain": [
       "<__main__.employee at 0x1b666935f90>"
      ]
     },
     "execution_count": 40,
     "metadata": {},
     "output_type": "execute_result"
    }
   ],
   "source": [
    "e2"
   ]
  },
  {
   "cell_type": "markdown",
   "id": "cf40211e",
   "metadata": {},
   "source": [
    "#### create class person with attributes and method\n"
   ]
  },
  {
   "cell_type": "code",
   "execution_count": 37,
   "id": "8832919b",
   "metadata": {},
   "outputs": [],
   "source": [
    "class  Person:\n",
    "    def __init__(self , name ,  age  ,  gender  , occupation):\n",
    "        self.name =  name \n",
    "        self.age  =  age\n",
    "        self.gender  = gender\n",
    "        self.occupation  =  occupation\n",
    "    def info(self):\n",
    "        print(f'I Am {self.name}')\n",
    "        print(f'I am {self.age} years old')\n",
    "        print(f'i am {self.gender}')\n",
    "        print(f'I work as  {self.occupation}')"
   ]
  },
  {
   "cell_type": "code",
   "execution_count": 38,
   "id": "49f5f644",
   "metadata": {},
   "outputs": [],
   "source": [
    "p5  = Person(name  = 'Nayara'   , \n",
    "age =  29  ,  \n",
    "gender  =  'female' , occupation  = 'MLops  Engineer' )"
   ]
  },
  {
   "cell_type": "code",
   "execution_count": 39,
   "id": "0874f2a7",
   "metadata": {},
   "outputs": [
    {
     "name": "stdout",
     "output_type": "stream",
     "text": [
      "I Am Nayara\n",
      "I am 29 years old\n",
      "i am female\n",
      "I work as  MLops  Engineer\n"
     ]
    }
   ],
   "source": [
    "p5.info()"
   ]
  },
  {
   "cell_type": "markdown",
   "id": "55b09c91",
   "metadata": {},
   "source": [
    "### create  class student with  dataclass decorator\n",
    "name  : str\n",
    "roll_no  :  int\n",
    "marks  :  float\n",
    "gender  :  Literal('male' ,  'female' )\n",
    "Hobbies  :  List[str]"
   ]
  },
  {
   "cell_type": "code",
   "execution_count": 42,
   "id": "fdb17854",
   "metadata": {},
   "outputs": [],
   "source": [
    "from dataclasses  import dataclass\n",
    "from  typing  import Literal  , List"
   ]
  },
  {
   "cell_type": "code",
   "execution_count": 60,
   "id": "28ac63ef",
   "metadata": {},
   "outputs": [],
   "source": [
    "@dataclass\n",
    "class Student:\n",
    "    name  : str\n",
    "    roll_no  :  int\n",
    "    marks  :  float\n",
    "    gender  :  Literal['male' ,  'female']\n",
    "    Hobbies  :  List[str]\n",
    "## add  studnet info method\n",
    "    def  student_info(self):\n",
    "        print(f'I am  {self.name}')\n",
    "        print(f'My roll_no  is  {self.roll_no}')\n",
    "        print(f'I am  {self.gender}')\n",
    "        print(f'marks i got {self.marks}')\n",
    "        print(f'My hobbies are {self.Hobbies}')"
   ]
  },
  {
   "cell_type": "code",
   "execution_count": 61,
   "id": "52bbde41",
   "metadata": {},
   "outputs": [],
   "source": [
    "s1  =  Student(name  = 'shrishail'  , roll_no  =  12 , \n",
    " marks  =  87.87  , gender =  'male' , Hobbies  = 'Swimming' )"
   ]
  },
  {
   "cell_type": "code",
   "execution_count": 62,
   "id": "07762019",
   "metadata": {},
   "outputs": [
    {
     "data": {
      "text/plain": [
       "'shrishail'"
      ]
     },
     "execution_count": 62,
     "metadata": {},
     "output_type": "execute_result"
    }
   ],
   "source": [
    "s1.name"
   ]
  },
  {
   "cell_type": "code",
   "execution_count": 63,
   "id": "a31bcd6c",
   "metadata": {},
   "outputs": [
    {
     "data": {
      "text/plain": [
       "87.87"
      ]
     },
     "execution_count": 63,
     "metadata": {},
     "output_type": "execute_result"
    }
   ],
   "source": [
    "s1.marks"
   ]
  },
  {
   "cell_type": "code",
   "execution_count": 64,
   "id": "139bc4ff",
   "metadata": {},
   "outputs": [
    {
     "data": {
      "text/plain": [
       "'Swimming'"
      ]
     },
     "execution_count": 64,
     "metadata": {},
     "output_type": "execute_result"
    }
   ],
   "source": [
    "s1.Hobbies"
   ]
  },
  {
   "cell_type": "code",
   "execution_count": 65,
   "id": "6b90246d",
   "metadata": {},
   "outputs": [
    {
     "data": {
      "text/plain": [
       "'male'"
      ]
     },
     "execution_count": 65,
     "metadata": {},
     "output_type": "execute_result"
    }
   ],
   "source": [
    "s1.gender"
   ]
  },
  {
   "cell_type": "code",
   "execution_count": 66,
   "id": "560b7dff",
   "metadata": {},
   "outputs": [
    {
     "name": "stdout",
     "output_type": "stream",
     "text": [
      "I am  shrishail\n",
      "My roll_no  is  12\n",
      "I am  male\n",
      "marks i got 87.87\n",
      "My hobbies are Swimming\n"
     ]
    }
   ],
   "source": [
    "s1.student_info()"
   ]
  },
  {
   "cell_type": "code",
   "execution_count": 69,
   "id": "ee6a8762",
   "metadata": {},
   "outputs": [],
   "source": [
    "s2  =  Student(name  ='Akash' , roll_no  =3  ,  marks  = 34.34 , \n",
    "Hobbies  = ['Swimming'  , 'Dancing'] , gender  = 'male'   )"
   ]
  },
  {
   "cell_type": "code",
   "execution_count": 70,
   "id": "9d06785b",
   "metadata": {},
   "outputs": [
    {
     "name": "stdout",
     "output_type": "stream",
     "text": [
      "I am  Akash\n",
      "My roll_no  is  3\n",
      "I am  male\n",
      "marks i got 34.34\n",
      "My hobbies are ['Swimming', 'Dancing']\n"
     ]
    }
   ],
   "source": [
    "s2.student_info()"
   ]
  },
  {
   "cell_type": "markdown",
   "id": "db560382",
   "metadata": {},
   "source": [
    "### Create  class  Acount with  \n",
    "check balance  , deposite  , withdraw  , transfer  methods\n",
    "number  , name  , balance  --attr\n"
   ]
  },
  {
   "cell_type": "code",
   "execution_count": null,
   "id": "65805714",
   "metadata": {},
   "outputs": [],
   "source": [
    "@dataclass\n",
    "class Acount:\n",
    "    acc_no  :  int \n",
    "    acc_name  : str\n",
    "    balance  :  float\n",
    "## create  method check balance\n",
    "\n",
    "    def check_balance(self):\n",
    "        return f'Current  balance  of  acount {self.acc_no} is {self.balance}'\n",
    "\n",
    "\n",
    "## add  money to acount  deposite  `\n",
    "    def Deposite(self  , amt : float):\n",
    "        self.balance  +=amt\n",
    "        print(f'Amount  of {amt} is deposited in  {self.acc_no}')\n",
    "        return self.check_balance()\n",
    "\n",
    "## withdraw  amount\n",
    "\n",
    "    def Withdraw(self  , amt):\n",
    "        if self.balance>=amt:\n",
    "            self.balance -= amt\n",
    "            print(f'Amount of  {amt} is  withdrawn from {self.acc_no}')\n",
    "            return  self.check_balance()\n",
    "        else:\n",
    "            raise ValueError('Insufficient funds ')\n",
    "    \n",
    "\n",
    "    #3 transfer money \n",
    "    def  Transfer(self ,    amt  : float , acc =  'Acount' ):\n",
    "        self.Withdraw(amt)\n",
    "        acc.Deposite(amt)\n",
    "        return  self.check_balance() , acc.check_balance()\n",
    "       \n"
   ]
  },
  {
   "cell_type": "code",
   "execution_count": null,
   "id": "4ab7e2ed",
   "metadata": {},
   "outputs": [],
   "source": [
    "\n",
    "\n",
    "\n",
    "        "
   ]
  },
  {
   "cell_type": "code",
   "execution_count": 158,
   "id": "f7d1708d",
   "metadata": {},
   "outputs": [],
   "source": [
    "A1  =  Acount(acc_no  =  123  ,acc_name  = 'sarthak sharma' , balance = 2000)"
   ]
  },
  {
   "cell_type": "code",
   "execution_count": 152,
   "id": "a9b2f57f",
   "metadata": {},
   "outputs": [
    {
     "data": {
      "text/plain": [
       "'Current  balance  of  acount 123 is 2000'"
      ]
     },
     "execution_count": 152,
     "metadata": {},
     "output_type": "execute_result"
    }
   ],
   "source": [
    "A1.acc_no\n",
    "A1.acc_name\n",
    "A1.balance\n",
    "A1.check_balance()"
   ]
  },
  {
   "cell_type": "code",
   "execution_count": 153,
   "id": "3bea5316",
   "metadata": {},
   "outputs": [
    {
     "name": "stdout",
     "output_type": "stream",
     "text": [
      "Amount  of 30000 is deposited in  123\n"
     ]
    },
    {
     "data": {
      "text/plain": [
       "'Current  balance  of  acount 123 is 32000'"
      ]
     },
     "execution_count": 153,
     "metadata": {},
     "output_type": "execute_result"
    }
   ],
   "source": [
    "A1.Deposite(30000)"
   ]
  },
  {
   "cell_type": "code",
   "execution_count": 154,
   "id": "5e3571c8",
   "metadata": {},
   "outputs": [
    {
     "name": "stdout",
     "output_type": "stream",
     "text": [
      "Amount of  20000 is  withdrawn from 123\n"
     ]
    },
    {
     "data": {
      "text/plain": [
       "'Current  balance  of  acount 123 is 12000'"
      ]
     },
     "execution_count": 154,
     "metadata": {},
     "output_type": "execute_result"
    }
   ],
   "source": [
    "A1.Withdraw(20000)"
   ]
  },
  {
   "cell_type": "code",
   "execution_count": 155,
   "id": "f5d67a5a",
   "metadata": {},
   "outputs": [
    {
     "ename": "ValueError",
     "evalue": "Insufficient funds ",
     "output_type": "error",
     "traceback": [
      "\u001b[31m---------------------------------------------------------------------------\u001b[39m",
      "\u001b[31mValueError\u001b[39m                                Traceback (most recent call last)",
      "\u001b[36mCell\u001b[39m\u001b[36m \u001b[39m\u001b[32mIn[155]\u001b[39m\u001b[32m, line 1\u001b[39m\n\u001b[32m----> \u001b[39m\u001b[32m1\u001b[39m \u001b[43mA1\u001b[49m\u001b[43m.\u001b[49m\u001b[43mWithdraw\u001b[49m\u001b[43m(\u001b[49m\u001b[32;43m13000\u001b[39;49m\u001b[43m)\u001b[49m\n",
      "\u001b[36mCell\u001b[39m\u001b[36m \u001b[39m\u001b[32mIn[150]\u001b[39m\u001b[32m, line 26\u001b[39m, in \u001b[36mAcount.Withdraw\u001b[39m\u001b[34m(self, amt)\u001b[39m\n\u001b[32m     24\u001b[39m     \u001b[38;5;28;01mreturn\u001b[39;00m  \u001b[38;5;28mself\u001b[39m.check_balance()\n\u001b[32m     25\u001b[39m \u001b[38;5;28;01melse\u001b[39;00m:\n\u001b[32m---> \u001b[39m\u001b[32m26\u001b[39m     \u001b[38;5;28;01mraise\u001b[39;00m \u001b[38;5;167;01mValueError\u001b[39;00m(\u001b[33m'\u001b[39m\u001b[33mInsufficient funds \u001b[39m\u001b[33m'\u001b[39m)\n",
      "\u001b[31mValueError\u001b[39m: Insufficient funds "
     ]
    }
   ],
   "source": [
    "A1.Withdraw(13000)"
   ]
  },
  {
   "cell_type": "code",
   "execution_count": 159,
   "id": "30a88f74",
   "metadata": {},
   "outputs": [],
   "source": [
    "A2  =  Acount(acc_no  =  234 , acc_name ='xyz'  , balance  =  2000)"
   ]
  },
  {
   "cell_type": "code",
   "execution_count": 160,
   "id": "4d467b54",
   "metadata": {},
   "outputs": [
    {
     "name": "stdout",
     "output_type": "stream",
     "text": [
      "Amount of  2000 is  withdrawn from 123\n",
      "Amount  of 2000 is deposited in  234\n"
     ]
    },
    {
     "data": {
      "text/plain": [
       "('Current  balance  of  acount 123 is 0',\n",
       " 'Current  balance  of  acount 234 is 4000')"
      ]
     },
     "execution_count": 160,
     "metadata": {},
     "output_type": "execute_result"
    }
   ],
   "source": [
    "A1.Transfer(amt  =  2000  ,  acc =  A2)"
   ]
  },
  {
   "cell_type": "code",
   "execution_count": null,
   "id": "e0d3aca9",
   "metadata": {},
   "outputs": [],
   "source": []
  },
  {
   "cell_type": "code",
   "execution_count": null,
   "id": "57289f50",
   "metadata": {},
   "outputs": [],
   "source": []
  },
  {
   "cell_type": "code",
   "execution_count": null,
   "id": "3b7aad35",
   "metadata": {},
   "outputs": [],
   "source": []
  },
  {
   "cell_type": "code",
   "execution_count": null,
   "id": "a98588c5",
   "metadata": {},
   "outputs": [],
   "source": []
  },
  {
   "cell_type": "code",
   "execution_count": null,
   "id": "19586317",
   "metadata": {},
   "outputs": [],
   "source": []
  },
  {
   "cell_type": "code",
   "execution_count": null,
   "id": "3953347d",
   "metadata": {},
   "outputs": [],
   "source": []
  }
 ],
 "metadata": {
  "kernelspec": {
   "display_name": "venv",
   "language": "python",
   "name": "python3"
  },
  "language_info": {
   "codemirror_mode": {
    "name": "ipython",
    "version": 3
   },
   "file_extension": ".py",
   "mimetype": "text/x-python",
   "name": "python",
   "nbconvert_exporter": "python",
   "pygments_lexer": "ipython3",
   "version": "3.13.7"
  }
 },
 "nbformat": 4,
 "nbformat_minor": 5
}
