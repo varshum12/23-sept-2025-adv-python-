{
 "cells": [
  {
   "cell_type": "code",
   "execution_count": 1,
   "id": "f2d4d6b7",
   "metadata": {},
   "outputs": [
    {
     "name": "stdout",
     "output_type": "stream",
     "text": [
      "Collecting python-dotenv\n",
      "  Using cached python_dotenv-1.1.1-py3-none-any.whl.metadata (24 kB)\n",
      "Using cached python_dotenv-1.1.1-py3-none-any.whl (20 kB)\n",
      "Installing collected packages: python-dotenv\n",
      "Successfully installed python-dotenv-1.1.1\n",
      "Note: you may need to restart the kernel to use updated packages.\n"
     ]
    }
   ],
   "source": [
    "%pip install python-dotenv"
   ]
  },
  {
   "cell_type": "code",
   "execution_count": 2,
   "id": "980090c5",
   "metadata": {},
   "outputs": [
    {
     "name": "stdout",
     "output_type": "stream",
     "text": [
      "Requirement already satisfied: plotly in d:\\23 sept adv python weekdays\\repository\\venv\\lib\\site-packages (6.3.0)\n",
      "Requirement already satisfied: narwhals>=1.15.1 in d:\\23 sept adv python weekdays\\repository\\venv\\lib\\site-packages (from plotly) (2.5.0)\n",
      "Requirement already satisfied: packaging in d:\\23 sept adv python weekdays\\repository\\venv\\lib\\site-packages (from plotly) (25.0)\n",
      "Note: you may need to restart the kernel to use updated packages.\n"
     ]
    }
   ],
   "source": [
    "%pip install plotly"
   ]
  },
  {
   "cell_type": "code",
   "execution_count": 4,
   "id": "c704f679",
   "metadata": {},
   "outputs": [
    {
     "data": {
      "text/plain": [
       "True"
      ]
     },
     "execution_count": 4,
     "metadata": {},
     "output_type": "execute_result"
    }
   ],
   "source": [
    "from  dotenv  import load_dotenv\n",
    "load_dotenv()"
   ]
  },
  {
   "cell_type": "code",
   "execution_count": 5,
   "id": "f47dfb85",
   "metadata": {},
   "outputs": [],
   "source": [
    "import os"
   ]
  },
  {
   "cell_type": "code",
   "execution_count": 6,
   "id": "2ef4504e",
   "metadata": {},
   "outputs": [],
   "source": [
    "api_key  =  os.getenv('API_KEY')"
   ]
  },
  {
   "cell_type": "markdown",
   "id": "c0666842",
   "metadata": {},
   "source": [
    "##### fetch  compnay  symbol"
   ]
  },
  {
   "cell_type": "code",
   "execution_count": 10,
   "id": "fe6b28c0",
   "metadata": {},
   "outputs": [],
   "source": [
    "import requests\n",
    "\n",
    "url = \"https://alpha-vantage.p.rapidapi.com/query\"\n",
    "\n",
    "querystring = {\"datatype\":\"json\",\"keywords\":\"godrej\",\"function\":\"SYMBOL_SEARCH\"}\n",
    "\n",
    "headers = {\n",
    "\t\"x-rapidapi-key\": api_key,\n",
    "\t\"x-rapidapi-host\": \"alpha-vantage.p.rapidapi.com\"\n",
    "}\n",
    "\n",
    "response = requests.get(url, headers=headers, params=querystring)\n",
    "\n",
    "data  =  response.json()"
   ]
  },
  {
   "cell_type": "code",
   "execution_count": 11,
   "id": "9ab1c6b2",
   "metadata": {},
   "outputs": [
    {
     "data": {
      "text/plain": [
       "{'bestMatches': [{'1. symbol': 'GODREJCP.BSE',\n",
       "   '2. name': 'GODREJ CONSUMER PRODUCTS LTD.',\n",
       "   '3. type': 'Equity',\n",
       "   '4. region': 'India/Bombay',\n",
       "   '5. marketOpen': '09:15',\n",
       "   '6. marketClose': '15:30',\n",
       "   '7. timezone': 'UTC+5.5',\n",
       "   '8. currency': 'INR',\n",
       "   '9. matchScore': '0.7059'},\n",
       "  {'1. symbol': 'GODREJIND.BSE',\n",
       "   '2. name': 'GODREJ INDUSTRIES LTD.',\n",
       "   '3. type': 'Equity',\n",
       "   '4. region': 'India/Bombay',\n",
       "   '5. marketOpen': '09:15',\n",
       "   '6. marketClose': '15:30',\n",
       "   '7. timezone': 'UTC+5.5',\n",
       "   '8. currency': 'INR',\n",
       "   '9. matchScore': '0.6667'},\n",
       "  {'1. symbol': 'GODREJAGRO.BSE',\n",
       "   '2. name': 'Godrej Agrovet Ltd',\n",
       "   '3. type': 'Equity',\n",
       "   '4. region': 'India/Bombay',\n",
       "   '5. marketOpen': '09:15',\n",
       "   '6. marketClose': '15:30',\n",
       "   '7. timezone': 'UTC+5.5',\n",
       "   '8. currency': 'INR',\n",
       "   '9. matchScore': '0.6316'},\n",
       "  {'1. symbol': 'GODREJPROP.BSE',\n",
       "   '2. name': 'Godrej Properties Ltd',\n",
       "   '3. type': 'Equity',\n",
       "   '4. region': 'India/Bombay',\n",
       "   '5. marketOpen': '09:15',\n",
       "   '6. marketClose': '15:30',\n",
       "   '7. timezone': 'UTC+5.5',\n",
       "   '8. currency': 'INR',\n",
       "   '9. matchScore': '0.6316'},\n",
       "  {'1. symbol': '540743.BSE',\n",
       "   '2. name': 'Godrej Agrovet Limited',\n",
       "   '3. type': 'Equity',\n",
       "   '4. region': 'India/Bombay',\n",
       "   '5. marketOpen': '09:15',\n",
       "   '6. marketClose': '15:30',\n",
       "   '7. timezone': 'UTC+5.5',\n",
       "   '8. currency': 'INR',\n",
       "   '9. matchScore': '0.4286'},\n",
       "  {'1. symbol': '532424.BSE',\n",
       "   '2. name': 'Godrej Consumer Products Limited',\n",
       "   '3. type': 'Equity',\n",
       "   '4. region': 'India/Bombay',\n",
       "   '5. marketOpen': '09:15',\n",
       "   '6. marketClose': '15:30',\n",
       "   '7. timezone': 'UTC+5.5',\n",
       "   '8. currency': 'INR',\n",
       "   '9. matchScore': '0.3158'}]}"
      ]
     },
     "execution_count": 11,
     "metadata": {},
     "output_type": "execute_result"
    }
   ],
   "source": [
    "data"
   ]
  },
  {
   "cell_type": "code",
   "execution_count": 12,
   "id": "36b9b39a",
   "metadata": {},
   "outputs": [
    {
     "data": {
      "text/plain": [
       "dict"
      ]
     },
     "execution_count": 12,
     "metadata": {},
     "output_type": "execute_result"
    }
   ],
   "source": [
    "type(data)"
   ]
  },
  {
   "cell_type": "code",
   "execution_count": 13,
   "id": "80f26811",
   "metadata": {},
   "outputs": [
    {
     "data": {
      "text/plain": [
       "dict_keys(['bestMatches'])"
      ]
     },
     "execution_count": 13,
     "metadata": {},
     "output_type": "execute_result"
    }
   ],
   "source": [
    "data.keys()"
   ]
  },
  {
   "cell_type": "code",
   "execution_count": 14,
   "id": "218dfd81",
   "metadata": {},
   "outputs": [
    {
     "data": {
      "text/plain": [
       "[{'1. symbol': 'GODREJCP.BSE',\n",
       "  '2. name': 'GODREJ CONSUMER PRODUCTS LTD.',\n",
       "  '3. type': 'Equity',\n",
       "  '4. region': 'India/Bombay',\n",
       "  '5. marketOpen': '09:15',\n",
       "  '6. marketClose': '15:30',\n",
       "  '7. timezone': 'UTC+5.5',\n",
       "  '8. currency': 'INR',\n",
       "  '9. matchScore': '0.7059'},\n",
       " {'1. symbol': 'GODREJIND.BSE',\n",
       "  '2. name': 'GODREJ INDUSTRIES LTD.',\n",
       "  '3. type': 'Equity',\n",
       "  '4. region': 'India/Bombay',\n",
       "  '5. marketOpen': '09:15',\n",
       "  '6. marketClose': '15:30',\n",
       "  '7. timezone': 'UTC+5.5',\n",
       "  '8. currency': 'INR',\n",
       "  '9. matchScore': '0.6667'},\n",
       " {'1. symbol': 'GODREJAGRO.BSE',\n",
       "  '2. name': 'Godrej Agrovet Ltd',\n",
       "  '3. type': 'Equity',\n",
       "  '4. region': 'India/Bombay',\n",
       "  '5. marketOpen': '09:15',\n",
       "  '6. marketClose': '15:30',\n",
       "  '7. timezone': 'UTC+5.5',\n",
       "  '8. currency': 'INR',\n",
       "  '9. matchScore': '0.6316'},\n",
       " {'1. symbol': 'GODREJPROP.BSE',\n",
       "  '2. name': 'Godrej Properties Ltd',\n",
       "  '3. type': 'Equity',\n",
       "  '4. region': 'India/Bombay',\n",
       "  '5. marketOpen': '09:15',\n",
       "  '6. marketClose': '15:30',\n",
       "  '7. timezone': 'UTC+5.5',\n",
       "  '8. currency': 'INR',\n",
       "  '9. matchScore': '0.6316'},\n",
       " {'1. symbol': '540743.BSE',\n",
       "  '2. name': 'Godrej Agrovet Limited',\n",
       "  '3. type': 'Equity',\n",
       "  '4. region': 'India/Bombay',\n",
       "  '5. marketOpen': '09:15',\n",
       "  '6. marketClose': '15:30',\n",
       "  '7. timezone': 'UTC+5.5',\n",
       "  '8. currency': 'INR',\n",
       "  '9. matchScore': '0.4286'},\n",
       " {'1. symbol': '532424.BSE',\n",
       "  '2. name': 'Godrej Consumer Products Limited',\n",
       "  '3. type': 'Equity',\n",
       "  '4. region': 'India/Bombay',\n",
       "  '5. marketOpen': '09:15',\n",
       "  '6. marketClose': '15:30',\n",
       "  '7. timezone': 'UTC+5.5',\n",
       "  '8. currency': 'INR',\n",
       "  '9. matchScore': '0.3158'}]"
      ]
     },
     "execution_count": 14,
     "metadata": {},
     "output_type": "execute_result"
    }
   ],
   "source": [
    "data['bestMatches']"
   ]
  },
  {
   "cell_type": "code",
   "execution_count": 15,
   "id": "dd9dda62",
   "metadata": {},
   "outputs": [
    {
     "data": {
      "text/plain": [
       "list"
      ]
     },
     "execution_count": 15,
     "metadata": {},
     "output_type": "execute_result"
    }
   ],
   "source": [
    "type(data['bestMatches'])"
   ]
  },
  {
   "cell_type": "code",
   "execution_count": 16,
   "id": "024da823",
   "metadata": {},
   "outputs": [
    {
     "name": "stdout",
     "output_type": "stream",
     "text": [
      "{'1. symbol': 'GODREJCP.BSE', '2. name': 'GODREJ CONSUMER PRODUCTS LTD.', '3. type': 'Equity', '4. region': 'India/Bombay', '5. marketOpen': '09:15', '6. marketClose': '15:30', '7. timezone': 'UTC+5.5', '8. currency': 'INR', '9. matchScore': '0.7059'}\n",
      "{'1. symbol': 'GODREJIND.BSE', '2. name': 'GODREJ INDUSTRIES LTD.', '3. type': 'Equity', '4. region': 'India/Bombay', '5. marketOpen': '09:15', '6. marketClose': '15:30', '7. timezone': 'UTC+5.5', '8. currency': 'INR', '9. matchScore': '0.6667'}\n",
      "{'1. symbol': 'GODREJAGRO.BSE', '2. name': 'Godrej Agrovet Ltd', '3. type': 'Equity', '4. region': 'India/Bombay', '5. marketOpen': '09:15', '6. marketClose': '15:30', '7. timezone': 'UTC+5.5', '8. currency': 'INR', '9. matchScore': '0.6316'}\n",
      "{'1. symbol': 'GODREJPROP.BSE', '2. name': 'Godrej Properties Ltd', '3. type': 'Equity', '4. region': 'India/Bombay', '5. marketOpen': '09:15', '6. marketClose': '15:30', '7. timezone': 'UTC+5.5', '8. currency': 'INR', '9. matchScore': '0.6316'}\n",
      "{'1. symbol': '540743.BSE', '2. name': 'Godrej Agrovet Limited', '3. type': 'Equity', '4. region': 'India/Bombay', '5. marketOpen': '09:15', '6. marketClose': '15:30', '7. timezone': 'UTC+5.5', '8. currency': 'INR', '9. matchScore': '0.4286'}\n",
      "{'1. symbol': '532424.BSE', '2. name': 'Godrej Consumer Products Limited', '3. type': 'Equity', '4. region': 'India/Bombay', '5. marketOpen': '09:15', '6. marketClose': '15:30', '7. timezone': 'UTC+5.5', '8. currency': 'INR', '9. matchScore': '0.3158'}\n"
     ]
    }
   ],
   "source": [
    "for i  in data['bestMatches']:\n",
    "    print(i)"
   ]
  },
  {
   "cell_type": "code",
   "execution_count": 17,
   "id": "78bf4265",
   "metadata": {},
   "outputs": [
    {
     "name": "stdout",
     "output_type": "stream",
     "text": [
      "GODREJCP.BSE\n",
      "GODREJIND.BSE\n",
      "GODREJAGRO.BSE\n",
      "GODREJPROP.BSE\n",
      "540743.BSE\n",
      "532424.BSE\n"
     ]
    }
   ],
   "source": [
    "for  i  in  data['bestMatches']:\n",
    "    print(i['1. symbol'])\n"
   ]
  },
  {
   "cell_type": "code",
   "execution_count": 20,
   "id": "0eab6809",
   "metadata": {},
   "outputs": [
    {
     "name": "stdout",
     "output_type": "stream",
     "text": [
      "{'GODREJCP.BSE': ['GODREJ CONSUMER PRODUCTS LTD.', 'India/Bombay', 'INR'], 'GODREJIND.BSE': ['GODREJ INDUSTRIES LTD.', 'India/Bombay', 'INR'], 'GODREJAGRO.BSE': ['Godrej Agrovet Ltd', 'India/Bombay', 'INR'], 'GODREJPROP.BSE': ['Godrej Properties Ltd', 'India/Bombay', 'INR'], '540743.BSE': ['Godrej Agrovet Limited', 'India/Bombay', 'INR'], '532424.BSE': ['Godrej Consumer Products Limited', 'India/Bombay', 'INR']}\n"
     ]
    }
   ],
   "source": [
    "company_info  =  {}\n",
    "for  i  in data['bestMatches']:\n",
    "    symbol =  i['1. symbol'] \n",
    "    company_info[symbol] =  [i['2. name'] ,  i['4. region'] , i['8. currency']]\n",
    "print(company_info)\n"
   ]
  },
  {
   "cell_type": "code",
   "execution_count": 22,
   "id": "9dcd91e9",
   "metadata": {},
   "outputs": [
    {
     "data": {
      "text/plain": [
       "{'GODREJCP.BSE': ['GODREJ CONSUMER PRODUCTS LTD.', 'India/Bombay', 'INR'],\n",
       " 'GODREJIND.BSE': ['GODREJ INDUSTRIES LTD.', 'India/Bombay', 'INR'],\n",
       " 'GODREJAGRO.BSE': ['Godrej Agrovet Ltd', 'India/Bombay', 'INR'],\n",
       " 'GODREJPROP.BSE': ['Godrej Properties Ltd', 'India/Bombay', 'INR'],\n",
       " '540743.BSE': ['Godrej Agrovet Limited', 'India/Bombay', 'INR'],\n",
       " '532424.BSE': ['Godrej Consumer Products Limited', 'India/Bombay', 'INR']}"
      ]
     },
     "execution_count": 22,
     "metadata": {},
     "output_type": "execute_result"
    }
   ],
   "source": [
    "company_info"
   ]
  },
  {
   "cell_type": "code",
   "execution_count": 23,
   "id": "32f0f5c0",
   "metadata": {},
   "outputs": [],
   "source": [
    "import requests\n",
    "\n",
    "url = \"https://alpha-vantage.p.rapidapi.com/query\"\n",
    "\n",
    "querystring = {\"function\":\"TIME_SERIES_DAILY\",\n",
    "\"symbol\":'GODREJAGRO.BSE',\n",
    "\"outputsize\":\"compact\",\n",
    "\"datatype\":\"json\"}\n",
    "\n",
    "headers = {\n",
    "\t\"x-rapidapi-key\": api_key,\n",
    "\t\"x-rapidapi-host\": \"alpha-vantage.p.rapidapi.com\"\n",
    "}\n",
    "\n",
    "response = requests.get(url, headers=headers, params=querystring)\n",
    "\n",
    "data2  =  response.json()"
   ]
  },
  {
   "cell_type": "code",
   "execution_count": 24,
   "id": "f2303294",
   "metadata": {},
   "outputs": [
    {
     "data": {
      "text/plain": [
       "{'Meta Data': {'1. Information': 'Daily Prices (open, high, low, close) and Volumes',\n",
       "  '2. Symbol': 'GODREJAGRO.BSE',\n",
       "  '3. Last Refreshed': '2025-10-15',\n",
       "  '4. Output Size': 'Compact',\n",
       "  '5. Time Zone': 'US/Eastern'},\n",
       " 'Time Series (Daily)': {'2025-10-15': {'1. open': '662.8000',\n",
       "   '2. high': '662.8000',\n",
       "   '3. low': '648.5000',\n",
       "   '4. close': '653.0500',\n",
       "   '5. volume': '12323'},\n",
       "  '2025-10-14': {'1. open': '679.2000',\n",
       "   '2. high': '679.2000',\n",
       "   '3. low': '653.9500',\n",
       "   '4. close': '656.6000',\n",
       "   '5. volume': '16723'},\n",
       "  '2025-10-13': {'1. open': '662.0500',\n",
       "   '2. high': '676.3000',\n",
       "   '3. low': '650.2000',\n",
       "   '4. close': '669.3500',\n",
       "   '5. volume': '19717'},\n",
       "  '2025-10-10': {'1. open': '671.1000',\n",
       "   '2. high': '671.1000',\n",
       "   '3. low': '658.4000',\n",
       "   '4. close': '661.6000',\n",
       "   '5. volume': '17823'},\n",
       "  '2025-10-09': {'1. open': '688.9500',\n",
       "   '2. high': '688.9500',\n",
       "   '3. low': '665.0500',\n",
       "   '4. close': '667.3000',\n",
       "   '5. volume': '6140'},\n",
       "  '2025-10-08': {'1. open': '674.6000',\n",
       "   '2. high': '685.8500',\n",
       "   '3. low': '670.0500',\n",
       "   '4. close': '671.3000',\n",
       "   '5. volume': '8818'},\n",
       "  '2025-10-07': {'1. open': '679.9000',\n",
       "   '2. high': '682.3000',\n",
       "   '3. low': '672.0000',\n",
       "   '4. close': '673.7000',\n",
       "   '5. volume': '6602'},\n",
       "  '2025-10-06': {'1. open': '690.2500',\n",
       "   '2. high': '691.4000',\n",
       "   '3. low': '671.0500',\n",
       "   '4. close': '676.1000',\n",
       "   '5. volume': '14344'},\n",
       "  '2025-10-03': {'1. open': '697.5000',\n",
       "   '2. high': '701.7000',\n",
       "   '3. low': '686.7000',\n",
       "   '4. close': '690.2500',\n",
       "   '5. volume': '9233'},\n",
       "  '2025-10-02': {'1. open': '696.3500',\n",
       "   '2. high': '696.3500',\n",
       "   '3. low': '696.3500',\n",
       "   '4. close': '696.3500',\n",
       "   '5. volume': '0'},\n",
       "  '2025-10-01': {'1. open': '689.4500',\n",
       "   '2. high': '698.0000',\n",
       "   '3. low': '675.6500',\n",
       "   '4. close': '696.3500',\n",
       "   '5. volume': '11552'},\n",
       "  '2025-09-30': {'1. open': '729.8000',\n",
       "   '2. high': '729.8000',\n",
       "   '3. low': '686.6000',\n",
       "   '4. close': '690.8500',\n",
       "   '5. volume': '13487'},\n",
       "  '2025-09-29': {'1. open': '725.0500',\n",
       "   '2. high': '728.0000',\n",
       "   '3. low': '703.8500',\n",
       "   '4. close': '712.9500',\n",
       "   '5. volume': '21101'},\n",
       "  '2025-09-26': {'1. open': '673.2500',\n",
       "   '2. high': '724.9000',\n",
       "   '3. low': '673.2500',\n",
       "   '4. close': '716.4000',\n",
       "   '5. volume': '83997'},\n",
       "  '2025-09-25': {'1. open': '715.5500',\n",
       "   '2. high': '716.1000',\n",
       "   '3. low': '684.2500',\n",
       "   '4. close': '686.6000',\n",
       "   '5. volume': '6493'},\n",
       "  '2025-09-24': {'1. open': '718.0500',\n",
       "   '2. high': '722.8500',\n",
       "   '3. low': '712.0000',\n",
       "   '4. close': '714.8500',\n",
       "   '5. volume': '2665'},\n",
       "  '2025-09-23': {'1. open': '733.3500',\n",
       "   '2. high': '735.4500',\n",
       "   '3. low': '720.0500',\n",
       "   '4. close': '722.0500',\n",
       "   '5. volume': '2424'},\n",
       "  '2025-09-22': {'1. open': '740.3000',\n",
       "   '2. high': '740.3000',\n",
       "   '3. low': '725.5500',\n",
       "   '4. close': '733.3500',\n",
       "   '5. volume': '2883'},\n",
       "  '2025-09-19': {'1. open': '733.8500',\n",
       "   '2. high': '734.6500',\n",
       "   '3. low': '722.0500',\n",
       "   '4. close': '729.2500',\n",
       "   '5. volume': '8629'},\n",
       "  '2025-09-18': {'1. open': '737.7500',\n",
       "   '2. high': '737.8000',\n",
       "   '3. low': '724.0000',\n",
       "   '4. close': '725.5500',\n",
       "   '5. volume': '5714'},\n",
       "  '2025-09-17': {'1. open': '732.8500',\n",
       "   '2. high': '736.7500',\n",
       "   '3. low': '730.2000',\n",
       "   '4. close': '732.2500',\n",
       "   '5. volume': '8866'},\n",
       "  '2025-09-16': {'1. open': '735.2500',\n",
       "   '2. high': '742.9000',\n",
       "   '3. low': '730.6000',\n",
       "   '4. close': '734.0000',\n",
       "   '5. volume': '2772'},\n",
       "  '2025-09-15': {'1. open': '727.5500',\n",
       "   '2. high': '740.3500',\n",
       "   '3. low': '727.5500',\n",
       "   '4. close': '735.3000',\n",
       "   '5. volume': '5019'},\n",
       "  '2025-09-12': {'1. open': '743.9000',\n",
       "   '2. high': '743.9000',\n",
       "   '3. low': '727.3500',\n",
       "   '4. close': '735.1000',\n",
       "   '5. volume': '13593'},\n",
       "  '2025-09-11': {'1. open': '735.0500',\n",
       "   '2. high': '746.3500',\n",
       "   '3. low': '733.6500',\n",
       "   '4. close': '735.0000',\n",
       "   '5. volume': '6274'},\n",
       "  '2025-09-10': {'1. open': '737.1500',\n",
       "   '2. high': '752.0000',\n",
       "   '3. low': '737.1500',\n",
       "   '4. close': '740.8500',\n",
       "   '5. volume': '15165'},\n",
       "  '2025-09-09': {'1. open': '738.9500',\n",
       "   '2. high': '739.0500',\n",
       "   '3. low': '730.2000',\n",
       "   '4. close': '737.0500',\n",
       "   '5. volume': '5742'},\n",
       "  '2025-09-08': {'1. open': '762.9500',\n",
       "   '2. high': '762.9500',\n",
       "   '3. low': '732.9500',\n",
       "   '4. close': '734.7000',\n",
       "   '5. volume': '5047'},\n",
       "  '2025-09-05': {'1. open': '723.8000',\n",
       "   '2. high': '752.0000',\n",
       "   '3. low': '723.8000',\n",
       "   '4. close': '748.3000',\n",
       "   '5. volume': '15157'},\n",
       "  '2025-09-04': {'1. open': '737.5500',\n",
       "   '2. high': '749.7500',\n",
       "   '3. low': '729.0000',\n",
       "   '4. close': '730.9000',\n",
       "   '5. volume': '7080'},\n",
       "  '2025-09-03': {'1. open': '746.3500',\n",
       "   '2. high': '746.3500',\n",
       "   '3. low': '723.3000',\n",
       "   '4. close': '736.5500',\n",
       "   '5. volume': '23524'},\n",
       "  '2025-09-02': {'1. open': '748.8000',\n",
       "   '2. high': '759.6500',\n",
       "   '3. low': '746.3000',\n",
       "   '4. close': '747.6000',\n",
       "   '5. volume': '2708'},\n",
       "  '2025-09-01': {'1. open': '744.8000',\n",
       "   '2. high': '747.5000',\n",
       "   '3. low': '738.1500',\n",
       "   '4. close': '741.4000',\n",
       "   '5. volume': '3297'},\n",
       "  '2025-08-29': {'1. open': '744.9500',\n",
       "   '2. high': '748.7000',\n",
       "   '3. low': '735.5500',\n",
       "   '4. close': '740.2500',\n",
       "   '5. volume': '4939'},\n",
       "  '2025-08-28': {'1. open': '753.6500',\n",
       "   '2. high': '753.6500',\n",
       "   '3. low': '732.8000',\n",
       "   '4. close': '736.5000',\n",
       "   '5. volume': '5058'},\n",
       "  '2025-08-27': {'1. open': '735.5000',\n",
       "   '2. high': '735.5000',\n",
       "   '3. low': '735.5000',\n",
       "   '4. close': '735.5000',\n",
       "   '5. volume': '0'},\n",
       "  '2025-08-26': {'1. open': '755.3500',\n",
       "   '2. high': '755.3500',\n",
       "   '3. low': '732.9500',\n",
       "   '4. close': '735.5000',\n",
       "   '5. volume': '6236'},\n",
       "  '2025-08-25': {'1. open': '743.2500',\n",
       "   '2. high': '759.4000',\n",
       "   '3. low': '743.2500',\n",
       "   '4. close': '747.7500',\n",
       "   '5. volume': '8357'},\n",
       "  '2025-08-22': {'1. open': '755.6500',\n",
       "   '2. high': '759.4500',\n",
       "   '3. low': '744.9000',\n",
       "   '4. close': '746.1500',\n",
       "   '5. volume': '6785'},\n",
       "  '2025-08-21': {'1. open': '774.7500',\n",
       "   '2. high': '774.7500',\n",
       "   '3. low': '752.6000',\n",
       "   '4. close': '754.2500',\n",
       "   '5. volume': '2875'},\n",
       "  '2025-08-20': {'1. open': '765.0000',\n",
       "   '2. high': '768.0000',\n",
       "   '3. low': '755.0000',\n",
       "   '4. close': '761.5000',\n",
       "   '5. volume': '4425'},\n",
       "  '2025-08-19': {'1. open': '754.8000',\n",
       "   '2. high': '766.6500',\n",
       "   '3. low': '751.5000',\n",
       "   '4. close': '760.7500',\n",
       "   '5. volume': '8273'},\n",
       "  '2025-08-18': {'1. open': '753.6000',\n",
       "   '2. high': '760.0000',\n",
       "   '3. low': '744.9000',\n",
       "   '4. close': '751.0500',\n",
       "   '5. volume': '21564'},\n",
       "  '2025-08-14': {'1. open': '777.0500',\n",
       "   '2. high': '779.9500',\n",
       "   '3. low': '748.8500',\n",
       "   '4. close': '753.1500',\n",
       "   '5. volume': '22399'},\n",
       "  '2025-08-13': {'1. open': '793.0500',\n",
       "   '2. high': '793.0500',\n",
       "   '3. low': '775.1000',\n",
       "   '4. close': '776.8500',\n",
       "   '5. volume': '4675'},\n",
       "  '2025-08-12': {'1. open': '798.0500',\n",
       "   '2. high': '810.4500',\n",
       "   '3. low': '780.9500',\n",
       "   '4. close': '785.4500',\n",
       "   '5. volume': '9464'},\n",
       "  '2025-08-11': {'1. open': '819.3500',\n",
       "   '2. high': '819.9000',\n",
       "   '3. low': '790.5000',\n",
       "   '4. close': '799.4000',\n",
       "   '5. volume': '15668'},\n",
       "  '2025-08-08': {'1. open': '822.0000',\n",
       "   '2. high': '833.8000',\n",
       "   '3. low': '808.4500',\n",
       "   '4. close': '815.5000',\n",
       "   '5. volume': '23179'},\n",
       "  '2025-08-07': {'1. open': '827.9500',\n",
       "   '2. high': '829.5000',\n",
       "   '3. low': '803.9000',\n",
       "   '4. close': '812.6500',\n",
       "   '5. volume': '27048'},\n",
       "  '2025-08-06': {'1. open': '810.6000',\n",
       "   '2. high': '849.6000',\n",
       "   '3. low': '804.7500',\n",
       "   '4. close': '831.8500',\n",
       "   '5. volume': '22153'},\n",
       "  '2025-08-05': {'1. open': '812.0000',\n",
       "   '2. high': '825.0500',\n",
       "   '3. low': '797.4000',\n",
       "   '4. close': '809.5500',\n",
       "   '5. volume': '7928'},\n",
       "  '2025-08-04': {'1. open': '813.0000',\n",
       "   '2. high': '823.7500',\n",
       "   '3. low': '803.7500',\n",
       "   '4. close': '811.3500',\n",
       "   '5. volume': '20150'},\n",
       "  '2025-08-01': {'1. open': '844.1000',\n",
       "   '2. high': '867.0000',\n",
       "   '3. low': '810.8500',\n",
       "   '4. close': '814.4000',\n",
       "   '5. volume': '15275'},\n",
       "  '2025-07-31': {'1. open': '825.7500',\n",
       "   '2. high': '858.0000',\n",
       "   '3. low': '808.6500',\n",
       "   '4. close': '847.1500',\n",
       "   '5. volume': '19591'},\n",
       "  '2025-07-30': {'1. open': '849.4500',\n",
       "   '2. high': '855.0000',\n",
       "   '3. low': '826.7500',\n",
       "   '4. close': '838.3000',\n",
       "   '5. volume': '13049'},\n",
       "  '2025-07-29': {'1. open': '831.7000',\n",
       "   '2. high': '848.0500',\n",
       "   '3. low': '814.6000',\n",
       "   '4. close': '842.4000',\n",
       "   '5. volume': '24408'},\n",
       "  '2025-07-28': {'1. open': '842.8000',\n",
       "   '2. high': '854.0000',\n",
       "   '3. low': '828.8500',\n",
       "   '4. close': '836.1000',\n",
       "   '5. volume': '8536'},\n",
       "  '2025-07-25': {'1. open': '851.1500',\n",
       "   '2. high': '871.4000',\n",
       "   '3. low': '835.0000',\n",
       "   '4. close': '838.6500',\n",
       "   '5. volume': '53978'},\n",
       "  '2025-07-24': {'1. open': '850.2000',\n",
       "   '2. high': '876.3000',\n",
       "   '3. low': '840.0000',\n",
       "   '4. close': '853.7500',\n",
       "   '5. volume': '89382'},\n",
       "  '2025-07-23': {'1. open': '793.3500',\n",
       "   '2. high': '853.1000',\n",
       "   '3. low': '793.3500',\n",
       "   '4. close': '848.7000',\n",
       "   '5. volume': '75270'},\n",
       "  '2025-07-22': {'1. open': '803.0500',\n",
       "   '2. high': '816.7500',\n",
       "   '3. low': '799.5500',\n",
       "   '4. close': '810.0000',\n",
       "   '5. volume': '19280'},\n",
       "  '2025-07-21': {'1. open': '809.9500',\n",
       "   '2. high': '811.1500',\n",
       "   '3. low': '795.0000',\n",
       "   '4. close': '806.7000',\n",
       "   '5. volume': '13098'},\n",
       "  '2025-07-18': {'1. open': '790.6000',\n",
       "   '2. high': '816.9500',\n",
       "   '3. low': '784.4500',\n",
       "   '4. close': '801.2000',\n",
       "   '5. volume': '36309'},\n",
       "  '2025-07-17': {'1. open': '778.7500',\n",
       "   '2. high': '795.0000',\n",
       "   '3. low': '778.7000',\n",
       "   '4. close': '787.8500',\n",
       "   '5. volume': '384993'},\n",
       "  '2025-07-16': {'1. open': '770.9500',\n",
       "   '2. high': '784.2500',\n",
       "   '3. low': '770.9500',\n",
       "   '4. close': '777.2500',\n",
       "   '5. volume': '6938'},\n",
       "  '2025-07-15': {'1. open': '761.1000',\n",
       "   '2. high': '786.0000',\n",
       "   '3. low': '761.1000',\n",
       "   '4. close': '774.7500',\n",
       "   '5. volume': '4193'},\n",
       "  '2025-07-14': {'1. open': '769.2000',\n",
       "   '2. high': '784.0000',\n",
       "   '3. low': '769.2000',\n",
       "   '4. close': '774.6000',\n",
       "   '5. volume': '6074'},\n",
       "  '2025-07-11': {'1. open': '750.0500',\n",
       "   '2. high': '783.7500',\n",
       "   '3. low': '750.0500',\n",
       "   '4. close': '780.4500',\n",
       "   '5. volume': '2779'},\n",
       "  '2025-07-10': {'1. open': '779.9500',\n",
       "   '2. high': '781.0500',\n",
       "   '3. low': '765.4000',\n",
       "   '4. close': '768.9500',\n",
       "   '5. volume': '2782'},\n",
       "  '2025-07-09': {'1. open': '781.0000',\n",
       "   '2. high': '781.6500',\n",
       "   '3. low': '772.2500',\n",
       "   '4. close': '777.4500',\n",
       "   '5. volume': '5151'},\n",
       "  '2025-07-08': {'1. open': '781.0500',\n",
       "   '2. high': '786.9500',\n",
       "   '3. low': '776.0500',\n",
       "   '4. close': '782.4000',\n",
       "   '5. volume': '2953'},\n",
       "  '2025-07-07': {'1. open': '785.5500',\n",
       "   '2. high': '797.6500',\n",
       "   '3. low': '775.0000',\n",
       "   '4. close': '785.1000',\n",
       "   '5. volume': '8464'},\n",
       "  '2025-07-04': {'1. open': '788.9000',\n",
       "   '2. high': '794.0500',\n",
       "   '3. low': '773.5500',\n",
       "   '4. close': '781.8000',\n",
       "   '5. volume': '10307'},\n",
       "  '2025-07-03': {'1. open': '803.5500',\n",
       "   '2. high': '803.5500',\n",
       "   '3. low': '785.2500',\n",
       "   '4. close': '788.9000',\n",
       "   '5. volume': '9936'},\n",
       "  '2025-07-02': {'1. open': '780.3000',\n",
       "   '2. high': '812.4500',\n",
       "   '3. low': '780.3000',\n",
       "   '4. close': '801.7500',\n",
       "   '5. volume': '20737'},\n",
       "  '2025-07-01': {'1. open': '782.0000',\n",
       "   '2. high': '791.0000',\n",
       "   '3. low': '777.4500',\n",
       "   '4. close': '786.2000',\n",
       "   '5. volume': '10411'},\n",
       "  '2025-06-30': {'1. open': '772.0500',\n",
       "   '2. high': '792.2500',\n",
       "   '3. low': '772.0500',\n",
       "   '4. close': '782.0000',\n",
       "   '5. volume': '3763'},\n",
       "  '2025-06-27': {'1. open': '771.3000',\n",
       "   '2. high': '791.2000',\n",
       "   '3. low': '766.3500',\n",
       "   '4. close': '784.8000',\n",
       "   '5. volume': '12394'},\n",
       "  '2025-06-26': {'1. open': '769.8000',\n",
       "   '2. high': '774.0000',\n",
       "   '3. low': '760.2500',\n",
       "   '4. close': '771.8500',\n",
       "   '5. volume': '5501'},\n",
       "  '2025-06-25': {'1. open': '780.7500',\n",
       "   '2. high': '780.7500',\n",
       "   '3. low': '746.3000',\n",
       "   '4. close': '764.5000',\n",
       "   '5. volume': '16164'},\n",
       "  '2025-06-24': {'1. open': '788.8000',\n",
       "   '2. high': '788.9000',\n",
       "   '3. low': '743.6000',\n",
       "   '4. close': '751.1000',\n",
       "   '5. volume': '4870'},\n",
       "  '2025-06-23': {'1. open': '788.9500',\n",
       "   '2. high': '788.9500',\n",
       "   '3. low': '745.2500',\n",
       "   '4. close': '746.9000',\n",
       "   '5. volume': '3057'},\n",
       "  '2025-06-20': {'1. open': '752.8500',\n",
       "   '2. high': '768.7000',\n",
       "   '3. low': '740.7000',\n",
       "   '4. close': '762.2000',\n",
       "   '5. volume': '8770'},\n",
       "  '2025-06-19': {'1. open': '761.9500',\n",
       "   '2. high': '768.4500',\n",
       "   '3. low': '740.9500',\n",
       "   '4. close': '745.2000',\n",
       "   '5. volume': '4667'},\n",
       "  '2025-06-18': {'1. open': '771.2000',\n",
       "   '2. high': '777.8000',\n",
       "   '3. low': '761.0000',\n",
       "   '4. close': '762.8500',\n",
       "   '5. volume': '6664'},\n",
       "  '2025-06-17': {'1. open': '775.6000',\n",
       "   '2. high': '784.1000',\n",
       "   '3. low': '768.7500',\n",
       "   '4. close': '771.1500',\n",
       "   '5. volume': '4697'},\n",
       "  '2025-06-16': {'1. open': '777.4000',\n",
       "   '2. high': '787.0000',\n",
       "   '3. low': '767.9500',\n",
       "   '4. close': '773.7000',\n",
       "   '5. volume': '3267'},\n",
       "  '2025-06-13': {'1. open': '769.9500',\n",
       "   '2. high': '790.9000',\n",
       "   '3. low': '761.8000',\n",
       "   '4. close': '787.1000',\n",
       "   '5. volume': '5536'},\n",
       "  '2025-06-12': {'1. open': '794.5000',\n",
       "   '2. high': '796.7500',\n",
       "   '3. low': '770.1000',\n",
       "   '4. close': '771.7000',\n",
       "   '5. volume': '20860'},\n",
       "  '2025-06-11': {'1. open': '807.8500',\n",
       "   '2. high': '811.6500',\n",
       "   '3. low': '787.4000',\n",
       "   '4. close': '793.0000',\n",
       "   '5. volume': '7925'},\n",
       "  '2025-06-10': {'1. open': '834.9500',\n",
       "   '2. high': '834.9500',\n",
       "   '3. low': '806.0000',\n",
       "   '4. close': '807.6000',\n",
       "   '5. volume': '9596'},\n",
       "  '2025-06-09': {'1. open': '814.0000',\n",
       "   '2. high': '825.0000',\n",
       "   '3. low': '805.0000',\n",
       "   '4. close': '818.7500',\n",
       "   '5. volume': '5848'},\n",
       "  '2025-06-06': {'1. open': '818.0000',\n",
       "   '2. high': '819.9500',\n",
       "   '3. low': '802.4000',\n",
       "   '4. close': '805.7000',\n",
       "   '5. volume': '32885'},\n",
       "  '2025-06-05': {'1. open': '817.1500',\n",
       "   '2. high': '827.0000',\n",
       "   '3. low': '805.6500',\n",
       "   '4. close': '818.0000',\n",
       "   '5. volume': '46154'},\n",
       "  '2025-06-04': {'1. open': '785.0500',\n",
       "   '2. high': '826.6500',\n",
       "   '3. low': '785.0500',\n",
       "   '4. close': '815.2000',\n",
       "   '5. volume': '40705'},\n",
       "  '2025-06-03': {'1. open': '768.9500',\n",
       "   '2. high': '794.0000',\n",
       "   '3. low': '768.2500',\n",
       "   '4. close': '791.2500',\n",
       "   '5. volume': '56785'},\n",
       "  '2025-06-02': {'1. open': '764.0000',\n",
       "   '2. high': '766.0000',\n",
       "   '3. low': '749.4000',\n",
       "   '4. close': '763.2500',\n",
       "   '5. volume': '5716'},\n",
       "  '2025-05-30': {'1. open': '759.8000',\n",
       "   '2. high': '774.0500',\n",
       "   '3. low': '750.5500',\n",
       "   '4. close': '761.2500',\n",
       "   '5. volume': '11426'},\n",
       "  '2025-05-29': {'1. open': '748.8000',\n",
       "   '2. high': '756.3500',\n",
       "   '3. low': '748.5500',\n",
       "   '4. close': '753.8000',\n",
       "   '5. volume': '6299'},\n",
       "  '2025-05-28': {'1. open': '757.0000',\n",
       "   '2. high': '760.0000',\n",
       "   '3. low': '742.5000',\n",
       "   '4. close': '746.9500',\n",
       "   '5. volume': '7118'}}}"
      ]
     },
     "execution_count": 24,
     "metadata": {},
     "output_type": "execute_result"
    }
   ],
   "source": [
    "data2"
   ]
  },
  {
   "cell_type": "code",
   "execution_count": 26,
   "id": "bc40e93b",
   "metadata": {},
   "outputs": [
    {
     "data": {
      "text/plain": [
       "dict"
      ]
     },
     "execution_count": 26,
     "metadata": {},
     "output_type": "execute_result"
    }
   ],
   "source": [
    "type(data2)"
   ]
  },
  {
   "cell_type": "code",
   "execution_count": 27,
   "id": "bd01894d",
   "metadata": {},
   "outputs": [
    {
     "data": {
      "text/plain": [
       "dict_keys(['Meta Data', 'Time Series (Daily)'])"
      ]
     },
     "execution_count": 27,
     "metadata": {},
     "output_type": "execute_result"
    }
   ],
   "source": [
    "data2.keys()"
   ]
  },
  {
   "cell_type": "code",
   "execution_count": 28,
   "id": "a919a8d8",
   "metadata": {},
   "outputs": [
    {
     "data": {
      "text/plain": [
       "{'2025-10-15': {'1. open': '662.8000',\n",
       "  '2. high': '662.8000',\n",
       "  '3. low': '648.5000',\n",
       "  '4. close': '653.0500',\n",
       "  '5. volume': '12323'},\n",
       " '2025-10-14': {'1. open': '679.2000',\n",
       "  '2. high': '679.2000',\n",
       "  '3. low': '653.9500',\n",
       "  '4. close': '656.6000',\n",
       "  '5. volume': '16723'},\n",
       " '2025-10-13': {'1. open': '662.0500',\n",
       "  '2. high': '676.3000',\n",
       "  '3. low': '650.2000',\n",
       "  '4. close': '669.3500',\n",
       "  '5. volume': '19717'},\n",
       " '2025-10-10': {'1. open': '671.1000',\n",
       "  '2. high': '671.1000',\n",
       "  '3. low': '658.4000',\n",
       "  '4. close': '661.6000',\n",
       "  '5. volume': '17823'},\n",
       " '2025-10-09': {'1. open': '688.9500',\n",
       "  '2. high': '688.9500',\n",
       "  '3. low': '665.0500',\n",
       "  '4. close': '667.3000',\n",
       "  '5. volume': '6140'},\n",
       " '2025-10-08': {'1. open': '674.6000',\n",
       "  '2. high': '685.8500',\n",
       "  '3. low': '670.0500',\n",
       "  '4. close': '671.3000',\n",
       "  '5. volume': '8818'},\n",
       " '2025-10-07': {'1. open': '679.9000',\n",
       "  '2. high': '682.3000',\n",
       "  '3. low': '672.0000',\n",
       "  '4. close': '673.7000',\n",
       "  '5. volume': '6602'},\n",
       " '2025-10-06': {'1. open': '690.2500',\n",
       "  '2. high': '691.4000',\n",
       "  '3. low': '671.0500',\n",
       "  '4. close': '676.1000',\n",
       "  '5. volume': '14344'},\n",
       " '2025-10-03': {'1. open': '697.5000',\n",
       "  '2. high': '701.7000',\n",
       "  '3. low': '686.7000',\n",
       "  '4. close': '690.2500',\n",
       "  '5. volume': '9233'},\n",
       " '2025-10-02': {'1. open': '696.3500',\n",
       "  '2. high': '696.3500',\n",
       "  '3. low': '696.3500',\n",
       "  '4. close': '696.3500',\n",
       "  '5. volume': '0'},\n",
       " '2025-10-01': {'1. open': '689.4500',\n",
       "  '2. high': '698.0000',\n",
       "  '3. low': '675.6500',\n",
       "  '4. close': '696.3500',\n",
       "  '5. volume': '11552'},\n",
       " '2025-09-30': {'1. open': '729.8000',\n",
       "  '2. high': '729.8000',\n",
       "  '3. low': '686.6000',\n",
       "  '4. close': '690.8500',\n",
       "  '5. volume': '13487'},\n",
       " '2025-09-29': {'1. open': '725.0500',\n",
       "  '2. high': '728.0000',\n",
       "  '3. low': '703.8500',\n",
       "  '4. close': '712.9500',\n",
       "  '5. volume': '21101'},\n",
       " '2025-09-26': {'1. open': '673.2500',\n",
       "  '2. high': '724.9000',\n",
       "  '3. low': '673.2500',\n",
       "  '4. close': '716.4000',\n",
       "  '5. volume': '83997'},\n",
       " '2025-09-25': {'1. open': '715.5500',\n",
       "  '2. high': '716.1000',\n",
       "  '3. low': '684.2500',\n",
       "  '4. close': '686.6000',\n",
       "  '5. volume': '6493'},\n",
       " '2025-09-24': {'1. open': '718.0500',\n",
       "  '2. high': '722.8500',\n",
       "  '3. low': '712.0000',\n",
       "  '4. close': '714.8500',\n",
       "  '5. volume': '2665'},\n",
       " '2025-09-23': {'1. open': '733.3500',\n",
       "  '2. high': '735.4500',\n",
       "  '3. low': '720.0500',\n",
       "  '4. close': '722.0500',\n",
       "  '5. volume': '2424'},\n",
       " '2025-09-22': {'1. open': '740.3000',\n",
       "  '2. high': '740.3000',\n",
       "  '3. low': '725.5500',\n",
       "  '4. close': '733.3500',\n",
       "  '5. volume': '2883'},\n",
       " '2025-09-19': {'1. open': '733.8500',\n",
       "  '2. high': '734.6500',\n",
       "  '3. low': '722.0500',\n",
       "  '4. close': '729.2500',\n",
       "  '5. volume': '8629'},\n",
       " '2025-09-18': {'1. open': '737.7500',\n",
       "  '2. high': '737.8000',\n",
       "  '3. low': '724.0000',\n",
       "  '4. close': '725.5500',\n",
       "  '5. volume': '5714'},\n",
       " '2025-09-17': {'1. open': '732.8500',\n",
       "  '2. high': '736.7500',\n",
       "  '3. low': '730.2000',\n",
       "  '4. close': '732.2500',\n",
       "  '5. volume': '8866'},\n",
       " '2025-09-16': {'1. open': '735.2500',\n",
       "  '2. high': '742.9000',\n",
       "  '3. low': '730.6000',\n",
       "  '4. close': '734.0000',\n",
       "  '5. volume': '2772'},\n",
       " '2025-09-15': {'1. open': '727.5500',\n",
       "  '2. high': '740.3500',\n",
       "  '3. low': '727.5500',\n",
       "  '4. close': '735.3000',\n",
       "  '5. volume': '5019'},\n",
       " '2025-09-12': {'1. open': '743.9000',\n",
       "  '2. high': '743.9000',\n",
       "  '3. low': '727.3500',\n",
       "  '4. close': '735.1000',\n",
       "  '5. volume': '13593'},\n",
       " '2025-09-11': {'1. open': '735.0500',\n",
       "  '2. high': '746.3500',\n",
       "  '3. low': '733.6500',\n",
       "  '4. close': '735.0000',\n",
       "  '5. volume': '6274'},\n",
       " '2025-09-10': {'1. open': '737.1500',\n",
       "  '2. high': '752.0000',\n",
       "  '3. low': '737.1500',\n",
       "  '4. close': '740.8500',\n",
       "  '5. volume': '15165'},\n",
       " '2025-09-09': {'1. open': '738.9500',\n",
       "  '2. high': '739.0500',\n",
       "  '3. low': '730.2000',\n",
       "  '4. close': '737.0500',\n",
       "  '5. volume': '5742'},\n",
       " '2025-09-08': {'1. open': '762.9500',\n",
       "  '2. high': '762.9500',\n",
       "  '3. low': '732.9500',\n",
       "  '4. close': '734.7000',\n",
       "  '5. volume': '5047'},\n",
       " '2025-09-05': {'1. open': '723.8000',\n",
       "  '2. high': '752.0000',\n",
       "  '3. low': '723.8000',\n",
       "  '4. close': '748.3000',\n",
       "  '5. volume': '15157'},\n",
       " '2025-09-04': {'1. open': '737.5500',\n",
       "  '2. high': '749.7500',\n",
       "  '3. low': '729.0000',\n",
       "  '4. close': '730.9000',\n",
       "  '5. volume': '7080'},\n",
       " '2025-09-03': {'1. open': '746.3500',\n",
       "  '2. high': '746.3500',\n",
       "  '3. low': '723.3000',\n",
       "  '4. close': '736.5500',\n",
       "  '5. volume': '23524'},\n",
       " '2025-09-02': {'1. open': '748.8000',\n",
       "  '2. high': '759.6500',\n",
       "  '3. low': '746.3000',\n",
       "  '4. close': '747.6000',\n",
       "  '5. volume': '2708'},\n",
       " '2025-09-01': {'1. open': '744.8000',\n",
       "  '2. high': '747.5000',\n",
       "  '3. low': '738.1500',\n",
       "  '4. close': '741.4000',\n",
       "  '5. volume': '3297'},\n",
       " '2025-08-29': {'1. open': '744.9500',\n",
       "  '2. high': '748.7000',\n",
       "  '3. low': '735.5500',\n",
       "  '4. close': '740.2500',\n",
       "  '5. volume': '4939'},\n",
       " '2025-08-28': {'1. open': '753.6500',\n",
       "  '2. high': '753.6500',\n",
       "  '3. low': '732.8000',\n",
       "  '4. close': '736.5000',\n",
       "  '5. volume': '5058'},\n",
       " '2025-08-27': {'1. open': '735.5000',\n",
       "  '2. high': '735.5000',\n",
       "  '3. low': '735.5000',\n",
       "  '4. close': '735.5000',\n",
       "  '5. volume': '0'},\n",
       " '2025-08-26': {'1. open': '755.3500',\n",
       "  '2. high': '755.3500',\n",
       "  '3. low': '732.9500',\n",
       "  '4. close': '735.5000',\n",
       "  '5. volume': '6236'},\n",
       " '2025-08-25': {'1. open': '743.2500',\n",
       "  '2. high': '759.4000',\n",
       "  '3. low': '743.2500',\n",
       "  '4. close': '747.7500',\n",
       "  '5. volume': '8357'},\n",
       " '2025-08-22': {'1. open': '755.6500',\n",
       "  '2. high': '759.4500',\n",
       "  '3. low': '744.9000',\n",
       "  '4. close': '746.1500',\n",
       "  '5. volume': '6785'},\n",
       " '2025-08-21': {'1. open': '774.7500',\n",
       "  '2. high': '774.7500',\n",
       "  '3. low': '752.6000',\n",
       "  '4. close': '754.2500',\n",
       "  '5. volume': '2875'},\n",
       " '2025-08-20': {'1. open': '765.0000',\n",
       "  '2. high': '768.0000',\n",
       "  '3. low': '755.0000',\n",
       "  '4. close': '761.5000',\n",
       "  '5. volume': '4425'},\n",
       " '2025-08-19': {'1. open': '754.8000',\n",
       "  '2. high': '766.6500',\n",
       "  '3. low': '751.5000',\n",
       "  '4. close': '760.7500',\n",
       "  '5. volume': '8273'},\n",
       " '2025-08-18': {'1. open': '753.6000',\n",
       "  '2. high': '760.0000',\n",
       "  '3. low': '744.9000',\n",
       "  '4. close': '751.0500',\n",
       "  '5. volume': '21564'},\n",
       " '2025-08-14': {'1. open': '777.0500',\n",
       "  '2. high': '779.9500',\n",
       "  '3. low': '748.8500',\n",
       "  '4. close': '753.1500',\n",
       "  '5. volume': '22399'},\n",
       " '2025-08-13': {'1. open': '793.0500',\n",
       "  '2. high': '793.0500',\n",
       "  '3. low': '775.1000',\n",
       "  '4. close': '776.8500',\n",
       "  '5. volume': '4675'},\n",
       " '2025-08-12': {'1. open': '798.0500',\n",
       "  '2. high': '810.4500',\n",
       "  '3. low': '780.9500',\n",
       "  '4. close': '785.4500',\n",
       "  '5. volume': '9464'},\n",
       " '2025-08-11': {'1. open': '819.3500',\n",
       "  '2. high': '819.9000',\n",
       "  '3. low': '790.5000',\n",
       "  '4. close': '799.4000',\n",
       "  '5. volume': '15668'},\n",
       " '2025-08-08': {'1. open': '822.0000',\n",
       "  '2. high': '833.8000',\n",
       "  '3. low': '808.4500',\n",
       "  '4. close': '815.5000',\n",
       "  '5. volume': '23179'},\n",
       " '2025-08-07': {'1. open': '827.9500',\n",
       "  '2. high': '829.5000',\n",
       "  '3. low': '803.9000',\n",
       "  '4. close': '812.6500',\n",
       "  '5. volume': '27048'},\n",
       " '2025-08-06': {'1. open': '810.6000',\n",
       "  '2. high': '849.6000',\n",
       "  '3. low': '804.7500',\n",
       "  '4. close': '831.8500',\n",
       "  '5. volume': '22153'},\n",
       " '2025-08-05': {'1. open': '812.0000',\n",
       "  '2. high': '825.0500',\n",
       "  '3. low': '797.4000',\n",
       "  '4. close': '809.5500',\n",
       "  '5. volume': '7928'},\n",
       " '2025-08-04': {'1. open': '813.0000',\n",
       "  '2. high': '823.7500',\n",
       "  '3. low': '803.7500',\n",
       "  '4. close': '811.3500',\n",
       "  '5. volume': '20150'},\n",
       " '2025-08-01': {'1. open': '844.1000',\n",
       "  '2. high': '867.0000',\n",
       "  '3. low': '810.8500',\n",
       "  '4. close': '814.4000',\n",
       "  '5. volume': '15275'},\n",
       " '2025-07-31': {'1. open': '825.7500',\n",
       "  '2. high': '858.0000',\n",
       "  '3. low': '808.6500',\n",
       "  '4. close': '847.1500',\n",
       "  '5. volume': '19591'},\n",
       " '2025-07-30': {'1. open': '849.4500',\n",
       "  '2. high': '855.0000',\n",
       "  '3. low': '826.7500',\n",
       "  '4. close': '838.3000',\n",
       "  '5. volume': '13049'},\n",
       " '2025-07-29': {'1. open': '831.7000',\n",
       "  '2. high': '848.0500',\n",
       "  '3. low': '814.6000',\n",
       "  '4. close': '842.4000',\n",
       "  '5. volume': '24408'},\n",
       " '2025-07-28': {'1. open': '842.8000',\n",
       "  '2. high': '854.0000',\n",
       "  '3. low': '828.8500',\n",
       "  '4. close': '836.1000',\n",
       "  '5. volume': '8536'},\n",
       " '2025-07-25': {'1. open': '851.1500',\n",
       "  '2. high': '871.4000',\n",
       "  '3. low': '835.0000',\n",
       "  '4. close': '838.6500',\n",
       "  '5. volume': '53978'},\n",
       " '2025-07-24': {'1. open': '850.2000',\n",
       "  '2. high': '876.3000',\n",
       "  '3. low': '840.0000',\n",
       "  '4. close': '853.7500',\n",
       "  '5. volume': '89382'},\n",
       " '2025-07-23': {'1. open': '793.3500',\n",
       "  '2. high': '853.1000',\n",
       "  '3. low': '793.3500',\n",
       "  '4. close': '848.7000',\n",
       "  '5. volume': '75270'},\n",
       " '2025-07-22': {'1. open': '803.0500',\n",
       "  '2. high': '816.7500',\n",
       "  '3. low': '799.5500',\n",
       "  '4. close': '810.0000',\n",
       "  '5. volume': '19280'},\n",
       " '2025-07-21': {'1. open': '809.9500',\n",
       "  '2. high': '811.1500',\n",
       "  '3. low': '795.0000',\n",
       "  '4. close': '806.7000',\n",
       "  '5. volume': '13098'},\n",
       " '2025-07-18': {'1. open': '790.6000',\n",
       "  '2. high': '816.9500',\n",
       "  '3. low': '784.4500',\n",
       "  '4. close': '801.2000',\n",
       "  '5. volume': '36309'},\n",
       " '2025-07-17': {'1. open': '778.7500',\n",
       "  '2. high': '795.0000',\n",
       "  '3. low': '778.7000',\n",
       "  '4. close': '787.8500',\n",
       "  '5. volume': '384993'},\n",
       " '2025-07-16': {'1. open': '770.9500',\n",
       "  '2. high': '784.2500',\n",
       "  '3. low': '770.9500',\n",
       "  '4. close': '777.2500',\n",
       "  '5. volume': '6938'},\n",
       " '2025-07-15': {'1. open': '761.1000',\n",
       "  '2. high': '786.0000',\n",
       "  '3. low': '761.1000',\n",
       "  '4. close': '774.7500',\n",
       "  '5. volume': '4193'},\n",
       " '2025-07-14': {'1. open': '769.2000',\n",
       "  '2. high': '784.0000',\n",
       "  '3. low': '769.2000',\n",
       "  '4. close': '774.6000',\n",
       "  '5. volume': '6074'},\n",
       " '2025-07-11': {'1. open': '750.0500',\n",
       "  '2. high': '783.7500',\n",
       "  '3. low': '750.0500',\n",
       "  '4. close': '780.4500',\n",
       "  '5. volume': '2779'},\n",
       " '2025-07-10': {'1. open': '779.9500',\n",
       "  '2. high': '781.0500',\n",
       "  '3. low': '765.4000',\n",
       "  '4. close': '768.9500',\n",
       "  '5. volume': '2782'},\n",
       " '2025-07-09': {'1. open': '781.0000',\n",
       "  '2. high': '781.6500',\n",
       "  '3. low': '772.2500',\n",
       "  '4. close': '777.4500',\n",
       "  '5. volume': '5151'},\n",
       " '2025-07-08': {'1. open': '781.0500',\n",
       "  '2. high': '786.9500',\n",
       "  '3. low': '776.0500',\n",
       "  '4. close': '782.4000',\n",
       "  '5. volume': '2953'},\n",
       " '2025-07-07': {'1. open': '785.5500',\n",
       "  '2. high': '797.6500',\n",
       "  '3. low': '775.0000',\n",
       "  '4. close': '785.1000',\n",
       "  '5. volume': '8464'},\n",
       " '2025-07-04': {'1. open': '788.9000',\n",
       "  '2. high': '794.0500',\n",
       "  '3. low': '773.5500',\n",
       "  '4. close': '781.8000',\n",
       "  '5. volume': '10307'},\n",
       " '2025-07-03': {'1. open': '803.5500',\n",
       "  '2. high': '803.5500',\n",
       "  '3. low': '785.2500',\n",
       "  '4. close': '788.9000',\n",
       "  '5. volume': '9936'},\n",
       " '2025-07-02': {'1. open': '780.3000',\n",
       "  '2. high': '812.4500',\n",
       "  '3. low': '780.3000',\n",
       "  '4. close': '801.7500',\n",
       "  '5. volume': '20737'},\n",
       " '2025-07-01': {'1. open': '782.0000',\n",
       "  '2. high': '791.0000',\n",
       "  '3. low': '777.4500',\n",
       "  '4. close': '786.2000',\n",
       "  '5. volume': '10411'},\n",
       " '2025-06-30': {'1. open': '772.0500',\n",
       "  '2. high': '792.2500',\n",
       "  '3. low': '772.0500',\n",
       "  '4. close': '782.0000',\n",
       "  '5. volume': '3763'},\n",
       " '2025-06-27': {'1. open': '771.3000',\n",
       "  '2. high': '791.2000',\n",
       "  '3. low': '766.3500',\n",
       "  '4. close': '784.8000',\n",
       "  '5. volume': '12394'},\n",
       " '2025-06-26': {'1. open': '769.8000',\n",
       "  '2. high': '774.0000',\n",
       "  '3. low': '760.2500',\n",
       "  '4. close': '771.8500',\n",
       "  '5. volume': '5501'},\n",
       " '2025-06-25': {'1. open': '780.7500',\n",
       "  '2. high': '780.7500',\n",
       "  '3. low': '746.3000',\n",
       "  '4. close': '764.5000',\n",
       "  '5. volume': '16164'},\n",
       " '2025-06-24': {'1. open': '788.8000',\n",
       "  '2. high': '788.9000',\n",
       "  '3. low': '743.6000',\n",
       "  '4. close': '751.1000',\n",
       "  '5. volume': '4870'},\n",
       " '2025-06-23': {'1. open': '788.9500',\n",
       "  '2. high': '788.9500',\n",
       "  '3. low': '745.2500',\n",
       "  '4. close': '746.9000',\n",
       "  '5. volume': '3057'},\n",
       " '2025-06-20': {'1. open': '752.8500',\n",
       "  '2. high': '768.7000',\n",
       "  '3. low': '740.7000',\n",
       "  '4. close': '762.2000',\n",
       "  '5. volume': '8770'},\n",
       " '2025-06-19': {'1. open': '761.9500',\n",
       "  '2. high': '768.4500',\n",
       "  '3. low': '740.9500',\n",
       "  '4. close': '745.2000',\n",
       "  '5. volume': '4667'},\n",
       " '2025-06-18': {'1. open': '771.2000',\n",
       "  '2. high': '777.8000',\n",
       "  '3. low': '761.0000',\n",
       "  '4. close': '762.8500',\n",
       "  '5. volume': '6664'},\n",
       " '2025-06-17': {'1. open': '775.6000',\n",
       "  '2. high': '784.1000',\n",
       "  '3. low': '768.7500',\n",
       "  '4. close': '771.1500',\n",
       "  '5. volume': '4697'},\n",
       " '2025-06-16': {'1. open': '777.4000',\n",
       "  '2. high': '787.0000',\n",
       "  '3. low': '767.9500',\n",
       "  '4. close': '773.7000',\n",
       "  '5. volume': '3267'},\n",
       " '2025-06-13': {'1. open': '769.9500',\n",
       "  '2. high': '790.9000',\n",
       "  '3. low': '761.8000',\n",
       "  '4. close': '787.1000',\n",
       "  '5. volume': '5536'},\n",
       " '2025-06-12': {'1. open': '794.5000',\n",
       "  '2. high': '796.7500',\n",
       "  '3. low': '770.1000',\n",
       "  '4. close': '771.7000',\n",
       "  '5. volume': '20860'},\n",
       " '2025-06-11': {'1. open': '807.8500',\n",
       "  '2. high': '811.6500',\n",
       "  '3. low': '787.4000',\n",
       "  '4. close': '793.0000',\n",
       "  '5. volume': '7925'},\n",
       " '2025-06-10': {'1. open': '834.9500',\n",
       "  '2. high': '834.9500',\n",
       "  '3. low': '806.0000',\n",
       "  '4. close': '807.6000',\n",
       "  '5. volume': '9596'},\n",
       " '2025-06-09': {'1. open': '814.0000',\n",
       "  '2. high': '825.0000',\n",
       "  '3. low': '805.0000',\n",
       "  '4. close': '818.7500',\n",
       "  '5. volume': '5848'},\n",
       " '2025-06-06': {'1. open': '818.0000',\n",
       "  '2. high': '819.9500',\n",
       "  '3. low': '802.4000',\n",
       "  '4. close': '805.7000',\n",
       "  '5. volume': '32885'},\n",
       " '2025-06-05': {'1. open': '817.1500',\n",
       "  '2. high': '827.0000',\n",
       "  '3. low': '805.6500',\n",
       "  '4. close': '818.0000',\n",
       "  '5. volume': '46154'},\n",
       " '2025-06-04': {'1. open': '785.0500',\n",
       "  '2. high': '826.6500',\n",
       "  '3. low': '785.0500',\n",
       "  '4. close': '815.2000',\n",
       "  '5. volume': '40705'},\n",
       " '2025-06-03': {'1. open': '768.9500',\n",
       "  '2. high': '794.0000',\n",
       "  '3. low': '768.2500',\n",
       "  '4. close': '791.2500',\n",
       "  '5. volume': '56785'},\n",
       " '2025-06-02': {'1. open': '764.0000',\n",
       "  '2. high': '766.0000',\n",
       "  '3. low': '749.4000',\n",
       "  '4. close': '763.2500',\n",
       "  '5. volume': '5716'},\n",
       " '2025-05-30': {'1. open': '759.8000',\n",
       "  '2. high': '774.0500',\n",
       "  '3. low': '750.5500',\n",
       "  '4. close': '761.2500',\n",
       "  '5. volume': '11426'},\n",
       " '2025-05-29': {'1. open': '748.8000',\n",
       "  '2. high': '756.3500',\n",
       "  '3. low': '748.5500',\n",
       "  '4. close': '753.8000',\n",
       "  '5. volume': '6299'},\n",
       " '2025-05-28': {'1. open': '757.0000',\n",
       "  '2. high': '760.0000',\n",
       "  '3. low': '742.5000',\n",
       "  '4. close': '746.9500',\n",
       "  '5. volume': '7118'}}"
      ]
     },
     "execution_count": 28,
     "metadata": {},
     "output_type": "execute_result"
    }
   ],
   "source": [
    "data2['Time Series (Daily)']"
   ]
  },
  {
   "cell_type": "code",
   "execution_count": 29,
   "id": "c6c11ea8",
   "metadata": {},
   "outputs": [],
   "source": [
    "import pandas as pd"
   ]
  },
  {
   "cell_type": "code",
   "execution_count": null,
   "id": "1ab7ab50",
   "metadata": {},
   "outputs": [],
   "source": [
    "# convert in dataframe\n",
    "df  =  pd.DataFrame(data2['Time Series (Daily)'])"
   ]
  },
  {
   "cell_type": "code",
   "execution_count": 32,
   "id": "e4188665",
   "metadata": {},
   "outputs": [],
   "source": [
    "df =  df.T"
   ]
  },
  {
   "cell_type": "code",
   "execution_count": 33,
   "id": "b771af61",
   "metadata": {},
   "outputs": [
    {
     "data": {
      "text/html": [
       "<div>\n",
       "<style scoped>\n",
       "    .dataframe tbody tr th:only-of-type {\n",
       "        vertical-align: middle;\n",
       "    }\n",
       "\n",
       "    .dataframe tbody tr th {\n",
       "        vertical-align: top;\n",
       "    }\n",
       "\n",
       "    .dataframe thead th {\n",
       "        text-align: right;\n",
       "    }\n",
       "</style>\n",
       "<table border=\"1\" class=\"dataframe\">\n",
       "  <thead>\n",
       "    <tr style=\"text-align: right;\">\n",
       "      <th></th>\n",
       "      <th>1. open</th>\n",
       "      <th>2. high</th>\n",
       "      <th>3. low</th>\n",
       "      <th>4. close</th>\n",
       "      <th>5. volume</th>\n",
       "    </tr>\n",
       "  </thead>\n",
       "  <tbody>\n",
       "    <tr>\n",
       "      <th>2025-10-15</th>\n",
       "      <td>662.8000</td>\n",
       "      <td>662.8000</td>\n",
       "      <td>648.5000</td>\n",
       "      <td>653.0500</td>\n",
       "      <td>12323</td>\n",
       "    </tr>\n",
       "    <tr>\n",
       "      <th>2025-10-14</th>\n",
       "      <td>679.2000</td>\n",
       "      <td>679.2000</td>\n",
       "      <td>653.9500</td>\n",
       "      <td>656.6000</td>\n",
       "      <td>16723</td>\n",
       "    </tr>\n",
       "    <tr>\n",
       "      <th>2025-10-13</th>\n",
       "      <td>662.0500</td>\n",
       "      <td>676.3000</td>\n",
       "      <td>650.2000</td>\n",
       "      <td>669.3500</td>\n",
       "      <td>19717</td>\n",
       "    </tr>\n",
       "    <tr>\n",
       "      <th>2025-10-10</th>\n",
       "      <td>671.1000</td>\n",
       "      <td>671.1000</td>\n",
       "      <td>658.4000</td>\n",
       "      <td>661.6000</td>\n",
       "      <td>17823</td>\n",
       "    </tr>\n",
       "    <tr>\n",
       "      <th>2025-10-09</th>\n",
       "      <td>688.9500</td>\n",
       "      <td>688.9500</td>\n",
       "      <td>665.0500</td>\n",
       "      <td>667.3000</td>\n",
       "      <td>6140</td>\n",
       "    </tr>\n",
       "    <tr>\n",
       "      <th>...</th>\n",
       "      <td>...</td>\n",
       "      <td>...</td>\n",
       "      <td>...</td>\n",
       "      <td>...</td>\n",
       "      <td>...</td>\n",
       "    </tr>\n",
       "    <tr>\n",
       "      <th>2025-06-03</th>\n",
       "      <td>768.9500</td>\n",
       "      <td>794.0000</td>\n",
       "      <td>768.2500</td>\n",
       "      <td>791.2500</td>\n",
       "      <td>56785</td>\n",
       "    </tr>\n",
       "    <tr>\n",
       "      <th>2025-06-02</th>\n",
       "      <td>764.0000</td>\n",
       "      <td>766.0000</td>\n",
       "      <td>749.4000</td>\n",
       "      <td>763.2500</td>\n",
       "      <td>5716</td>\n",
       "    </tr>\n",
       "    <tr>\n",
       "      <th>2025-05-30</th>\n",
       "      <td>759.8000</td>\n",
       "      <td>774.0500</td>\n",
       "      <td>750.5500</td>\n",
       "      <td>761.2500</td>\n",
       "      <td>11426</td>\n",
       "    </tr>\n",
       "    <tr>\n",
       "      <th>2025-05-29</th>\n",
       "      <td>748.8000</td>\n",
       "      <td>756.3500</td>\n",
       "      <td>748.5500</td>\n",
       "      <td>753.8000</td>\n",
       "      <td>6299</td>\n",
       "    </tr>\n",
       "    <tr>\n",
       "      <th>2025-05-28</th>\n",
       "      <td>757.0000</td>\n",
       "      <td>760.0000</td>\n",
       "      <td>742.5000</td>\n",
       "      <td>746.9500</td>\n",
       "      <td>7118</td>\n",
       "    </tr>\n",
       "  </tbody>\n",
       "</table>\n",
       "<p>100 rows × 5 columns</p>\n",
       "</div>"
      ],
      "text/plain": [
       "             1. open   2. high    3. low  4. close 5. volume\n",
       "2025-10-15  662.8000  662.8000  648.5000  653.0500     12323\n",
       "2025-10-14  679.2000  679.2000  653.9500  656.6000     16723\n",
       "2025-10-13  662.0500  676.3000  650.2000  669.3500     19717\n",
       "2025-10-10  671.1000  671.1000  658.4000  661.6000     17823\n",
       "2025-10-09  688.9500  688.9500  665.0500  667.3000      6140\n",
       "...              ...       ...       ...       ...       ...\n",
       "2025-06-03  768.9500  794.0000  768.2500  791.2500     56785\n",
       "2025-06-02  764.0000  766.0000  749.4000  763.2500      5716\n",
       "2025-05-30  759.8000  774.0500  750.5500  761.2500     11426\n",
       "2025-05-29  748.8000  756.3500  748.5500  753.8000      6299\n",
       "2025-05-28  757.0000  760.0000  742.5000  746.9500      7118\n",
       "\n",
       "[100 rows x 5 columns]"
      ]
     },
     "execution_count": 33,
     "metadata": {},
     "output_type": "execute_result"
    }
   ],
   "source": [
    "df"
   ]
  },
  {
   "cell_type": "code",
   "execution_count": null,
   "id": "7df38a18",
   "metadata": {},
   "outputs": [
    {
     "data": {
      "text/plain": [
       "1. open      object\n",
       "2. high      object\n",
       "3. low       object\n",
       "4. close     object\n",
       "5. volume    object\n",
       "dtype: object"
      ]
     },
     "execution_count": 34,
     "metadata": {},
     "output_type": "execute_result"
    }
   ],
   "source": [
    "# check datatype\n",
    "df.dtypes"
   ]
  },
  {
   "cell_type": "code",
   "execution_count": null,
   "id": "0307a832",
   "metadata": {},
   "outputs": [],
   "source": [
    "# change  datatype\n",
    "df  =  df.astype('float')"
   ]
  },
  {
   "cell_type": "code",
   "execution_count": 36,
   "id": "ff235789",
   "metadata": {},
   "outputs": [
    {
     "data": {
      "text/plain": [
       "1. open      float64\n",
       "2. high      float64\n",
       "3. low       float64\n",
       "4. close     float64\n",
       "5. volume    float64\n",
       "dtype: object"
      ]
     },
     "execution_count": 36,
     "metadata": {},
     "output_type": "execute_result"
    }
   ],
   "source": [
    "df.dtypes"
   ]
  },
  {
   "cell_type": "code",
   "execution_count": null,
   "id": "09c6997f",
   "metadata": {},
   "outputs": [
    {
     "data": {
      "text/plain": [
       "Index(['2025-10-15', '2025-10-14', '2025-10-13', '2025-10-10', '2025-10-09',\n",
       "       '2025-10-08', '2025-10-07', '2025-10-06', '2025-10-03', '2025-10-02',\n",
       "       '2025-10-01', '2025-09-30', '2025-09-29', '2025-09-26', '2025-09-25',\n",
       "       '2025-09-24', '2025-09-23', '2025-09-22', '2025-09-19', '2025-09-18',\n",
       "       '2025-09-17', '2025-09-16', '2025-09-15', '2025-09-12', '2025-09-11',\n",
       "       '2025-09-10', '2025-09-09', '2025-09-08', '2025-09-05', '2025-09-04',\n",
       "       '2025-09-03', '2025-09-02', '2025-09-01', '2025-08-29', '2025-08-28',\n",
       "       '2025-08-27', '2025-08-26', '2025-08-25', '2025-08-22', '2025-08-21',\n",
       "       '2025-08-20', '2025-08-19', '2025-08-18', '2025-08-14', '2025-08-13',\n",
       "       '2025-08-12', '2025-08-11', '2025-08-08', '2025-08-07', '2025-08-06',\n",
       "       '2025-08-05', '2025-08-04', '2025-08-01', '2025-07-31', '2025-07-30',\n",
       "       '2025-07-29', '2025-07-28', '2025-07-25', '2025-07-24', '2025-07-23',\n",
       "       '2025-07-22', '2025-07-21', '2025-07-18', '2025-07-17', '2025-07-16',\n",
       "       '2025-07-15', '2025-07-14', '2025-07-11', '2025-07-10', '2025-07-09',\n",
       "       '2025-07-08', '2025-07-07', '2025-07-04', '2025-07-03', '2025-07-02',\n",
       "       '2025-07-01', '2025-06-30', '2025-06-27', '2025-06-26', '2025-06-25',\n",
       "       '2025-06-24', '2025-06-23', '2025-06-20', '2025-06-19', '2025-06-18',\n",
       "       '2025-06-17', '2025-06-16', '2025-06-13', '2025-06-12', '2025-06-11',\n",
       "       '2025-06-10', '2025-06-09', '2025-06-06', '2025-06-05', '2025-06-04',\n",
       "       '2025-06-03', '2025-06-02', '2025-05-30', '2025-05-29', '2025-05-28'],\n",
       "      dtype='object')"
      ]
     },
     "execution_count": 37,
     "metadata": {},
     "output_type": "execute_result"
    }
   ],
   "source": [
    "# check index\n",
    "df.index"
   ]
  },
  {
   "cell_type": "code",
   "execution_count": null,
   "id": "b1c0a497",
   "metadata": {},
   "outputs": [],
   "source": [
    "# chhange  index  from object to  datetime\n",
    "df.index  =   pd.to_datetime(df.index)"
   ]
  },
  {
   "cell_type": "code",
   "execution_count": 39,
   "id": "17ffabd4",
   "metadata": {},
   "outputs": [
    {
     "data": {
      "text/plain": [
       "DatetimeIndex(['2025-10-15', '2025-10-14', '2025-10-13', '2025-10-10',\n",
       "               '2025-10-09', '2025-10-08', '2025-10-07', '2025-10-06',\n",
       "               '2025-10-03', '2025-10-02', '2025-10-01', '2025-09-30',\n",
       "               '2025-09-29', '2025-09-26', '2025-09-25', '2025-09-24',\n",
       "               '2025-09-23', '2025-09-22', '2025-09-19', '2025-09-18',\n",
       "               '2025-09-17', '2025-09-16', '2025-09-15', '2025-09-12',\n",
       "               '2025-09-11', '2025-09-10', '2025-09-09', '2025-09-08',\n",
       "               '2025-09-05', '2025-09-04', '2025-09-03', '2025-09-02',\n",
       "               '2025-09-01', '2025-08-29', '2025-08-28', '2025-08-27',\n",
       "               '2025-08-26', '2025-08-25', '2025-08-22', '2025-08-21',\n",
       "               '2025-08-20', '2025-08-19', '2025-08-18', '2025-08-14',\n",
       "               '2025-08-13', '2025-08-12', '2025-08-11', '2025-08-08',\n",
       "               '2025-08-07', '2025-08-06', '2025-08-05', '2025-08-04',\n",
       "               '2025-08-01', '2025-07-31', '2025-07-30', '2025-07-29',\n",
       "               '2025-07-28', '2025-07-25', '2025-07-24', '2025-07-23',\n",
       "               '2025-07-22', '2025-07-21', '2025-07-18', '2025-07-17',\n",
       "               '2025-07-16', '2025-07-15', '2025-07-14', '2025-07-11',\n",
       "               '2025-07-10', '2025-07-09', '2025-07-08', '2025-07-07',\n",
       "               '2025-07-04', '2025-07-03', '2025-07-02', '2025-07-01',\n",
       "               '2025-06-30', '2025-06-27', '2025-06-26', '2025-06-25',\n",
       "               '2025-06-24', '2025-06-23', '2025-06-20', '2025-06-19',\n",
       "               '2025-06-18', '2025-06-17', '2025-06-16', '2025-06-13',\n",
       "               '2025-06-12', '2025-06-11', '2025-06-10', '2025-06-09',\n",
       "               '2025-06-06', '2025-06-05', '2025-06-04', '2025-06-03',\n",
       "               '2025-06-02', '2025-05-30', '2025-05-29', '2025-05-28'],\n",
       "              dtype='datetime64[ns]', freq=None)"
      ]
     },
     "execution_count": 39,
     "metadata": {},
     "output_type": "execute_result"
    }
   ],
   "source": [
    "df.index"
   ]
  },
  {
   "cell_type": "code",
   "execution_count": 40,
   "id": "0f24d07d",
   "metadata": {},
   "outputs": [],
   "source": [
    "# give  name  to index \n",
    "df.index.name  =  'Date'"
   ]
  },
  {
   "cell_type": "code",
   "execution_count": 41,
   "id": "47a5070a",
   "metadata": {},
   "outputs": [
    {
     "data": {
      "text/html": [
       "<div>\n",
       "<style scoped>\n",
       "    .dataframe tbody tr th:only-of-type {\n",
       "        vertical-align: middle;\n",
       "    }\n",
       "\n",
       "    .dataframe tbody tr th {\n",
       "        vertical-align: top;\n",
       "    }\n",
       "\n",
       "    .dataframe thead th {\n",
       "        text-align: right;\n",
       "    }\n",
       "</style>\n",
       "<table border=\"1\" class=\"dataframe\">\n",
       "  <thead>\n",
       "    <tr style=\"text-align: right;\">\n",
       "      <th></th>\n",
       "      <th>1. open</th>\n",
       "      <th>2. high</th>\n",
       "      <th>3. low</th>\n",
       "      <th>4. close</th>\n",
       "      <th>5. volume</th>\n",
       "    </tr>\n",
       "    <tr>\n",
       "      <th>Date</th>\n",
       "      <th></th>\n",
       "      <th></th>\n",
       "      <th></th>\n",
       "      <th></th>\n",
       "      <th></th>\n",
       "    </tr>\n",
       "  </thead>\n",
       "  <tbody>\n",
       "    <tr>\n",
       "      <th>2025-10-15</th>\n",
       "      <td>662.80</td>\n",
       "      <td>662.80</td>\n",
       "      <td>648.50</td>\n",
       "      <td>653.05</td>\n",
       "      <td>12323.0</td>\n",
       "    </tr>\n",
       "    <tr>\n",
       "      <th>2025-10-14</th>\n",
       "      <td>679.20</td>\n",
       "      <td>679.20</td>\n",
       "      <td>653.95</td>\n",
       "      <td>656.60</td>\n",
       "      <td>16723.0</td>\n",
       "    </tr>\n",
       "    <tr>\n",
       "      <th>2025-10-13</th>\n",
       "      <td>662.05</td>\n",
       "      <td>676.30</td>\n",
       "      <td>650.20</td>\n",
       "      <td>669.35</td>\n",
       "      <td>19717.0</td>\n",
       "    </tr>\n",
       "    <tr>\n",
       "      <th>2025-10-10</th>\n",
       "      <td>671.10</td>\n",
       "      <td>671.10</td>\n",
       "      <td>658.40</td>\n",
       "      <td>661.60</td>\n",
       "      <td>17823.0</td>\n",
       "    </tr>\n",
       "    <tr>\n",
       "      <th>2025-10-09</th>\n",
       "      <td>688.95</td>\n",
       "      <td>688.95</td>\n",
       "      <td>665.05</td>\n",
       "      <td>667.30</td>\n",
       "      <td>6140.0</td>\n",
       "    </tr>\n",
       "  </tbody>\n",
       "</table>\n",
       "</div>"
      ],
      "text/plain": [
       "            1. open  2. high  3. low  4. close  5. volume\n",
       "Date                                                     \n",
       "2025-10-15   662.80   662.80  648.50    653.05    12323.0\n",
       "2025-10-14   679.20   679.20  653.95    656.60    16723.0\n",
       "2025-10-13   662.05   676.30  650.20    669.35    19717.0\n",
       "2025-10-10   671.10   671.10  658.40    661.60    17823.0\n",
       "2025-10-09   688.95   688.95  665.05    667.30     6140.0"
      ]
     },
     "execution_count": 41,
     "metadata": {},
     "output_type": "execute_result"
    }
   ],
   "source": [
    "df.head()"
   ]
  },
  {
   "cell_type": "markdown",
   "id": "9be4454b",
   "metadata": {},
   "source": [
    "### plot  candelstick chart "
   ]
  },
  {
   "attachments": {
    "image.png": {
     "image/png": "[encoded data removed]"
    }
   },
   "cell_type": "markdown",
   "id": "8d6ae8c7",
   "metadata": {},
   "source": [
    "![image.png](attachment:image.png)"
   ]
  },
  {
   "cell_type": "code",
   "execution_count": 42,
   "id": "0fae7dd3",
   "metadata": {},
   "outputs": [],
   "source": [
    "import plotly.graph_objects   as  go"
   ]
  },
  {
   "cell_type": "code",
   "execution_count": 43,
   "id": "a3af83b6",
   "metadata": {},
   "outputs": [
    {
     "data": {
      "text/plain": [
       "Index(['1. open', '2. high', '3. low', '4. close', '5. volume'], dtype='object')"
      ]
     },
     "execution_count": 43,
     "metadata": {},
     "output_type": "execute_result"
    }
   ],
   "source": [
    "df.columns"
   ]
  },
  {
   "cell_type": "code",
   "execution_count": 49,
   "id": "5bdfc373",
   "metadata": {},
   "outputs": [
    {
     "data": {
      "application/vnd.plotly.v1+json": {
       "config": {
        "plotlyServerURL": "https://plot.ly"
       },
       "data": [
        {
         "close": {
          "bdata": "ZmZmZmZohEDNzMzMzISEQM3MzMzM6oRAzczMzMyshEBmZmZmZtqEQGZmZmZm+oRAmpmZmZkNhUDNzMzMzCCFQAAAAAAAkoVAzczMzMzChUDNzMzMzMKFQM3MzMzMloVAmpmZmZlHhkAzMzMzM2OGQM3MzMzMdIVAzczMzMxWhkBmZmZmZpCGQM3MzMzM6oZAAAAAAADKhkBmZmZmZqyGQAAAAAAA4oZAAAAAAADwhkBmZmZmZvqGQM3MzMzM+IZAAAAAAAD4hkDNzMzMzCaHQGZmZmZmCIdAmpmZmZn1hkBmZmZmZmKHQDMzMzMz14ZAZmZmZmYEh0DNzMzMzFyHQDMzMzMzK4dAAAAAAAAih0AAAAAAAASHQAAAAAAA/IZAAAAAAAD8hkAAAAAAAF6HQDMzMzMzUYdAAAAAAACSh0AAAAAAAMyHQAAAAAAAxodAZmZmZmZ4h0AzMzMzM4mHQM3MzMzMRohAmpmZmZmLiEAzMzMzM/uIQAAAAAAAfIlAMzMzMzNliUDNzMzMzP6JQGZmZmZmTIlAzczMzMxaiUAzMzMzM3OJQDMzMzMzeYpAZmZmZmYyikAzMzMzM1OKQM3MzMzMIIpAMzMzMzM1ikAAAAAAAK6KQJqZmZmZhYpAAAAAAABQiUCamZmZmTWJQJqZmZmZCYlAzczMzMyeiEAAAAAAAEqIQAAAAAAANohAzczMzMw0iECamZmZmWOIQJqZmZmZB4hAmpmZmZlLiEAzMzMzM3OIQM3MzMzMiIhAZmZmZmZuiEAzMzMzM6eIQAAAAAAADolAmpmZmZmRiEAAAAAAAHCIQGZmZmZmhohAzczMzMweiEAAAAAAAOSHQM3MzMzMeIdAMzMzMzNXh0CamZmZmdGHQJqZmZmZSYdAzczMzMzWh0AzMzMzMxmIQJqZmZmZLYhAzczMzMyYiECamZmZmR2IQAAAAAAAyIhAzczMzMw8iUAAAAAAAJaJQJqZmZmZLYlAAAAAAACQiUCamZmZmXmJQAAAAAAAuohAAAAAAADah0AAAAAAAMqHQGZmZmZmjodAmpmZmZlXh0A=",
          "dtype": "f8"
         },
         "high": {
          "bdata": "ZmZmZma2hECamZmZmTmFQGZmZmZmIoVAzczMzMz4hECamZmZmYeFQM3MzMzMboVAZmZmZmZShUAzMzMzM5uFQJqZmZmZ7YVAzczMzMzChUAAAAAAANCFQGZmZmZmzoZAAAAAAADAhkAzMzMzM6eGQM3MzMzMYIZAzczMzMyWhkCamZmZmfuGQGZmZmZmIodAMzMzMzP1hkBmZmZmZg6HQAAAAAAABodAMzMzMzM3h0DNzMzMzCKHQDMzMzMzP4dAzczMzMxSh0AAAAAAAICHQGZmZmZmGIdAmpmZmZnXh0AAAAAAAICHQAAAAAAAbodAzczMzMxSh0AzMzMzM72HQAAAAAAAXIdAmpmZmZllh0AzMzMzM42HQAAAAAAA/IZAzczMzMyah0AzMzMzM7uHQJqZmZmZu4dAAAAAAAA2iEAAAAAAAACIQDMzMzMz9YdAAAAAAADAh0CamZmZmV+IQGZmZmZmyIhAmpmZmZlTiUAzMzMzM5+JQGZmZmZmDopAAAAAAADsiUDNzMzMzIyKQGZmZmZmyIlAAAAAAAC+iUAAAAAAABiLQAAAAAAA0IpAAAAAAAC4ikBmZmZmZoCKQAAAAAAAsIpAMzMzMzM7i0BmZmZmZmKLQM3MzMzMqIpAAAAAAACGiUAzMzMzM1mJQJqZmZmZh4lAAAAAAADYiEAAAAAAAIKIQAAAAAAAkIhAAAAAAACAiEAAAAAAAH6IQGZmZmZmaIhAMzMzMzNtiECamZmZmZeIQDMzMzMz7YhAZmZmZmbQiEBmZmZmZhyJQJqZmZmZY4lAAAAAAAC4iEAAAAAAAMKIQJqZmZmZuYhAAAAAAAAwiEAAAAAAAGaIQDMzMzMzp4hAmpmZmZmniECamZmZmQWIQJqZmZmZA4hAZmZmZmZOiEDNzMzMzICIQAAAAAAAmIhAMzMzMzO3iEAAAAAAAOaIQDMzMzMzXYlAmpmZmZkXikAAAAAAAMiJQJqZmZmZn4lAAAAAAADYiUAzMzMzM9WJQAAAAAAA0IhAAAAAAADwh0BmZmZmZjCIQM3MzMzMoodAAAAAAADAh0A=",
          "dtype": "f8"
         },
         "low": {
          "bdata": "AAAAAABEhECamZmZmW+EQJqZmZmZUYRAMzMzMzOThEBmZmZmZsiEQGZmZmZm8IRAAAAAAAAAhUBmZmZmZviEQJqZmZmZdYVAzczMzMzChUAzMzMzMx2FQM3MzMzMdIVAzczMzMz+hUAAAAAAAAqFQAAAAAAAYoVAAAAAAABAhkBmZmZmZoCGQGZmZmZmrIZAZmZmZmaQhkAAAAAAAKCGQJqZmZmZ0YZAzczMzMzUhkBmZmZmZryGQM3MzMzMuoZAMzMzMzPthkAzMzMzMwmHQJqZmZmZ0YZAmpmZmZnnhkBmZmZmZp6GQAAAAAAAyIZAZmZmZmaahkBmZmZmZlKHQDMzMzMzEYdAZmZmZmb8hkBmZmZmZuaGQAAAAAAA/IZAmpmZmZnnhkAAAAAAADqHQDMzMzMzR4dAzczMzMyEh0AAAAAAAJiHQAAAAAAAfIdAMzMzMzNHh0DNzMzMzGaHQM3MzMzMOIhAmpmZmZlniEAAAAAAALSIQJqZmZmZQ4lAMzMzMzMfiUAAAAAAACaJQDMzMzMz64hAAAAAAAAeiUDNzMzMzFaJQDMzMzMzRYlAAAAAAADWiUDNzMzMzHSJQM3MzMzM5olAAAAAAAAYikAAAAAAAECKQM3MzMzMyohAZmZmZmb8iEAAAAAAANiIQJqZmZmZg4hAmpmZmZlViECamZmZmReIQM3MzMzMyIdAmpmZmZkJiEBmZmZmZnCHQDMzMzMz64dAAAAAAAAiiEBmZmZmZkCIQAAAAAAAOIhAZmZmZmYsiEAAAAAAAIqIQGZmZmZmYohAmpmZmZlLiEBmZmZmZiCIQM3MzMzM8odAAAAAAADCh0BmZmZmZlKHQM3MzMzMPIdAAAAAAABKh0CamZmZmSWHQJqZmZmZJ4dAAAAAAADIh0AAAAAAAAaIQJqZmZmZ/4dAZmZmZmbOh0DNzMzMzBCIQDMzMzMzm4hAAAAAAAAwiUAAAAAAACiJQDMzMzMzE4lAMzMzMzMtiUBmZmZmZoiIQAAAAAAAAohAMzMzMzNrh0BmZmZmZnSHQGZmZmZmZIdAAAAAAAA0h0A=",
          "dtype": "f8"
         },
         "open": {
          "bdata": "ZmZmZma2hECamZmZmTmFQGZmZmZmsIRAzczMzMz4hECamZmZmYeFQM3MzMzMFIVAMzMzMzM/hUAAAAAAAJKFQAAAAAAAzIVAzczMzMzChUCamZmZmYuFQGZmZmZmzoZAZmZmZmaohkAAAAAAAAqFQGZmZmZmXIZAZmZmZmZwhkDNzMzMzOqGQGZmZmZmIodAzczMzMzuhkAAAAAAAA6HQM3MzMzM5oZAAAAAAAD6hkBmZmZmZryGQDMzMzMzP4dAZmZmZmb4hkAzMzMzMwmHQJqZmZmZF4dAmpmZmZnXh0BmZmZmZp6GQGZmZmZmDIdAzczMzMxSh0BmZmZmZmaHQGZmZmZmRodAmpmZmZlHh0AzMzMzM42HQAAAAAAA/IZAzczMzMyah0AAAAAAADqHQDMzMzMznYdAAAAAAAA2iEAAAAAAAOiHQGZmZmZmlodAzczMzMyMh0BmZmZmZkiIQGZmZmZmyIhAZmZmZmbwiEDNzMzMzJqJQAAAAAAAsIlAmpmZmZnfiUDNzMzMzFSJQAAAAAAAYIlAAAAAAABoiUDNzMzMzGCKQAAAAAAAzolAmpmZmZmLikCamZmZmf2JQGZmZmZmVopAMzMzMzOZikCamZmZmZGKQM3MzMzMyohAZmZmZmYYiUCamZmZmU+JQM3MzMzMtIhAAAAAAABWiECamZmZmReIQM3MzMzMyIdAmpmZmZkJiEBmZmZmZnCHQJqZmZmZX4hAAAAAAABoiEBmZmZmZmiIQGZmZmZmjIhAMzMzMzOniEBmZmZmZhyJQGZmZmZmYohAAAAAAABwiEBmZmZmZiCIQGZmZmZmGohAZmZmZmYOiEAAAAAAAGaIQGZmZmZmpohAmpmZmZmniEDNzMzMzIaHQJqZmZmZz4dAmpmZmZkZiEDNzMzMzDyIQDMzMzMzS4hAmpmZmZkPiEAAAAAAANSIQM3MzMzMPolAmpmZmZkXikAAAAAAAHCJQAAAAAAAkIlAMzMzMzOJiUBmZmZmZoiIQJqZmZmZB4hAAAAAAADgh0BmZmZmZr6HQGZmZmZmZodAAAAAAACoh0A=",
          "dtype": "f8"
         },
         "type": "candlestick",
         "x": [
          "2025-10-15T00:00:00.000000000",
          "2025-10-14T00:00:00.000000000",
          "2025-10-13T00:00:00.000000000",
          "2025-10-10T00:00:00.000000000",
          "2025-10-09T00:00:00.000000000",
          "2025-10-08T00:00:00.000000000",
          "2025-10-07T00:00:00.000000000",
          "2025-10-06T00:00:00.000000000",
          "2025-10-03T00:00:00.000000000",
          "2025-10-02T00:00:00.000000000",
          "2025-10-01T00:00:00.000000000",
          "2025-09-30T00:00:00.000000000",
          "2025-09-29T00:00:00.000000000",
          "2025-09-26T00:00:00.000000000",
          "2025-09-25T00:00:00.000000000",
          "2025-09-24T00:00:00.000000000",
          "2025-09-23T00:00:00.000000000",
          "2025-09-22T00:00:00.000000000",
          "2025-09-19T00:00:00.000000000",
          "2025-09-18T00:00:00.000000000",
          "2025-09-17T00:00:00.000000000",
          "2025-09-16T00:00:00.000000000",
          "2025-09-15T00:00:00.000000000",
          "2025-09-12T00:00:00.000000000",
          "2025-09-11T00:00:00.000000000",
          "2025-09-10T00:00:00.000000000",
          "2025-09-09T00:00:00.000000000",
          "2025-09-08T00:00:00.000000000",
          "2025-09-05T00:00:00.000000000",
          "2025-09-04T00:00:00.000000000",
          "2025-09-03T00:00:00.000000000",
          "2025-09-02T00:00:00.000000000",
          "2025-09-01T00:00:00.000000000",
          "2025-08-29T00:00:00.000000000",
          "2025-08-28T00:00:00.000000000",
          "2025-08-27T00:00:00.000000000",
          "2025-08-26T00:00:00.000000000",
          "2025-08-25T00:00:00.000000000",
          "2025-08-22T00:00:00.000000000",
          "2025-08-21T00:00:00.000000000",
          "2025-08-20T00:00:00.000000000",
          "2025-08-19T00:00:00.000000000",
          "2025-08-18T00:00:00.000000000",
          "2025-08-14T00:00:00.000000000",
          "2025-08-13T00:00:00.000000000",
          "2025-08-12T00:00:00.000000000",
          "2025-08-11T00:00:00.000000000",
          "2025-08-08T00:00:00.000000000",
          "2025-08-07T00:00:00.000000000",
          "2025-08-06T00:00:00.000000000",
          "2025-08-05T00:00:00.000000000",
          "2025-08-04T00:00:00.000000000",
          "2025-08-01T00:00:00.000000000",
          "2025-07-31T00:00:00.000000000",
          "2025-07-30T00:00:00.000000000",
          "2025-07-29T00:00:00.000000000",
          "2025-07-28T00:00:00.000000000",
          "2025-07-25T00:00:00.000000000",
          "2025-07-24T00:00:00.000000000",
          "2025-07-23T00:00:00.000000000",
          "2025-07-22T00:00:00.000000000",
          "2025-07-21T00:00:00.000000000",
          "2025-07-18T00:00:00.000000000",
          "2025-07-17T00:00:00.000000000",
          "2025-07-16T00:00:00.000000000",
          "2025-07-15T00:00:00.000000000",
          "2025-07-14T00:00:00.000000000",
          "2025-07-11T00:00:00.000000000",
          "2025-07-10T00:00:00.000000000",
          "2025-07-09T00:00:00.000000000",
          "2025-07-08T00:00:00.000000000",
          "2025-07-07T00:00:00.000000000",
          "2025-07-04T00:00:00.000000000",
          "2025-07-03T00:00:00.000000000",
          "2025-07-02T00:00:00.000000000",
          "2025-07-01T00:00:00.000000000",
          "2025-06-30T00:00:00.000000000",
          "2025-06-27T00:00:00.000000000",
          "2025-06-26T00:00:00.000000000",
          "2025-06-25T00:00:00.000000000",
          "2025-06-24T00:00:00.000000000",
          "2025-06-23T00:00:00.000000000",
          "2025-06-20T00:00:00.000000000",
          "2025-06-19T00:00:00.000000000",
          "2025-06-18T00:00:00.000000000",
          "2025-06-17T00:00:00.000000000",
          "2025-06-16T00:00:00.000000000",
          "2025-06-13T00:00:00.000000000",
          "2025-06-12T00:00:00.000000000",
          "2025-06-11T00:00:00.000000000",
          "2025-06-10T00:00:00.000000000",
          "2025-06-09T00:00:00.000000000",
          "2025-06-06T00:00:00.000000000",
          "2025-06-05T00:00:00.000000000",
          "2025-06-04T00:00:00.000000000",
          "2025-06-03T00:00:00.000000000",
          "2025-06-02T00:00:00.000000000",
          "2025-05-30T00:00:00.000000000",
          "2025-05-29T00:00:00.000000000",
          "2025-05-28T00:00:00.000000000"
         ]
        }
       ],
       "layout": {
        "template": {
         "data": {
          "bar": [
           {
            "error_x": {
             "color": "#2a3f5f"
            },
            "error_y": {
             "color": "#2a3f5f"
            },
            "marker": {
             "line": {
              "color": "#E5ECF6",
              "width": 0.5
             },
             "pattern": {
              "fillmode": "overlay",
              "size": 10,
              "solidity": 0.2
             }
            },
            "type": "bar"
           }
          ],
          "barpolar": [
           {
            "marker": {
             "line": {
              "color": "#E5ECF6",
              "width": 0.5
             },
             "pattern": {
              "fillmode": "overlay",
              "size": 10,
              "solidity": 0.2
             }
            },
            "type": "barpolar"
           }
          ],
          "carpet": [
           {
            "aaxis": {
             "endlinecolor": "#2a3f5f",
             "gridcolor": "white",
             "linecolor": "white",
             "minorgridcolor": "white",
             "startlinecolor": "#2a3f5f"
            },
            "baxis": {
             "endlinecolor": "#2a3f5f",
             "gridcolor": "white",
             "linecolor": "white",
             "minorgridcolor": "white",
             "startlinecolor": "#2a3f5f"
            },
            "type": "carpet"
           }
          ],
          "choropleth": [
           {
            "colorbar": {
             "outlinewidth": 0,
             "ticks": ""
            },
            "type": "choropleth"
           }
          ],
          "contour": [
           {
            "colorbar": {
             "outlinewidth": 0,
             "ticks": ""
            },
            "colorscale": [
             [
              0,
              "#0d0887"
             ],
             [
              0.1111111111111111,
              "#46039f"
             ],
             [
              0.2222222222222222,
              "#7201a8"
             ],
             [
              0.3333333333333333,
              "#9c179e"
             ],
             [
              0.4444444444444444,
              "#bd3786"
             ],
             [
              0.5555555555555556,
              "#d8576b"
             ],
             [
              0.6666666666666666,
              "#ed7953"
             ],
             [
              0.7777777777777778,
              "#fb9f3a"
             ],
             [
              0.8888888888888888,
              "#fdca26"
             ],
             [
              1,
              "#f0f921"
             ]
            ],
            "type": "contour"
           }
          ],
          "contourcarpet": [
           {
            "colorbar": {
             "outlinewidth": 0,
             "ticks": ""
            },
            "type": "contourcarpet"
           }
          ],
          "heatmap": [
           {
            "colorbar": {
             "outlinewidth": 0,
             "ticks": ""
            },
            "colorscale": [
             [
              0,
              "#0d0887"
             ],
             [
              0.1111111111111111,
              "#46039f"
             ],
             [
              0.2222222222222222,
              "#7201a8"
             ],
             [
              0.3333333333333333,
              "#9c179e"
             ],
             [
              0.4444444444444444,
              "#bd3786"
             ],
             [
              0.5555555555555556,
              "#d8576b"
             ],
             [
              0.6666666666666666,
              "#ed7953"
             ],
             [
              0.7777777777777778,
              "#fb9f3a"
             ],
             [
              0.8888888888888888,
              "#fdca26"
             ],
             [
              1,
              "#f0f921"
             ]
            ],
            "type": "heatmap"
           }
          ],
          "histogram": [
           {
            "marker": {
             "pattern": {
              "fillmode": "overlay",
              "size": 10,
              "solidity": 0.2
             }
            },
            "type": "histogram"
           }
          ],
          "histogram2d": [
           {
            "colorbar": {
             "outlinewidth": 0,
             "ticks": ""
            },
            "colorscale": [
             [
              0,
              "#0d0887"
             ],
             [
              0.1111111111111111,
              "#46039f"
             ],
             [
              0.2222222222222222,
              "#7201a8"
             ],
             [
              0.3333333333333333,
              "#9c179e"
             ],
             [
              0.4444444444444444,
              "#bd3786"
             ],
             [
              0.5555555555555556,
              "#d8576b"
             ],
             [
              0.6666666666666666,
              "#ed7953"
             ],
             [
              0.7777777777777778,
              "#fb9f3a"
             ],
             [
              0.8888888888888888,
              "#fdca26"
             ],
             [
              1,
              "#f0f921"
             ]
            ],
            "type": "histogram2d"
           }
          ],
          "histogram2dcontour": [
           {
            "colorbar": {
             "outlinewidth": 0,
             "ticks": ""
            },
            "colorscale": [
             [
              0,
              "#0d0887"
             ],
             [
              0.1111111111111111,
              "#46039f"
             ],
             [
              0.2222222222222222,
              "#7201a8"
             ],
             [
              0.3333333333333333,
              "#9c179e"
             ],
             [
              0.4444444444444444,
              "#bd3786"
             ],
             [
              0.5555555555555556,
              "#d8576b"
             ],
             [
              0.6666666666666666,
              "#ed7953"
             ],
             [
              0.7777777777777778,
              "#fb9f3a"
             ],
             [
              0.8888888888888888,
              "#fdca26"
             ],
             [
              1,
              "#f0f921"
             ]
            ],
            "type": "histogram2dcontour"
           }
          ],
          "mesh3d": [
           {
            "colorbar": {
             "outlinewidth": 0,
             "ticks": ""
            },
            "type": "mesh3d"
           }
          ],
          "parcoords": [
           {
            "line": {
             "colorbar": {
              "outlinewidth": 0,
              "ticks": ""
             }
            },
            "type": "parcoords"
           }
          ],
          "pie": [
           {
            "automargin": true,
            "type": "pie"
           }
          ],
          "scatter": [
           {
            "fillpattern": {
             "fillmode": "overlay",
             "size": 10,
             "solidity": 0.2
            },
            "type": "scatter"
           }
          ],
          "scatter3d": [
           {
            "line": {
             "colorbar": {
              "outlinewidth": 0,
              "ticks": ""
             }
            },
            "marker": {
             "colorbar": {
              "outlinewidth": 0,
              "ticks": ""
             }
            },
            "type": "scatter3d"
           }
          ],
          "scattercarpet": [
           {
            "marker": {
             "colorbar": {
              "outlinewidth": 0,
              "ticks": ""
             }
            },
            "type": "scattercarpet"
           }
          ],
          "scattergeo": [
           {
            "marker": {
             "colorbar": {
              "outlinewidth": 0,
              "ticks": ""
             }
            },
            "type": "scattergeo"
           }
          ],
          "scattergl": [
           {
            "marker": {
             "colorbar": {
              "outlinewidth": 0,
              "ticks": ""
             }
            },
            "type": "scattergl"
           }
          ],
          "scattermap": [
           {
            "marker": {
             "colorbar": {
              "outlinewidth": 0,
              "ticks": ""
             }
            },
            "type": "scattermap"
           }
          ],
          "scattermapbox": [
           {
            "marker": {
             "colorbar": {
              "outlinewidth": 0,
              "ticks": ""
             }
            },
            "type": "scattermapbox"
           }
          ],
          "scatterpolar": [
           {
            "marker": {
             "colorbar": {
              "outlinewidth": 0,
              "ticks": ""
             }
            },
            "type": "scatterpolar"
           }
          ],
          "scatterpolargl": [
           {
            "marker": {
             "colorbar": {
              "outlinewidth": 0,
              "ticks": ""
             }
            },
            "type": "scatterpolargl"
           }
          ],
          "scatterternary": [
           {
            "marker": {
             "colorbar": {
              "outlinewidth": 0,
              "ticks": ""
             }
            },
            "type": "scatterternary"
           }
          ],
          "surface": [
           {
            "colorbar": {
             "outlinewidth": 0,
             "ticks": ""
            },
            "colorscale": [
             [
              0,
              "#0d0887"
             ],
             [
              0.1111111111111111,
              "#46039f"
             ],
             [
              0.2222222222222222,
              "#7201a8"
             ],
             [
              0.3333333333333333,
              "#9c179e"
             ],
             [
              0.4444444444444444,
              "#bd3786"
             ],
             [
              0.5555555555555556,
              "#d8576b"
             ],
             [
              0.6666666666666666,
              "#ed7953"
             ],
             [
              0.7777777777777778,
              "#fb9f3a"
             ],
             [
              0.8888888888888888,
              "#fdca26"
             ],
             [
              1,
              "#f0f921"
             ]
            ],
            "type": "surface"
           }
          ],
          "table": [
           {
            "cells": {
             "fill": {
              "color": "#EBF0F8"
             },
             "line": {
              "color": "white"
             }
            },
            "header": {
             "fill": {
              "color": "#C8D4E3"
             },
             "line": {
              "color": "white"
             }
            },
            "type": "table"
           }
          ]
         },
         "layout": {
          "annotationdefaults": {
           "arrowcolor": "#2a3f5f",
           "arrowhead": 0,
           "arrowwidth": 1
          },
          "autotypenumbers": "strict",
          "coloraxis": {
           "colorbar": {
            "outlinewidth": 0,
            "ticks": ""
           }
          },
          "colorscale": {
           "diverging": [
            [
             0,
             "#8e0152"
            ],
            [
             0.1,
             "#c51b7d"
            ],
            [
             0.2,
             "#de77ae"
            ],
            [
             0.3,
             "#f1b6da"
            ],
            [
             0.4,
             "#fde0ef"
            ],
            [
             0.5,
             "#f7f7f7"
            ],
            [
             0.6,
             "#e6f5d0"
            ],
            [
             0.7,
             "#b8e186"
            ],
            [
             0.8,
             "#7fbc41"
            ],
            [
             0.9,
             "#4d9221"
            ],
            [
             1,
             "#276419"
            ]
           ],
           "sequential": [
            [
             0,
             "#0d0887"
            ],
            [
             0.1111111111111111,
             "#46039f"
            ],
            [
             0.2222222222222222,
             "#7201a8"
            ],
            [
             0.3333333333333333,
             "#9c179e"
            ],
            [
             0.4444444444444444,
             "#bd3786"
            ],
            [
             0.5555555555555556,
             "#d8576b"
            ],
            [
             0.6666666666666666,
             "#ed7953"
            ],
            [
             0.7777777777777778,
             "#fb9f3a"
            ],
            [
             0.8888888888888888,
             "#fdca26"
            ],
            [
             1,
             "#f0f921"
            ]
           ],
           "sequentialminus": [
            [
             0,
             "#0d0887"
            ],
            [
             0.1111111111111111,
             "#46039f"
            ],
            [
             0.2222222222222222,
             "#7201a8"
            ],
            [
             0.3333333333333333,
             "#9c179e"
            ],
            [
             0.4444444444444444,
             "#bd3786"
            ],
            [
             0.5555555555555556,
             "#d8576b"
            ],
            [
             0.6666666666666666,
             "#ed7953"
            ],
            [
             0.7777777777777778,
             "#fb9f3a"
            ],
            [
             0.8888888888888888,
             "#fdca26"
            ],
            [
             1,
             "#f0f921"
            ]
           ]
          },
          "colorway": [
           "#636efa",
           "#EF553B",
           "#00cc96",
           "#ab63fa",
           "#FFA15A",
           "#19d3f3",
           "#FF6692",
           "#B6E880",
           "#FF97FF",
           "#FECB52"
          ],
          "font": {
           "color": "#2a3f5f"
          },
          "geo": {
           "bgcolor": "white",
           "lakecolor": "white",
           "landcolor": "#E5ECF6",
           "showlakes": true,
           "showland": true,
           "subunitcolor": "white"
          },
          "hoverlabel": {
           "align": "left"
          },
          "hovermode": "closest",
          "mapbox": {
           "style": "light"
          },
          "paper_bgcolor": "white",
          "plot_bgcolor": "#E5ECF6",
          "polar": {
           "angularaxis": {
            "gridcolor": "white",
            "linecolor": "white",
            "ticks": ""
           },
           "bgcolor": "#E5ECF6",
           "radialaxis": {
            "gridcolor": "white",
            "linecolor": "white",
            "ticks": ""
           }
          },
          "scene": {
           "xaxis": {
            "backgroundcolor": "#E5ECF6",
            "gridcolor": "white",
            "gridwidth": 2,
            "linecolor": "white",
            "showbackground": true,
            "ticks": "",
            "zerolinecolor": "white"
           },
           "yaxis": {
            "backgroundcolor": "#E5ECF6",
            "gridcolor": "white",
            "gridwidth": 2,
            "linecolor": "white",
            "showbackground": true,
            "ticks": "",
            "zerolinecolor": "white"
           },
           "zaxis": {
            "backgroundcolor": "#E5ECF6",
            "gridcolor": "white",
            "gridwidth": 2,
            "linecolor": "white",
            "showbackground": true,
            "ticks": "",
            "zerolinecolor": "white"
           }
          },
          "shapedefaults": {
           "line": {
            "color": "#2a3f5f"
           }
          },
          "ternary": {
           "aaxis": {
            "gridcolor": "white",
            "linecolor": "white",
            "ticks": ""
           },
           "baxis": {
            "gridcolor": "white",
            "linecolor": "white",
            "ticks": ""
           },
           "bgcolor": "#E5ECF6",
           "caxis": {
            "gridcolor": "white",
            "linecolor": "white",
            "ticks": ""
           }
          },
          "title": {
           "x": 0.05
          },
          "xaxis": {
           "automargin": true,
           "gridcolor": "white",
           "linecolor": "white",
           "ticks": "",
           "title": {
            "standoff": 15
           },
           "zerolinecolor": "white",
           "zerolinewidth": 2
          },
          "yaxis": {
           "automargin": true,
           "gridcolor": "white",
           "linecolor": "white",
           "ticks": "",
           "title": {
            "standoff": 15
           },
           "zerolinecolor": "white",
           "zerolinewidth": 2
          }
         }
        },
        "title": {
         "text": "cadelstick chart"
        },
        "xaxis": {
         "title": {
          "text": "Date"
         }
        },
        "yaxis": {
         "title": {
          "text": "Price"
         }
        }
       }
      }
     },
     "metadata": {},
     "output_type": "display_data"
    }
   ],
   "source": [
    "fig = go.Figure(data=[go.Candlestick(x=df.index,\n",
    "                open=df['1. open'],\n",
    "                high=df['2. high'],\n",
    "                low=df['3. low'],\n",
    "                close=df['4. close'])])\n",
    "\n",
    "fig.update_layout(title =  'cadelstick chart' , \n",
    " xaxis_title  =  'Date' ,\n",
    " yaxis_title  =  'Price' )\n"
   ]
  },
  {
   "cell_type": "markdown",
   "id": "ccad3709",
   "metadata": {},
   "source": [
    "### create class"
   ]
  },
  {
   "cell_type": "code",
   "execution_count": null,
   "id": "12c5b1f1",
   "metadata": {},
   "outputs": [],
   "source": [
    "import  requests\n",
    "import os\n",
    "import pandas as pd\n",
    "class  STOCK_API:\n",
    "    def __init__(self , api_key ):\n",
    "        self.api_key  =  api_key\n",
    "        self.url  = \"https://alpha-vantage.p.rapidapi.com/query\"\n",
    "        self.headers = {\n",
    "\t                \"x-rapidapi-key\": self.api_key,\n",
    "\t              \"x-rapidapi-host\": \"alpha-vantage.p.rapidapi.com\"\n",
    "        }  \n",
    "\n",
    "\n",
    "\n",
    "#  create method to fetcj company symbol\n",
    "    def  search_symbol(self, keyword):\n",
    "        querystring = {\"datatype\":\"json\",\n",
    "        \"keywords\":keyword,\n",
    "        \"function\":\"SYMBOL_SEARCH\"}\n",
    "         response = requests.get(self.url,\n",
    "          headers=self.headers, \n",
    "          params=querystring)\n",
    "        data  = response.json()\n",
    "        company_info  =  {}\n",
    "        for  i  in data['bestMatches']:\n",
    "            symbol =  i['1. symbol'] \n",
    "            company_info[symbol] =  [i['2. name'] ,  i['4. region'] , i['8. currency']]\n",
    "        return company_info\n",
    "\n",
    "\n",
    "\n",
    "    #  fetch time  series daily data\n",
    "    def  time_series_daily(self , symbol):\n",
    "        querystring = {\"function\":\"TIME_SERIES_DAILY\",\n",
    "        \"symbol\":symbol,\n",
    "        \"outputsize\":\"compact\",\n",
    "        \"datatype\":\"json\"}\n",
    "\n",
    "        response = requests.get(self.url, \n",
    "        headers=self.headers, params=querystring)\n",
    "        data2  = response.json()\n",
    "\n",
    "        df  =  pd.DataFrame(data2['Time Series (Daily)'])\n",
    "        df =  df.T\n",
    "\n",
    "        #  change data type\n",
    "        df =  df.astype('float')\n",
    "\n",
    "        # change data type  of index\n",
    "\n",
    "        df.index =  pd.to_datetime(df.index)\n",
    "\n",
    "        # add name  to  index\n",
    "\n",
    "        df.index.name= 'date'\n",
    "        return  df\n",
    "\n",
    "    #  plot candelstick chart\n",
    "    def  plot(self )\n",
    "\n",
    "\n"
   ]
  }
 ],
 "metadata": {
  "kernelspec": {
   "display_name": "venv",
   "language": "python",
   "name": "python3"
  },
  "language_info": {
   "codemirror_mode": {
    "name": "ipython",
    "version": 3
   },
   "file_extension": ".py",
   "mimetype": "text/x-python",
   "name": "python",
   "nbconvert_exporter": "python",
   "pygments_lexer": "ipython3",
   "version": "3.13.8"
  }
 },
 "nbformat": 4,
 "nbformat_minor": 5
}
