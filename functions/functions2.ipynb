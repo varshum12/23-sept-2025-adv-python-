{
 "cells": [
  {
   "cell_type": "code",
   "execution_count": 1,
   "id": "92ff5ca9",
   "metadata": {},
   "outputs": [],
   "source": [
    "### key word variable  length  arguments"
   ]
  },
  {
   "cell_type": "code",
   "execution_count": 4,
   "id": "78b0c083",
   "metadata": {},
   "outputs": [],
   "source": [
    "def  key_args_len(**kwargs):\n",
    "    print(kwargs)\n",
    "    print(type(kwargs))"
   ]
  },
  {
   "cell_type": "code",
   "execution_count": 6,
   "id": "a1fc6bb5",
   "metadata": {},
   "outputs": [
    {
     "name": "stdout",
     "output_type": "stream",
     "text": [
      "{'name': 'Prajkta', 'age': 24, 'education': 'ME'}\n",
      "<class 'dict'>\n"
     ]
    }
   ],
   "source": [
    "key_args_len(name  =  'Prajkta' , age =  24 ,  education  = 'ME')"
   ]
  },
  {
   "cell_type": "code",
   "execution_count": 7,
   "id": "a56790f3",
   "metadata": {},
   "outputs": [
    {
     "data": {
      "text/plain": [
       "dict_items([('name', 'Prajkta'), ('age', 24), ('education', 'ME')])"
      ]
     },
     "execution_count": 7,
     "metadata": {},
     "output_type": "execute_result"
    }
   ],
   "source": [
    "d = {'name': 'Prajkta', 'age': 24, 'education': 'ME'}\n",
    "d.items()"
   ]
  },
  {
   "cell_type": "code",
   "execution_count": 9,
   "id": "0a817b40",
   "metadata": {},
   "outputs": [],
   "source": [
    "def  info(**kwargs):\n",
    "    for  key , value in kwargs.items():\n",
    "        print(f'{key}:{value}')"
   ]
  },
  {
   "cell_type": "code",
   "execution_count": 10,
   "id": "7f55928e",
   "metadata": {},
   "outputs": [
    {
     "name": "stdout",
     "output_type": "stream",
     "text": [
      "name:sunita\n",
      "address:solapur\n"
     ]
    }
   ],
   "source": [
    "info(name =  'sunita' ,  address  =  'solapur')"
   ]
  },
  {
   "cell_type": "code",
   "execution_count": 11,
   "id": "792b7653",
   "metadata": {},
   "outputs": [
    {
     "name": "stdout",
     "output_type": "stream",
     "text": [
      "course:DA\n",
      "course_id:1\n",
      "name:suresh\n"
     ]
    }
   ],
   "source": [
    "info(course  =  'DA' , course_id  =  1  ,  name  = 'suresh')"
   ]
  },
  {
   "cell_type": "code",
   "execution_count": 12,
   "id": "c472570a",
   "metadata": {},
   "outputs": [],
   "source": [
    "def  info(**kwargs):\n",
    "    user  =  {\"Name\"  :  None  , \n",
    "                \"Age\" :  None , \n",
    "                'email' : None, \n",
    "                'Gender' :  None}\n",
    "    user.update(kwargs)\n",
    "    return  user"
   ]
  },
  {
   "cell_type": "code",
   "execution_count": 13,
   "id": "753e94c8",
   "metadata": {},
   "outputs": [
    {
     "data": {
      "text/plain": [
       "{'Name': 'Sunita', 'Age': 23, 'email': 'sunita@gmail.com', 'Gender': 'Female'}"
      ]
     },
     "execution_count": 13,
     "metadata": {},
     "output_type": "execute_result"
    }
   ],
   "source": [
    "info(Name  =  'Sunita' , Age  =  23  ,email  =  'sunita@gmail.com' ,  Gender  =  'Female')"
   ]
  },
  {
   "cell_type": "code",
   "execution_count": 14,
   "id": "1d341255",
   "metadata": {},
   "outputs": [
    {
     "data": {
      "text/plain": [
       "{'Name': 'Umesh', 'Age': 28, 'email': 'umesh@gmail.com', 'Gender': 'male'}"
      ]
     },
     "execution_count": 14,
     "metadata": {},
     "output_type": "execute_result"
    }
   ],
   "source": [
    "info(Name  =  'Umesh' , Age  =  28  ,email  =  'umesh@gmail.com' ,  Gender  =  'male')"
   ]
  },
  {
   "cell_type": "code",
   "execution_count": 15,
   "id": "a9aeb689",
   "metadata": {},
   "outputs": [
    {
     "data": {
      "text/plain": [
       "{'Name': None,\n",
       " 'Age': 28,\n",
       " 'email': 'umesh@gmail.com',\n",
       " 'Gender': 'male',\n",
       " 'name': 'Umesh'}"
      ]
     },
     "execution_count": 15,
     "metadata": {},
     "output_type": "execute_result"
    }
   ],
   "source": [
    "info(name  =  'Umesh' , Age  =  28  ,email  =  'umesh@gmail.com' ,  Gender  =  'male')"
   ]
  },
  {
   "cell_type": "code",
   "execution_count": 16,
   "id": "c987b712",
   "metadata": {},
   "outputs": [
    {
     "data": {
      "text/plain": [
       "{'Name': 'Umesh',\n",
       " 'Age': 28,\n",
       " 'email': 'umesh@gmail.com',\n",
       " 'Gender': 'male',\n",
       " 'Adress': 'Pune'}"
      ]
     },
     "execution_count": 16,
     "metadata": {},
     "output_type": "execute_result"
    }
   ],
   "source": [
    "info(Name  =  'Umesh' , Age  =  28  ,email  =  'umesh@gmail.com' ,  Gender  =  'male' ,  Adress = 'Pune')"
   ]
  },
  {
   "cell_type": "code",
   "execution_count": 17,
   "id": "0c8ab5b0",
   "metadata": {},
   "outputs": [
    {
     "data": {
      "text/plain": [
       "{'Name': None,\n",
       " 'Age': 28,\n",
       " 'email': 'umesh@gmail.com',\n",
       " 'Gender': 'male',\n",
       " 'name': 'Umesh',\n",
       " 'Adress': 'Pune'}"
      ]
     },
     "execution_count": 17,
     "metadata": {},
     "output_type": "execute_result"
    }
   ],
   "source": [
    "info(name  =  'Umesh' , Age  =  28  ,email  =  'umesh@gmail.com' ,  Gender  =  'male' ,  Adress = 'Pune')"
   ]
  },
  {
   "cell_type": "code",
   "execution_count": 23,
   "id": "7e8093cc",
   "metadata": {},
   "outputs": [
    {
     "data": {
      "text/plain": [
       "'swara'"
      ]
     },
     "execution_count": 23,
     "metadata": {},
     "output_type": "execute_result"
    }
   ],
   "source": [
    "d =  {'Name': None,\n",
    " 'Age': 28,\n",
    " 'email': 'umesh@gmail.com',\n",
    " 'Gender': 'male',\n",
    " 'name': 'Umesh',\n",
    " 'Adress': 'Pune'}\n",
    "d['name'] =  'swara'\n",
    "d['name']"
   ]
  },
  {
   "cell_type": "code",
   "execution_count": 24,
   "id": "724fb472",
   "metadata": {},
   "outputs": [],
   "source": [
    "def  info(**kwargs):\n",
    "    user  =  {\"Name\"  :  None  , \n",
    "                \"Age\" :  None , \n",
    "                'email' : None, \n",
    "                'Gender' :  None}\n",
    "    for  key in  kwargs.keys():\n",
    "        if key  in  user.keys():\n",
    "            user[key] =  kwargs[key]\n",
    "    return user\n",
    "    \n",
    "  "
   ]
  },
  {
   "cell_type": "code",
   "execution_count": 27,
   "id": "69c2e453",
   "metadata": {},
   "outputs": [
    {
     "data": {
      "text/plain": [
       "{'Name': None, 'Age': 23, 'email': 'example@gmail.com', 'Gender': None}"
      ]
     },
     "execution_count": 27,
     "metadata": {},
     "output_type": "execute_result"
    }
   ],
   "source": [
    "info(name='Swara' ,  Age =  23  , email  = 'example@gmail.com')"
   ]
  },
  {
   "cell_type": "code",
   "execution_count": 30,
   "id": "e004ec39",
   "metadata": {},
   "outputs": [
    {
     "data": {
      "text/plain": [
       "'Name'"
      ]
     },
     "execution_count": 30,
     "metadata": {},
     "output_type": "execute_result"
    }
   ],
   "source": [
    "'Name'.capitalize()"
   ]
  },
  {
   "cell_type": "code",
   "execution_count": 3,
   "id": "21131052",
   "metadata": {},
   "outputs": [],
   "source": [
    "def  info(**kwargs):\n",
    "    user  =  {\"Name\"  :  None  , \n",
    "                \"Age\" :  None , \n",
    "                'Email' : None, \n",
    "                'Gender' :  None}\n",
    "    for  key in  kwargs.keys():\n",
    "        if key.title()  in  user.keys():\n",
    "            user[key.title()] =  kwargs[key]\n",
    "    return user\n",
    "    \n",
    "  "
   ]
  },
  {
   "cell_type": "code",
   "execution_count": 4,
   "id": "36390ae7",
   "metadata": {},
   "outputs": [
    {
     "data": {
      "text/plain": [
       "{'Name': 'Swaraj', 'Age': None, 'Email': 'exp@gmail.com', 'Gender': None}"
      ]
     },
     "execution_count": 4,
     "metadata": {},
     "output_type": "execute_result"
    }
   ],
   "source": [
    "info(name  =  'Swaraj' ,  Email =  'exp@gmail.com')"
   ]
  },
  {
   "cell_type": "code",
   "execution_count": 5,
   "id": "74374a0c",
   "metadata": {},
   "outputs": [],
   "source": [
    "  menu  =  {'Pizza' : 299 ,  'Burgur'  : 100  ,  'sandwich' :  60  } "
   ]
  },
  {
   "cell_type": "code",
   "execution_count": null,
   "id": "012eaf29",
   "metadata": {},
   "outputs": [],
   "source": [
    "def "
   ]
  }
 ],
 "metadata": {
  "kernelspec": {
   "display_name": "venv",
   "language": "python",
   "name": "python3"
  },
  "language_info": {
   "codemirror_mode": {
    "name": "ipython",
    "version": 3
   },
   "file_extension": ".py",
   "mimetype": "text/x-python",
   "name": "python",
   "nbconvert_exporter": "python",
   "pygments_lexer": "ipython3",
   "version": "3.13.7"
  }
 },
 "nbformat": 4,
 "nbformat_minor": 5
}
