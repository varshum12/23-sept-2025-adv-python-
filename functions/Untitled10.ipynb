{
  "nbformat": 4,
  "nbformat_minor": 0,
  "metadata": {
    "colab": {
      "provenance": []
    },
    "kernelspec": {
      "name": "python3",
      "display_name": "Python 3"
    },
    "language_info": {
      "name": "python"
    }
  },
  "cells": [
    {
      "cell_type": "code",
      "execution_count": 1,
      "metadata": {
        "id": "2z1R-_mTtudu"
      },
      "outputs": [],
      "source": [
        "menu  =  {'Pizza' :  299 ,  \"Burgur\" :  100  , \"Sandwich\" :  60}"
      ]
    },
    {
      "cell_type": "code",
      "source": [
        "menu['Pizza']"
      ],
      "metadata": {
        "colab": {
          "base_uri": "https://localhost:8080/"
        },
        "id": "0u-ibY0Mur-z",
        "outputId": "56c95a67-8e76-4540-d37e-77798cb5505f"
      },
      "execution_count": 2,
      "outputs": [
        {
          "output_type": "execute_result",
          "data": {
            "text/plain": [
              "299"
            ]
          },
          "metadata": {},
          "execution_count": 2
        }
      ]
    },
    {
      "cell_type": "code",
      "source": [
        "menu['samosa']"
      ],
      "metadata": {
        "colab": {
          "base_uri": "https://localhost:8080/",
          "height": 141
        },
        "id": "vwKe48PcuuMO",
        "outputId": "1ee165a8-f360-45f9-d7fa-77b6bf2bf155"
      },
      "execution_count": 3,
      "outputs": [
        {
          "output_type": "error",
          "ename": "KeyError",
          "evalue": "'samosa'",
          "traceback": [
            "\u001b[0;31m---------------------------------------------------------------------------\u001b[0m",
            "\u001b[0;31mKeyError\u001b[0m                                  Traceback (most recent call last)",
            "\u001b[0;32m/tmp/ipython-input-3810198249.py\u001b[0m in \u001b[0;36m<cell line: 0>\u001b[0;34m()\u001b[0m\n\u001b[0;32m----> 1\u001b[0;31m \u001b[0mmenu\u001b[0m\u001b[0;34m[\u001b[0m\u001b[0;34m'samosa'\u001b[0m\u001b[0;34m]\u001b[0m\u001b[0;34m\u001b[0m\u001b[0;34m\u001b[0m\u001b[0m\n\u001b[0m",
            "\u001b[0;31mKeyError\u001b[0m: 'samosa'"
          ]
        }
      ]
    },
    {
      "cell_type": "code",
      "source": [
        "menu.get('Pizza')"
      ],
      "metadata": {
        "colab": {
          "base_uri": "https://localhost:8080/"
        },
        "id": "uY6oFU_WuxPr",
        "outputId": "dc381eac-650d-4d2e-e632-a2f24ead600d"
      },
      "execution_count": 4,
      "outputs": [
        {
          "output_type": "execute_result",
          "data": {
            "text/plain": [
              "299"
            ]
          },
          "metadata": {},
          "execution_count": 4
        }
      ]
    },
    {
      "cell_type": "code",
      "source": [
        "print(menu.get('samosa'))\n"
      ],
      "metadata": {
        "colab": {
          "base_uri": "https://localhost:8080/"
        },
        "id": "eZtXi-_Zu3Og",
        "outputId": "79e62b59-21f7-4afa-b58c-c1cf28ab7f66"
      },
      "execution_count": 6,
      "outputs": [
        {
          "output_type": "stream",
          "name": "stdout",
          "text": [
            "None\n"
          ]
        }
      ]
    },
    {
      "cell_type": "code",
      "source": [
        "def  hotel_bill(**kwargs):\n",
        "  total  = 0\n",
        "  for  food  ,  quantity  in  kwargs.items():\n",
        "    if  menu.get(food) is  not  None:\n",
        "      price  =  menu[food]*quantity\n",
        "      print(f' total  of {food} is {price} ')\n",
        "      total  = total+price\n",
        "  return f\"Total  price is {total}\""
      ],
      "metadata": {
        "id": "qT8imxkpumKm"
      },
      "execution_count": 7,
      "outputs": []
    },
    {
      "cell_type": "code",
      "source": [
        "hotel_bill(Pizza =   2  )"
      ],
      "metadata": {
        "colab": {
          "base_uri": "https://localhost:8080/",
          "height": 53
        },
        "id": "Wwab3EH-u1xn",
        "outputId": "0c7abe9f-5f45-4995-c08d-3ea6cc4cf604"
      },
      "execution_count": 8,
      "outputs": [
        {
          "output_type": "stream",
          "name": "stdout",
          "text": [
            " total  of Pizza is 598 \n"
          ]
        },
        {
          "output_type": "execute_result",
          "data": {
            "text/plain": [
              "'Total  price is 598'"
            ],
            "application/vnd.google.colaboratory.intrinsic+json": {
              "type": "string"
            }
          },
          "metadata": {},
          "execution_count": 8
        }
      ]
    },
    {
      "cell_type": "code",
      "source": [
        "hotel_bill(Pizza  =  2 ,  Burgur  =  1  )"
      ],
      "metadata": {
        "colab": {
          "base_uri": "https://localhost:8080/",
          "height": 70
        },
        "id": "TLlIRRJgwJ7V",
        "outputId": "34c3b0f0-318b-4012-96b4-83990e741990"
      },
      "execution_count": 9,
      "outputs": [
        {
          "output_type": "stream",
          "name": "stdout",
          "text": [
            " total  of Pizza is 598 \n",
            " total  of Burgur is 100 \n"
          ]
        },
        {
          "output_type": "execute_result",
          "data": {
            "text/plain": [
              "'Total  price is 698'"
            ],
            "application/vnd.google.colaboratory.intrinsic+json": {
              "type": "string"
            }
          },
          "metadata": {},
          "execution_count": 9
        }
      ]
    },
    {
      "cell_type": "code",
      "source": [
        "hotel_bill(Pizza  =  2 ,  Burgur  =  1   ,  samosa  =  3)"
      ],
      "metadata": {
        "colab": {
          "base_uri": "https://localhost:8080/",
          "height": 70
        },
        "id": "9lfgNzzEwQu-",
        "outputId": "06e28a98-9a21-464d-8243-1bf94ca5a936"
      },
      "execution_count": 10,
      "outputs": [
        {
          "output_type": "stream",
          "name": "stdout",
          "text": [
            " total  of Pizza is 598 \n",
            " total  of Burgur is 100 \n"
          ]
        },
        {
          "output_type": "execute_result",
          "data": {
            "text/plain": [
              "'Total  price is 698'"
            ],
            "application/vnd.google.colaboratory.intrinsic+json": {
              "type": "string"
            }
          },
          "metadata": {},
          "execution_count": 10
        }
      ]
    },
    {
      "cell_type": "code",
      "source": [
        "hotel_bill(pizza  =  2  , samosa =  3)"
      ],
      "metadata": {
        "colab": {
          "base_uri": "https://localhost:8080/",
          "height": 35
        },
        "id": "_T_esF9ewVt5",
        "outputId": "e583d316-24a4-49e4-fe89-a94a0a42ceda"
      },
      "execution_count": 11,
      "outputs": [
        {
          "output_type": "execute_result",
          "data": {
            "text/plain": [
              "'Total  price is 0'"
            ],
            "application/vnd.google.colaboratory.intrinsic+json": {
              "type": "string"
            }
          },
          "metadata": {},
          "execution_count": 11
        }
      ]
    },
    {
      "cell_type": "code",
      "source": [
        "def  hotel_bill(**kwargs):\n",
        "  total  = 0\n",
        "  for  food  ,  quantity  in  kwargs.items():\n",
        "    if  menu.get(food.title()) is  not  None:\n",
        "      price  =  menu[food.title()]*quantity\n",
        "      print(f' total  of {food} is {price} ')\n",
        "      total  = total+price\n",
        "  return f\"Total  price is {total}\""
      ],
      "metadata": {
        "id": "7d8qMXxewgmU"
      },
      "execution_count": 12,
      "outputs": []
    },
    {
      "cell_type": "code",
      "source": [
        "hotel_bill(pizZa = 2 , samosa = 4 ,  burgur = 3)"
      ],
      "metadata": {
        "colab": {
          "base_uri": "https://localhost:8080/",
          "height": 70
        },
        "id": "qZAndtmey3WK",
        "outputId": "a47dd004-be03-4821-e878-7262c70a2b45"
      },
      "execution_count": 16,
      "outputs": [
        {
          "output_type": "stream",
          "name": "stdout",
          "text": [
            " total  of pizZa is 598 \n",
            " total  of burgur is 300 \n"
          ]
        },
        {
          "output_type": "execute_result",
          "data": {
            "text/plain": [
              "'Total  price is 898'"
            ],
            "application/vnd.google.colaboratory.intrinsic+json": {
              "type": "string"
            }
          },
          "metadata": {},
          "execution_count": 16
        }
      ]
    },
    {
      "cell_type": "code",
      "source": [],
      "metadata": {
        "id": "JIbv4p061mQz"
      },
      "execution_count": null,
      "outputs": []
    },
    {
      "cell_type": "markdown",
      "source": [
        "### Decorators"
      ],
      "metadata": {
        "id": "R8uhsxol1msg"
      }
    },
    {
      "cell_type": "code",
      "source": [
        "#  create decorator  to welcome  the  user\n",
        "def  Welcome(func):\n",
        "  def wrapper(*args  , **kwargs):\n",
        "    print('Welcome user')\n",
        "    result  =  func(*args  , **kwargs)\n",
        "    print(f'Result  of  function is {result}')\n",
        "    print('Thank  you')\n",
        "\n",
        "    return result\n",
        "  return  wrapper\n",
        "\n",
        ""
      ],
      "metadata": {
        "id": "F-53XVPBy6Ed"
      },
      "execution_count": 24,
      "outputs": []
    },
    {
      "cell_type": "code",
      "source": [
        "#  create  function  for  factorial  of  number & apply decorator\n",
        "@Welcome\n",
        "def  factorial(num):\n",
        "  fact  =  1\n",
        "  for i  in range(1 , num+1):\n",
        "    fact=  fact*i\n",
        "  return  fact\n"
      ],
      "metadata": {
        "id": "05_74AzY2M_W"
      },
      "execution_count": 25,
      "outputs": []
    },
    {
      "cell_type": "code",
      "source": [
        "factorial(5)"
      ],
      "metadata": {
        "colab": {
          "base_uri": "https://localhost:8080/"
        },
        "id": "zISp6eep2xGw",
        "outputId": "a147eb60-8f70-4b40-d750-17d9310d93cf"
      },
      "execution_count": 26,
      "outputs": [
        {
          "output_type": "stream",
          "name": "stdout",
          "text": [
            "Welcome user\n",
            "Result  of  function is 120\n",
            "Thank  you\n"
          ]
        },
        {
          "output_type": "execute_result",
          "data": {
            "text/plain": [
              "120"
            ]
          },
          "metadata": {},
          "execution_count": 26
        }
      ]
    },
    {
      "cell_type": "code",
      "source": [
        "@Welcome\n",
        "def square(num):\n",
        "  return num**2"
      ],
      "metadata": {
        "id": "63XfeCQL20xP"
      },
      "execution_count": 27,
      "outputs": []
    },
    {
      "cell_type": "code",
      "source": [
        "square(44)"
      ],
      "metadata": {
        "colab": {
          "base_uri": "https://localhost:8080/"
        },
        "id": "eqntFVl-3HSi",
        "outputId": "17d9e6f0-f2a4-40b9-ac87-b1fc409f3245"
      },
      "execution_count": 28,
      "outputs": [
        {
          "output_type": "stream",
          "name": "stdout",
          "text": [
            "Welcome user\n",
            "Result  of  function is 1936\n",
            "Thank  you\n"
          ]
        },
        {
          "output_type": "execute_result",
          "data": {
            "text/plain": [
              "1936"
            ]
          },
          "metadata": {},
          "execution_count": 28
        }
      ]
    },
    {
      "cell_type": "code",
      "source": [
        "@Welcome\n",
        "def  hotel_bill(**kwargs):\n",
        "  menu  =  {'Pizza' :  299 ,  \"Burgur\" :  100  , \"Sandwich\" :  60}\n",
        "  total  = 0\n",
        "  for  food  ,  quantity  in  kwargs.items():\n",
        "    if  menu.get(food.title()) is  not  None:\n",
        "      price  =  menu[food.title()]*quantity\n",
        "      print(f' total  of {food} is {price} ')\n",
        "      total  = total+price\n",
        "  return f\"Total  price is {total}\""
      ],
      "metadata": {
        "id": "NodIIEUi3IzB"
      },
      "execution_count": 29,
      "outputs": []
    },
    {
      "cell_type": "code",
      "source": [
        "hotel_bill(pizza =  2  , samosa =  3)"
      ],
      "metadata": {
        "colab": {
          "base_uri": "https://localhost:8080/",
          "height": 105
        },
        "id": "QknXlcHl3VHX",
        "outputId": "8c83bba6-7bb7-4015-a02f-3ca2cf5bd67e"
      },
      "execution_count": 30,
      "outputs": [
        {
          "output_type": "stream",
          "name": "stdout",
          "text": [
            "Welcome user\n",
            " total  of pizza is 598 \n",
            "Result  of  function is Total  price is 598\n",
            "Thank  you\n"
          ]
        },
        {
          "output_type": "execute_result",
          "data": {
            "text/plain": [
              "'Total  price is 598'"
            ],
            "application/vnd.google.colaboratory.intrinsic+json": {
              "type": "string"
            }
          },
          "metadata": {},
          "execution_count": 30
        }
      ]
    },
    {
      "cell_type": "code",
      "source": [
        "square(num   = 3)"
      ],
      "metadata": {
        "colab": {
          "base_uri": "https://localhost:8080/"
        },
        "id": "I2ne30_x3ap1",
        "outputId": "3c41a1fd-5e94-4aac-c331-7a62e8d34cf6"
      },
      "execution_count": 32,
      "outputs": [
        {
          "output_type": "stream",
          "name": "stdout",
          "text": [
            "Welcome user\n",
            "Result  of  function is 9\n",
            "Thank  you\n"
          ]
        },
        {
          "output_type": "execute_result",
          "data": {
            "text/plain": [
              "9"
            ]
          },
          "metadata": {},
          "execution_count": 32
        }
      ]
    },
    {
      "cell_type": "code",
      "source": [],
      "metadata": {
        "id": "E1KDKSQZ3pYy"
      },
      "execution_count": null,
      "outputs": []
    }
  ]
}