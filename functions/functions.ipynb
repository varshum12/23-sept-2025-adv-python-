{
 "cells": [
  {
   "cell_type": "code",
   "execution_count": null,
   "id": "cd94df9f",
   "metadata": {},
   "outputs": [],
   "source": []
  },
  {
   "cell_type": "code",
   "execution_count": 1,
   "metadata": {},
   "outputs": [
    {
     "name": "stdout",
     "output_type": "stream",
     "text": [
      "Help on built-in function print in module builtins:\n",
      "\n",
      "print(*args, sep=' ', end='\\n', file=None, flush=False)\n",
      "    Prints the values to a stream, or to sys.stdout by default.\n",
      "\n",
      "    sep\n",
      "      string inserted between values, default a space.\n",
      "    end\n",
      "      string appended after the last value, default a newline.\n",
      "    file\n",
      "      a file-like object (stream); defaults to the current sys.stdout.\n",
      "    flush\n",
      "      whether to forcibly flush the stream.\n",
      "\n"
     ]
    }
   ],
   "source": [
    "help('print')"
   ]
  },
  {
   "cell_type": "code",
   "execution_count": 2,
   "metadata": {},
   "outputs": [
    {
     "name": "stdout",
     "output_type": "stream",
     "text": [
      "Help on built-in function max in module builtins:\n",
      "\n",
      "max(...)\n",
      "    max(iterable, *[, default=obj, key=func]) -> value\n",
      "    max(arg1, arg2, *args, *[, key=func]) -> value\n",
      "\n",
      "    With a single iterable argument, return its biggest item. The\n",
      "    default keyword-only argument specifies an object to return if\n",
      "    the provided iterable is empty.\n",
      "    With two or more positional arguments, return the largest argument.\n",
      "\n"
     ]
    }
   ],
   "source": [
    "help('max')"
   ]
  },
  {
   "cell_type": "markdown",
   "id": "50093821",
   "metadata": {},
   "source": [
    "### create  function  to add  two  numbers"
   ]
  },
  {
   "cell_type": "code",
   "execution_count": 19,
   "metadata": {},
   "outputs": [],
   "source": [
    "def  add(x ,  y):\n",
    "    \"\"\"\n",
    "    add  two numbers\n",
    "    \"\"\"\n",
    "    z  =  x+ y  \n",
    "    return  z"
   ]
  },
  {
   "cell_type": "code",
   "execution_count": 4,
   "metadata": {},
   "outputs": [
    {
     "data": {
      "text/plain": [
       "1022"
      ]
     },
     "execution_count": 4,
     "metadata": {},
     "output_type": "execute_result"
    }
   ],
   "source": [
    "add(245 , 777)"
   ]
  },
  {
   "cell_type": "code",
   "execution_count": 5,
   "metadata": {},
   "outputs": [
    {
     "data": {
      "text/plain": [
       "-8443"
      ]
     },
     "execution_count": 5,
     "metadata": {},
     "output_type": "execute_result"
    }
   ],
   "source": [
    "# take  x  =  -666  ,y=  -7777\n",
    "add(-666 , -7777)"
   ]
  },
  {
   "cell_type": "code",
   "execution_count": 6,
   "id": "c1d7c5ea",
   "metadata": {},
   "outputs": [
    {
     "data": {
      "text/plain": [
       "'datascience'"
      ]
     },
     "execution_count": 6,
     "metadata": {},
     "output_type": "execute_result"
    }
   ],
   "source": [
    "add('data' ,  'science')"
   ]
  },
  {
   "cell_type": "code",
   "execution_count": 8,
   "id": "bc7f65fb",
   "metadata": {},
   "outputs": [
    {
     "data": {
      "text/plain": [
       "[12, 34, 56, 8, 89]"
      ]
     },
     "execution_count": 8,
     "metadata": {},
     "output_type": "execute_result"
    }
   ],
   "source": [
    "add([12 ,34] , [56 ,8,89])"
   ]
  },
  {
   "cell_type": "code",
   "execution_count": 20,
   "id": "2df1b411",
   "metadata": {},
   "outputs": [
    {
     "ename": "TypeError",
     "evalue": "unsupported operand type(s) for +: 'int' and 'str'",
     "output_type": "error",
     "traceback": [
      "\u001b[31m---------------------------------------------------------------------------\u001b[39m",
      "\u001b[31mTypeError\u001b[39m                                 Traceback (most recent call last)",
      "\u001b[36mCell\u001b[39m\u001b[36m \u001b[39m\u001b[32mIn[20]\u001b[39m\u001b[32m, line 1\u001b[39m\n\u001b[32m----> \u001b[39m\u001b[32m1\u001b[39m \u001b[43madd\u001b[49m\u001b[43m(\u001b[49m\u001b[32;43m12\u001b[39;49m\u001b[43m,\u001b[49m\u001b[43m \u001b[49m\u001b[33;43m'\u001b[39;49m\u001b[33;43m12\u001b[39;49m\u001b[33;43m'\u001b[39;49m\u001b[43m)\u001b[49m\n",
      "\u001b[36mCell\u001b[39m\u001b[36m \u001b[39m\u001b[32mIn[19]\u001b[39m\u001b[32m, line 5\u001b[39m, in \u001b[36madd\u001b[39m\u001b[34m(x, y)\u001b[39m\n\u001b[32m      1\u001b[39m \u001b[38;5;28;01mdef\u001b[39;00m\u001b[38;5;250m  \u001b[39m\u001b[34madd\u001b[39m(x ,  y):\n\u001b[32m      2\u001b[39m \u001b[38;5;250m    \u001b[39m\u001b[33;03m\"\"\"\u001b[39;00m\n\u001b[32m      3\u001b[39m \u001b[33;03m    add  two numbers\u001b[39;00m\n\u001b[32m      4\u001b[39m \u001b[33;03m    \"\"\"\u001b[39;00m\n\u001b[32m----> \u001b[39m\u001b[32m5\u001b[39m     z  =  \u001b[43mx\u001b[49m\u001b[43m+\u001b[49m\u001b[43m \u001b[49m\u001b[43my\u001b[49m  \n\u001b[32m      6\u001b[39m     \u001b[38;5;28;01mreturn\u001b[39;00m  z\n",
      "\u001b[31mTypeError\u001b[39m: unsupported operand type(s) for +: 'int' and 'str'"
     ]
    }
   ],
   "source": [
    "add(12, '12')"
   ]
  },
  {
   "cell_type": "markdown",
   "id": "c46659ec",
   "metadata": {},
   "source": [
    "#### create function to add  only  numbers"
   ]
  },
  {
   "cell_type": "code",
   "execution_count": 14,
   "id": "0db90546",
   "metadata": {},
   "outputs": [],
   "source": [
    "def  add1(x : int|float,  y:int|float):\n",
    "    \"\"\"\n",
    "    add  two numbers\n",
    "    \"\"\"\n",
    "    if  isinstance(x ,  (int ,  float))  and  \\\n",
    "        isinstance(y  , (int  , float)):\n",
    "        z  =  x+y\n",
    "        return  z\n",
    "    else:\n",
    "        print('data  should  be  numeric')"
   ]
  },
  {
   "cell_type": "code",
   "execution_count": 15,
   "id": "882c4bc2",
   "metadata": {},
   "outputs": [
    {
     "name": "stdout",
     "output_type": "stream",
     "text": [
      "data  should  be  numeric\n"
     ]
    }
   ],
   "source": [
    "a  =  add1(x  = 'python' ,  y ='34') "
   ]
  },
  {
   "cell_type": "code",
   "execution_count": 16,
   "id": "4345e2d1",
   "metadata": {},
   "outputs": [],
   "source": [
    "b  =  add1(x  = 23  ,  y  =  23)"
   ]
  },
  {
   "cell_type": "code",
   "execution_count": 17,
   "id": "2ce16d95",
   "metadata": {},
   "outputs": [
    {
     "data": {
      "text/plain": [
       "46"
      ]
     },
     "execution_count": 17,
     "metadata": {},
     "output_type": "execute_result"
    }
   ],
   "source": [
    "b"
   ]
  },
  {
   "cell_type": "code",
   "execution_count": 18,
   "id": "d5381397",
   "metadata": {},
   "outputs": [
    {
     "name": "stdout",
     "output_type": "stream",
     "text": [
      "data  should  be  numeric\n"
     ]
    }
   ],
   "source": [
    "c  =  add1([12,34,34] ,  [34 ,45])"
   ]
  },
  {
   "cell_type": "markdown",
   "id": "77800814",
   "metadata": {},
   "source": [
    "### use assert  to raise  error"
   ]
  },
  {
   "cell_type": "code",
   "execution_count": 22,
   "id": "94442b04",
   "metadata": {},
   "outputs": [],
   "source": [
    "def  add2(x : int|float,  y:int|float):\n",
    "    \"\"\"\n",
    "    add  two numbers\n",
    "    \"\"\"\n",
    "    assert isinstance( x,  (int , float)) ,  \"x should  be  numeric\"\n",
    "    assert isinstance( y,  (int , float)) ,  \"y should  be  numeric\"\n",
    "    z  =  x+y\n",
    "    return  z\n",
    "\n",
    "    "
   ]
  },
  {
   "cell_type": "code",
   "execution_count": 23,
   "id": "bae3de9f",
   "metadata": {},
   "outputs": [
    {
     "data": {
      "text/plain": [
       "5"
      ]
     },
     "execution_count": 23,
     "metadata": {},
     "output_type": "execute_result"
    }
   ],
   "source": [
    "add2(2 ,3)"
   ]
  },
  {
   "cell_type": "code",
   "execution_count": 24,
   "id": "b70a93e1",
   "metadata": {},
   "outputs": [
    {
     "ename": "AssertionError",
     "evalue": "x should  be  numeric",
     "output_type": "error",
     "traceback": [
      "\u001b[31m---------------------------------------------------------------------------\u001b[39m",
      "\u001b[31mAssertionError\u001b[39m                            Traceback (most recent call last)",
      "\u001b[36mCell\u001b[39m\u001b[36m \u001b[39m\u001b[32mIn[24]\u001b[39m\u001b[32m, line 1\u001b[39m\n\u001b[32m----> \u001b[39m\u001b[32m1\u001b[39m \u001b[43madd2\u001b[49m\u001b[43m(\u001b[49m\u001b[33;43m'\u001b[39;49m\u001b[33;43m12\u001b[39;49m\u001b[33;43m'\u001b[39;49m\u001b[43m \u001b[49m\u001b[43m,\u001b[49m\u001b[43m \u001b[49m\u001b[32;43m21\u001b[39;49m\u001b[43m)\u001b[49m\n",
      "\u001b[36mCell\u001b[39m\u001b[36m \u001b[39m\u001b[32mIn[22]\u001b[39m\u001b[32m, line 5\u001b[39m, in \u001b[36madd2\u001b[39m\u001b[34m(x, y)\u001b[39m\n\u001b[32m      1\u001b[39m \u001b[38;5;28;01mdef\u001b[39;00m\u001b[38;5;250m  \u001b[39m\u001b[34madd2\u001b[39m(x : \u001b[38;5;28mint\u001b[39m|\u001b[38;5;28mfloat\u001b[39m,  y:\u001b[38;5;28mint\u001b[39m|\u001b[38;5;28mfloat\u001b[39m):\n\u001b[32m      2\u001b[39m \u001b[38;5;250m    \u001b[39m\u001b[33;03m\"\"\"\u001b[39;00m\n\u001b[32m      3\u001b[39m \u001b[33;03m    add  two numbers\u001b[39;00m\n\u001b[32m      4\u001b[39m \u001b[33;03m    \"\"\"\u001b[39;00m\n\u001b[32m----> \u001b[39m\u001b[32m5\u001b[39m     \u001b[38;5;28;01massert\u001b[39;00m \u001b[38;5;28misinstance\u001b[39m( x,  (\u001b[38;5;28mint\u001b[39m , \u001b[38;5;28mfloat\u001b[39m)) ,  \u001b[33m\"\u001b[39m\u001b[33mx should  be  numeric\u001b[39m\u001b[33m\"\u001b[39m\n\u001b[32m      6\u001b[39m     \u001b[38;5;28;01massert\u001b[39;00m \u001b[38;5;28misinstance\u001b[39m( y,  (\u001b[38;5;28mint\u001b[39m , \u001b[38;5;28mfloat\u001b[39m)) ,  \u001b[33m\"\u001b[39m\u001b[33my should  be  numeric\u001b[39m\u001b[33m\"\u001b[39m\n\u001b[32m      7\u001b[39m     z  =  x+y\n",
      "\u001b[31mAssertionError\u001b[39m: x should  be  numeric"
     ]
    }
   ],
   "source": [
    "add2('12' , 21)"
   ]
  },
  {
   "cell_type": "code",
   "execution_count": 25,
   "id": "6f69339e",
   "metadata": {},
   "outputs": [
    {
     "ename": "AssertionError",
     "evalue": "y should  be  numeric",
     "output_type": "error",
     "traceback": [
      "\u001b[31m---------------------------------------------------------------------------\u001b[39m",
      "\u001b[31mAssertionError\u001b[39m                            Traceback (most recent call last)",
      "\u001b[36mCell\u001b[39m\u001b[36m \u001b[39m\u001b[32mIn[25]\u001b[39m\u001b[32m, line 1\u001b[39m\n\u001b[32m----> \u001b[39m\u001b[32m1\u001b[39m \u001b[43madd2\u001b[49m\u001b[43m(\u001b[49m\u001b[32;43m23\u001b[39;49m\u001b[43m,\u001b[49m\u001b[43m \u001b[49m\u001b[33;43m'\u001b[39;49m\u001b[33;43m34\u001b[39;49m\u001b[33;43m'\u001b[39;49m\u001b[43m)\u001b[49m\n",
      "\u001b[36mCell\u001b[39m\u001b[36m \u001b[39m\u001b[32mIn[22]\u001b[39m\u001b[32m, line 6\u001b[39m, in \u001b[36madd2\u001b[39m\u001b[34m(x, y)\u001b[39m\n\u001b[32m      2\u001b[39m \u001b[38;5;250m\u001b[39m\u001b[33;03m\"\"\"\u001b[39;00m\n\u001b[32m      3\u001b[39m \u001b[33;03madd  two numbers\u001b[39;00m\n\u001b[32m      4\u001b[39m \u001b[33;03m\"\"\"\u001b[39;00m\n\u001b[32m      5\u001b[39m \u001b[38;5;28;01massert\u001b[39;00m \u001b[38;5;28misinstance\u001b[39m( x,  (\u001b[38;5;28mint\u001b[39m , \u001b[38;5;28mfloat\u001b[39m)) ,  \u001b[33m\"\u001b[39m\u001b[33mx should  be  numeric\u001b[39m\u001b[33m\"\u001b[39m\n\u001b[32m----> \u001b[39m\u001b[32m6\u001b[39m \u001b[38;5;28;01massert\u001b[39;00m \u001b[38;5;28misinstance\u001b[39m( y,  (\u001b[38;5;28mint\u001b[39m , \u001b[38;5;28mfloat\u001b[39m)) ,  \u001b[33m\"\u001b[39m\u001b[33my should  be  numeric\u001b[39m\u001b[33m\"\u001b[39m\n\u001b[32m      7\u001b[39m z  =  x+y\n\u001b[32m      8\u001b[39m \u001b[38;5;28;01mreturn\u001b[39;00m  z\n",
      "\u001b[31mAssertionError\u001b[39m: y should  be  numeric"
     ]
    }
   ],
   "source": [
    "add2(23, '34')"
   ]
  },
  {
   "cell_type": "code",
   "execution_count": 26,
   "id": "f4f1ddc3",
   "metadata": {},
   "outputs": [
    {
     "ename": "TypeError",
     "evalue": "add2() takes 2 positional arguments but 3 were given",
     "output_type": "error",
     "traceback": [
      "\u001b[31m---------------------------------------------------------------------------\u001b[39m",
      "\u001b[31mTypeError\u001b[39m                                 Traceback (most recent call last)",
      "\u001b[36mCell\u001b[39m\u001b[36m \u001b[39m\u001b[32mIn[26]\u001b[39m\u001b[32m, line 1\u001b[39m\n\u001b[32m----> \u001b[39m\u001b[32m1\u001b[39m \u001b[43madd2\u001b[49m\u001b[43m(\u001b[49m\u001b[32;43m12\u001b[39;49m\u001b[43m \u001b[49m\u001b[43m,\u001b[49m\u001b[32;43m23\u001b[39;49m\u001b[43m,\u001b[49m\u001b[32;43m435\u001b[39;49m\u001b[43m)\u001b[49m\n",
      "\u001b[31mTypeError\u001b[39m: add2() takes 2 positional arguments but 3 were given"
     ]
    }
   ],
   "source": [
    "add2(12 ,23,435)"
   ]
  },
  {
   "cell_type": "markdown",
   "id": "ac1a385a",
   "metadata": {},
   "source": [
    "### variadic  function\n",
    "-- variang arguments length\n",
    "- variable  length arguments -  *\n",
    "-  key word variable  length arguments - **"
   ]
  },
  {
   "cell_type": "code",
   "execution_count": 32,
   "id": "bb29de41",
   "metadata": {},
   "outputs": [],
   "source": [
    "def  args_len(*args):\n",
    "    print(args)\n",
    "    print(type(args))"
   ]
  },
  {
   "cell_type": "code",
   "execution_count": 33,
   "id": "ed2884b8",
   "metadata": {},
   "outputs": [
    {
     "name": "stdout",
     "output_type": "stream",
     "text": [
      "(12, 34, 56, 56)\n",
      "<class 'tuple'>\n"
     ]
    }
   ],
   "source": [
    "args_len(12 ,34,56,56)"
   ]
  },
  {
   "cell_type": "code",
   "execution_count": 36,
   "id": "c41011cd",
   "metadata": {},
   "outputs": [],
   "source": [
    "def  add4(*args):\n",
    "    add  =  0\n",
    "    for  i  in args:\n",
    "        add  =  add+i\n",
    "    return  add"
   ]
  },
  {
   "cell_type": "code",
   "execution_count": 37,
   "id": "38a053e1",
   "metadata": {},
   "outputs": [
    {
     "data": {
      "text/plain": [
       "25"
      ]
     },
     "execution_count": 37,
     "metadata": {},
     "output_type": "execute_result"
    }
   ],
   "source": [
    "add4(12 ,3,4,6)"
   ]
  },
  {
   "cell_type": "code",
   "execution_count": 38,
   "id": "97742798",
   "metadata": {},
   "outputs": [
    {
     "ename": "TypeError",
     "evalue": "unsupported operand type(s) for +: 'int' and 'str'",
     "output_type": "error",
     "traceback": [
      "\u001b[31m---------------------------------------------------------------------------\u001b[39m",
      "\u001b[31mTypeError\u001b[39m                                 Traceback (most recent call last)",
      "\u001b[36mCell\u001b[39m\u001b[36m \u001b[39m\u001b[32mIn[38]\u001b[39m\u001b[32m, line 1\u001b[39m\n\u001b[32m----> \u001b[39m\u001b[32m1\u001b[39m \u001b[43madd4\u001b[49m\u001b[43m(\u001b[49m\u001b[32;43m12\u001b[39;49m\u001b[43m \u001b[49m\u001b[43m,\u001b[49m\u001b[43m \u001b[49m\u001b[33;43m'\u001b[39;49m\u001b[33;43mswara\u001b[39;49m\u001b[33;43m'\u001b[39;49m\u001b[43m \u001b[49m\u001b[43m,\u001b[49m\u001b[43m  \u001b[49m\u001b[33;43m'\u001b[39;49m\u001b[33;43mpython\u001b[39;49m\u001b[33;43m'\u001b[39;49m\u001b[43m \u001b[49m\u001b[43m,\u001b[49m\u001b[43m \u001b[49m\u001b[32;43m34\u001b[39;49m\u001b[43m)\u001b[49m\n",
      "\u001b[36mCell\u001b[39m\u001b[36m \u001b[39m\u001b[32mIn[36]\u001b[39m\u001b[32m, line 4\u001b[39m, in \u001b[36madd4\u001b[39m\u001b[34m(*args)\u001b[39m\n\u001b[32m      2\u001b[39m add  =  \u001b[32m0\u001b[39m\n\u001b[32m      3\u001b[39m \u001b[38;5;28;01mfor\u001b[39;00m  i  \u001b[38;5;129;01min\u001b[39;00m args:\n\u001b[32m----> \u001b[39m\u001b[32m4\u001b[39m     add  =  \u001b[43madd\u001b[49m\u001b[43m+\u001b[49m\u001b[43mi\u001b[49m\n\u001b[32m      5\u001b[39m \u001b[38;5;28;01mreturn\u001b[39;00m  add\n",
      "\u001b[31mTypeError\u001b[39m: unsupported operand type(s) for +: 'int' and 'str'"
     ]
    }
   ],
   "source": [
    "add4(12 , 'swara' ,  'python' , 34)"
   ]
  },
  {
   "cell_type": "code",
   "execution_count": 39,
   "id": "1d448ec6",
   "metadata": {},
   "outputs": [],
   "source": [
    "def  add4(*args):\n",
    "    add  =  0\n",
    "    for  i  in args:\n",
    "        if  isinstance(i ,  (int  , float)):\n",
    "            add  =  add+i\n",
    "    return  add"
   ]
  },
  {
   "cell_type": "code",
   "execution_count": 40,
   "id": "470aae6d",
   "metadata": {},
   "outputs": [
    {
     "data": {
      "text/plain": [
       "468"
      ]
     },
     "execution_count": 40,
     "metadata": {},
     "output_type": "execute_result"
    }
   ],
   "source": [
    "add4(12 ,'34' , '45' ,456)"
   ]
  },
  {
   "cell_type": "markdown",
   "id": "2f752506",
   "metadata": {},
   "source": [
    "##### list  unpacking"
   ]
  },
  {
   "cell_type": "code",
   "execution_count": 41,
   "id": "c8af765e",
   "metadata": {},
   "outputs": [],
   "source": [
    "l  =  [12 ,34,4,7]"
   ]
  },
  {
   "cell_type": "code",
   "execution_count": 43,
   "id": "e04e762f",
   "metadata": {},
   "outputs": [],
   "source": [
    "def  add4(*args):\n",
    "    add  =  0\n",
    "    for  i  in args:\n",
    "        add  =  add+i\n",
    "    return  add"
   ]
  },
  {
   "cell_type": "code",
   "execution_count": 44,
   "id": "90d3246e",
   "metadata": {},
   "outputs": [
    {
     "ename": "TypeError",
     "evalue": "unsupported operand type(s) for +: 'int' and 'list'",
     "output_type": "error",
     "traceback": [
      "\u001b[31m---------------------------------------------------------------------------\u001b[39m",
      "\u001b[31mTypeError\u001b[39m                                 Traceback (most recent call last)",
      "\u001b[36mCell\u001b[39m\u001b[36m \u001b[39m\u001b[32mIn[44]\u001b[39m\u001b[32m, line 1\u001b[39m\n\u001b[32m----> \u001b[39m\u001b[32m1\u001b[39m \u001b[43madd4\u001b[49m\u001b[43m(\u001b[49m\u001b[43ml\u001b[49m\u001b[43m)\u001b[49m\n",
      "\u001b[36mCell\u001b[39m\u001b[36m \u001b[39m\u001b[32mIn[43]\u001b[39m\u001b[32m, line 4\u001b[39m, in \u001b[36madd4\u001b[39m\u001b[34m(*args)\u001b[39m\n\u001b[32m      2\u001b[39m add  =  \u001b[32m0\u001b[39m\n\u001b[32m      3\u001b[39m \u001b[38;5;28;01mfor\u001b[39;00m  i  \u001b[38;5;129;01min\u001b[39;00m args:\n\u001b[32m----> \u001b[39m\u001b[32m4\u001b[39m     add  =  \u001b[43madd\u001b[49m\u001b[43m+\u001b[49m\u001b[43mi\u001b[49m\n\u001b[32m      5\u001b[39m \u001b[38;5;28;01mreturn\u001b[39;00m  add\n",
      "\u001b[31mTypeError\u001b[39m: unsupported operand type(s) for +: 'int' and 'list'"
     ]
    }
   ],
   "source": [
    "add4(l)"
   ]
  },
  {
   "cell_type": "code",
   "execution_count": 46,
   "id": "85aab1ea",
   "metadata": {},
   "outputs": [
    {
     "name": "stdout",
     "output_type": "stream",
     "text": [
      "[12, 34, 4, 7]\n"
     ]
    },
    {
     "data": {
      "text/plain": [
       "57"
      ]
     },
     "execution_count": 46,
     "metadata": {},
     "output_type": "execute_result"
    }
   ],
   "source": [
    "\n",
    "print(l)\n",
    "add4(*l)"
   ]
  },
  {
   "cell_type": "code",
   "execution_count": null,
   "id": "d92132ad",
   "metadata": {},
   "outputs": [],
   "source": [
    "('product' , 'quantity' ,  'price')"
   ]
  },
  {
   "cell_type": "code",
   "execution_count": null,
   "id": "47a8c852",
   "metadata": {},
   "outputs": [],
   "source": [
    "def  total_bill(*args):\n",
    "    total  =  0\n",
    "    bill_before_tax  =  0\n",
    "    for  product  ,  quantity  , price   in  args:\n",
    "        subtotal  =  price*quantity\n",
    "        print(f'sub total of  {product}  -- > {subtotal}')\n",
    "\n",
    "        bill_before_tax  =  subtotal+ bill_before_tax\n",
    "        tax  =  0.18\n",
    "        taxable_amount  =  bill_before_tax*0.18\n",
    "\n",
    "        total   =  taxable_amount +bill_before_tax\n",
    "    print(f'bill_before_tax -- >{bill_before_tax}')\n",
    "    print(f'taxable  amount  -- >  { taxable_amount}' )\n",
    "    print(f'total_amount -->  {total}')\n",
    "\n",
    "\n"
   ]
  },
  {
   "cell_type": "code",
   "execution_count": 51,
   "id": "ca2498e0",
   "metadata": {},
   "outputs": [
    {
     "name": "stdout",
     "output_type": "stream",
     "text": [
      "sub total of  mobile  -- > 60000\n",
      "bill_before_tax -- >60000\n",
      "taxable  amount  -- >  10800.0\n",
      "total_amount -->  70800.0\n"
     ]
    }
   ],
   "source": [
    "total_bill(('mobile' ,  2 ,  30000))"
   ]
  },
  {
   "cell_type": "code",
   "execution_count": 52,
   "id": "c75192bc",
   "metadata": {},
   "outputs": [
    {
     "name": "stdout",
     "output_type": "stream",
     "text": [
      "sub total of  mobile  -- > 60000\n",
      "sub total of  fan  -- > 4000\n",
      "bill_before_tax -- >64000\n",
      "taxable  amount  -- >  11520.0\n",
      "total_amount -->  75520.0\n"
     ]
    }
   ],
   "source": [
    "total_bill(('mobile' , 3  ,  20000) ,  ('fan' ,  2 , 2000))"
   ]
  },
  {
   "cell_type": "code",
   "execution_count": 54,
   "id": "19e88675",
   "metadata": {},
   "outputs": [
    {
     "data": {
      "text/plain": [
       "75520.0"
      ]
     },
     "execution_count": 54,
     "metadata": {},
     "output_type": "execute_result"
    }
   ],
   "source": [
    "64000*0.18 + 64000"
   ]
  },
  {
   "cell_type": "code",
   "execution_count": 56,
   "id": "4baa27ac",
   "metadata": {},
   "outputs": [
    {
     "data": {
      "text/plain": [
       "48000.0"
      ]
     },
     "execution_count": 56,
     "metadata": {},
     "output_type": "execute_result"
    }
   ],
   "source": [
    "60000 - 60000*20/100"
   ]
  },
  {
   "cell_type": "code",
   "execution_count": 57,
   "id": "d2e4ee57",
   "metadata": {},
   "outputs": [],
   "source": [
    "def  total_bill_with_discount(*args):\n",
    "    total  =  0\n",
    "    bill_before_tax  =  0\n",
    "    for  product  ,  quantity  , price  , discount  in  args:\n",
    "        subtotal  =  price*quantity  - price*quantity*discount/100\n",
    "        print(f'sub total of  {product}  -- > {subtotal}')\n",
    "\n",
    "        bill_before_tax  =  subtotal+ bill_before_tax\n",
    "        tax  =  0.18\n",
    "        taxable_amount  =  bill_before_tax*0.18\n",
    "\n",
    "        total   =  taxable_amount +bill_before_tax\n",
    "    print(f'bill_before_tax -- >{bill_before_tax}')\n",
    "    print(f'taxable  amount  -- >  { taxable_amount}' )\n",
    "    print(f'total_amount -->  {total}')\n",
    "\n",
    "\n"
   ]
  },
  {
   "cell_type": "code",
   "execution_count": 58,
   "id": "6d4f7824",
   "metadata": {},
   "outputs": [
    {
     "name": "stdout",
     "output_type": "stream",
     "text": [
      "sub total of  mobile  -- > 27000.0\n",
      "bill_before_tax -- >27000.0\n",
      "taxable  amount  -- >  4860.0\n",
      "total_amount -->  31860.0\n"
     ]
    }
   ],
   "source": [
    "total_bill_with_discount(('mobile' ,  1 , 30000 ,  10))"
   ]
  },
  {
   "cell_type": "code",
   "execution_count": 59,
   "id": "a0f2478f",
   "metadata": {},
   "outputs": [
    {
     "name": "stdout",
     "output_type": "stream",
     "text": [
      "sub total of  mobile  -- > 27000.0\n",
      "sub total of  earphones  -- > 2400.0\n",
      "bill_before_tax -- >29400.0\n",
      "taxable  amount  -- >  5292.0\n",
      "total_amount -->  34692.0\n"
     ]
    }
   ],
   "source": [
    "total_bill_with_discount(('mobile' ,  1 , 30000 ,  10),  ('earphones' ,  2  ,  1500 , 20))"
   ]
  },
  {
   "cell_type": "code",
   "execution_count": 60,
   "id": "75fdca75",
   "metadata": {},
   "outputs": [
    {
     "name": "stdout",
     "output_type": "stream",
     "text": [
      "sub total of  mobile  -- > 27000.0\n",
      "sub total of  earphones  -- > 2400.0\n",
      "sub total of  laptop  -- > 45000.0\n",
      "bill_before_tax -- >74400.0\n",
      "taxable  amount  -- >  13392.0\n",
      "total_amount -->  87792.0\n"
     ]
    }
   ],
   "source": [
    "total_bill_with_discount(('mobile' ,  1 , 30000 ,  10), \n",
    " ('earphones' ,  2  ,  1500 , 20) , \n",
    " ('laptop' ,  2  , 25000 ,  10))"
   ]
  },
  {
   "cell_type": "code",
   "execution_count": 61,
   "id": "59ff1ac1",
   "metadata": {},
   "outputs": [
    {
     "name": "stdout",
     "output_type": "stream",
     "text": [
      "1\n"
     ]
    }
   ],
   "source": [
    "print(1)"
   ]
  },
  {
   "cell_type": "code",
   "execution_count": null,
   "id": "3c89af06",
   "metadata": {},
   "outputs": [],
   "source": []
  },
  {
   "cell_type": "code",
   "execution_count": null,
   "id": "005084ec",
   "metadata": {},
   "outputs": [],
   "source": []
  },
  {
   "cell_type": "markdown",
   "id": "1563a6e5",
   "metadata": {},
   "source": []
  }
 ],
 "metadata": {
  "kernelspec": {
   "display_name": "venv",
   "language": "python",
   "name": "python3"
  },
  "language_info": {
   "codemirror_mode": {
    "name": "ipython",
    "version": 3
   },
   "file_extension": ".py",
   "mimetype": "text/x-python",
   "name": "python",
   "nbconvert_exporter": "python",
   "pygments_lexer": "ipython3",
   "version": "3.13.7"
  }
 },
 "nbformat": 4,
 "nbformat_minor": 5
}
